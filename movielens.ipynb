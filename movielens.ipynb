{
 "cells": [
  {
   "cell_type": "code",
   "execution_count": 1,
   "metadata": {},
   "outputs": [],
   "source": [
    "import optuna\n",
    "from surprise import KNNBasic,KNNWithMeans,KNNWithZScore,KNNBaseline, Dataset, Reader\n",
    "from surprise.model_selection import cross_validate\n",
    "import numpy as np\n",
    "np.random.seed(42)\n",
    "# Define the dataset path and the reader format\n",
    "file_path = 'u.data'  # Make sure to provide the correct path to your dataset\n",
    "reader = Reader(line_format='user item rating timestamp', sep='\\t')\n",
    "\n",
    "# Load the dataset\n",
    "data = Dataset.load_from_file(file_path, reader=reader)"
   ]
  },
  {
   "cell_type": "code",
   "execution_count": 2,
   "metadata": {},
   "outputs": [
    {
     "name": "stderr",
     "output_type": "stream",
     "text": [
      "[I 2023-11-10 17:47:01,740] A new study created in memory with name: no-name-c9556566-f6c0-4bc0-a87e-d6f82283c953\n"
     ]
    },
    {
     "name": "stdout",
     "output_type": "stream",
     "text": [
      "Computing the pearson similarity matrix...\n",
      "Done computing similarity matrix.\n",
      "Estimating biases using sgd...\n",
      "Computing the msd similarity matrix...\n",
      "Computing the pearson similarity matrix...\n",
      "Computing the cosine similarity matrix...\n",
      "Done computing similarity matrix.\n",
      "Computing the cosine similarity matrix...\n",
      "Computing the pearson similarity matrix...\n",
      "Done computing similarity matrix.\n",
      "Done computing similarity matrix.\n",
      "Done computing similarity matrix.\n",
      "Estimating biases using sgd...\n",
      "Done computing similarity matrix.\n",
      "Computing the msd similarity matrix...\n",
      "Done computing similarity matrix.\n",
      "Computing the pearson_baseline similarity matrix...\n",
      "Done computing similarity matrix.\n",
      "Computing the msd similarity matrix...\n",
      "Computing the pearson_baseline similarity matrix...\n",
      "Done computing similarity matrix.\n",
      "Done computing similarity matrix.\n",
      "Computing the msd similarity matrix...\n",
      "Computing the cosine similarity matrix...\n",
      "Done computing similarity matrix.\n",
      "Done computing similarity matrix.\n",
      "Computing the cosine similarity matrix...\n",
      "Estimating biases using als...\n",
      "Done computing similarity matrix.\n",
      "Estimating biases using als...\n",
      "Estimating biases using als...\n",
      "Computing the pearson_baseline similarity matrix...\n",
      "Done computing similarity matrix.\n",
      "Computing the pearson_baseline similarity matrix...\n",
      "Done computing similarity matrix.\n",
      "Computing the pearson_baseline similarity matrix...\n",
      "Done computing similarity matrix.\n",
      "Computing the msd similarity matrix...\n",
      "Computing the pearson similarity matrix...\n",
      "Done computing similarity matrix.\n",
      "Computing the msd similarity matrix...\n",
      "Done computing similarity matrix.\n",
      "Done computing similarity matrix.\n",
      "Computing the cosine similarity matrix...\n",
      "Computing the cosine similarity matrix...Done computing similarity matrix.\n",
      "\n",
      "Done computing similarity matrix.Computing the pearson similarity matrix...\n",
      "\n",
      "Done computing similarity matrix.\n",
      "Computing the pearson similarity matrix...\n",
      "Done computing similarity matrix.Computing the msd similarity matrix...\n",
      "\n",
      "Done computing similarity matrix.\n",
      "Estimating biases using sgd...\n",
      "Estimating biases using sgd...\n",
      "Computing the msd similarity matrix...\n",
      "Done computing similarity matrix.\n",
      "Computing the pearson_baseline similarity matrix...\n",
      "Done computing similarity matrix.\n",
      "Computing the cosine similarity matrix...\n",
      "Done computing similarity matrix.\n",
      "Computing the msd similarity matrix...\n",
      "Done computing similarity matrix.Estimating biases using als...\n",
      "Computing the pearson_baseline similarity matrix...\n",
      "\n",
      "Computing the cosine similarity matrix...\n",
      "Estimating biases using als...\n",
      "Estimating biases using als...\n",
      "Done computing similarity matrix.\n",
      "Done computing similarity matrix.\n",
      "Computing the pearson_baseline similarity matrix...\n",
      "Computing the msd similarity matrix...\n",
      "Computing the cosine similarity matrix...\n",
      "Done computing similarity matrix.\n",
      "Done computing similarity matrix.\n",
      "Done computing similarity matrix.\n",
      "Computing the pearson_baseline similarity matrix...\n",
      "Done computing similarity matrix.\n",
      "Computing the pearson_baseline similarity matrix...\n",
      "Done computing similarity matrix.\n",
      "Computing the pearson similarity matrix...\n",
      "Done computing similarity matrix.\n",
      "Computing the pearson similarity matrix...\n",
      "Done computing similarity matrix.\n",
      "Computing the cosine similarity matrix...\n",
      "Done computing similarity matrix.Computing the pearson similarity matrix...\n",
      "\n",
      "Done computing similarity matrix.\n",
      "Computing the msd similarity matrix...\n",
      "Done computing similarity matrix.\n",
      "Computing the msd similarity matrix...\n",
      "Done computing similarity matrix.\n",
      "Computing the msd similarity matrix...\n",
      "Computing the cosine similarity matrix...Done computing similarity matrix.\n",
      "Computing the msd similarity matrix...\n",
      "\n",
      "Done computing similarity matrix.\n",
      "Done computing similarity matrix.\n",
      "Estimating biases using sgd...\n",
      "Estimating biases using als...\n",
      "Estimating biases usingEstimating biases using als...\n",
      " sgd...\n",
      "Computing the pearson_baseline similarity matrix...\n",
      "Done computing similarity matrix.\n",
      "Estimating biases using als...\n",
      "Computing the cosine similarity matrix...Computing the pearson_baseline similarity matrix...\n",
      "\n",
      "Done computing similarity matrix.\n",
      "Computing the cosine similarity matrix...\n",
      "Done computing similarity matrix.\n",
      "Done computing similarity matrix.\n",
      "Computing the pearson_baseline similarity matrix...\n",
      "Done computing similarity matrix.\n",
      "Computing the pearson_baseline similarity matrix...\n",
      "Done computing similarity matrix.\n",
      "Computing the pearson similarity matrix...\n",
      "Done computing similarity matrix.\n",
      "Computing the pearson_baseline similarity matrix...\n",
      "Done computing similarity matrix.\n",
      "Computing the pearson similarity matrix...\n",
      "Done computing similarity matrix.\n",
      "Computing the msd similarity matrix...\n",
      "Done computing similarity matrix.\n",
      "Computing the pearson similarity matrix...\n",
      "Computing the msd similarity matrix...\n",
      "Done computing similarity matrix.\n",
      "Done computing similarity matrix.\n",
      "Computing the cosine similarity matrix...\n",
      "Done computing similarity matrix.\n",
      "Computing the msd similarity matrix...\n",
      "Done computing similarity matrix.\n",
      "Computing the msd similarity matrix...\n",
      "Done computing similarity matrix.\n",
      "Computing the cosine similarity matrix...\n",
      "Done computing similarity matrix.\n",
      "Estimating biases using als...\n",
      "Computing the cosine similarity matrix...\n",
      "Computing the pearson similarity matrix...\n",
      "Done computing similarity matrix.Computing the pearson_baseline similarity matrix...\n",
      "\n",
      "Computing the cosine similarity matrix...\n",
      "Estimating biases using sgd...\n",
      "Done computing similarity matrix.\n",
      "Done computing similarity matrix.\n",
      "Done computing similarity matrix.\n",
      "Estimating biases using als...\n",
      "Computing the msd similarity matrix...\n",
      "Computing the pearson_baseline similarity matrix...\n",
      "Computing the pearson_baseline similarity matrix...\n",
      "Done computing similarity matrix.\n",
      "Done computing similarity matrix.\n",
      "Computing the pearson similarity matrix...\n",
      "Done computing similarity matrix.\n",
      "Done computing similarity matrix.Computing the pearson similarity matrix...\n",
      "\n",
      "Estimating biases using sgd...\n"
     ]
    },
    {
     "name": "stderr",
     "output_type": "stream",
     "text": [
      "[I 2023-11-10 17:51:12,911] Trial 1 finished with values: [0.9764915625156764, 0.7699002678479898, 0.7075427348969048] and parameters: {'k': 21, 'min_k': 1, 'sim_options_name': 'msd', 'user_based': True, 'min_support': 1}. \n"
     ]
    },
    {
     "name": "stdout",
     "output_type": "stream",
     "text": [
      "Estimating biases using als...\n",
      "Computing the cosine similarity matrix...\n",
      "Done computing similarity matrix.\n",
      "Done computing similarity matrix.\n",
      "Computing the cosine similarity matrix...\n",
      "Done computing similarity matrix.\n",
      "Computing the pearson_baseline similarity matrix...\n"
     ]
    },
    {
     "name": "stderr",
     "output_type": "stream",
     "text": [
      "[I 2023-11-10 17:51:24,540] Trial 8 finished with values: [0.9851214867928203, 0.7792079880744317, 0.7034742874957773] and parameters: {'k': 58, 'min_k': 7, 'sim_options_name': 'msd', 'user_based': True, 'min_support': 3}. \n"
     ]
    },
    {
     "name": "stdout",
     "output_type": "stream",
     "text": [
      "Computing the cosine similarity matrix...\n",
      "Done computing similarity matrix.\n",
      "Done computing similarity matrix.\n",
      "Computing the pearson_baseline similarity matrix...\n",
      "Computing the msd similarity matrix...\n",
      "Done computing similarity matrix.Done computing similarity matrix.\n",
      "\n"
     ]
    },
    {
     "name": "stderr",
     "output_type": "stream",
     "text": [
      "[I 2023-11-10 17:51:41,099] Trial 5 finished with values: [1.0101327904629958, 0.8028799352157906, 0.7092655658454528] and parameters: {'k': 36, 'min_k': 4, 'sim_options_name': 'pearson', 'user_based': True, 'min_support': 4}. \n"
     ]
    },
    {
     "name": "stdout",
     "output_type": "stream",
     "text": [
      "Computing the msd similarity matrix...\n",
      "Done computing similarity matrix.\n",
      "Estimating biases using als...\n",
      "Computing the pearson similarity matrix...\n",
      "Done computing similarity matrix.\n",
      "Computing the cosine similarity matrix...\n",
      "Done computing similarity matrix.\n",
      "Computing the pearson_baseline similarity matrix...\n",
      "Done computing similarity matrix.\n"
     ]
    },
    {
     "name": "stderr",
     "output_type": "stream",
     "text": [
      "[I 2023-11-10 17:51:57,806] Trial 13 finished with values: [0.9765007454826404, 0.7682105308596301, 0.6760975973599667] and parameters: {'k': 36, 'min_k': 7, 'sim_options_name': 'msd', 'user_based': False, 'min_support': 4}. \n",
      "[I 2023-11-10 17:51:59,705] Trial 3 finished with values: [1.0140665114280811, 0.8009231259176295, 0.7046809273566301] and parameters: {'k': 31, 'min_k': 2, 'sim_options_name': 'cosine', 'user_based': True, 'min_support': 4}. \n",
      "[I 2023-11-10 17:52:00,509] Trial 12 finished with values: [1.0236063637388615, 0.8076148877085648, 0.6054692502550963] and parameters: {'k': 35, 'min_k': 10, 'sim_options_name': 'cosine', 'user_based': False, 'min_support': 2}. \n"
     ]
    },
    {
     "name": "stdout",
     "output_type": "stream",
     "text": [
      "Computing the msd similarity matrix...\n",
      "Done computing similarity matrix.\n",
      "Estimating biases using sgd...\n"
     ]
    },
    {
     "name": "stderr",
     "output_type": "stream",
     "text": [
      "[I 2023-11-10 17:52:05,695] Trial 4 finished with values: [1.0118082962371022, 0.804408958899997, 0.7050340047135781] and parameters: {'k': 77, 'min_k': 6, 'sim_options_name': 'pearson', 'user_based': True, 'min_support': 2}. \n"
     ]
    },
    {
     "name": "stdout",
     "output_type": "stream",
     "text": [
      "Computing the cosine similarity matrix...\n",
      "Estimating biases using sgd...\n",
      "Computing the msd similarity matrix...\n",
      "Done computing similarity matrix.\n",
      "Done computing similarity matrix.\n",
      "Estimating biases using als...\n",
      "Computing the pearson_baseline similarity matrix...\n",
      "Done computing similarity matrix.\n",
      "Computing the pearson_baseline similarity matrix...\n",
      "Done computing similarity matrix.\n",
      "Computing the msd similarity matrix...\n",
      "Done computing similarity matrix.\n",
      "Estimating biases using als...\n"
     ]
    },
    {
     "name": "stderr",
     "output_type": "stream",
     "text": [
      "[I 2023-11-10 17:52:28,323] Trial 6 finished with values: [1.015975292685015, 0.8048012071524395, 0.7061004885828918] and parameters: {'k': 82, 'min_k': 1, 'sim_options_name': 'cosine', 'user_based': True, 'min_support': 4}. \n",
      "[I 2023-11-10 17:52:30,097] Trial 0 finished with values: [1.0293356140726486, 0.8238092737280696, 0.5808020655976784] and parameters: {'k': 90, 'min_k': 7, 'sim_options_name': 'pearson', 'user_based': False, 'min_support': 2}. \n"
     ]
    },
    {
     "name": "stdout",
     "output_type": "stream",
     "text": [
      "Computing the pearson_baseline similarity matrix...\n",
      "Computing the pearson similarity matrix...\n",
      "Done computing similarity matrix.\n",
      "Computing the pearson similarity matrix...\n",
      "Done computing similarity matrix.\n",
      "Computing the pearson_baseline similarity matrix...\n",
      "Done computing similarity matrix.\n",
      "Done computing similarity matrix.\n",
      "Estimating biases using sgd...\n",
      "Computing the cosine similarity matrix...Computing the msd similarity matrix...\n",
      "\n",
      "Done computing similarity matrix.\n",
      "Done computing similarity matrix.\n"
     ]
    },
    {
     "name": "stderr",
     "output_type": "stream",
     "text": [
      "[I 2023-11-10 17:52:45,777] Trial 10 finished with values: [0.977107260011163, 0.7700292427703022, 0.6821644053212597] and parameters: {'k': 48, 'min_k': 1, 'sim_options_name': 'msd', 'user_based': False, 'min_support': 3}. \n",
      "[I 2023-11-10 17:52:46,062] Trial 14 finished with values: [1.0023186116746852, 0.794682353600004, 0.7075895407633256] and parameters: {'k': 42, 'min_k': 6, 'sim_options_name': 'pearson_baseline', 'user_based': True, 'min_support': 2, 'shrinkage': 160, 'bsl_method': 'als', 'bsl_n_epochs': 37, 'als_reg_u': 16.5865057234411, 'als_reg_i': 17.473562779381368}. \n"
     ]
    },
    {
     "name": "stdout",
     "output_type": "stream",
     "text": [
      "Computing the pearson_baseline similarity matrix...\n"
     ]
    },
    {
     "name": "stderr",
     "output_type": "stream",
     "text": [
      "[I 2023-11-10 17:52:50,532] Trial 15 finished with values: [1.0193358090666869, 0.8083039534435159, 0.6982101100889726] and parameters: {'k': 98, 'min_k': 8, 'sim_options_name': 'cosine', 'user_based': True, 'min_support': 4}. \n"
     ]
    },
    {
     "name": "stdout",
     "output_type": "stream",
     "text": [
      "Computing the msd similarity matrix...\n",
      "Done computing similarity matrix.\n",
      "Done computing similarity matrix.\n",
      "Computing the msd similarity matrix...\n",
      "Done computing similarity matrix.Computing the msd similarity matrix...\n",
      "\n",
      "Done computing similarity matrix.\n",
      "Computing the msd similarity matrix...\n",
      "Done computing similarity matrix.Computing the cosine similarity matrix...\n",
      "\n",
      "Computing the msd similarity matrix...\n"
     ]
    },
    {
     "name": "stderr",
     "output_type": "stream",
     "text": [
      "[I 2023-11-10 17:53:08,546] Trial 7 finished with values: [0.9986423045474624, 0.7917129787447253, 0.7123964210067111] and parameters: {'k': 84, 'min_k': 4, 'sim_options_name': 'pearson_baseline', 'user_based': True, 'min_support': 4, 'shrinkage': 164, 'bsl_method': 'sgd', 'bsl_n_epochs': 28, 'sgd_reg': 0.18415190490506456, 'sgd_learning_rate': 0.007803222576048115}. \n"
     ]
    },
    {
     "name": "stdout",
     "output_type": "stream",
     "text": [
      "Done computing similarity matrix.Done computing similarity matrix.\n",
      "\n",
      "Estimating biases using sgd...\n",
      "Computing the msd similarity matrix...\n",
      "Done computing similarity matrix.\n",
      "Computing the pearson similarity matrix...\n",
      "Computing the pearson similarity matrix...\n",
      "Done computing similarity matrix.\n",
      "Done computing similarity matrix.\n",
      "Estimating biases using sgd...\n",
      "Computing the pearson_baseline similarity matrix...\n",
      "Done computing similarity matrix.\n",
      "Computing the pearson_baseline similarity matrix...\n",
      "Computing the msd similarity matrix...\n"
     ]
    },
    {
     "name": "stderr",
     "output_type": "stream",
     "text": [
      "[I 2023-11-10 17:53:36,078] Trial 9 finished with values: [0.998781228183077, 0.7914930499067476, 0.714908127523078] and parameters: {'k': 74, 'min_k': 2, 'sim_options_name': 'pearson_baseline', 'user_based': True, 'min_support': 2, 'shrinkage': 188, 'bsl_method': 'als', 'bsl_n_epochs': 48, 'als_reg_u': 16.412152043337628, 'als_reg_i': 4.770127088274448}. \n"
     ]
    },
    {
     "name": "stdout",
     "output_type": "stream",
     "text": [
      "Done computing similarity matrix.\n",
      "Done computing similarity matrix.\n",
      "Computing the msd similarity matrix...\n",
      "Done computing similarity matrix.\n",
      "Computing the cosine similarity matrix...Computing the msd similarity matrix...\n",
      "\n"
     ]
    },
    {
     "name": "stderr",
     "output_type": "stream",
     "text": [
      "[I 2023-11-10 17:53:46,892] Trial 11 finished with values: [0.9966719028315636, 0.7887630417888198, 0.6736067529570922] and parameters: {'k': 66, 'min_k': 10, 'sim_options_name': 'pearson_baseline', 'user_based': False, 'min_support': 2, 'shrinkage': 61, 'bsl_method': 'als', 'bsl_n_epochs': 18, 'als_reg_u': 9.053058338505222, 'als_reg_i': 9.481728953075834}. \n"
     ]
    },
    {
     "name": "stdout",
     "output_type": "stream",
     "text": [
      "Done computing similarity matrix.\n",
      "Done computing similarity matrix.\n",
      "Computing the msd similarity matrix...\n",
      "Done computing similarity matrix.\n",
      "Computing the msd similarity matrix...\n",
      "Computing the msd similarity matrix...\n",
      "Done computing similarity matrix.\n",
      "Computing the cosine similarity matrix...Done computing similarity matrix.\n",
      "\n",
      "Computing the msd similarity matrix...\n",
      "Computing the pearson similarity matrix...\n",
      "Done computing similarity matrix.\n",
      "Done computing similarity matrix.\n",
      "Done computing similarity matrix.\n",
      "Computing the msd similarity matrix...\n",
      "Done computing similarity matrix.\n"
     ]
    },
    {
     "name": "stderr",
     "output_type": "stream",
     "text": [
      "[I 2023-11-10 17:54:05,876] Trial 2 finished with values: [1.006578897821726, 0.7993589958725217, 0.6332861873640878] and parameters: {'k': 75, 'min_k': 5, 'sim_options_name': 'pearson_baseline', 'user_based': False, 'min_support': 3, 'shrinkage': 8, 'bsl_method': 'sgd', 'bsl_n_epochs': 19, 'sgd_reg': 0.1360897999177626, 'sgd_learning_rate': 0.005057562981026006}. \n"
     ]
    },
    {
     "name": "stdout",
     "output_type": "stream",
     "text": [
      "Computing the pearson similarity matrix...\n",
      "Done computing similarity matrix.\n",
      "Computing the msd similarity matrix...\n",
      "Computing the msd similarity matrix...\n",
      "Done computing similarity matrix.\n",
      "Done computing similarity matrix.\n",
      "Estimating biases using sgd...\n",
      "Computing the msd similarity matrix...\n",
      "Done computing similarity matrix.\n",
      "Computing the pearson_baseline similarity matrix...\n",
      "Done computing similarity matrix.\n",
      "Estimating biases using sgd...\n",
      "Computing the pearson similarity matrix...\n",
      "Computing the msd similarity matrix...\n",
      "Done computing similarity matrix.\n",
      "Done computing similarity matrix.\n",
      "Computing the msd similarity matrix...\n",
      "Computing the msd similarity matrix...\n",
      "Done computing similarity matrix.\n",
      "Done computing similarity matrix.\n",
      "Computing the msd similarity matrix...\n",
      "Done computing similarity matrix.\n",
      "Computing the msd similarity matrix...\n",
      "Computing the cosine similarity matrix...\n",
      "Done computing similarity matrix.\n",
      "Done computing similarity matrix.\n",
      "Computing the pearson_baseline similarity matrix...\n",
      "Done computing similarity matrix.\n",
      "Computing the msd similarity matrix...\n",
      "Done computing similarity matrix.\n",
      "Computing the msd similarity matrix...\n",
      "Done computing similarity matrix.\n",
      "Computing the cosine similarity matrix...\n",
      "Computing the msd similarity matrix...\n",
      "Computing the pearson similarity matrix...\n",
      "Done computing similarity matrix.\n",
      "Done computing similarity matrix.\n",
      "Done computing similarity matrix.\n",
      "Estimating biases using sgd...\n",
      "Computing the pearson_baseline similarity matrix...\n",
      "Done computing similarity matrix.\n",
      "Computing the msd similarity matrix...\n",
      "Done computing similarity matrix.\n"
     ]
    },
    {
     "name": "stderr",
     "output_type": "stream",
     "text": [
      "[I 2023-11-10 17:55:24,676] Trial 18 finished with values: [1.0161992195544625, 0.8080040343811193, 0.6989086898867948] and parameters: {'k': 35, 'min_k': 10, 'sim_options_name': 'pearson', 'user_based': True, 'min_support': 3}. \n"
     ]
    },
    {
     "name": "stdout",
     "output_type": "stream",
     "text": [
      "Computing the msd similarity matrix...\n",
      "Done computing similarity matrix.\n",
      "Computing the msd similarity matrix...\n",
      "Done computing similarity matrix.\n",
      "Computing the msd similarity matrix...\n",
      "Computing the msd similarity matrix...\n",
      "Done computing similarity matrix.\n",
      "Done computing similarity matrix.\n",
      "Computing the cosine similarity matrix...\n",
      "Done computing similarity matrix.\n",
      "Computing the msd similarity matrix...\n",
      "Done computing similarity matrix.\n",
      "Computing the msd similarity matrix...\n",
      "Done computing similarity matrix.\n",
      "Computing the msd similarity matrix...\n",
      "Done computing similarity matrix.\n",
      "Computing the msd similarity matrix...\n",
      "Done computing similarity matrix.\n",
      "Estimating biases usingComputing the pearson similarity matrix...\n",
      " sgd...\n",
      "Computing the msd similarity matrix...\n",
      "Done computing similarity matrix.\n",
      "Done computing similarity matrix.\n",
      "Estimating biases using sgd...\n",
      "Computing the pearson_baseline similarity matrix...\n",
      "Computing the msd similarity matrix...Done computing similarity matrix.\n",
      "\n",
      "Done computing similarity matrix.\n",
      "Computing the pearson_baseline similarity matrix...\n",
      "Done computing similarity matrix.\n",
      "Computing the msd similarity matrix...\n"
     ]
    },
    {
     "name": "stderr",
     "output_type": "stream",
     "text": [
      "[I 2023-11-10 17:56:18,888] Trial 17 finished with values: [0.9776540846956422, 0.7716993690877846, 0.6554835607147834] and parameters: {'k': 28, 'min_k': 6, 'sim_options_name': 'msd', 'user_based': False, 'min_support': 1}. \n"
     ]
    },
    {
     "name": "stdout",
     "output_type": "stream",
     "text": [
      "Done computing similarity matrix.\n",
      "Computing the cosine similarity matrix...\n",
      "Done computing similarity matrix.\n",
      "Computing the msd similarity matrix...\n",
      "Done computing similarity matrix.\n"
     ]
    },
    {
     "name": "stderr",
     "output_type": "stream",
     "text": [
      "[I 2023-11-10 17:56:25,968] Trial 22 finished with values: [0.9847985664106143, 0.7786605325103612, 0.7039637595440469] and parameters: {'k': 55, 'min_k': 7, 'sim_options_name': 'msd', 'user_based': True, 'min_support': 2}. \n"
     ]
    },
    {
     "name": "stdout",
     "output_type": "stream",
     "text": [
      "Computing the msd similarity matrix...\n",
      "Done computing similarity matrix.\n",
      "Computing the msd similarity matrix...\n",
      "Done computing similarity matrix.\n",
      "Computing the msd similarity matrix...\n",
      "Done computing similarity matrix.\n",
      "Computing the msd similarity matrix...\n"
     ]
    },
    {
     "name": "stderr",
     "output_type": "stream",
     "text": [
      "[I 2023-11-10 17:56:35,670] Trial 20 finished with values: [1.0191016498162218, 0.807638173413866, 0.6970697767251783] and parameters: {'k': 74, 'min_k': 9, 'sim_options_name': 'cosine', 'user_based': True, 'min_support': 3}. \n"
     ]
    },
    {
     "name": "stdout",
     "output_type": "stream",
     "text": [
      "Done computing similarity matrix.\n"
     ]
    },
    {
     "name": "stderr",
     "output_type": "stream",
     "text": [
      "[I 2023-11-10 17:56:39,026] Trial 26 finished with values: [0.97508616972575, 0.7693421186170751, 0.7058197916669984] and parameters: {'k': 22, 'min_k': 3, 'sim_options_name': 'msd', 'user_based': True, 'min_support': 1}. \n"
     ]
    },
    {
     "name": "stdout",
     "output_type": "stream",
     "text": [
      "Computing the msd similarity matrix...\n",
      "Done computing similarity matrix.\n",
      "Computing the msd similarity matrix...\n",
      "Done computing similarity matrix.Computing the msd similarity matrix...\n",
      "Done computing similarity matrix.\n",
      "\n"
     ]
    },
    {
     "name": "stderr",
     "output_type": "stream",
     "text": [
      "[I 2023-11-10 17:56:47,493] Trial 23 finished with values: [1.0390203266207139, 0.8298929379764421, 0.5607956289305417] and parameters: {'k': 38, 'min_k': 7, 'sim_options_name': 'pearson', 'user_based': False, 'min_support': 5}. \n"
     ]
    },
    {
     "name": "stdout",
     "output_type": "stream",
     "text": [
      "Computing the msd similarity matrix...\n",
      "Done computing similarity matrix.\n",
      "Estimating biases using sgd...\n",
      "Estimating biases using als...\n",
      "Computing the pearson_baseline similarity matrix...\n",
      "Estimating biases using sgd...\n",
      "Done computing similarity matrix.\n"
     ]
    },
    {
     "name": "stderr",
     "output_type": "stream",
     "text": [
      "[I 2023-11-10 17:57:03,456] Trial 19 finished with values: [0.9826540560903594, 0.7785049323607949, 0.6870426383270491] and parameters: {'k': 83, 'min_k': 5, 'sim_options_name': 'msd', 'user_based': False, 'min_support': 1}. \n"
     ]
    },
    {
     "name": "stdout",
     "output_type": "stream",
     "text": [
      "Computing the msd similarity matrix...\n",
      "Computing the msd similarity matrix...\n",
      "Done computing similarity matrix.\n",
      "Done computing similarity matrix.Computing the pearson_baseline similarity matrix...\n",
      "\n",
      "Computing the msd similarity matrix...\n",
      "Done computing similarity matrix.\n",
      "Done computing similarity matrix.\n",
      "Computing the msd similarity matrix...\n"
     ]
    },
    {
     "name": "stderr",
     "output_type": "stream",
     "text": [
      "[I 2023-11-10 17:57:13,936] Trial 16 finished with values: [1.0240266683604353, 0.8106740025093175, 0.6175665464830908] and parameters: {'k': 68, 'min_k': 7, 'sim_options_name': 'cosine', 'user_based': False, 'min_support': 1}. \n"
     ]
    },
    {
     "name": "stdout",
     "output_type": "stream",
     "text": [
      "Done computing similarity matrix.\n",
      "Computing the msd similarity matrix...\n"
     ]
    },
    {
     "name": "stderr",
     "output_type": "stream",
     "text": [
      "[I 2023-11-10 17:57:16,643] Trial 25 finished with values: [0.9754046823311413, 0.7695941165628428, 0.70290162641913] and parameters: {'k': 21, 'min_k': 3, 'sim_options_name': 'msd', 'user_based': True, 'min_support': 1}. \n"
     ]
    },
    {
     "name": "stdout",
     "output_type": "stream",
     "text": [
      "Computing the pearson_baseline similarity matrix...\n",
      "Done computing similarity matrix.\n",
      "Done computing similarity matrix.\n",
      "Estimating biases using als...\n",
      "Computing the msd similarity matrix...Computing the pearson_baseline similarity matrix...\n",
      "\n",
      "Done computing similarity matrix.\n",
      "Done computing similarity matrix.\n"
     ]
    },
    {
     "name": "stderr",
     "output_type": "stream",
     "text": [
      "[I 2023-11-10 17:57:28,672] Trial 24 finished with values: [0.9739703802783619, 0.7695542345434037, 0.6702164914530255] and parameters: {'k': 42, 'min_k': 6, 'sim_options_name': 'msd', 'user_based': False, 'min_support': 1}. \n",
      "[I 2023-11-10 17:57:30,120] Trial 27 finished with values: [0.9765460558648847, 0.7711051263882218, 0.654626937434138] and parameters: {'k': 27, 'min_k': 4, 'sim_options_name': 'msd', 'user_based': False, 'min_support': 1}. \n"
     ]
    },
    {
     "name": "stdout",
     "output_type": "stream",
     "text": [
      "Computing the msd similarity matrix...\n",
      "Done computing similarity matrix.\n",
      "Estimating biases using als...\n",
      "Computing the msd similarity matrix...\n",
      "Done computing similarity matrix.\n",
      "Computing the pearson_baseline similarity matrix...\n"
     ]
    },
    {
     "name": "stderr",
     "output_type": "stream",
     "text": [
      "[I 2023-11-10 17:57:41,515] Trial 29 finished with values: [0.9755179888450423, 0.7696511142458077, 0.7039945928527183] and parameters: {'k': 20, 'min_k': 3, 'sim_options_name': 'msd', 'user_based': True, 'min_support': 1}. \n"
     ]
    },
    {
     "name": "stdout",
     "output_type": "stream",
     "text": [
      "Estimating biases using als...\n",
      "Computing the msd similarity matrix...Computing the msd similarity matrix...\n",
      "Done computing similarity matrix.\n",
      "\n",
      "Done computing similarity matrix.Estimating biases using als...\n",
      "Done computing similarity matrix.\n",
      "\n"
     ]
    },
    {
     "name": "stderr",
     "output_type": "stream",
     "text": [
      "[I 2023-11-10 17:57:47,347] Trial 28 finished with values: [0.9988167491042516, 0.7916027309191305, 0.7131881001578221] and parameters: {'k': 62, 'min_k': 3, 'sim_options_name': 'pearson_baseline', 'user_based': True, 'min_support': 1, 'shrinkage': 12, 'bsl_method': 'sgd', 'bsl_n_epochs': 12, 'sgd_reg': 0.18144460310599977, 'sgd_learning_rate': 0.008063434601754654}. \n"
     ]
    },
    {
     "name": "stdout",
     "output_type": "stream",
     "text": [
      "Estimating biases using als...\n",
      "Computing the pearson_baseline similarity matrix...\n",
      "Done computing similarity matrix.\n",
      "Computing the msd similarity matrix...\n",
      "Done computing similarity matrix.Computing the pearson_baseline similarity matrix...\n",
      "\n",
      "Done computing similarity matrix.\n"
     ]
    },
    {
     "name": "stderr",
     "output_type": "stream",
     "text": [
      "[I 2023-11-10 17:57:57,351] Trial 21 finished with values: [1.0021247941491183, 0.7934841265231162, 0.7155503504859906] and parameters: {'k': 48, 'min_k': 1, 'sim_options_name': 'pearson_baseline', 'user_based': True, 'min_support': 1, 'shrinkage': 188, 'bsl_method': 'sgd', 'bsl_n_epochs': 36, 'sgd_reg': 0.035006299350354785, 'sgd_learning_rate': 0.00248037158430674}. \n"
     ]
    },
    {
     "name": "stdout",
     "output_type": "stream",
     "text": [
      "Computing the pearson_baseline similarity matrix...\n",
      "Done computing similarity matrix.\n",
      "Estimating biases using als...\n",
      "Estimating biases using als...\n",
      "Computing the msd similarity matrix...\n",
      "Done computing similarity matrix.\n",
      "Estimating biases using als...\n"
     ]
    },
    {
     "name": "stderr",
     "output_type": "stream",
     "text": [
      "[I 2023-11-10 17:58:10,292] Trial 30 finished with values: [0.9761752901764782, 0.7704460091246745, 0.7066024968341548] and parameters: {'k': 24, 'min_k': 3, 'sim_options_name': 'msd', 'user_based': True, 'min_support': 1}. \n"
     ]
    },
    {
     "name": "stdout",
     "output_type": "stream",
     "text": [
      "Computing the pearson_baseline similarity matrix...\n",
      "Done computing similarity matrix.\n",
      "Estimating biases using als...\n",
      "Computing the pearson_baseline similarity matrix...\n",
      "Computing the pearson_baseline similarity matrix...\n",
      "Estimating biases using als...\n",
      "Done computing similarity matrix.\n",
      "Computing the msd similarity matrix...\n",
      "Done computing similarity matrix.\n",
      "Done computing similarity matrix.\n",
      "Computing the msd similarity matrix...\n",
      "Estimating biases using als...\n",
      "Done computing similarity matrix.\n",
      "Computing the pearson_baseline similarity matrix...\n",
      "Done computing similarity matrix.\n",
      "Computing the pearson_baseline similarity matrix...\n",
      "Done computing similarity matrix.\n"
     ]
    },
    {
     "name": "stderr",
     "output_type": "stream",
     "text": [
      "[I 2023-11-10 17:58:29,169] Trial 31 finished with values: [0.9753691355894467, 0.7695529903154159, 0.7065022221877781] and parameters: {'k': 21, 'min_k': 3, 'sim_options_name': 'msd', 'user_based': True, 'min_support': 1}. \n"
     ]
    },
    {
     "name": "stdout",
     "output_type": "stream",
     "text": [
      "Computing the pearson_baseline similarity matrix...\n",
      "Done computing similarity matrix.\n",
      "Computing the msd similarity matrix...\n",
      "Done computing similarity matrix.\n",
      "Estimating biases using als...\n",
      "Estimating biases using als...\n",
      "Estimating biases using als...\n",
      "Computing the pearson_baseline similarity matrix...\n",
      "Done computing similarity matrix.\n",
      "Estimating biases using sgd...\n",
      "Computing the msd similarity matrix...\n",
      "Computing the pearson_baseline similarity matrix...\n",
      "Done computing similarity matrix.\n",
      "Done computing similarity matrix.\n"
     ]
    },
    {
     "name": "stderr",
     "output_type": "stream",
     "text": [
      "[I 2023-11-10 17:58:50,547] Trial 32 finished with values: [0.976676079138479, 0.7706848581855894, 0.7031736018564236] and parameters: {'k': 20, 'min_k': 3, 'sim_options_name': 'msd', 'user_based': True, 'min_support': 1}. \n"
     ]
    },
    {
     "name": "stdout",
     "output_type": "stream",
     "text": [
      "Estimating biases using als...\n",
      "Computing the pearson_baseline similarity matrix...\n",
      "Done computing similarity matrix.\n",
      "Estimating biases usingComputing the msd similarity matrix...\n",
      " als...\n",
      "Computing the pearson_baseline similarity matrix...\n",
      "Done computing similarity matrix.\n",
      "Computing the pearson_baseline similarity matrix...\n",
      "Done computing similarity matrix.\n",
      "Estimating biases usingDone computing similarity matrix.\n",
      " als...\n",
      "Estimating biases using als...\n",
      "Computing the pearson_baseline similarity matrix...\n",
      "Done computing similarity matrix.\n",
      "Computing the msd similarity matrix...\n",
      "Computing the pearson_baseline similarity matrix...\n",
      "Done computing similarity matrix.\n",
      "Done computing similarity matrix.\n",
      "Estimating biases using als...\n",
      "Computing the pearson_baseline similarity matrix...\n",
      "Done computing similarity matrix.\n",
      "Estimating biases using sgd...\n",
      "Estimating biases using als...\n",
      "Computing the pearson_baseline similarity matrix...\n",
      "Done computing similarity matrix.\n",
      "Estimating biases using als...\n",
      "Estimating biases using sgd...\n",
      "Computing the msd similarity matrix...\n",
      "Done computing similarity matrix.\n",
      "Estimating biases using als...\n",
      "Computing the pearson_baseline similarity matrix...\n",
      "Done computing similarity matrix.\n"
     ]
    },
    {
     "name": "stderr",
     "output_type": "stream",
     "text": [
      "[I 2023-11-10 17:59:35,523] Trial 33 finished with values: [0.9763731245730268, 0.7703809523455739, 0.7042816508861433] and parameters: {'k': 20, 'min_k': 3, 'sim_options_name': 'msd', 'user_based': True, 'min_support': 1}. \n"
     ]
    },
    {
     "name": "stdout",
     "output_type": "stream",
     "text": [
      "Computing the pearson_baseline similarity matrix...\n",
      "Computing the pearson_baseline similarity matrix...\n",
      "Done computing similarity matrix.\n",
      "Done computing similarity matrix.\n",
      "Estimating biases using als...\n",
      "Computing the pearson_baseline similarity matrix...\n",
      "Done computing similarity matrix.\n",
      "Computing the pearson_baseline similarity matrix...\n",
      "Done computing similarity matrix.\n",
      "Estimating biases using als...\n",
      "Estimating biases using"
     ]
    },
    {
     "name": "stderr",
     "output_type": "stream",
     "text": [
      "[I 2023-11-10 17:59:53,963] Trial 34 finished with values: [0.974842953260117, 0.7692646223111506, 0.7059453457325394] and parameters: {'k': 21, 'min_k': 3, 'sim_options_name': 'msd', 'user_based': True, 'min_support': 1}. \n"
     ]
    },
    {
     "name": "stdout",
     "output_type": "stream",
     "text": [
      " sgd...\n",
      "Computing the pearson_baseline similarity matrix...\n",
      "Estimating biases using als...\n",
      "Done computing similarity matrix.\n",
      "Estimating biases using als...\n",
      "Estimating biases using sgd...\n",
      "Estimating biases using als...\n",
      "Computing the pearson_baseline similarity matrix...\n",
      "Done computing similarity matrix.\n",
      "Computing the pearson_baseline similarity matrix...\n",
      "Computing the pearson_baseline similarity matrix...\n",
      "Computing the pearson_baseline similarity matrix...\n",
      "Done computing similarity matrix.\n",
      "Done computing similarity matrix.\n",
      "Done computing similarity matrix.\n"
     ]
    },
    {
     "name": "stderr",
     "output_type": "stream",
     "text": [
      "[I 2023-11-10 18:00:13,630] Trial 35 finished with values: [0.9755812812062932, 0.7703018540609606, 0.7040427910572842] and parameters: {'k': 22, 'min_k': 3, 'sim_options_name': 'msd', 'user_based': True, 'min_support': 1}. \n"
     ]
    },
    {
     "name": "stdout",
     "output_type": "stream",
     "text": [
      "Estimating biases using als...\n",
      "Computing the pearson_baseline similarity matrix...\n",
      "Done computing similarity matrix.\n",
      "Computing the pearson_baseline similarity matrix...\n",
      "Estimating biases using als...\n",
      "Done computing similarity matrix.\n",
      "Computing the pearson_baseline similarity matrix...Estimating biases using\n",
      " sgd...\n",
      "Done computing similarity matrix.\n",
      "Estimating biases using als...\n",
      "Estimating biases using als...\n",
      "Computing the pearson_baseline similarity matrix...\n",
      "Done computing similarity matrix.\n",
      "Computing the pearson_baseline similarity matrix...\n",
      "Done computing similarity matrix.\n",
      "Estimating biases usingEstimating biases using sgd...\n",
      " als...\n",
      "Computing the pearson_baseline similarity matrix...\n",
      "Estimating biases using sgd...\n",
      "Computing the pearson_baseline similarity matrix...\n",
      "Done computing similarity matrix.\n",
      "Done computing similarity matrix.\n",
      "Estimating biases using als...\n",
      "Estimating biases using als...\n",
      "Computing the pearson_baseline similarity matrix...\n",
      "Done computing similarity matrix.\n",
      "Estimating biases using sgd...\n",
      "Computing the pearson_baseline similarity matrix...Computing the pearson_baseline similarity matrix...\n",
      "Done computing similarity matrix.\n",
      "\n",
      "Done computing similarity matrix.\n",
      "Computing the pearson_baseline similarity matrix...\n",
      "Computing the pearson_baseline similarity matrix...\n",
      "Done computing similarity matrix.\n",
      "Done computing similarity matrix.\n",
      "Estimating biases using als...\n",
      "Estimating biases using sgd...\n",
      "Computing the pearson_baseline similarity matrix...\n",
      "Done computing similarity matrix.\n",
      "Estimating biases using sgd...\n"
     ]
    },
    {
     "name": "stderr",
     "output_type": "stream",
     "text": [
      "[I 2023-11-10 18:01:10,807] Trial 36 finished with values: [1.0021602106662557, 0.7942198012366155, 0.710575412141966] and parameters: {'k': 20, 'min_k': 3, 'sim_options_name': 'pearson_baseline', 'user_based': True, 'min_support': 1, 'shrinkage': 183, 'bsl_method': 'als', 'bsl_n_epochs': 50, 'als_reg_u': 19.664633299796044, 'als_reg_i': 2.0775048064161457}. \n"
     ]
    },
    {
     "name": "stdout",
     "output_type": "stream",
     "text": [
      "Computing the pearson_baseline similarity matrix...\n",
      "Estimating biases using als...\n",
      "Estimating biases using als...\n",
      "Done computing similarity matrix.\n",
      "Estimating biases using als...\n",
      "Computing the pearson_baseline similarity matrix...\n",
      "Estimating biases using sgd...\n",
      "Done computing similarity matrix.\n",
      "Computing the pearson_baseline similarity matrix...\n",
      "Computing the pearson_baseline similarity matrix...\n",
      "Estimating biases using als...\n",
      "Done computing similarity matrix.\n",
      "Done computing similarity matrix.\n",
      "Computing the pearson_baseline similarity matrix...\n",
      "Done computing similarity matrix.\n",
      "Computing the pearson_baseline similarity matrix...\n",
      "Done computing similarity matrix.\n",
      "Estimating biases using sgd...\n",
      "Computing the pearson_baseline similarity matrix...\n"
     ]
    },
    {
     "name": "stderr",
     "output_type": "stream",
     "text": [
      "[I 2023-11-10 18:01:38,385] Trial 38 finished with values: [1.0007421843181266, 0.7927765315433446, 0.7109776740029659] and parameters: {'k': 21, 'min_k': 3, 'sim_options_name': 'pearson_baseline', 'user_based': True, 'min_support': 1, 'shrinkage': 200, 'bsl_method': 'als', 'bsl_n_epochs': 50, 'als_reg_u': 19.58068346613429, 'als_reg_i': 1.5055126493746074}. \n"
     ]
    },
    {
     "name": "stdout",
     "output_type": "stream",
     "text": [
      "Estimating biases usingDone computing similarity matrix.\n",
      " als...\n",
      "Computing the pearson_baseline similarity matrix...\n",
      "Done computing similarity matrix.\n",
      "Computing the pearson_baseline similarity matrix...\n",
      "Estimating biases using als...\n",
      "Done computing similarity matrix.\n",
      "Estimating biases using sgd...\n",
      "Computing the pearson_baseline similarity matrix...\n",
      "Done computing similarity matrix.\n",
      "Estimating biases using sgd...\n",
      "Computing the pearson_baseline similarity matrix...\n",
      "Done computing similarity matrix.\n",
      "Estimating biases using sgd...\n",
      "Computing the pearson_baseline similarity matrix...\n",
      "Done computing similarity matrix.\n",
      "Computing the pearson_baseline similarity matrix...\n",
      "Done computing similarity matrix.\n"
     ]
    },
    {
     "name": "stderr",
     "output_type": "stream",
     "text": [
      "[I 2023-11-10 18:02:10,496] Trial 37 finished with values: [1.0003148725250908, 0.7928511334391779, 0.71156049244181] and parameters: {'k': 69, 'min_k': 3, 'sim_options_name': 'pearson_baseline', 'user_based': True, 'min_support': 1, 'shrinkage': 200, 'bsl_method': 'als', 'bsl_n_epochs': 49, 'als_reg_u': 16.03030451582575, 'als_reg_i': 1.129306163570913}. \n",
      "[I 2023-11-10 18:02:13,030] Trial 39 finished with values: [1.0002296413363605, 0.7929076770820632, 0.7093404140104624] and parameters: {'k': 23, 'min_k': 3, 'sim_options_name': 'pearson_baseline', 'user_based': True, 'min_support': 1, 'shrinkage': 193, 'bsl_method': 'als', 'bsl_n_epochs': 50, 'als_reg_u': 19.866738328986486, 'als_reg_i': 1.0184608922731035}. \n"
     ]
    },
    {
     "name": "stdout",
     "output_type": "stream",
     "text": [
      "Estimating biases using als...\n",
      "Estimating biases using sgd...\n",
      "Estimating biases using als...\n",
      "Estimating biases using sgd...\n",
      "Computing the pearson_baseline similarity matrix...\n",
      "Estimating biases using sgd...\n",
      "Done computing similarity matrix.\n",
      "Estimating biases using sgd...\n",
      "Computing the pearson_baseline similarity matrix...\n",
      "Done computing similarity matrix.\n",
      "Estimating biases using als...\n",
      "Computing the pearson_baseline similarity matrix...\n",
      "Computing the pearson_baseline similarity matrix...\n",
      "Computing the pearson_baseline similarity matrix...\n",
      "Done computing similarity matrix.\n",
      "Done computing similarity matrix.\n",
      "Computing the pearson_baseline similarity matrix...\n",
      "Done computing similarity matrix.\n",
      "Done computing similarity matrix.\n"
     ]
    },
    {
     "name": "stderr",
     "output_type": "stream",
     "text": [
      "[I 2023-11-10 18:02:33,991] Trial 42 finished with values: [1.0054204887492233, 0.7969385849690588, 0.7108132509724492] and parameters: {'k': 24, 'min_k': 2, 'sim_options_name': 'pearson_baseline', 'user_based': True, 'min_support': 5, 'shrinkage': 190, 'bsl_method': 'als', 'bsl_n_epochs': 50, 'als_reg_u': 2.1166340458508675, 'als_reg_i': 2.988418672134615}. \n"
     ]
    },
    {
     "name": "stdout",
     "output_type": "stream",
     "text": [
      "Computing the pearson_baseline similarity matrix...\n"
     ]
    },
    {
     "name": "stderr",
     "output_type": "stream",
     "text": [
      "[I 2023-11-10 18:02:37,513] Trial 41 finished with values: [1.0036235140900187, 0.7954407296769077, 0.7130151016534008] and parameters: {'k': 25, 'min_k': 2, 'sim_options_name': 'pearson_baseline', 'user_based': True, 'min_support': 5, 'shrinkage': 200, 'bsl_method': 'als', 'bsl_n_epochs': 48, 'als_reg_u': 3.4088146908655492, 'als_reg_i': 1.3795233092205583}. \n"
     ]
    },
    {
     "name": "stdout",
     "output_type": "stream",
     "text": [
      "Computing the pearson_baseline similarity matrix...Done computing similarity matrix.\n",
      "\n",
      "Estimating biases using sgd...\n",
      "Done computing similarity matrix.\n",
      "Estimating biases using sgd...\n",
      "Estimating biases using sgd...\n",
      "Computing the pearson similarity matrix...\n",
      "Estimating biases usingDone computing similarity matrix.\n",
      " sgd...\n",
      "Computing the pearson_baseline similarity matrix...\n",
      "Computing the pearson_baseline similarity matrix...\n",
      "Done computing similarity matrix.\n",
      "Done computing similarity matrix.\n",
      "Computing the pearson_baseline similarity matrix...\n",
      "Done computing similarity matrix.\n"
     ]
    },
    {
     "name": "stderr",
     "output_type": "stream",
     "text": [
      "[I 2023-11-10 18:03:05,028] Trial 40 finished with values: [0.998528956115736, 0.7909440236520549, 0.7124664776890707] and parameters: {'k': 65, 'min_k': 2, 'sim_options_name': 'pearson_baseline', 'user_based': True, 'min_support': 1, 'shrinkage': 189, 'bsl_method': 'als', 'bsl_n_epochs': 48, 'als_reg_u': 19.253715088847944, 'als_reg_i': 1.0147395533033663}. \n"
     ]
    },
    {
     "name": "stdout",
     "output_type": "stream",
     "text": [
      "Estimating biases using sgd...\n",
      "Computing the pearson_baseline similarity matrix...\n",
      "Done computing similarity matrix.\n",
      "Estimating biases using sgd...\n"
     ]
    },
    {
     "name": "stderr",
     "output_type": "stream",
     "text": [
      "[I 2023-11-10 18:03:12,070] Trial 44 finished with values: [1.0023162837835926, 0.7949799096983098, 0.7122524201085707] and parameters: {'k': 49, 'min_k': 2, 'sim_options_name': 'pearson_baseline', 'user_based': True, 'min_support': 2, 'shrinkage': 197, 'bsl_method': 'als', 'bsl_n_epochs': 49, 'als_reg_u': 1.8207551970037148, 'als_reg_i': 2.366475841681071}. \n"
     ]
    },
    {
     "name": "stdout",
     "output_type": "stream",
     "text": [
      "Estimating biases using sgd...\n",
      "Computing the pearson similarity matrix...\n",
      "Estimating biases using sgd...\n",
      "Done computing similarity matrix.\n",
      "Computing the pearson_baseline similarity matrix...\n",
      "Done computing similarity matrix.\n"
     ]
    },
    {
     "name": "stderr",
     "output_type": "stream",
     "text": [
      "[I 2023-11-10 18:03:19,209] Trial 43 finished with values: [1.002407739424255, 0.7948276193947565, 0.7126456692550891] and parameters: {'k': 48, 'min_k': 2, 'sim_options_name': 'pearson_baseline', 'user_based': True, 'min_support': 5, 'shrinkage': 200, 'bsl_method': 'als', 'bsl_n_epochs': 50, 'als_reg_u': 2.1100566124591857, 'als_reg_i': 2.0756069326985442}. \n"
     ]
    },
    {
     "name": "stdout",
     "output_type": "stream",
     "text": [
      "Computing the pearson similarity matrix...\n",
      "Estimating biases usingDone computing similarity matrix.\n",
      " sgd...\n",
      "Estimating biases using sgd...\n",
      "Computing the pearson_baseline similarity matrix...\n",
      "Done computing similarity matrix.\n",
      "Computing the pearson_baseline similarity matrix...\n",
      "Done computing similarity matrix.\n",
      "Computing the pearson_baseline similarity matrix...\n",
      "Done computing similarity matrix.\n",
      "Estimating biases using sgd...\n",
      "Computing the pearson_baseline similarity matrix...\n",
      "Done computing similarity matrix.\n",
      "Computing the pearson_baseline similarity matrix...\n",
      "Done computing similarity matrix.Computing the pearson_baseline similarity matrix...\n",
      "\n",
      "Done computing similarity matrix.\n",
      "Estimating biases using sgd...\n",
      "Estimating biases using sgd...\n",
      "Computing the pearson similarity matrix...\n",
      "Done computing similarity matrix.\n",
      "Estimating biases using sgd...\n",
      "Computing the pearson_baseline similarity matrix...\n",
      "Computing the pearson_baseline similarity matrix...\n",
      "Done computing similarity matrix.\n",
      "Done computing similarity matrix.\n",
      "Computing the pearson similarity matrix...\n",
      "Done computing similarity matrix.\n",
      "Computing the pearson similarity matrix...\n",
      "Estimating biases using sgd...\n",
      "Done computing similarity matrix.\n",
      "Estimating biases using sgd...\n",
      "Computing the pearson_baseline similarity matrix...\n",
      "Estimating biases using sgd...\n",
      "Computing the pearson similarity matrix...\n",
      "Done computing similarity matrix.\n"
     ]
    },
    {
     "name": "stderr",
     "output_type": "stream",
     "text": [
      "[I 2023-11-10 18:04:17,456] Trial 45 finished with values: [0.9993535914233955, 0.7924105617806264, 0.7151631384190366] and parameters: {'k': 50, 'min_k': 2, 'sim_options_name': 'pearson_baseline', 'user_based': True, 'min_support': 1, 'shrinkage': 107, 'bsl_method': 'sgd', 'bsl_n_epochs': 39, 'sgd_reg': 0.01923796986463345, 'sgd_learning_rate': 0.001108793024455228}. \n"
     ]
    },
    {
     "name": "stdout",
     "output_type": "stream",
     "text": [
      "Done computing similarity matrix.\n",
      "Computing the pearson similarity matrix...\n",
      "Computing the pearson_baseline similarity matrix...\n",
      "Computing the pearson similarity matrix...\n",
      "Done computing similarity matrix.\n",
      "Done computing similarity matrix.\n",
      "Done computing similarity matrix.\n",
      "Computing the pearson_baseline similarity matrix...\n",
      "Computing the pearson_baseline similarity matrix...\n",
      "Done computing similarity matrix.\n",
      "Estimating biases using sgd...\n",
      "Done computing similarity matrix.\n",
      "Estimating biases using sgd...\n",
      "Estimating biases using sgd...\n",
      "Computing the pearson_baseline similarity matrix...\n",
      "Computing the pearson_baseline similarity matrix...\n",
      "Done computing similarity matrix.\n",
      "Done computing similarity matrix.\n",
      "Computing the pearson_baseline similarity matrix...\n",
      "Done computing similarity matrix.\n",
      "Computing the pearson similarity matrix...\n",
      "Done computing similarity matrix.\n"
     ]
    },
    {
     "name": "stderr",
     "output_type": "stream",
     "text": [
      "[I 2023-11-10 18:05:05,126] Trial 47 finished with values: [1.0022763603966696, 0.7948616272221309, 0.7139018363468544] and parameters: {'k': 48, 'min_k': 2, 'sim_options_name': 'pearson_baseline', 'user_based': True, 'min_support': 5, 'shrinkage': 123, 'bsl_method': 'sgd', 'bsl_n_epochs': 41, 'sgd_reg': 0.01270558629068988, 'sgd_learning_rate': 0.00121911481372545}. \n"
     ]
    },
    {
     "name": "stdout",
     "output_type": "stream",
     "text": [
      "Computing the pearson similarity matrix...\n",
      "Done computing similarity matrix.\n",
      "Computing the pearson similarity matrix...\n",
      "Estimating biases using sgd...\n",
      "Done computing similarity matrix.\n"
     ]
    },
    {
     "name": "stderr",
     "output_type": "stream",
     "text": [
      "[I 2023-11-10 18:05:14,538] Trial 46 finished with values: [1.0013753097310993, 0.7936035257379042, 0.7161929267678991] and parameters: {'k': 48, 'min_k': 1, 'sim_options_name': 'pearson_baseline', 'user_based': True, 'min_support': 5, 'shrinkage': 108, 'bsl_method': 'sgd', 'bsl_n_epochs': 39, 'sgd_reg': 0.011244047027259979, 'sgd_learning_rate': 0.0014916145295636764}. \n",
      "[I 2023-11-10 18:05:17,042] Trial 48 finished with values: [1.001256280560549, 0.7938884979225707, 0.7145993033454192] and parameters: {'k': 47, 'min_k': 2, 'sim_options_name': 'pearson_baseline', 'user_based': True, 'min_support': 5, 'shrinkage': 110, 'bsl_method': 'sgd', 'bsl_n_epochs': 49, 'sgd_reg': 0.01776366869248033, 'sgd_learning_rate': 0.0011132492751720069}. \n"
     ]
    },
    {
     "name": "stdout",
     "output_type": "stream",
     "text": [
      "Estimating biases using sgd...\n",
      "Estimating biases using sgd...\n",
      "Computing the pearson similarity matrix...\n",
      "Done computing similarity matrix.\n",
      "Computing the pearson_baseline similarity matrix...\n",
      "Done computing similarity matrix.\n",
      "Computing the pearson similarity matrix...\n",
      "Done computing similarity matrix.\n",
      "Computing the pearson_baseline similarity matrix...\n",
      "Estimating biases using sgd...\n",
      "Computing the pearson similarity matrix...\n",
      "Done computing similarity matrix.\n",
      "Done computing similarity matrix.\n",
      "Computing the pearson_baseline similarity matrix...\n",
      "Done computing similarity matrix.\n",
      "Computing the pearson similarity matrix...\n",
      "Estimating biases using sgd...\n",
      "Estimating biases usingDone computing similarity matrix.\n",
      " sgd...\n",
      "Computing the pearson_baseline similarity matrix...\n",
      "Done computing similarity matrix.\n",
      "Computing the pearson similarity matrix...\n",
      "Done computing similarity matrix.\n",
      "Computing the pearson similarity matrix...\n",
      "Computing the pearson_baseline similarity matrix...\n",
      "Done computing similarity matrix.\n",
      "Computing the pearson_baseline similarity matrix...\n",
      "Done computing similarity matrix.\n",
      "Done computing similarity matrix.\n"
     ]
    },
    {
     "name": "stderr",
     "output_type": "stream",
     "text": [
      "[I 2023-11-10 18:06:07,353] Trial 49 finished with values: [0.9992269294767663, 0.792423331350383, 0.7151929292365992] and parameters: {'k': 46, 'min_k': 2, 'sim_options_name': 'pearson_baseline', 'user_based': True, 'min_support': 2, 'shrinkage': 111, 'bsl_method': 'sgd', 'bsl_n_epochs': 50, 'sgd_reg': 0.05150534173187538, 'sgd_learning_rate': 0.001197553222174976}. \n"
     ]
    },
    {
     "name": "stdout",
     "output_type": "stream",
     "text": [
      "Computing the pearson similarity matrix...\n",
      "Done computing similarity matrix.\n",
      "Computing the pearson similarity matrix...\n",
      "Done computing similarity matrix.\n",
      "Computing the pearson similarity matrix...\n",
      "Done computing similarity matrix.\n"
     ]
    },
    {
     "name": "stderr",
     "output_type": "stream",
     "text": [
      "[I 2023-11-10 18:06:20,108] Trial 51 finished with values: [1.0015872477485732, 0.7934213648895385, 0.7165705594566204] and parameters: {'k': 50, 'min_k': 1, 'sim_options_name': 'pearson_baseline', 'user_based': True, 'min_support': 5, 'shrinkage': 105, 'bsl_method': 'sgd', 'bsl_n_epochs': 39, 'sgd_reg': 0.014111111887251858, 'sgd_learning_rate': 0.001203049915792999}. \n"
     ]
    },
    {
     "name": "stdout",
     "output_type": "stream",
     "text": [
      "Computing the pearson similarity matrix...\n",
      "Done computing similarity matrix.\n",
      "Computing the pearson similarity matrix...\n",
      "Done computing similarity matrix.\n",
      "Computing the pearson similarity matrix...\n",
      "Estimating biases using sgd...\n",
      "Done computing similarity matrix.\n",
      "Computing the pearson similarity matrix...\n",
      "Done computing similarity matrix.\n"
     ]
    },
    {
     "name": "stderr",
     "output_type": "stream",
     "text": [
      "[I 2023-11-10 18:06:41,341] Trial 50 finished with values: [1.001610845079803, 0.7935863688261826, 0.716912167588577] and parameters: {'k': 50, 'min_k': 1, 'sim_options_name': 'pearson_baseline', 'user_based': True, 'min_support': 5, 'shrinkage': 113, 'bsl_method': 'sgd', 'bsl_n_epochs': 40, 'sgd_reg': 0.012335876218462726, 'sgd_learning_rate': 0.001447114087529139}. \n"
     ]
    },
    {
     "name": "stdout",
     "output_type": "stream",
     "text": [
      "Computing the pearson_baseline similarity matrix...\n",
      "Done computing similarity matrix.\n",
      "Estimating biases using sgd...\n",
      "Computing the pearson similarity matrix...\n",
      "Done computing similarity matrix.\n",
      "Computing the pearson similarity matrix...\n",
      "Done computing similarity matrix.\n",
      "Estimating biases using sgd...\n",
      "Computing the pearson similarity matrix...\n",
      "Done computing similarity matrix.\n",
      "Computing the pearson similarity matrix...\n",
      "Computing the pearson similarity matrix...\n",
      "Done computing similarity matrix.\n",
      "Computing the pearson_baseline similarity matrix...\n",
      "Done computing similarity matrix.\n",
      "Done computing similarity matrix.\n",
      "Computing the pearson_baseline similarity matrix...\n",
      "Computing the pearson similarity matrix...\n",
      "Computing the pearson similarity matrix...\n",
      "Done computing similarity matrix.\n",
      "Computing the pearson similarity matrix...\n",
      "Done computing similarity matrix.\n",
      "Done computing similarity matrix.Done computing similarity matrix.\n",
      "\n",
      "Computing the pearson similarity matrix...\n",
      "Computing the pearson similarity matrix...\n",
      "Done computing similarity matrix.\n",
      "Computing the pearson similarity matrix...Done computing similarity matrix.\n",
      "\n",
      "Done computing similarity matrix.\n"
     ]
    },
    {
     "name": "stderr",
     "output_type": "stream",
     "text": [
      "[I 2023-11-10 18:07:42,725] Trial 52 finished with values: [1.0014844654970534, 0.7930145050854782, 0.7143146510048687] and parameters: {'k': 50, 'min_k': 1, 'sim_options_name': 'pearson_baseline', 'user_based': True, 'min_support': 2, 'shrinkage': 112, 'bsl_method': 'sgd', 'bsl_n_epochs': 37, 'sgd_reg': 0.014471159936504663, 'sgd_learning_rate': 0.0010602942240628506}. \n"
     ]
    },
    {
     "name": "stdout",
     "output_type": "stream",
     "text": [
      "Computing the pearson similarity matrix...\n",
      "Done computing similarity matrix.\n",
      "Computing the pearson similarity matrix...\n"
     ]
    },
    {
     "name": "stderr",
     "output_type": "stream",
     "text": [
      "[I 2023-11-10 18:07:55,066] Trial 55 finished with values: [1.0364288577136245, 0.8269164278431227, 0.56603936631721] and parameters: {'k': 48, 'min_k': 1, 'sim_options_name': 'pearson', 'user_based': False, 'min_support': 5}. \n"
     ]
    },
    {
     "name": "stdout",
     "output_type": "stream",
     "text": [
      "Done computing similarity matrix.\n",
      "Computing the pearson similarity matrix...\n",
      "Done computing similarity matrix.\n",
      "Computing the pearson similarity matrix...\n"
     ]
    },
    {
     "name": "stderr",
     "output_type": "stream",
     "text": [
      "[I 2023-11-10 18:08:01,504] Trial 57 finished with values: [1.0372055852004247, 0.8307009617086936, 0.558533548093408] and parameters: {'k': 49, 'min_k': 1, 'sim_options_name': 'pearson', 'user_based': False, 'min_support': 2}. \n"
     ]
    },
    {
     "name": "stdout",
     "output_type": "stream",
     "text": [
      "Done computing similarity matrix.\n"
     ]
    },
    {
     "name": "stderr",
     "output_type": "stream",
     "text": [
      "[I 2023-11-10 18:08:06,459] Trial 53 finished with values: [1.002235225888119, 0.7931912526759968, 0.715865439690552] and parameters: {'k': 53, 'min_k': 1, 'sim_options_name': 'pearson_baseline', 'user_based': True, 'min_support': 5, 'shrinkage': 119, 'bsl_method': 'sgd', 'bsl_n_epochs': 36, 'sgd_reg': 0.015429783081917225, 'sgd_learning_rate': 0.0011014965134785656}. \n"
     ]
    },
    {
     "name": "stdout",
     "output_type": "stream",
     "text": [
      "Computing the pearson similarity matrix...\n",
      "Estimating biases using sgd...\n",
      "Done computing similarity matrix.\n",
      "Computing the pearson similarity matrix...\n",
      "Done computing similarity matrix.\n",
      "Computing the pearson similarity matrix...Computing the pearson similarity matrix...\n",
      "\n",
      "Done computing similarity matrix.\n",
      "Done computing similarity matrix.\n",
      "Computing the pearson similarity matrix...\n",
      "Computing the pearson_baseline similarity matrix...\n",
      "Done computing similarity matrix.\n",
      "Done computing similarity matrix.\n",
      "Computing the pearson similarity matrix...\n",
      "Done computing similarity matrix.\n"
     ]
    },
    {
     "name": "stderr",
     "output_type": "stream",
     "text": [
      "[I 2023-11-10 18:08:36,898] Trial 56 finished with values: [1.0367750240834075, 0.8304616960438477, 0.559103147123467] and parameters: {'k': 48, 'min_k': 1, 'sim_options_name': 'pearson', 'user_based': False, 'min_support': 2}. \n"
     ]
    },
    {
     "name": "stdout",
     "output_type": "stream",
     "text": [
      "Computing the pearson similarity matrix...\n",
      "Computing the pearson similarity matrix...Done computing similarity matrix.\n",
      "\n",
      "Done computing similarity matrix.\n",
      "Computing the pearson similarity matrix...\n",
      "Computing the pearson similarity matrix...\n",
      "Done computing similarity matrix.\n",
      "Done computing similarity matrix.\n"
     ]
    },
    {
     "name": "stderr",
     "output_type": "stream",
     "text": [
      "[I 2023-11-10 18:09:01,633] Trial 60 finished with values: [1.0393002000883877, 0.833137123341154, 0.5542798387089383] and parameters: {'k': 42, 'min_k': 1, 'sim_options_name': 'pearson', 'user_based': False, 'min_support': 2}. \n",
      "[I 2023-11-10 18:09:03,625] Trial 59 finished with values: [1.0373014824040463, 0.8285849544298831, 0.5622598306122326] and parameters: {'k': 47, 'min_k': 1, 'sim_options_name': 'pearson', 'user_based': False, 'min_support': 4}. \n",
      "[I 2023-11-10 18:09:06,575] Trial 58 finished with values: [1.034928180449374, 0.8288654556590679, 0.5640850396857318] and parameters: {'k': 52, 'min_k': 1, 'sim_options_name': 'pearson', 'user_based': False, 'min_support': 2}. \n",
      "[I 2023-11-10 18:09:07,740] Trial 54 finished with values: [1.0080756894275245, 0.7920146594156044, 0.653163495305092] and parameters: {'k': 50, 'min_k': 1, 'sim_options_name': 'pearson_baseline', 'user_based': False, 'min_support': 5, 'shrinkage': 124, 'bsl_method': 'sgd', 'bsl_n_epochs': 35, 'sgd_reg': 0.012021328289836201, 'sgd_learning_rate': 0.0020817527857481142}. \n"
     ]
    },
    {
     "name": "stdout",
     "output_type": "stream",
     "text": [
      "Computing the pearson similarity matrix...\n",
      "Done computing similarity matrix.\n",
      "Computing the pearson similarity matrix...\n",
      "Computing the pearson similarity matrix...\n",
      "Done computing similarity matrix.\n",
      "Done computing similarity matrix.Computing the pearson similarity matrix...\n",
      "\n",
      "Computing the cosine similarity matrix...\n",
      "Done computing similarity matrix.\n",
      "Done computing similarity matrix.\n",
      "Computing the pearson similarity matrix...\n",
      "Done computing similarity matrix.\n",
      "Computing the cosine similarity matrix...\n",
      "Done computing similarity matrix.\n",
      "Computing the pearson similarity matrix...\n",
      "Computing the cosine similarity matrix...\n",
      "Done computing similarity matrix.\n",
      "Done computing similarity matrix.\n",
      "Computing the pearson similarity matrix...\n",
      "Done computing similarity matrix.\n",
      "Computing the pearson similarity matrix...\n",
      "Done computing similarity matrix.\n",
      "Computing the pearson similarity matrix...\n",
      "Done computing similarity matrix.\n",
      "Computing the pearson similarity matrix...\n",
      "Done computing similarity matrix.Computing the pearson similarity matrix...\n",
      "Computing the pearson similarity matrix...\n",
      "\n",
      "Done computing similarity matrix.\n",
      "Computing the cosine similarity matrix...\n",
      "Done computing similarity matrix.\n",
      "Done computing similarity matrix.\n",
      "Computing the pearson similarity matrix...\n",
      "Done computing similarity matrix.\n",
      "Computing the cosine similarity matrix...\n",
      "Computing the cosine similarity matrix...\n",
      "Done computing similarity matrix.\n",
      "Done computing similarity matrix.\n",
      "Computing the cosine similarity matrix...\n",
      "Done computing similarity matrix.\n",
      "Computing the cosine similarity matrix...\n",
      "Done computing similarity matrix.\n",
      "Computing the pearson similarity matrix...\n",
      "Done computing similarity matrix.\n"
     ]
    },
    {
     "name": "stderr",
     "output_type": "stream",
     "text": [
      "[I 2023-11-10 18:10:35,653] Trial 64 finished with values: [1.0384444715182215, 0.8291909853023549, 0.5638787195619155] and parameters: {'k': 43, 'min_k': 1, 'sim_options_name': 'pearson', 'user_based': False, 'min_support': 4}. \n"
     ]
    },
    {
     "name": "stdout",
     "output_type": "stream",
     "text": [
      "Computing the pearson similarity matrix...\n"
     ]
    },
    {
     "name": "stderr",
     "output_type": "stream",
     "text": [
      "[I 2023-11-10 18:10:38,472] Trial 62 finished with values: [1.0389229832137616, 0.8322854506835377, 0.5581153002000919] and parameters: {'k': 42, 'min_k': 1, 'sim_options_name': 'pearson', 'user_based': False, 'min_support': 2}. \n"
     ]
    },
    {
     "name": "stdout",
     "output_type": "stream",
     "text": [
      "Computing the pearson similarity matrix...\n",
      "Done computing similarity matrix.\n",
      "Done computing similarity matrix.\n",
      "Computing the cosine similarity matrix...\n"
     ]
    },
    {
     "name": "stderr",
     "output_type": "stream",
     "text": [
      "[I 2023-11-10 18:10:46,178] Trial 61 finished with values: [1.0388737985284597, 0.8301486762776665, 0.5610958968228836] and parameters: {'k': 43, 'min_k': 1, 'sim_options_name': 'pearson', 'user_based': False, 'min_support': 4}. \n"
     ]
    },
    {
     "name": "stdout",
     "output_type": "stream",
     "text": [
      "Done computing similarity matrix.\n",
      "Computing the pearson similarity matrix...\n",
      "Computing the cosine similarity matrix...\n",
      "Done computing similarity matrix.\n",
      "Done computing similarity matrix.\n",
      "Computing the cosine similarity matrix...\n",
      "Done computing similarity matrix.\n",
      "Computing the cosine similarity matrix...\n",
      "Done computing similarity matrix.\n",
      "Computing the cosine similarity matrix...\n",
      "Done computing similarity matrix.\n",
      "Computing the cosine similarity matrix...\n",
      "Done computing similarity matrix.\n"
     ]
    },
    {
     "name": "stderr",
     "output_type": "stream",
     "text": [
      "[I 2023-11-10 18:11:12,563] Trial 63 finished with values: [1.0395647787479325, 0.8306071449681631, 0.5586489859754553] and parameters: {'k': 39, 'min_k': 1, 'sim_options_name': 'pearson', 'user_based': False, 'min_support': 4}. \n"
     ]
    },
    {
     "name": "stdout",
     "output_type": "stream",
     "text": [
      "Computing the cosine similarity matrix...\n",
      "Computing the cosine similarity matrix...\n",
      "Done computing similarity matrix.\n",
      "Done computing similarity matrix.\n"
     ]
    },
    {
     "name": "stderr",
     "output_type": "stream",
     "text": [
      "[I 2023-11-10 18:11:20,852] Trial 66 finished with values: [1.0430161878058288, 0.8347274120034974, 0.551605735983526] and parameters: {'k': 30, 'min_k': 8, 'sim_options_name': 'pearson', 'user_based': False, 'min_support': 4}. \n"
     ]
    },
    {
     "name": "stdout",
     "output_type": "stream",
     "text": [
      "Computing the pearson similarity matrix...\n",
      "Done computing similarity matrix.\n",
      "Computing the pearson similarity matrix...\n",
      "Done computing similarity matrix.\n",
      "Computing the cosine similarity matrix...\n",
      "Done computing similarity matrix.\n"
     ]
    },
    {
     "name": "stderr",
     "output_type": "stream",
     "text": [
      "[I 2023-11-10 18:11:32,823] Trial 65 finished with values: [1.0364779937662927, 0.8276772763120158, 0.5677508279408172] and parameters: {'k': 54, 'min_k': 1, 'sim_options_name': 'pearson', 'user_based': False, 'min_support': 4}. \n"
     ]
    },
    {
     "name": "stdout",
     "output_type": "stream",
     "text": [
      "Computing the cosine similarity matrix...\n",
      "Done computing similarity matrix.\n",
      "Computing the cosine similarity matrix...\n",
      "Done computing similarity matrix.\n",
      "Computing the cosine similarity matrix...\n",
      "Computing the cosine similarity matrix...\n",
      "Done computing similarity matrix.\n",
      "Computing the cosine similarity matrix...\n",
      "Done computing similarity matrix.\n",
      "Done computing similarity matrix.\n",
      "Computing the pearson similarity matrix...\n"
     ]
    },
    {
     "name": "stderr",
     "output_type": "stream",
     "text": [
      "[I 2023-11-10 18:12:00,617] Trial 67 finished with values: [1.042532713556517, 0.8346507277297837, 0.5540360218104429] and parameters: {'k': 31, 'min_k': 8, 'sim_options_name': 'pearson', 'user_based': False, 'min_support': 4}. \n"
     ]
    },
    {
     "name": "stdout",
     "output_type": "stream",
     "text": [
      "Done computing similarity matrix.\n",
      "Computing the cosine similarity matrix...\n",
      "Done computing similarity matrix.\n",
      "Computing the cosine similarity matrix...\n",
      "Done computing similarity matrix.\n",
      "Computing the cosine similarity matrix...\n",
      "Computing the cosine similarity matrix...\n",
      "Done computing similarity matrix.\n",
      "Done computing similarity matrix.\n",
      "Computing the cosine similarity matrix...\n",
      "Done computing similarity matrix.\n",
      "Computing the cosine similarity matrix...\n",
      "Done computing similarity matrix.\n",
      "Computing the cosine similarity matrix...\n",
      "Done computing similarity matrix.\n"
     ]
    },
    {
     "name": "stderr",
     "output_type": "stream",
     "text": [
      "[I 2023-11-10 18:12:30,822] Trial 68 finished with values: [1.0433216716845608, 0.8348460308036083, 0.5529260402584297] and parameters: {'k': 31, 'min_k': 8, 'sim_options_name': 'pearson', 'user_based': False, 'min_support': 4}. \n"
     ]
    },
    {
     "name": "stdout",
     "output_type": "stream",
     "text": [
      "Computing the cosine similarity matrix...\n",
      "Done computing similarity matrix.\n"
     ]
    },
    {
     "name": "stderr",
     "output_type": "stream",
     "text": [
      "[I 2023-11-10 18:12:39,632] Trial 71 finished with values: [1.028695173313972, 0.8083483753498403, 0.616045478032797] and parameters: {'k': 31, 'min_k': 8, 'sim_options_name': 'cosine', 'user_based': False, 'min_support': 4}. \n"
     ]
    },
    {
     "name": "stdout",
     "output_type": "stream",
     "text": [
      "Computing the cosine similarity matrix...\n",
      "Done computing similarity matrix.\n",
      "Computing the cosine similarity matrix...\n",
      "Done computing similarity matrix.\n",
      "Computing the cosine similarity matrix...\n",
      "Done computing similarity matrix.\n",
      "Computing the cosine similarity matrix...\n",
      "Done computing similarity matrix.\n",
      "Computing the cosine similarity matrix...\n",
      "Computing the cosine similarity matrix...\n",
      "Computing the cosine similarity matrix...\n",
      "Done computing similarity matrix.\n",
      "Done computing similarity matrix.Computing the msd similarity matrix...\n",
      "Done computing similarity matrix.\n",
      "\n",
      "Computing the cosine similarity matrix...\n",
      "Done computing similarity matrix.\n",
      "Done computing similarity matrix.\n",
      "Computing the msd similarity matrix...\n",
      "Done computing similarity matrix.\n",
      "Computing the msd similarity matrix...\n",
      "Done computing similarity matrix.\n"
     ]
    },
    {
     "name": "stderr",
     "output_type": "stream",
     "text": [
      "[I 2023-11-10 18:13:18,228] Trial 72 finished with values: [1.029911163156199, 0.8102481520767899, 0.624752677699069] and parameters: {'k': 41, 'min_k': 8, 'sim_options_name': 'cosine', 'user_based': False, 'min_support': 4}. \n",
      "[I 2023-11-10 18:13:24,389] Trial 70 finished with values: [1.0290123267124969, 0.8086876878096756, 0.6158561719616624] and parameters: {'k': 31, 'min_k': 8, 'sim_options_name': 'cosine', 'user_based': False, 'min_support': 4}. \n"
     ]
    },
    {
     "name": "stdout",
     "output_type": "stream",
     "text": [
      "Computing the cosine similarity matrix...\n",
      "Computing the msd similarity matrix...\n",
      "Done computing similarity matrix.\n",
      "Done computing similarity matrix.\n",
      "Computing the cosine similarity matrix...\n",
      "Computing the cosine similarity matrix...\n",
      "Done computing similarity matrix.\n",
      "Done computing similarity matrix.\n"
     ]
    },
    {
     "name": "stderr",
     "output_type": "stream",
     "text": [
      "[I 2023-11-10 18:13:29,256] Trial 69 finished with values: [1.0291674412763125, 0.8086020716343475, 0.6170273425914741] and parameters: {'k': 31, 'min_k': 8, 'sim_options_name': 'cosine', 'user_based': False, 'min_support': 4}. \n"
     ]
    },
    {
     "name": "stdout",
     "output_type": "stream",
     "text": [
      "Computing the cosine similarity matrix...\n",
      "Done computing similarity matrix.\n"
     ]
    },
    {
     "name": "stderr",
     "output_type": "stream",
     "text": [
      "[I 2023-11-10 18:13:31,786] Trial 74 finished with values: [1.0284489032561823, 0.808415778535327, 0.6166848909713403] and parameters: {'k': 31, 'min_k': 8, 'sim_options_name': 'cosine', 'user_based': False, 'min_support': 4}. \n"
     ]
    },
    {
     "name": "stdout",
     "output_type": "stream",
     "text": [
      "Computing the msd similarity matrix...\n",
      "Done computing similarity matrix.\n",
      "Computing the msd similarity matrix...\n",
      "Done computing similarity matrix.\n",
      "Computing the cosine similarity matrix...\n",
      "Done computing similarity matrix.\n",
      "Computing the msd similarity matrix...\n",
      "Done computing similarity matrix.\n",
      "Computing the msd similarity matrix...\n",
      "Done computing similarity matrix.\n",
      "Computing the msd similarity matrix...\n",
      "Done computing similarity matrix.\n",
      "Computing the cosine similarity matrix...\n",
      "Done computing similarity matrix.\n",
      "Computing the cosine similarity matrix...\n",
      "Done computing similarity matrix.\n",
      "Computing the msd similarity matrix...\n",
      "Computing the cosine similarity matrix...\n",
      "Done computing similarity matrix.\n",
      "Done computing similarity matrix.\n",
      "Computing the cosine similarity matrix...\n",
      "Computing the msd similarity matrix...\n",
      "Done computing similarity matrix.\n",
      "Computing the msd similarity matrix...\n",
      "Done computing similarity matrix.\n",
      "Done computing similarity matrix.\n",
      "Computing the msd similarity matrix...\n",
      "Done computing similarity matrix.\n"
     ]
    },
    {
     "name": "stderr",
     "output_type": "stream",
     "text": [
      "[I 2023-11-10 18:14:18,328] Trial 76 finished with values: [1.0284267590843217, 0.807614730473281, 0.618089145359383] and parameters: {'k': 32, 'min_k': 8, 'sim_options_name': 'cosine', 'user_based': False, 'min_support': 4}. \n"
     ]
    },
    {
     "name": "stdout",
     "output_type": "stream",
     "text": [
      "Computing the msd similarity matrix...\n",
      "Done computing similarity matrix.\n",
      "Computing the msd similarity matrix...\n",
      "Done computing similarity matrix.\n",
      "Computing the msd similarity matrix...\n",
      "Done computing similarity matrix.\n",
      "Computing the cosine similarity matrix...\n",
      "Done computing similarity matrix.\n"
     ]
    },
    {
     "name": "stderr",
     "output_type": "stream",
     "text": [
      "[I 2023-11-10 18:14:44,331] Trial 75 finished with values: [1.0285459078699675, 0.8081067658332073, 0.6153060565347055] and parameters: {'k': 31, 'min_k': 8, 'sim_options_name': 'cosine', 'user_based': False, 'min_support': 4}. \n"
     ]
    },
    {
     "name": "stdout",
     "output_type": "stream",
     "text": [
      "Computing the msd similarity matrix...\n",
      "Computing the cosine similarity matrix...\n"
     ]
    },
    {
     "name": "stderr",
     "output_type": "stream",
     "text": [
      "[I 2023-11-10 18:14:47,923] Trial 73 finished with values: [1.0288868653776027, 0.8084410765584845, 0.6188084409907375] and parameters: {'k': 32, 'min_k': 8, 'sim_options_name': 'cosine', 'user_based': False, 'min_support': 4}. \n"
     ]
    },
    {
     "name": "stdout",
     "output_type": "stream",
     "text": [
      "Done computing similarity matrix.\n",
      "Done computing similarity matrix.\n",
      "Computing the msd similarity matrix...\n",
      "Done computing similarity matrix.\n",
      "Computing the msd similarity matrix...\n",
      "Computing the msd similarity matrix...\n",
      "Done computing similarity matrix.\n",
      "Done computing similarity matrix.\n",
      "Computing the msd similarity matrix...\n",
      "Computing the msd similarity matrix...\n",
      "Done computing similarity matrix.\n",
      "Computing the msd similarity matrix...\n",
      "Done computing similarity matrix.\n",
      "Done computing similarity matrix.\n",
      "Computing the msd similarity matrix...\n",
      "Done computing similarity matrix.\n",
      "Computing the msd similarity matrix...\n",
      "Done computing similarity matrix.\n",
      "Computing the msd similarity matrix...\n",
      "Computing the msd similarity matrix...\n"
     ]
    },
    {
     "name": "stderr",
     "output_type": "stream",
     "text": [
      "[I 2023-11-10 18:15:18,430] Trial 77 finished with values: [1.028976665324643, 0.8087229495600882, 0.6166798879949962] and parameters: {'k': 32, 'min_k': 8, 'sim_options_name': 'cosine', 'user_based': False, 'min_support': 4}. \n"
     ]
    },
    {
     "name": "stdout",
     "output_type": "stream",
     "text": [
      "Done computing similarity matrix.Done computing similarity matrix.\n",
      "\n",
      "Computing the msd similarity matrix...\n",
      "Done computing similarity matrix.\n",
      "Computing the msd similarity matrix...\n",
      "Done computing similarity matrix.\n",
      "Computing the cosine similarity matrix...\n",
      "Done computing similarity matrix.\n",
      "Computing the msd similarity matrix...\n",
      "Done computing similarity matrix.\n",
      "Computing the msd similarity matrix...\n",
      "Done computing similarity matrix.\n",
      "Computing the msd similarity matrix...\n",
      "Done computing similarity matrix.\n",
      "Computing the msd similarity matrix...\n",
      "Done computing similarity matrix.\n",
      "Computing the msd similarity matrix...Computing the msd similarity matrix...\n",
      "\n",
      "Done computing similarity matrix.\n",
      "Done computing similarity matrix.\n",
      "Computing the msd similarity matrix...\n",
      "Computing the msd similarity matrix...Done computing similarity matrix.\n",
      "\n",
      "Done computing similarity matrix.\n",
      "Computing the msd similarity matrix...\n"
     ]
    },
    {
     "name": "stderr",
     "output_type": "stream",
     "text": [
      "[I 2023-11-10 18:15:58,301] Trial 81 finished with values: [0.974371214845198, 0.7675014859654883, 0.6716400020933684] and parameters: {'k': 33, 'min_k': 5, 'sim_options_name': 'msd', 'user_based': False, 'min_support': 3}. \n"
     ]
    },
    {
     "name": "stdout",
     "output_type": "stream",
     "text": [
      "Computing the msd similarity matrix...\n",
      "Done computing similarity matrix.\n",
      "Done computing similarity matrix.\n",
      "Computing the msd similarity matrix...\n",
      "Done computing similarity matrix.\n"
     ]
    },
    {
     "name": "stderr",
     "output_type": "stream",
     "text": [
      "[I 2023-11-10 18:16:10,304] Trial 78 finished with values: [1.0292860594076696, 0.8088672930956381, 0.6180500488935338] and parameters: {'k': 32, 'min_k': 8, 'sim_options_name': 'cosine', 'user_based': False, 'min_support': 4}. \n"
     ]
    },
    {
     "name": "stdout",
     "output_type": "stream",
     "text": [
      "Computing the msd similarity matrix...\n",
      "Done computing similarity matrix.\n",
      "Computing the msd similarity matrix...\n",
      "Done computing similarity matrix.\n",
      "Computing the msd similarity matrix...\n",
      "Done computing similarity matrix.\n",
      "Computing the msd similarity matrix...\n"
     ]
    },
    {
     "name": "stderr",
     "output_type": "stream",
     "text": [
      "[I 2023-11-10 18:16:25,431] Trial 82 finished with values: [0.9718975933951747, 0.7651487305021278, 0.673720236186328] and parameters: {'k': 32, 'min_k': 5, 'sim_options_name': 'msd', 'user_based': False, 'min_support': 3}. \n"
     ]
    },
    {
     "name": "stdout",
     "output_type": "stream",
     "text": [
      "Done computing similarity matrix.\n",
      "Computing the msd similarity matrix...\n",
      "Done computing similarity matrix.\n",
      "Computing the msd similarity matrix...\n",
      "Done computing similarity matrix.\n"
     ]
    },
    {
     "name": "stderr",
     "output_type": "stream",
     "text": [
      "[I 2023-11-10 18:16:32,386] Trial 83 finished with values: [0.9850062344536801, 0.7791273061975326, 0.7041878226960319] and parameters: {'k': 60, 'min_k': 6, 'sim_options_name': 'msd', 'user_based': True, 'min_support': 3}. \n"
     ]
    },
    {
     "name": "stdout",
     "output_type": "stream",
     "text": [
      "Computing the msd similarity matrix...\n",
      "Done computing similarity matrix.\n",
      "Computing the msd similarity matrix...\n",
      "Done computing similarity matrix.\n",
      "Computing the msd similarity matrix...\n",
      "Done computing similarity matrix.\n",
      "Computing the msd similarity matrix...\n",
      "Computing the msd similarity matrix...\n",
      "Done computing similarity matrix.\n",
      "Done computing similarity matrix.\n",
      "Computing the msd similarity matrix...\n",
      "Done computing similarity matrix.\n"
     ]
    },
    {
     "name": "stderr",
     "output_type": "stream",
     "text": [
      "[I 2023-11-10 18:16:52,192] Trial 84 finished with values: [0.9917726107100939, 0.7861721152563368, 0.7038823996501347] and parameters: {'k': 90, 'min_k': 5, 'sim_options_name': 'msd', 'user_based': True, 'min_support': 3}. \n"
     ]
    },
    {
     "name": "stdout",
     "output_type": "stream",
     "text": [
      "Computing the msd similarity matrix...\n",
      "Done computing similarity matrix.\n",
      "Computing the msd similarity matrix...\n",
      "Done computing similarity matrix.\n"
     ]
    },
    {
     "name": "stderr",
     "output_type": "stream",
     "text": [
      "[I 2023-11-10 18:16:58,799] Trial 79 finished with values: [0.9730612030968617, 0.7668268309936686, 0.6779575599264145] and parameters: {'k': 38, 'min_k': 5, 'sim_options_name': 'msd', 'user_based': False, 'min_support': 3}. \n"
     ]
    },
    {
     "name": "stdout",
     "output_type": "stream",
     "text": [
      "Computing the msd similarity matrix...\n",
      "Done computing similarity matrix.\n"
     ]
    },
    {
     "name": "stderr",
     "output_type": "stream",
     "text": [
      "[I 2023-11-10 18:17:07,153] Trial 80 finished with values: [0.973141342087216, 0.7662708532144138, 0.6720865340982792] and parameters: {'k': 32, 'min_k': 8, 'sim_options_name': 'msd', 'user_based': False, 'min_support': 3}. \n",
      "[I 2023-11-10 18:17:07,420] Trial 85 finished with values: [0.9925927513308401, 0.786778118776098, 0.7035956920550461] and parameters: {'k': 95, 'min_k': 5, 'sim_options_name': 'msd', 'user_based': True, 'min_support': 3}. \n"
     ]
    },
    {
     "name": "stdout",
     "output_type": "stream",
     "text": [
      "Computing the msd similarity matrix...\n",
      "Done computing similarity matrix.\n",
      "Computing the msd similarity matrix...\n",
      "Done computing similarity matrix.\n",
      "Computing the msd similarity matrix...\n",
      "Computing the msd similarity matrix...\n",
      "Done computing similarity matrix.\n",
      "Done computing similarity matrix.\n",
      "Computing the msd similarity matrix...\n",
      "Done computing similarity matrix.\n",
      "Computing the msd similarity matrix...\n",
      "Done computing similarity matrix.\n",
      "Computing the msd similarity matrix...\n",
      "Done computing similarity matrix.\n",
      "Computing the msd similarity matrix...\n",
      "Done computing similarity matrix.\n",
      "Computing the msd similarity matrix...\n",
      "Done computing similarity matrix.\n",
      "Computing the msd similarity matrix...\n",
      "Done computing similarity matrix.\n",
      "Computing the msd similarity matrix...\n",
      "Done computing similarity matrix.\n",
      "Computing the msd similarity matrix...\n",
      "Done computing similarity matrix.\n",
      "Computing the msd similarity matrix...\n",
      "Computing the msd similarity matrix...\n"
     ]
    },
    {
     "name": "stderr",
     "output_type": "stream",
     "text": [
      "[I 2023-11-10 18:17:45,958] Trial 86 finished with values: [0.9843812982072466, 0.7786536319776729, 0.7053333702336573] and parameters: {'k': 58, 'min_k': 6, 'sim_options_name': 'msd', 'user_based': True, 'min_support': 3}. \n"
     ]
    },
    {
     "name": "stdout",
     "output_type": "stream",
     "text": [
      "Done computing similarity matrix.Done computing similarity matrix.\n",
      "\n",
      "Computing the msd similarity matrix...\n",
      "Computing the msd similarity matrix...\n",
      "Done computing similarity matrix.\n",
      "Done computing similarity matrix.\n",
      "Computing the msd similarity matrix...\n",
      "Done computing similarity matrix.\n",
      "Computing the msd similarity matrix...\n",
      "Done computing similarity matrix.\n",
      "Computing the msd similarity matrix...\n",
      "Done computing similarity matrix.\n",
      "Computing the msd similarity matrix...\n",
      "Done computing similarity matrix.\n"
     ]
    },
    {
     "name": "stderr",
     "output_type": "stream",
     "text": [
      "[I 2023-11-10 18:18:02,268] Trial 89 finished with values: [0.985755995211812, 0.779870888135426, 0.7040934427003794] and parameters: {'k': 59, 'min_k': 6, 'sim_options_name': 'msd', 'user_based': True, 'min_support': 3}. \n"
     ]
    },
    {
     "name": "stdout",
     "output_type": "stream",
     "text": [
      "Computing the msd similarity matrix...\n",
      "Done computing similarity matrix.\n",
      "Computing the msd similarity matrix...\n",
      "Done computing similarity matrix.\n",
      "Computing the msd similarity matrix...\n",
      "Done computing similarity matrix.\n"
     ]
    },
    {
     "name": "stderr",
     "output_type": "stream",
     "text": [
      "[I 2023-11-10 18:18:22,230] Trial 87 finished with values: [0.9842544267973065, 0.7788239300272902, 0.7035995299220703] and parameters: {'k': 58, 'min_k': 6, 'sim_options_name': 'msd', 'user_based': True, 'min_support': 3}. \n",
      "[I 2023-11-10 18:18:22,371] Trial 88 finished with values: [0.9842057098420434, 0.7785047787921757, 0.7047074667838038] and parameters: {'k': 57, 'min_k': 6, 'sim_options_name': 'msd', 'user_based': True, 'min_support': 3}. \n"
     ]
    },
    {
     "name": "stdout",
     "output_type": "stream",
     "text": [
      "Computing the msd similarity matrix...\n"
     ]
    },
    {
     "name": "stderr",
     "output_type": "stream",
     "text": [
      "[I 2023-11-10 18:18:28,357] Trial 90 finished with values: [0.9839569760121532, 0.7785015157820702, 0.703831644541507] and parameters: {'k': 57, 'min_k': 6, 'sim_options_name': 'msd', 'user_based': True, 'min_support': 3}. \n"
     ]
    },
    {
     "name": "stdout",
     "output_type": "stream",
     "text": [
      "Computing the msd similarity matrix...\n",
      "Done computing similarity matrix.\n",
      "Done computing similarity matrix.\n",
      "Computing the msd similarity matrix...\n",
      "Computing the msd similarity matrix...\n",
      "Done computing similarity matrix.\n",
      "Done computing similarity matrix.\n",
      "Computing the msd similarity matrix...\n",
      "Done computing similarity matrix.\n",
      "Computing the msd similarity matrix...\n",
      "Done computing similarity matrix.\n",
      "Computing the msd similarity matrix...\n",
      "Done computing similarity matrix.\n",
      "Computing the msd similarity matrix...\n",
      "Done computing similarity matrix.\n",
      "Computing the msd similarity matrix...\n",
      "Done computing similarity matrix.\n",
      "Computing the msd similarity matrix...\n",
      "Done computing similarity matrix.\n",
      "Computing the msd similarity matrix...\n",
      "Computing the msd similarity matrix...\n",
      "Done computing similarity matrix.\n",
      "Done computing similarity matrix.\n",
      "Computing the msd similarity matrix...\n",
      "Done computing similarity matrix.\n",
      "Computing the msd similarity matrix...\n",
      "Done computing similarity matrix.Computing the msd similarity matrix...\n",
      "\n",
      "Done computing similarity matrix.\n",
      "Computing the msd similarity matrix...\n",
      "Done computing similarity matrix.\n",
      "Computing the msd similarity matrix...\n",
      "Done computing similarity matrix.\n"
     ]
    },
    {
     "name": "stderr",
     "output_type": "stream",
     "text": [
      "[I 2023-11-10 18:19:20,973] Trial 92 finished with values: [0.9837842381043549, 0.7782905818258488, 0.7050453319214351] and parameters: {'k': 58, 'min_k': 6, 'sim_options_name': 'msd', 'user_based': True, 'min_support': 3}. \n"
     ]
    },
    {
     "name": "stdout",
     "output_type": "stream",
     "text": [
      "Computing the msd similarity matrix...\n",
      "Done computing similarity matrix.\n",
      "Computing the msd similarity matrix...\n",
      "Done computing similarity matrix.\n"
     ]
    },
    {
     "name": "stderr",
     "output_type": "stream",
     "text": [
      "[I 2023-11-10 18:19:32,485] Trial 91 finished with values: [0.9925431788307254, 0.7863510219800001, 0.7022015916442772] and parameters: {'k': 88, 'min_k': 6, 'sim_options_name': 'msd', 'user_based': True, 'min_support': 3}. \n"
     ]
    },
    {
     "name": "stdout",
     "output_type": "stream",
     "text": [
      "Computing the msd similarity matrix...\n",
      "Done computing similarity matrix.\n",
      "Computing the msd similarity matrix...\n",
      "Done computing similarity matrix.\n"
     ]
    },
    {
     "name": "stderr",
     "output_type": "stream",
     "text": [
      "[I 2023-11-10 18:19:38,309] Trial 93 finished with values: [0.9915285931173953, 0.7856596081211775, 0.7021596908901836] and parameters: {'k': 88, 'min_k': 6, 'sim_options_name': 'msd', 'user_based': True, 'min_support': 3}. \n",
      "[I 2023-11-10 18:19:38,594] Trial 94 finished with values: [0.9844485283692241, 0.7790405982109228, 0.7072707240407481] and parameters: {'k': 60, 'min_k': 5, 'sim_options_name': 'msd', 'user_based': True, 'min_support': 3}. \n"
     ]
    },
    {
     "name": "stdout",
     "output_type": "stream",
     "text": [
      "Computing the msd similarity matrix...\n",
      "Done computing similarity matrix.\n",
      "Computing the msd similarity matrix...\n",
      "Done computing similarity matrix.\n",
      "Computing the msd similarity matrix...\n"
     ]
    },
    {
     "name": "stderr",
     "output_type": "stream",
     "text": [
      "[I 2023-11-10 18:19:53,890] Trial 95 finished with values: [0.9836649335658263, 0.7783304463599959, 0.7047468642895139] and parameters: {'k': 58, 'min_k': 5, 'sim_options_name': 'msd', 'user_based': True, 'min_support': 3}. \n"
     ]
    },
    {
     "name": "stdout",
     "output_type": "stream",
     "text": [
      "Done computing similarity matrix.\n",
      "Computing the msd similarity matrix...\n",
      "Computing the msd similarity matrix...\n",
      "Done computing similarity matrix.Done computing similarity matrix.\n",
      "\n",
      "Computing the msd similarity matrix...\n",
      "Done computing similarity matrix.\n"
     ]
    },
    {
     "name": "stderr",
     "output_type": "stream",
     "text": [
      "[I 2023-11-10 18:20:08,571] Trial 99 finished with values: [0.9742005874858319, 0.7694753928207815, 0.705004340219681] and parameters: {'k': 27, 'min_k': 4, 'sim_options_name': 'msd', 'user_based': True, 'min_support': 3}. \n",
      "[I 2023-11-10 18:20:08,885] Trial 96 finished with values: [0.9935673805624201, 0.7869238780449314, 0.6854664437344182] and parameters: {'k': 98, 'min_k': 4, 'sim_options_name': 'msd', 'user_based': False, 'min_support': 3}. \n",
      "[I 2023-11-10 18:20:10,366] Trial 97 finished with values: [0.991897228281926, 0.7851332206406131, 0.685645338263976] and parameters: {'k': 93, 'min_k': 4, 'sim_options_name': 'msd', 'user_based': False, 'min_support': 3}. \n",
      "[I 2023-11-10 18:20:10,532] Trial 98 finished with values: [0.973251565268559, 0.7668547644833147, 0.6786111988665203] and parameters: {'k': 37, 'min_k': 4, 'sim_options_name': 'msd', 'user_based': False, 'min_support': 3}. \n"
     ]
    }
   ],
   "source": [
    "# Define the objective function for hyperparameter optimization for KNNBasic\n",
    "def knn_basic_objective(trial):\n",
    "    # Hyperparameters to optimize\n",
    "    k = trial.suggest_int('k', 20, 100)\n",
    "    min_k = trial.suggest_int('min_k', 1, 10)\n",
    "    sim_options = {\n",
    "        'name': trial.suggest_categorical('sim_options_name', ['msd', 'cosine', 'pearson', 'pearson_baseline']),\n",
    "        'user_based': trial.suggest_categorical('user_based', [False, True]),\n",
    "        'min_support': trial.suggest_int('min_support', 1, 5),\n",
    "    }\n",
    "    # Additional parameters for pearson_baseline\n",
    "    if sim_options['name'] == 'pearson_baseline':\n",
    "        sim_options['shrinkage'] = trial.suggest_int('shrinkage', 0, 200)\n",
    "    bsl_options = {}\n",
    "    if sim_options['name'] == 'pearson_baseline':\n",
    "            # Baseline options are used only with pearson_baseline similarity\n",
    "        bsl_method = trial.suggest_categorical('bsl_method', ['als', 'sgd'])\n",
    "        bsl_options['method'] = bsl_method\n",
    "        bsl_options['n_epochs'] = trial.suggest_int('bsl_n_epochs', 10, 50)  # Default is 10\n",
    "        if bsl_method == 'als':\n",
    "            bsl_options['reg_u'] = trial.suggest_float('als_reg_u', 1, 20)  # Default is 15\n",
    "            bsl_options['reg_i'] = trial.suggest_float('als_reg_i', 1, 20)  # Default is 10\n",
    "        elif bsl_method == 'sgd':\n",
    "            bsl_options['reg'] = trial.suggest_float('sgd_reg', 0.01, 0.2)  # Default is 0.02\n",
    "            bsl_options['learning_rate'] = trial.suggest_float('sgd_learning_rate', 0.001, 0.01)  # Default is 0.005\n",
    "    # Instantiate the KNNBasic algorithm with the suggested parameters\n",
    "    algo = KNNBasic(k=k, min_k=min_k, sim_options=sim_options,bsl_options=bsl_options if bsl_options else None)\n",
    "\n",
    "    # Perform cross-validation and return the mean RMSE\n",
    "    # Perform cross-validation and return the mean RMSE, MAE, and FCP\n",
    "    cv_results = cross_validate(algo, data, measures=['RMSE', 'MAE', 'FCP'], cv=5, verbose=False)\n",
    "    mean_rmse = np.mean(cv_results['test_rmse'])\n",
    "    mean_mae = np.mean(cv_results['test_mae'])\n",
    "    mean_fcp = np.mean(cv_results['test_fcp'])\n",
    "\n",
    "    return mean_rmse, mean_mae, mean_fcp\n",
    "\n",
    "# Create a multi-objective study object and optimize the objective function\n",
    "study = optuna.create_study(directions=['minimize', 'minimize', 'maximize'], sampler=optuna.samplers.TPESampler(seed=42))\n",
    "study.optimize(knn_basic_objective, n_trials=100,n_jobs=-1)  # Number of trials can be adjusted\n",
    "\n",
    "# Output the Pareto-optimal solutions\n",
    "pareto_front = study.best_trials\n",
    "\n",
    "# Save the Pareto-optimal solutions and their parameters to a file\n",
    "with open('pareto_front_trials_and_params_KNNBasic.txt', 'w') as f:\n",
    "    for trial in pareto_front:\n",
    "        f.write(f\"KNNBasic\")\n",
    "        f.write(f\"Trial#{trial.number}\\n\")\n",
    "        f.write(f\"RMSE: {trial.values[0]}\\n\")\n",
    "        f.write(f\"MAE: {trial.values[1]}\\n\")\n",
    "        f.write(f\"FCP: {trial.values[2]}\\n\")\n",
    "        f.write(f\"Parameters: {trial.params}\\n\\n\")"
   ]
  },
  {
   "cell_type": "code",
   "execution_count": 3,
   "metadata": {},
   "outputs": [
    {
     "name": "stderr",
     "output_type": "stream",
     "text": [
      "[I 2023-11-10 18:20:10,570] A new study created in memory with name: no-name-736b5053-2924-425b-aec8-6c38d51b8293\n"
     ]
    },
    {
     "name": "stdout",
     "output_type": "stream",
     "text": [
      "Computing the pearson similarity matrix...\n",
      "Computing the pearson similarity matrix...\n",
      "Estimating biases using sgd...\n",
      "Done computing similarity matrix.\n",
      "Estimating biases usingDone computing similarity matrix.\n",
      " sgd...\n",
      "Computing the pearson similarity matrix...\n",
      "Computing the cosine similarity matrix...\n",
      "Computing the pearson similarity matrix...\n",
      "Computing the cosine similarity matrix...\n",
      "Computing the msd similarity matrix...\n",
      "Computing the pearson similarity matrix...\n",
      "Done computing similarity matrix.\n",
      "Done computing similarity matrix.\n",
      "Done computing similarity matrix.\n",
      "Done computing similarity matrix.\n",
      "Computing the msd similarity matrix...\n",
      "Estimating biases using als...\n",
      "Done computing similarity matrix.\n",
      "Done computing similarity matrix.\n",
      "Done computing similarity matrix.\n",
      "Estimating biases using als...\n",
      "Estimating biases using als...\n",
      "Computing the pearson similarity matrix...\n",
      "Computing the msd similarity matrix...\n",
      "Done computing similarity matrix.\n",
      "Computing the pearson_baseline similarity matrix...\n",
      "Computing the pearson_baseline similarity matrix...\n",
      "Done computing similarity matrix.\n",
      "Done computing similarity matrix.\n",
      "Computing the pearson_baseline similarity matrix...\n",
      "Done computing similarity matrix.\n",
      "Done computing similarity matrix.\n",
      "Computing the pearson_baseline similarity matrix...\n",
      "Done computing similarity matrix.Computing the pearson_baseline similarity matrix...\n",
      "\n",
      "Done computing similarity matrix.\n",
      "Computing the pearson similarity matrix...\n",
      "Done computing similarity matrix.\n",
      "Computing the pearson similarity matrix...\n",
      "Computing the msd similarity matrix...\n",
      "Done computing similarity matrix.\n",
      "Estimating biases using als...\n",
      "Estimating biases using sgd...\n",
      "Done computing similarity matrix.\n",
      "Computing the pearson similarity matrix...\n",
      "Computing the pearson_baseline similarity matrix...\n",
      "Computing the cosine similarity matrix...\n",
      "Done computing similarity matrix.\n",
      "Computing the msd similarity matrix...\n",
      "Done computing similarity matrix.\n",
      "Done computing similarity matrix.\n",
      "Computing the msd similarity matrix...\n",
      "Computing the cosine similarity matrix...\n",
      "Done computing similarity matrix.\n",
      "Computing the pearson_baseline similarity matrix...\n",
      "Done computing similarity matrix.\n",
      "Done computing similarity matrix.\n",
      "Done computing similarity matrix.\n",
      "Estimating biases using als...\n",
      "Estimating biases usingComputing the pearson_baseline similarity matrix...\n",
      "Computing the pearson similarity matrix...\n",
      " als...\n",
      "Computing the pearson similarity matrix...\n",
      "Done computing similarity matrix.\n",
      "Estimating biases using sgd...\n",
      "Done computing similarity matrix.\n",
      "Done computing similarity matrix.\n",
      "Computing the pearson similarity matrix...\n",
      "Done computing similarity matrix.\n",
      "Computing the pearson_baseline similarity matrix...\n",
      "Done computing similarity matrix.\n",
      "Computing the pearson_baseline similarity matrix...\n",
      "Done computing similarity matrix.\n",
      "Computing the pearson similarity matrix...\n",
      "Done computing similarity matrix.\n",
      "Estimating biases using sgd...\n",
      "Computing the pearson_baseline similarity matrix...\n",
      "Done computing similarity matrix.\n",
      "Computing the pearson similarity matrix...\n",
      "Done computing similarity matrix.\n",
      "Computing the pearson similarity matrix...\n",
      "Computing the cosine similarity matrix...\n",
      "Done computing similarity matrix.\n",
      "Done computing similarity matrix.\n",
      "Computing the pearson similarity matrix...\n",
      "Estimating biases using als...\n",
      "Done computing similarity matrix.\n",
      "Computing the pearson_baseline similarity matrix...\n",
      "Done computing similarity matrix.\n",
      "Computing the cosine similarity matrix...\n",
      "Done computing similarity matrix.\n",
      "Computing the pearson similarity matrix...\n",
      "Computing the msd similarity matrix...Computing the msd similarity matrix...\n",
      "\n",
      "Done computing similarity matrix.\n",
      "Done computing similarity matrix.\n",
      "Done computing similarity matrix.\n",
      "Estimating biases using als...\n",
      "Computing the pearson_baseline similarity matrix...\n",
      "Computing the pearson similarity matrix...\n",
      "Done computing similarity matrix.\n",
      "Done computing similarity matrix.\n",
      "Computing the msd similarity matrix...\n",
      "Estimating biases using als...\n",
      "Done computing similarity matrix.\n",
      "Estimating biases using sgd...\n",
      "Estimating biases using sgd...\n",
      "Computing the pearson_baseline similarity matrix...\n",
      "Done computing similarity matrix.\n",
      "Computing the pearson_baseline similarity matrix...\n",
      "Done computing similarity matrix.\n",
      "Computing the pearson similarity matrix...\n",
      "Done computing similarity matrix.\n",
      "Computing the pearson similarity matrix...\n",
      "Estimating biases using als...\n",
      "Computing the pearson_baseline similarity matrix...\n",
      "Done computing similarity matrix.\n",
      "Done computing similarity matrix.\n",
      "Computing the pearson_baseline similarity matrix...\n",
      "Computing the cosine similarity matrix...\n",
      "Computing the pearson similarity matrix...\n",
      "Done computing similarity matrix.\n",
      "Done computing similarity matrix.\n",
      "Done computing similarity matrix.\n",
      "Computing the pearson similarity matrix...\n",
      "Done computing similarity matrix.\n",
      "Computing the cosine similarity matrix...\n",
      "Done computing similarity matrix.Computing the msd similarity matrix...\n",
      "Done computing similarity matrix.\n",
      "\n",
      "Estimating biases using sgd...\n",
      "Estimating biases using als...\n",
      "Computing the pearson_baseline similarity matrix...\n",
      "Computing the msd similarity matrix...\n",
      "Done computing similarity matrix.\n",
      "Computing the pearson_baseline similarity matrix...\n",
      "Done computing similarity matrix.\n",
      "Done computing similarity matrix.\n",
      "Computing the pearson similarity matrix...\n",
      "Computing the pearson similarity matrix...\n",
      "Computing the pearson similarity matrix...\n",
      "Done computing similarity matrix.\n",
      "Done computing similarity matrix.\n",
      "Done computing similarity matrix.\n",
      "Computing the cosine similarity matrix...\n",
      "Done computing similarity matrix.\n",
      "Computing the pearson similarity matrix...\n",
      "Done computing similarity matrix.\n",
      "Computing the msd similarity matrix...\n",
      "Done computing similarity matrix.\n",
      "Estimating biases using als...\n",
      "Computing the pearson similarity matrix...\n",
      "Estimating biases using als...\n",
      "Computing the pearson_baseline similarity matrix...\n",
      "Estimating biases using sgd...\n",
      "Done computing similarity matrix.\n",
      "Done computing similarity matrix.\n",
      "Computing the pearson_baseline similarity matrix...\n",
      "Done computing similarity matrix.\n",
      "Computing the pearson similarity matrix...\n"
     ]
    },
    {
     "name": "stderr",
     "output_type": "stream",
     "text": [
      "[I 2023-11-10 18:24:47,025] Trial 4 finished with values: [0.9436508378140538, 0.7341765914767315, 0.6951228454937294] and parameters: {'k': 24, 'min_k': 10, 'sim_options_name': 'pearson_baseline', 'user_based': True, 'min_support': 1, 'shrinkage': 107, 'bsl_method': 'sgd', 'bsl_n_epochs': 11, 'sgd_reg': 0.12116938248209691, 'sgd_learning_rate': 0.0036022869864400786}. \n"
     ]
    },
    {
     "name": "stdout",
     "output_type": "stream",
     "text": [
      "Done computing similarity matrix.\n",
      "Computing the pearson_baseline similarity matrix...\n",
      "Computing the pearson similarity matrix...\n",
      "Done computing similarity matrix.\n",
      "Done computing similarity matrix.\n"
     ]
    },
    {
     "name": "stderr",
     "output_type": "stream",
     "text": [
      "[I 2023-11-10 18:25:03,638] Trial 1 finished with values: [0.9471151445098608, 0.7423852859136405, 0.7061100132723062] and parameters: {'k': 70, 'min_k': 5, 'sim_options_name': 'pearson', 'user_based': True, 'min_support': 1}. \n"
     ]
    },
    {
     "name": "stdout",
     "output_type": "stream",
     "text": [
      "Computing the cosine similarity matrix...\n",
      "Done computing similarity matrix.\n",
      "Estimating biases using als...\n",
      "Estimating biases using als...\n",
      "Computing the pearson_baseline similarity matrix...\n",
      "Done computing similarity matrix.\n",
      "Computing the msd similarity matrix...\n",
      "Done computing similarity matrix.\n",
      "Computing the pearson_baseline similarity matrix...\n",
      "Done computing similarity matrix.\n",
      "Computing the pearson similarity matrix...\n"
     ]
    },
    {
     "name": "stderr",
     "output_type": "stream",
     "text": [
      "[I 2023-11-10 18:25:24,309] Trial 8 finished with values: [0.9410928138225827, 0.7383407963408136, 0.7023503570737025] and parameters: {'k': 49, 'min_k': 8, 'sim_options_name': 'cosine', 'user_based': False, 'min_support': 3}. \n",
      "[I 2023-11-10 18:25:24,973] Trial 13 finished with values: [0.9387151656866501, 0.7324011511612387, 0.7093416285564984] and parameters: {'k': 38, 'min_k': 1, 'sim_options_name': 'pearson_baseline', 'user_based': True, 'min_support': 2, 'shrinkage': 30, 'bsl_method': 'als', 'bsl_n_epochs': 10, 'als_reg_u': 6.298811899837318, 'als_reg_i': 18.602778858962964}. \n"
     ]
    },
    {
     "name": "stdout",
     "output_type": "stream",
     "text": [
      "Done computing similarity matrix.\n"
     ]
    },
    {
     "name": "stderr",
     "output_type": "stream",
     "text": [
      "[I 2023-11-10 18:25:26,760] Trial 6 finished with values: [0.9502306756448797, 0.7449592038154971, 0.702877357718549] and parameters: {'k': 33, 'min_k': 5, 'sim_options_name': 'pearson', 'user_based': True, 'min_support': 2}. \n"
     ]
    },
    {
     "name": "stdout",
     "output_type": "stream",
     "text": [
      "Computing the msd similarity matrix...\n",
      "Done computing similarity matrix.\n",
      "Computing the pearson similarity matrix...\n",
      "Estimating biases using als...\n",
      "Done computing similarity matrix.\n",
      "Computing the msd similarity matrix...\n"
     ]
    },
    {
     "name": "stderr",
     "output_type": "stream",
     "text": [
      "[I 2023-11-10 18:25:33,938] Trial 0 finished with values: [0.9387323345954364, 0.7360012560650001, 0.7040429886129] and parameters: {'k': 54, 'min_k': 5, 'sim_options_name': 'pearson', 'user_based': False, 'min_support': 1}. \n"
     ]
    },
    {
     "name": "stdout",
     "output_type": "stream",
     "text": [
      "Done computing similarity matrix.\n",
      "Computing the msd similarity matrix...Computing the msd similarity matrix...\n",
      "\n",
      "Done computing similarity matrix.\n",
      "Done computing similarity matrix.\n",
      "Computing the pearson_baseline similarity matrix...\n",
      "Estimating biases using sgd...\n",
      "Done computing similarity matrix.\n"
     ]
    },
    {
     "name": "stderr",
     "output_type": "stream",
     "text": [
      "[I 2023-11-10 18:25:49,547] Trial 15 finished with values: [0.949084882706484, 0.7437882682338346, 0.6965406903620343] and parameters: {'k': 94, 'min_k': 10, 'sim_options_name': 'pearson', 'user_based': True, 'min_support': 4}. \n"
     ]
    },
    {
     "name": "stdout",
     "output_type": "stream",
     "text": [
      "Computing the pearson similarity matrix...\n",
      "Done computing similarity matrix.\n",
      "Estimating biases using sgd...\n",
      "Computing the pearson_baseline similarity matrix...\n",
      "Done computing similarity matrix.\n",
      "Estimating biases using als...\n",
      "Computing the msd similarity matrix...\n",
      "Computing the pearson_baseline similarity matrix...Done computing similarity matrix.\n",
      "\n",
      "Done computing similarity matrix.\n"
     ]
    },
    {
     "name": "stderr",
     "output_type": "stream",
     "text": [
      "[I 2023-11-10 18:26:05,793] Trial 3 finished with values: [0.941318314215709, 0.7400586097208096, 0.7018298719083441] and parameters: {'k': 51, 'min_k': 4, 'sim_options_name': 'cosine', 'user_based': False, 'min_support': 1}. \n",
      "[I 2023-11-10 18:26:10,436] Trial 14 finished with values: [0.9267788183378322, 0.7244824157499368, 0.7169772340368501] and parameters: {'k': 40, 'min_k': 6, 'sim_options_name': 'pearson_baseline', 'user_based': False, 'min_support': 5, 'shrinkage': 151, 'bsl_method': 'als', 'bsl_n_epochs': 17, 'als_reg_u': 1.1279014708748298, 'als_reg_i': 6.040733865919561}. \n"
     ]
    },
    {
     "name": "stdout",
     "output_type": "stream",
     "text": [
      "Computing the pearson_baseline similarity matrix...\n",
      "Computing the cosine similarity matrix...\n",
      "Done computing similarity matrix.Done computing similarity matrix.\n",
      "\n",
      "Computing the msd similarity matrix...\n",
      "Done computing similarity matrix.\n",
      "Estimating biases using als...\n"
     ]
    },
    {
     "name": "stderr",
     "output_type": "stream",
     "text": [
      "[I 2023-11-10 18:26:21,890] Trial 11 finished with values: [0.9395692493252821, 0.7363352226805234, 0.6964950630053708] and parameters: {'k': 24, 'min_k': 9, 'sim_options_name': 'msd', 'user_based': False, 'min_support': 2}. \n"
     ]
    },
    {
     "name": "stdout",
     "output_type": "stream",
     "text": [
      "Computing the pearson_baseline similarity matrix...\n",
      "Done computing similarity matrix.\n",
      "Estimating biases using als...\n"
     ]
    },
    {
     "name": "stderr",
     "output_type": "stream",
     "text": [
      "[I 2023-11-10 18:26:31,207] Trial 10 finished with values: [0.9501605366176251, 0.7477552922834779, 0.7008453396736118] and parameters: {'k': 89, 'min_k': 5, 'sim_options_name': 'msd', 'user_based': True, 'min_support': 5}. \n"
     ]
    },
    {
     "name": "stdout",
     "output_type": "stream",
     "text": [
      "Computing the msd similarity matrix...\n",
      "Done computing similarity matrix.\n"
     ]
    },
    {
     "name": "stderr",
     "output_type": "stream",
     "text": [
      "[I 2023-11-10 18:26:38,182] Trial 7 finished with values: [0.939112887800011, 0.7368247256644882, 0.7028399015604004] and parameters: {'k': 88, 'min_k': 9, 'sim_options_name': 'pearson', 'user_based': False, 'min_support': 3}. \n"
     ]
    },
    {
     "name": "stdout",
     "output_type": "stream",
     "text": [
      "Computing the pearson_baseline similarity matrix...Estimating biases using als...\n",
      "\n",
      "Done computing similarity matrix.\n"
     ]
    },
    {
     "name": "stderr",
     "output_type": "stream",
     "text": [
      "[I 2023-11-10 18:26:43,150] Trial 5 finished with values: [0.9384574046851577, 0.7356724431840831, 0.7042242224287063] and parameters: {'k': 76, 'min_k': 4, 'sim_options_name': 'pearson', 'user_based': False, 'min_support': 2}. \n"
     ]
    },
    {
     "name": "stdout",
     "output_type": "stream",
     "text": [
      "Computing the msd similarity matrix...Computing the pearson_baseline similarity matrix...\n",
      "\n",
      "Estimating biases using als...\n",
      "Done computing similarity matrix.\n",
      "Done computing similarity matrix.\n",
      "Computing the pearson similarity matrix...\n",
      "Done computing similarity matrix.\n",
      "Computing the pearson_baseline similarity matrix...\n",
      "Done computing similarity matrix.\n",
      "Computing the msd similarity matrix...\n",
      "Done computing similarity matrix.\n"
     ]
    },
    {
     "name": "stderr",
     "output_type": "stream",
     "text": [
      "[I 2023-11-10 18:26:58,226] Trial 9 finished with values: [0.9343882901235026, 0.7333930211373755, 0.7023622125725366] and parameters: {'k': 73, 'min_k': 3, 'sim_options_name': 'msd', 'user_based': False, 'min_support': 2}. \n",
      "[I 2023-11-10 18:27:00,468] Trial 2 finished with values: [0.922135595634928, 0.7208399335991093, 0.7197824419188441] and parameters: {'k': 34, 'min_k': 6, 'sim_options_name': 'pearson_baseline', 'user_based': False, 'min_support': 2, 'shrinkage': 116, 'bsl_method': 'sgd', 'bsl_n_epochs': 41, 'sgd_reg': 0.039525105094778495, 'sgd_learning_rate': 0.007388968164846266}. \n"
     ]
    },
    {
     "name": "stdout",
     "output_type": "stream",
     "text": [
      "Estimating biases using als...\n",
      "Estimating biases using als...\n",
      "Computing the pearson_baseline similarity matrix...\n",
      "Computing the msd similarity matrix...Done computing similarity matrix.\n",
      "\n",
      "Done computing similarity matrix.\n",
      "Estimating biases using sgd...\n"
     ]
    },
    {
     "name": "stderr",
     "output_type": "stream",
     "text": [
      "[I 2023-11-10 18:27:10,821] Trial 12 finished with values: [0.9364045563393775, 0.7302719025855532, 0.7114950814844725] and parameters: {'k': 53, 'min_k': 3, 'sim_options_name': 'pearson_baseline', 'user_based': True, 'min_support': 5, 'shrinkage': 147, 'bsl_method': 'als', 'bsl_n_epochs': 19, 'als_reg_u': 8.046594230046315, 'als_reg_i': 5.875187454324774}. \n"
     ]
    },
    {
     "name": "stdout",
     "output_type": "stream",
     "text": [
      "Estimating biases using sgd...\n",
      "Computing the pearson_baseline similarity matrix...\n",
      "Estimating biases using sgd...\n",
      "Done computing similarity matrix.\n",
      "Computing the pearson_baseline similarity matrix...\n",
      "Computing the cosine similarity matrix...Done computing similarity matrix.\n",
      "\n",
      "Estimating biases using als...\n",
      "Done computing similarity matrix.\n",
      "Computing the pearson_baseline similarity matrix...\n",
      "Estimating biases using sgd...\n",
      "Done computing similarity matrix.\n",
      "Computing the msd similarity matrix...\n",
      "Done computing similarity matrix.\n",
      "Computing the pearson_baseline similarity matrix...\n",
      "Done computing similarity matrix.\n",
      "Computing the pearson similarity matrix...\n",
      "Done computing similarity matrix.\n",
      "Computing the pearson_baseline similarity matrix...\n",
      "Computing the msd similarity matrix...\n",
      "Done computing similarity matrix.\n",
      "Done computing similarity matrix.\n",
      "Computing the pearson_baseline similarity matrix...\n",
      "Estimating biases using als...\n",
      "Done computing similarity matrix.\n",
      "Estimating biases using als...\n",
      "Computing the pearson_baseline similarity matrix...\n",
      "Done computing similarity matrix.\n",
      "Computing the pearson_baseline similarity matrix...\n",
      "Done computing similarity matrix.\n",
      "Estimating biases using als...\n",
      "Computing the msd similarity matrix...\n",
      "Done computing similarity matrix.\n",
      "Estimating biases using als...\n",
      "Estimating biases using als...\n",
      "Estimating biases using sgd...\n",
      "Computing the pearson_baseline similarity matrix...\n",
      "Done computing similarity matrix.\n",
      "Computing the msd similarity matrix...\n",
      "Done computing similarity matrix.\n",
      "Computing the pearson_baseline similarity matrix...\n",
      "Done computing similarity matrix.\n",
      "Computing the pearson_baseline similarity matrix...\n",
      "Computing the msd similarity matrix...\n",
      "Done computing similarity matrix.\n",
      "Done computing similarity matrix.\n",
      "Computing the pearson similarity matrix...\n",
      "Done computing similarity matrix.\n",
      "Computing the pearson_baseline similarity matrix...\n",
      "Estimating biases using als...\n",
      "Done computing similarity matrix.\n",
      "Computing the msd similarity matrix...\n",
      "Estimating biases using sgd...\n",
      "Done computing similarity matrix.Computing the cosine similarity matrix...\n",
      "\n",
      "Done computing similarity matrix.\n",
      "Computing the pearson_baseline similarity matrix...\n",
      "Done computing similarity matrix.\n",
      "Estimating biases using sgd...\n",
      "Computing the pearson_baseline similarity matrix...\n",
      "Estimating biases using als...\n",
      "Done computing similarity matrix.\n",
      "Estimating biases using sgd...\n",
      "Estimating biases using als...\n",
      "Computing the msd similarity matrix...\n",
      "Done computing similarity matrix.Computing the pearson_baseline similarity matrix...\n",
      "Computing the pearson_baseline similarity matrix...\n",
      "\n",
      "Done computing similarity matrix.\n",
      "Done computing similarity matrix.\n"
     ]
    },
    {
     "name": "stderr",
     "output_type": "stream",
     "text": [
      "[I 2023-11-10 18:29:20,810] Trial 16 finished with values: [0.946769820850817, 0.7416789621675852, 0.7057753047424068] and parameters: {'k': 63, 'min_k': 4, 'sim_options_name': 'pearson', 'user_based': True, 'min_support': 4}. \n"
     ]
    },
    {
     "name": "stdout",
     "output_type": "stream",
     "text": [
      "Estimating biases using als...\n",
      "Estimating biases using als...\n",
      "Computing the pearson_baseline similarity matrix...\n",
      "Computing the msd similarity matrix...Done computing similarity matrix.\n",
      "\n",
      "Computing the pearson_baseline similarity matrix...\n",
      "Done computing similarity matrix.\n",
      "Done computing similarity matrix.\n",
      "Estimating biases using sgd...\n",
      "Computing the pearson_baseline similarity matrix...\n",
      "Done computing similarity matrix.\n",
      "Computing the pearson_baseline similarity matrix...\n",
      "Computing the msd similarity matrix...\n",
      "Done computing similarity matrix.\n",
      "Estimating biases using sgd...\n",
      "Done computing similarity matrix.\n",
      "Computing the pearson_baseline similarity matrix...\n",
      "Done computing similarity matrix.\n",
      "Computing the msd similarity matrix...\n",
      "Done computing similarity matrix.\n",
      "Computing the pearson_baseline similarity matrix...\n",
      "Computing the cosine similarity matrix...\n",
      "Estimating biases using als...\n",
      "Done computing similarity matrix.\n",
      "Estimating biases using sgd...\n",
      "Done computing similarity matrix.\n",
      "Estimating biases using als...\n",
      "Computing the pearson_baseline similarity matrix...\n",
      "Estimating biases usingComputing the pearson_baseline similarity matrix...\n",
      "Done computing similarity matrix.\n",
      " als...\n",
      "Done computing similarity matrix.\n",
      "Computing the pearson_baseline similarity matrix...\n",
      "Computing the msd similarity matrix...\n",
      "Done computing similarity matrix.\n",
      "Done computing similarity matrix.\n",
      "Computing the pearson_baseline similarity matrix...\n",
      "Estimating biases using als...\n",
      "Done computing similarity matrix.\n",
      "Computing the pearson_baseline similarity matrix...\n",
      "Done computing similarity matrix.\n"
     ]
    },
    {
     "name": "stderr",
     "output_type": "stream",
     "text": [
      "[I 2023-11-10 18:30:32,125] Trial 17 finished with values: [0.9289037458848914, 0.7251771499917308, 0.7181732392966217] and parameters: {'k': 23, 'min_k': 9, 'sim_options_name': 'pearson_baseline', 'user_based': False, 'min_support': 5, 'shrinkage': 169, 'bsl_method': 'als', 'bsl_n_epochs': 36, 'als_reg_u': 7.986533594440881, 'als_reg_i': 6.742365279347458}. \n",
      "[I 2023-11-10 18:30:37,588] Trial 18 finished with values: [0.9501035639072974, 0.748010082042938, 0.7016998902520591] and parameters: {'k': 100, 'min_k': 2, 'sim_options_name': 'msd', 'user_based': True, 'min_support': 3}. \n"
     ]
    },
    {
     "name": "stdout",
     "output_type": "stream",
     "text": [
      "Estimating biases using sgd...\n",
      "Estimating biases using sgd...\n",
      "Estimating biases using sgd...\n",
      "Estimating biases using sgd...\n",
      "Estimating biases using als...\n",
      "Computing the msd similarity matrix...\n",
      "Done computing similarity matrix.\n"
     ]
    },
    {
     "name": "stderr",
     "output_type": "stream",
     "text": [
      "[I 2023-11-10 18:30:53,440] Trial 21 finished with values: [0.9340675789913597, 0.733015058811307, 0.7021326393552534] and parameters: {'k': 61, 'min_k': 2, 'sim_options_name': 'msd', 'user_based': False, 'min_support': 1}. \n"
     ]
    },
    {
     "name": "stdout",
     "output_type": "stream",
     "text": [
      "Computing the pearson_baseline similarity matrix...\n",
      "Computing the pearson_baseline similarity matrix...\n",
      "Done computing similarity matrix.\n",
      "Computing the pearson_baseline similarity matrix...\n"
     ]
    },
    {
     "name": "stderr",
     "output_type": "stream",
     "text": [
      "[I 2023-11-10 18:30:59,883] Trial 24 finished with values: [0.9484593451824257, 0.7471468543488503, 0.700763070958654] and parameters: {'k': 45, 'min_k': 6, 'sim_options_name': 'msd', 'user_based': True, 'min_support': 4}. \n"
     ]
    },
    {
     "name": "stdout",
     "output_type": "stream",
     "text": [
      "Done computing similarity matrix.\n",
      "Done computing similarity matrix.\n",
      "Computing the pearson_baseline similarity matrix...\n",
      "Estimating biases using sgd...\n",
      "Done computing similarity matrix.\n",
      "Computing the cosine similarity matrix...\n",
      "Computing the pearson_baseline similarity matrix...\n",
      "Done computing similarity matrix.Done computing similarity matrix.\n",
      "\n",
      "Estimating biases using sgd...\n",
      "Estimating biases using sgd...\n",
      "Estimating biases using als...\n",
      "Computing the pearson_baseline similarity matrix...\n",
      "Done computing similarity matrix.\n",
      "Computing the pearson_baseline similarity matrix...\n",
      "Done computing similarity matrix.\n",
      "Estimating biases using als...\n",
      "Estimating biases using sgd...\n",
      "Computing the pearson_baseline similarity matrix...\n",
      "Done computing similarity matrix.\n",
      "Computing the pearson_baseline similarity matrix...\n",
      "Estimating biases using als...\n",
      "Done computing similarity matrix.\n",
      "Estimating biases using sgd...\n",
      "Computing the pearson_baseline similarity matrix...\n",
      "Computing the pearson_baseline similarity matrix...\n",
      "Done computing similarity matrix.\n",
      "Done computing similarity matrix.\n",
      "Computing the pearson_baseline similarity matrix...\n",
      "Done computing similarity matrix.\n",
      "Estimating biases using sgd...\n",
      "Computing the pearson_baseline similarity matrix...\n",
      "Done computing similarity matrix.\n",
      "Estimating biases using sgd...\n",
      "Computing the pearson_baseline similarity matrix...\n",
      "Estimating biases using als...\n",
      "Estimating biases using sgd...\n",
      "Done computing similarity matrix.\n",
      "Computing the pearson_baseline similarity matrix...\n",
      "Done computing similarity matrix.\n"
     ]
    },
    {
     "name": "stderr",
     "output_type": "stream",
     "text": [
      "[I 2023-11-10 18:32:08,233] Trial 22 finished with values: [0.9270012884956952, 0.724329090554617, 0.7179058643626972] and parameters: {'k': 66, 'min_k': 1, 'sim_options_name': 'pearson_baseline', 'user_based': False, 'min_support': 4, 'shrinkage': 98, 'bsl_method': 'sgd', 'bsl_n_epochs': 48, 'sgd_reg': 0.014044416315643841, 'sgd_learning_rate': 0.007629704650458682}. \n"
     ]
    },
    {
     "name": "stdout",
     "output_type": "stream",
     "text": [
      "Estimating biases usingComputing the pearson_baseline similarity matrix...\n",
      "Done computing similarity matrix.\n",
      " sgd...\n",
      "Computing the pearson_baseline similarity matrix...\n"
     ]
    },
    {
     "name": "stderr",
     "output_type": "stream",
     "text": [
      "[I 2023-11-10 18:32:18,333] Trial 20 finished with values: [0.9374276941300563, 0.7359092235604159, 0.70266276498697] and parameters: {'k': 77, 'min_k': 6, 'sim_options_name': 'msd', 'user_based': False, 'min_support': 4}. \n",
      "[I 2023-11-10 18:32:20,604] Trial 23 finished with values: [0.9419619444011806, 0.7402250231880573, 0.7027881590293138] and parameters: {'k': 93, 'min_k': 10, 'sim_options_name': 'cosine', 'user_based': False, 'min_support': 2}. \n"
     ]
    },
    {
     "name": "stdout",
     "output_type": "stream",
     "text": [
      "Done computing similarity matrix.\n"
     ]
    },
    {
     "name": "stderr",
     "output_type": "stream",
     "text": [
      "[I 2023-11-10 18:32:21,755] Trial 28 finished with values: [0.926995560739557, 0.7249585718207818, 0.7190426301078322] and parameters: {'k': 39, 'min_k': 7, 'sim_options_name': 'pearson_baseline', 'user_based': False, 'min_support': 5, 'shrinkage': 177, 'bsl_method': 'als', 'bsl_n_epochs': 22, 'als_reg_u': 1.3651568533814347, 'als_reg_i': 6.554213084741009}. \n",
      "[I 2023-11-10 18:32:22,417] Trial 27 finished with values: [0.927157567042137, 0.7237773574066226, 0.7174713958028047] and parameters: {'k': 38, 'min_k': 1, 'sim_options_name': 'pearson_baseline', 'user_based': False, 'min_support': 5, 'shrinkage': 186, 'bsl_method': 'als', 'bsl_n_epochs': 21, 'als_reg_u': 1.3447630407367654, 'als_reg_i': 6.145393177567505}. \n"
     ]
    },
    {
     "name": "stdout",
     "output_type": "stream",
     "text": [
      "Estimating biases using als...\n",
      "Estimating biases using sgd...\n",
      "Estimating biases using sgd...\n",
      "Computing the pearson_baseline similarity matrix...\n",
      "Done computing similarity matrix.\n",
      "Computing the pearson_baseline similarity matrix...\n",
      "Done computing similarity matrix.\n",
      "Estimating biases using sgd...\n",
      "Computing the pearson_baseline similarity matrix...\n",
      "Done computing similarity matrix.\n",
      "Computing the pearson_baseline similarity matrix...\n",
      "Estimating biases using sgd...\n"
     ]
    },
    {
     "name": "stderr",
     "output_type": "stream",
     "text": [
      "[I 2023-11-10 18:32:42,456] Trial 19 finished with values: [0.9221201968688704, 0.7217806613976954, 0.7186423811653435] and parameters: {'k': 66, 'min_k': 2, 'sim_options_name': 'pearson_baseline', 'user_based': False, 'min_support': 2, 'shrinkage': 105, 'bsl_method': 'als', 'bsl_n_epochs': 43, 'als_reg_u': 19.747375653709497, 'als_reg_i': 12.682698287596683}. \n"
     ]
    },
    {
     "name": "stdout",
     "output_type": "stream",
     "text": [
      "Done computing similarity matrix.\n",
      "Estimating biases using sgd...\n",
      "Estimating biases using sgd...\n",
      "Estimating biases usingEstimating biases using sgd...\n",
      " sgd...\n",
      "Computing the pearson_baseline similarity matrix...\n",
      "Done computing similarity matrix.\n",
      "Estimating biases using sgd...\n",
      "Estimating biases using sgd...\n",
      "Computing the pearson_baseline similarity matrix...\n",
      "Done computing similarity matrix.\n",
      "Estimating biases using sgd...\n",
      "Computing the pearson_baseline similarity matrix...\n",
      "Computing the pearson_baseline similarity matrix...\n",
      "Done computing similarity matrix.\n",
      "Computing the pearson_baseline similarity matrix...\n",
      "Computing the pearson_baseline similarity matrix...\n",
      "Done computing similarity matrix.\n",
      "Done computing similarity matrix.\n",
      "Computing the pearson_baseline similarity matrix...\n",
      "Done computing similarity matrix.\n",
      "Done computing similarity matrix.\n",
      "Computing the pearson_baseline similarity matrix...\n",
      "Done computing similarity matrix.\n",
      "Estimating biases using sgd...\n",
      "Estimating biases using sgd...\n",
      "Computing the pearson_baseline similarity matrix...\n",
      "Done computing similarity matrix.\n",
      "Estimating biases using sgd...\n",
      "Estimating biases using sgd...\n",
      "Computing the pearson_baseline similarity matrix...\n",
      "Done computing similarity matrix.\n",
      "Computing the pearson_baseline similarity matrix...\n",
      "Done computing similarity matrix.\n",
      "Computing the pearson_baseline similarity matrix...\n"
     ]
    },
    {
     "name": "stderr",
     "output_type": "stream",
     "text": [
      "[I 2023-11-10 18:33:45,749] Trial 26 finished with values: [0.9269183448990326, 0.723645962520472, 0.7190909664596574] and parameters: {'k': 40, 'min_k': 1, 'sim_options_name': 'pearson_baseline', 'user_based': False, 'min_support': 5, 'shrinkage': 189, 'bsl_method': 'als', 'bsl_n_epochs': 21, 'als_reg_u': 1.2108183704995465, 'als_reg_i': 6.2782020415827136}. \n"
     ]
    },
    {
     "name": "stdout",
     "output_type": "stream",
     "text": [
      "Done computing similarity matrix.\n",
      "Computing the pearson_baseline similarity matrix...\n",
      "Estimating biases using sgd...\n",
      "Done computing similarity matrix.\n",
      "Estimating biases using als...\n",
      "Estimating biases using sgd...\n",
      "Estimating biases using sgd...\n",
      "Estimating biases using sgd...\n",
      "Computing the pearson_baseline similarity matrix...\n",
      "Estimating biases using sgd...\n"
     ]
    },
    {
     "name": "stderr",
     "output_type": "stream",
     "text": [
      "[I 2023-11-10 18:34:04,569] Trial 30 finished with values: [0.9256093864325976, 0.7239458289787861, 0.71917598069027] and parameters: {'k': 39, 'min_k': 7, 'sim_options_name': 'pearson_baseline', 'user_based': False, 'min_support': 4, 'shrinkage': 194, 'bsl_method': 'sgd', 'bsl_n_epochs': 46, 'sgd_reg': 0.011060862213273959, 'sgd_learning_rate': 0.009137326207205835}. \n"
     ]
    },
    {
     "name": "stdout",
     "output_type": "stream",
     "text": [
      "Done computing similarity matrix.\n",
      "Estimating biases usingComputing the pearson_baseline similarity matrix...\n",
      " sgd...\n",
      "Estimating biases using sgd...\n",
      "Estimating biases using sgd...\n",
      "Computing the pearson_baseline similarity matrix...\n",
      "Computing the pearson_baseline similarity matrix...\n",
      "Computing the pearson_baseline similarity matrix...\n",
      "Done computing similarity matrix.\n",
      "Done computing similarity matrix.\n",
      "Computing the pearson_baseline similarity matrix...\n",
      "Done computing similarity matrix.\n",
      "Done computing similarity matrix.\n",
      "Done computing similarity matrix.\n",
      "Computing the cosine similarity matrix...\n",
      "Computing the pearson_baseline similarity matrix...\n",
      "Done computing similarity matrix.\n",
      "Done computing similarity matrix.\n",
      "Estimating biases usingComputing the pearson_baseline similarity matrix...\n",
      " sgd...\n",
      "Done computing similarity matrix.\n",
      "Estimating biases using sgd...\n",
      "Estimating biases using sgd...\n",
      "Estimating biases using sgd...\n",
      "Computing the pearson_baseline similarity matrix...\n",
      "Done computing similarity matrix.\n"
     ]
    },
    {
     "name": "stderr",
     "output_type": "stream",
     "text": [
      "[I 2023-11-10 18:34:43,769] Trial 32 finished with values: [0.9252073795783691, 0.7232789826063672, 0.7181116435838499] and parameters: {'k': 36, 'min_k': 7, 'sim_options_name': 'pearson_baseline', 'user_based': False, 'min_support': 4, 'shrinkage': 190, 'bsl_method': 'sgd', 'bsl_n_epochs': 45, 'sgd_reg': 0.01622938488384864, 'sgd_learning_rate': 0.009273354848095505}. \n"
     ]
    },
    {
     "name": "stdout",
     "output_type": "stream",
     "text": [
      "Computing the pearson_baseline similarity matrix...\n",
      "Computing the pearson_baseline similarity matrix...\n",
      "Done computing similarity matrix.\n",
      "Done computing similarity matrix.\n",
      "Computing the pearson_baseline similarity matrix...\n",
      "Done computing similarity matrix.\n",
      "Estimating biases using sgd...\n",
      "Computing the cosine similarity matrix...\n",
      "Done computing similarity matrix.\n",
      "Estimating biases using sgd...\n",
      "Computing the pearson_baseline similarity matrix...\n",
      "Estimating biases using sgd...\n",
      "Estimating biases using sgd...\n",
      "Done computing similarity matrix.\n",
      "Estimating biases usingComputing the cosine similarity matrix...\n",
      " sgd...\n",
      "Done computing similarity matrix.\n",
      "Computing the pearson_baseline similarity matrix...\n",
      "Done computing similarity matrix.\n",
      "Estimating biases using sgd...\n",
      "Computing the pearson_baseline similarity matrix...\n",
      "Done computing similarity matrix.\n",
      "Computing the pearson_baseline similarity matrix...\n",
      "Done computing similarity matrix.\n",
      "Estimating biases using sgd...\n",
      "Computing the pearson_baseline similarity matrix...\n",
      "Done computing similarity matrix.\n",
      "Computing the pearson_baseline similarity matrix...\n",
      "Estimating biases using sgd...\n",
      "Estimating biases using sgd...\n",
      "Done computing similarity matrix.\n",
      "Computing the pearson_baseline similarity matrix...\n",
      "Done computing similarity matrix.\n",
      "Estimating biases using sgd...\n",
      "Estimating biases using sgd...\n",
      "Computing the pearson_baseline similarity matrix...\n",
      "Done computing similarity matrix.\n",
      "Computing the cosine similarity matrix...\n",
      "Done computing similarity matrix.\n",
      "Computing the pearson_baseline similarity matrix...\n",
      "Done computing similarity matrix.\n",
      "Computing the pearson_baseline similarity matrix...\n",
      "Done computing similarity matrix.\n",
      "Computing the pearson_baseline similarity matrix...\n",
      "Done computing similarity matrix.\n",
      "Estimating biases using sgd...\n",
      "Computing the pearson_baseline similarity matrix...\n",
      "Done computing similarity matrix.\n"
     ]
    },
    {
     "name": "stderr",
     "output_type": "stream",
     "text": [
      "[I 2023-11-10 18:36:06,656] Trial 34 finished with values: [0.9254660000431627, 0.7242702799098726, 0.7178911639968895] and parameters: {'k': 40, 'min_k': 7, 'sim_options_name': 'pearson_baseline', 'user_based': False, 'min_support': 4, 'shrinkage': 74, 'bsl_method': 'sgd', 'bsl_n_epochs': 50, 'sgd_reg': 0.012224942552931703, 'sgd_learning_rate': 0.009412756703454588}. \n"
     ]
    },
    {
     "name": "stdout",
     "output_type": "stream",
     "text": [
      "Estimating biases using sgd...\n",
      "Computing the cosine similarity matrix...\n",
      "Done computing similarity matrix.\n",
      "Computing the pearson_baseline similarity matrix...\n",
      "Done computing similarity matrix.\n",
      "Estimating biases using sgd...\n",
      "Computing the cosine similarity matrix...\n"
     ]
    },
    {
     "name": "stderr",
     "output_type": "stream",
     "text": [
      "[I 2023-11-10 18:36:25,561] Trial 33 finished with values: [0.9261648453309743, 0.7245169766635066, 0.7164811329030412] and parameters: {'k': 37, 'min_k': 7, 'sim_options_name': 'pearson_baseline', 'user_based': False, 'min_support': 4, 'shrinkage': 72, 'bsl_method': 'sgd', 'bsl_n_epochs': 49, 'sgd_reg': 0.019920534277062328, 'sgd_learning_rate': 0.009237822172600928}. \n"
     ]
    },
    {
     "name": "stdout",
     "output_type": "stream",
     "text": [
      "Done computing similarity matrix.\n"
     ]
    },
    {
     "name": "stderr",
     "output_type": "stream",
     "text": [
      "[I 2023-11-10 18:36:26,620] Trial 35 finished with values: [0.9257699834618757, 0.7238707008343487, 0.7170436190809012] and parameters: {'k': 39, 'min_k': 7, 'sim_options_name': 'pearson_baseline', 'user_based': False, 'min_support': 4, 'shrinkage': 73, 'bsl_method': 'sgd', 'bsl_n_epochs': 50, 'sgd_reg': 0.014057254013033066, 'sgd_learning_rate': 0.009210229451112589}. \n"
     ]
    },
    {
     "name": "stdout",
     "output_type": "stream",
     "text": [
      "Computing the cosine similarity matrix...\n",
      "Done computing similarity matrix.\n",
      "Estimating biases using sgd...\n",
      "Estimating biases usingEstimating biases using sgd...\n",
      " sgd...\n",
      "Computing the pearson_baseline similarity matrix...\n",
      "Done computing similarity matrix.\n",
      "Computing the pearson_baseline similarity matrix...\n",
      "Computing the pearson_baseline similarity matrix...\n",
      "Done computing similarity matrix.\n",
      "Done computing similarity matrix.\n",
      "Computing the cosine similarity matrix...\n",
      "Computing the cosine similarity matrix...\n",
      "Done computing similarity matrix.\n",
      "Done computing similarity matrix.\n",
      "Computing the pearson_baseline similarity matrix...\n",
      "Done computing similarity matrix.\n",
      "Computing the pearson_baseline similarity matrix...\n",
      "Done computing similarity matrix.\n",
      "Estimating biases usingEstimating biases using sgd...\n",
      " sgd...\n",
      "Computing the cosine similarity matrix...\n",
      "Done computing similarity matrix.\n",
      "Estimating biases using sgd...\n",
      "Computing the cosine similarity matrix...\n",
      "Done computing similarity matrix.\n",
      "Computing the pearson_baseline similarity matrix...\n",
      "Computing the pearson_baseline similarity matrix...\n",
      "Done computing similarity matrix.\n",
      "Computing the pearson_baseline similarity matrix...\n",
      "Done computing similarity matrix.\n",
      "Done computing similarity matrix.\n",
      "Computing the cosine similarity matrix...\n"
     ]
    },
    {
     "name": "stderr",
     "output_type": "stream",
     "text": [
      "[I 2023-11-10 18:37:23,504] Trial 29 finished with values: [0.9254529910799352, 0.7240499351390522, 0.7183847525958182] and parameters: {'k': 40, 'min_k': 7, 'sim_options_name': 'pearson_baseline', 'user_based': False, 'min_support': 4, 'shrinkage': 178, 'bsl_method': 'sgd', 'bsl_n_epochs': 46, 'sgd_reg': 0.014839746204974663, 'sgd_learning_rate': 0.009280242926938867}. \n",
      "[I 2023-11-10 18:37:26,341] Trial 37 finished with values: [0.9249009506573062, 0.7232506995725452, 0.7175062078922407] and parameters: {'k': 30, 'min_k': 7, 'sim_options_name': 'pearson_baseline', 'user_based': False, 'min_support': 3, 'shrinkage': 68, 'bsl_method': 'sgd', 'bsl_n_epochs': 44, 'sgd_reg': 0.013123419492206703, 'sgd_learning_rate': 0.009114593216961175}. \n"
     ]
    },
    {
     "name": "stdout",
     "output_type": "stream",
     "text": [
      "Done computing similarity matrix.\n",
      "Computing the cosine similarity matrix...\n",
      "Done computing similarity matrix.\n"
     ]
    },
    {
     "name": "stderr",
     "output_type": "stream",
     "text": [
      "[I 2023-11-10 18:37:37,545] Trial 25 finished with values: [0.9281394311885285, 0.725961854029731, 0.7169727120634646] and parameters: {'k': 73, 'min_k': 7, 'sim_options_name': 'pearson_baseline', 'user_based': False, 'min_support': 5, 'shrinkage': 199, 'bsl_method': 'als', 'bsl_n_epochs': 36, 'als_reg_u': 1.743744874693764, 'als_reg_i': 2.855372026496027}. \n"
     ]
    },
    {
     "name": "stdout",
     "output_type": "stream",
     "text": [
      "Computing the cosine similarity matrix...\n",
      "Done computing similarity matrix.\n",
      "Estimating biases using sgd...\n",
      "Estimating biases using sgd...\n",
      "Estimating biases using sgd...\n"
     ]
    },
    {
     "name": "stderr",
     "output_type": "stream",
     "text": [
      "[I 2023-11-10 18:37:41,531] Trial 36 finished with values: [0.9241943795851743, 0.7228613894262788, 0.7186318756853458] and parameters: {'k': 35, 'min_k': 7, 'sim_options_name': 'pearson_baseline', 'user_based': False, 'min_support': 3, 'shrinkage': 110, 'bsl_method': 'sgd', 'bsl_n_epochs': 44, 'sgd_reg': 0.011765885135740978, 'sgd_learning_rate': 0.00915558074955348}. \n"
     ]
    },
    {
     "name": "stdout",
     "output_type": "stream",
     "text": [
      "Computing the cosine similarity matrix...\n",
      "Computing the cosine similarity matrix...\n",
      "Computing the pearson_baseline similarity matrix...\n",
      "Done computing similarity matrix.\n",
      "Done computing similarity matrix.\n",
      "Done computing similarity matrix.\n",
      "Computing the cosine similarity matrix...\n",
      "Done computing similarity matrix.\n",
      "Computing the pearson_baseline similarity matrix...\n"
     ]
    },
    {
     "name": "stderr",
     "output_type": "stream",
     "text": [
      "[I 2023-11-10 18:37:58,954] Trial 40 finished with values: [0.9268705015501567, 0.7239315536951376, 0.7183682432656553] and parameters: {'k': 32, 'min_k': 7, 'sim_options_name': 'pearson_baseline', 'user_based': False, 'min_support': 3, 'shrinkage': 57, 'bsl_method': 'sgd', 'bsl_n_epochs': 41, 'sgd_reg': 0.029088233176571478, 'sgd_learning_rate': 0.009022880937080624}. \n"
     ]
    },
    {
     "name": "stdout",
     "output_type": "stream",
     "text": [
      "Done computing similarity matrix.\n",
      "Computing the cosine similarity matrix...\n",
      "Done computing similarity matrix.\n",
      "Estimating biases using sgd...\n",
      "Computing the pearson_baseline similarity matrix...\n",
      "Done computing similarity matrix.\n",
      "Computing the cosine similarity matrix...\n",
      "Estimating biases using sgd...\n",
      "Done computing similarity matrix.\n",
      "Computing the cosine similarity matrix...\n",
      "Computing the cosine similarity matrix...\n",
      "Done computing similarity matrix.\n",
      "Done computing similarity matrix.\n",
      "Computing the cosine similarity matrix...\n",
      "Done computing similarity matrix.\n",
      "Computing the cosine similarity matrix...\n",
      "Done computing similarity matrix.\n",
      "Computing the pearson_baseline similarity matrix...\n",
      "Done computing similarity matrix.\n",
      "Computing the cosine similarity matrix...\n",
      "Computing the pearson_baseline similarity matrix...\n",
      "Done computing similarity matrix.\n",
      "Done computing similarity matrix.\n",
      "Computing the cosine similarity matrix...\n",
      "Done computing similarity matrix.\n"
     ]
    },
    {
     "name": "stderr",
     "output_type": "stream",
     "text": [
      "[I 2023-11-10 18:38:39,086] Trial 45 finished with values: [0.9424074926928258, 0.7398954939305726, 0.6997972820939226] and parameters: {'k': 31, 'min_k': 7, 'sim_options_name': 'cosine', 'user_based': False, 'min_support': 3}. \n"
     ]
    },
    {
     "name": "stdout",
     "output_type": "stream",
     "text": [
      "Computing the cosine similarity matrix...\n"
     ]
    },
    {
     "name": "stderr",
     "output_type": "stream",
     "text": [
      "[I 2023-11-10 18:38:43,279] Trial 39 finished with values: [0.9244770876714901, 0.7229215790563652, 0.718465669462068] and parameters: {'k': 33, 'min_k': 7, 'sim_options_name': 'pearson_baseline', 'user_based': False, 'min_support': 3, 'shrinkage': 100, 'bsl_method': 'sgd', 'bsl_n_epochs': 40, 'sgd_reg': 0.03259499098219989, 'sgd_learning_rate': 0.009742718432557966}. \n"
     ]
    },
    {
     "name": "stdout",
     "output_type": "stream",
     "text": [
      "Done computing similarity matrix.\n"
     ]
    },
    {
     "name": "stderr",
     "output_type": "stream",
     "text": [
      "[I 2023-11-10 18:38:45,253] Trial 38 finished with values: [0.9269777381953859, 0.7244473889508412, 0.7151506226055835] and parameters: {'k': 20, 'min_k': 7, 'sim_options_name': 'pearson_baseline', 'user_based': False, 'min_support': 3, 'shrinkage': 61, 'bsl_method': 'sgd', 'bsl_n_epochs': 44, 'sgd_reg': 0.013169366548080763, 'sgd_learning_rate': 0.008309055123290384}. \n"
     ]
    },
    {
     "name": "stdout",
     "output_type": "stream",
     "text": [
      "Computing the cosine similarity matrix...\n",
      "Done computing similarity matrix.\n",
      "Computing the cosine similarity matrix...\n",
      "Done computing similarity matrix.Computing the cosine similarity matrix...\n",
      "\n"
     ]
    },
    {
     "name": "stderr",
     "output_type": "stream",
     "text": [
      "[I 2023-11-10 18:39:03,177] Trial 31 finished with values: [0.9245150540067655, 0.7227424303650498, 0.7190462187506794] and parameters: {'k': 40, 'min_k': 7, 'sim_options_name': 'pearson_baseline', 'user_based': False, 'min_support': 4, 'shrinkage': 181, 'bsl_method': 'sgd', 'bsl_n_epochs': 46, 'sgd_reg': 0.029615463642435644, 'sgd_learning_rate': 0.008960865638796988}. \n"
     ]
    },
    {
     "name": "stdout",
     "output_type": "stream",
     "text": [
      "Done computing similarity matrix.\n",
      "Computing the cosine similarity matrix...\n",
      "Done computing similarity matrix.\n",
      "Computing the cosine similarity matrix...\n",
      "Computing the cosine similarity matrix...\n",
      "Done computing similarity matrix.Estimating biases using sgd...\n",
      "\n"
     ]
    },
    {
     "name": "stderr",
     "output_type": "stream",
     "text": [
      "[I 2023-11-10 18:39:09,811] Trial 44 finished with values: [0.9430002505219065, 0.7401840458680926, 0.6997525591227742] and parameters: {'k': 30, 'min_k': 7, 'sim_options_name': 'cosine', 'user_based': False, 'min_support': 3}. \n"
     ]
    },
    {
     "name": "stdout",
     "output_type": "stream",
     "text": [
      "Done computing similarity matrix.\n",
      "Computing the cosine similarity matrix...\n",
      "Done computing similarity matrix.\n",
      "Computing the cosine similarity matrix...\n",
      "Done computing similarity matrix.\n",
      "Computing the cosine similarity matrix...\n"
     ]
    },
    {
     "name": "stderr",
     "output_type": "stream",
     "text": [
      "[I 2023-11-10 18:39:19,290] Trial 42 finished with values: [0.9255605765542679, 0.7238503009327861, 0.7185150259220213] and parameters: {'k': 30, 'min_k': 8, 'sim_options_name': 'pearson_baseline', 'user_based': False, 'min_support': 3, 'shrinkage': 68, 'bsl_method': 'sgd', 'bsl_n_epochs': 41, 'sgd_reg': 0.03336514426307442, 'sgd_learning_rate': 0.009326278269813342}. \n",
      "[I 2023-11-10 18:39:24,526] Trial 41 finished with values: [0.9249294907935589, 0.7228650110704562, 0.7179908881617323] and parameters: {'k': 33, 'min_k': 7, 'sim_options_name': 'pearson_baseline', 'user_based': False, 'min_support': 3, 'shrinkage': 55, 'bsl_method': 'sgd', 'bsl_n_epochs': 42, 'sgd_reg': 0.03557243860836845, 'sgd_learning_rate': 0.009722161104362461}. \n"
     ]
    },
    {
     "name": "stdout",
     "output_type": "stream",
     "text": [
      "Done computing similarity matrix.\n",
      "Computing the cosine similarity matrix...\n",
      "Done computing similarity matrix.\n",
      "Computing the pearson_baseline similarity matrix...\n",
      "Done computing similarity matrix.\n",
      "Computing the cosine similarity matrix...\n",
      "Done computing similarity matrix.\n",
      "Computing the cosine similarity matrix...\n",
      "Done computing similarity matrix.\n",
      "Computing the cosine similarity matrix...\n",
      "Done computing similarity matrix.\n",
      "Computing the pearson similarity matrix...\n",
      "Done computing similarity matrix.\n",
      "Computing the cosine similarity matrix...\n",
      "Computing the pearson similarity matrix...\n",
      "Computing the pearson similarity matrix...\n",
      "Done computing similarity matrix.\n",
      "Done computing similarity matrix.\n",
      "Done computing similarity matrix.\n",
      "Computing the cosine similarity matrix...\n",
      "Computing the cosine similarity matrix...\n",
      "Done computing similarity matrix.\n",
      "Done computing similarity matrix.\n",
      "Computing the cosine similarity matrix...\n",
      "Done computing similarity matrix.\n",
      "Computing the cosine similarity matrix...\n",
      "Done computing similarity matrix.\n",
      "Computing the cosine similarity matrix...\n",
      "Done computing similarity matrix.\n"
     ]
    },
    {
     "name": "stderr",
     "output_type": "stream",
     "text": [
      "[I 2023-11-10 18:40:13,846] Trial 46 finished with values: [0.9434108836860684, 0.7403833856635622, 0.6979355689854105] and parameters: {'k': 29, 'min_k': 7, 'sim_options_name': 'cosine', 'user_based': False, 'min_support': 3}. \n"
     ]
    },
    {
     "name": "stdout",
     "output_type": "stream",
     "text": [
      "Computing the cosine similarity matrix...\n",
      "Done computing similarity matrix.\n",
      "Computing the cosine similarity matrix...\n",
      "Done computing similarity matrix.\n",
      "Computing the cosine similarity matrix...\n",
      "Done computing similarity matrix.\n",
      "Estimating biases using sgd...\n",
      "Computing the cosine similarity matrix...\n",
      "Computing the cosine similarity matrix...\n",
      "Done computing similarity matrix.\n",
      "Computing the pearson similarity matrix...\n",
      "Done computing similarity matrix.Done computing similarity matrix.\n",
      "\n",
      "Computing the cosine similarity matrix...\n",
      "Computing the cosine similarity matrix...\n",
      "Done computing similarity matrix.\n",
      "Computing the pearson similarity matrix...\n",
      "Done computing similarity matrix.\n",
      "Done computing similarity matrix.\n",
      "Computing the pearson similarity matrix...\n"
     ]
    },
    {
     "name": "stderr",
     "output_type": "stream",
     "text": [
      "[I 2023-11-10 18:40:51,684] Trial 47 finished with values: [0.9423929662393622, 0.7396373028699865, 0.6983655353427063] and parameters: {'k': 30, 'min_k': 8, 'sim_options_name': 'cosine', 'user_based': False, 'min_support': 3}. \n"
     ]
    },
    {
     "name": "stdout",
     "output_type": "stream",
     "text": [
      "Done computing similarity matrix.\n",
      "Computing the cosine similarity matrix...\n",
      "Done computing similarity matrix.\n",
      "Computing the cosine similarity matrix...\n"
     ]
    },
    {
     "name": "stderr",
     "output_type": "stream",
     "text": [
      "[I 2023-11-10 18:41:00,104] Trial 48 finished with values: [0.9420360798889176, 0.7395080989100917, 0.6981967515685673] and parameters: {'k': 30, 'min_k': 8, 'sim_options_name': 'cosine', 'user_based': False, 'min_support': 3}. \n"
     ]
    },
    {
     "name": "stdout",
     "output_type": "stream",
     "text": [
      "Done computing similarity matrix.\n",
      "Computing the pearson_baseline similarity matrix...\n",
      "Done computing similarity matrix.\n",
      "Computing the cosine similarity matrix...\n",
      "Done computing similarity matrix.Computing the cosine similarity matrix...\n",
      "\n",
      "Computing the cosine similarity matrix...\n",
      "Done computing similarity matrix.\n",
      "Done computing similarity matrix.\n",
      "Computing the pearson similarity matrix...\n",
      "Computing the pearson similarity matrix...\n",
      "Done computing similarity matrix.\n",
      "Done computing similarity matrix.\n",
      "Computing the cosine similarity matrix...\n",
      "Computing the cosine similarity matrix...\n",
      "Computing the pearson similarity matrix...\n",
      "Done computing similarity matrix.\n",
      "Done computing similarity matrix.\n",
      "Done computing similarity matrix.\n",
      "Computing the cosine similarity matrix...\n",
      "Computing the pearson similarity matrix...\n",
      "Computing the cosine similarity matrix...\n",
      "Done computing similarity matrix.\n",
      "Done computing similarity matrix.\n",
      "Done computing similarity matrix.\n",
      "Computing the pearson similarity matrix...\n",
      "Done computing similarity matrix.Computing the cosine similarity matrix...\n",
      "\n",
      "Computing the cosine similarity matrix...\n",
      "Done computing similarity matrix.\n",
      "Done computing similarity matrix.\n",
      "Computing the cosine similarity matrix...\n",
      "Done computing similarity matrix.\n",
      "Estimating biases using sgd...\n",
      "Computing the cosine similarity matrix...\n",
      "Done computing similarity matrix.\n"
     ]
    },
    {
     "name": "stderr",
     "output_type": "stream",
     "text": [
      "[I 2023-11-10 18:42:15,384] Trial 50 finished with values: [0.9469328461122062, 0.7443494471400145, 0.6958049765456918] and parameters: {'k': 30, 'min_k': 8, 'sim_options_name': 'cosine', 'user_based': False, 'min_support': 1}. \n",
      "[I 2023-11-10 18:42:24,027] Trial 52 finished with values: [0.9598949461190713, 0.7590728221212846, 0.6920151823508666] and parameters: {'k': 28, 'min_k': 8, 'sim_options_name': 'cosine', 'user_based': True, 'min_support': 1}. \n",
      "[I 2023-11-10 18:42:26,123] Trial 53 finished with values: [0.9599057599859171, 0.7588748333351437, 0.6921989277587776] and parameters: {'k': 28, 'min_k': 8, 'sim_options_name': 'cosine', 'user_based': True, 'min_support': 1}. \n"
     ]
    },
    {
     "name": "stdout",
     "output_type": "stream",
     "text": [
      "Computing the pearson_baseline similarity matrix...\n",
      "Done computing similarity matrix.\n",
      "Computing the pearson similarity matrix...Computing the pearson similarity matrix...\n",
      "\n",
      "Computing the pearson similarity matrix...\n",
      "Done computing similarity matrix.\n",
      "Computing the cosine similarity matrix...\n",
      "Done computing similarity matrix.\n",
      "Done computing similarity matrix.\n",
      "Done computing similarity matrix.\n",
      "Computing the pearson similarity matrix...\n",
      "Done computing similarity matrix.\n",
      "Computing the cosine similarity matrix...\n",
      "Done computing similarity matrix.\n",
      "Computing the cosine similarity matrix...\n",
      "Computing the pearson similarity matrix...\n",
      "Computing the pearson similarity matrix...\n",
      "Computing the cosine similarity matrix...\n",
      "Done computing similarity matrix.\n",
      "Computing the pearson similarity matrix...\n",
      "Done computing similarity matrix.\n",
      "Done computing similarity matrix.\n",
      "Done computing similarity matrix.\n",
      "Done computing similarity matrix.\n"
     ]
    },
    {
     "name": "stderr",
     "output_type": "stream",
     "text": [
      "[I 2023-11-10 18:42:55,939] Trial 54 finished with values: [0.9663344758503818, 0.7647574302346356, 0.6871707646078917] and parameters: {'k': 20, 'min_k': 8, 'sim_options_name': 'cosine', 'user_based': True, 'min_support': 1}. \n"
     ]
    },
    {
     "name": "stdout",
     "output_type": "stream",
     "text": [
      "Computing the cosine similarity matrix...\n",
      "Done computing similarity matrix.\n",
      "Computing the cosine similarity matrix...\n",
      "Done computing similarity matrix.\n",
      "Computing the pearson similarity matrix...\n",
      "Done computing similarity matrix.\n",
      "Computing the pearson similarity matrix...\n",
      "Done computing similarity matrix.\n",
      "Computing the pearson similarity matrix...\n",
      "Computing the pearson similarity matrix...\n",
      "Done computing similarity matrix.\n",
      "Done computing similarity matrix.\n"
     ]
    },
    {
     "name": "stderr",
     "output_type": "stream",
     "text": [
      "[I 2023-11-10 18:43:30,555] Trial 43 finished with values: [0.9402880980746298, 0.7365665113821704, 0.7041526573912877] and parameters: {'k': 32, 'min_k': 7, 'sim_options_name': 'pearson_baseline', 'user_based': False, 'min_support': 3, 'shrinkage': 1, 'bsl_method': 'sgd', 'bsl_n_epochs': 41, 'sgd_reg': 0.03232506678868788, 'sgd_learning_rate': 0.0098102223886253}. \n"
     ]
    },
    {
     "name": "stdout",
     "output_type": "stream",
     "text": [
      "Computing the pearson similarity matrix...\n",
      "Done computing similarity matrix.\n",
      "Computing the pearson similarity matrix...\n",
      "Done computing similarity matrix.\n",
      "Computing the pearson similarity matrix...\n",
      "Done computing similarity matrix.\n"
     ]
    },
    {
     "name": "stderr",
     "output_type": "stream",
     "text": [
      "[I 2023-11-10 18:43:45,414] Trial 55 finished with values: [0.9544203429036943, 0.7540779653631767, 0.6978058980069699] and parameters: {'k': 45, 'min_k': 5, 'sim_options_name': 'cosine', 'user_based': True, 'min_support': 1}. \n"
     ]
    },
    {
     "name": "stdout",
     "output_type": "stream",
     "text": [
      "Computing the cosine similarity matrix...\n",
      "Done computing similarity matrix.\n"
     ]
    },
    {
     "name": "stderr",
     "output_type": "stream",
     "text": [
      "[I 2023-11-10 18:43:47,809] Trial 56 finished with values: [0.9542027603388885, 0.7538372323725973, 0.6998360918460669] and parameters: {'k': 47, 'min_k': 5, 'sim_options_name': 'cosine', 'user_based': True, 'min_support': 1}. \n"
     ]
    },
    {
     "name": "stdout",
     "output_type": "stream",
     "text": [
      "Computing the pearson similarity matrix...\n",
      "Computing the cosine similarity matrix...\n",
      "Done computing similarity matrix.\n",
      "Done computing similarity matrix.\n",
      "Computing the pearson similarity matrix...\n"
     ]
    },
    {
     "name": "stderr",
     "output_type": "stream",
     "text": [
      "[I 2023-11-10 18:43:57,213] Trial 49 finished with values: [0.9463522475268554, 0.7437600911051792, 0.6959318102440799] and parameters: {'k': 30, 'min_k': 8, 'sim_options_name': 'cosine', 'user_based': False, 'min_support': 1}. \n"
     ]
    },
    {
     "name": "stdout",
     "output_type": "stream",
     "text": [
      "Done computing similarity matrix.\n"
     ]
    },
    {
     "name": "stderr",
     "output_type": "stream",
     "text": [
      "[I 2023-11-10 18:43:58,167] Trial 51 finished with values: [0.9583120572746975, 0.7575289127059495, 0.6944396314443362] and parameters: {'k': 29, 'min_k': 8, 'sim_options_name': 'cosine', 'user_based': True, 'min_support': 1}. \n"
     ]
    },
    {
     "name": "stdout",
     "output_type": "stream",
     "text": [
      "Computing the pearson similarity matrix...\n",
      "Done computing similarity matrix.\n",
      "Computing the pearson similarity matrix...\n",
      "Done computing similarity matrix.\n",
      "Computing the pearson similarity matrix...\n",
      "Done computing similarity matrix.\n"
     ]
    },
    {
     "name": "stderr",
     "output_type": "stream",
     "text": [
      "[I 2023-11-10 18:44:15,323] Trial 59 finished with values: [0.9473237729701698, 0.7426120439536593, 0.7048113659350609] and parameters: {'k': 45, 'min_k': 5, 'sim_options_name': 'pearson', 'user_based': True, 'min_support': 1}. \n"
     ]
    },
    {
     "name": "stdout",
     "output_type": "stream",
     "text": [
      "Computing the pearson similarity matrix...\n",
      "Computing the pearson similarity matrix...\n",
      "Done computing similarity matrix.\n",
      "Done computing similarity matrix.\n",
      "Computing the pearson similarity matrix...\n"
     ]
    },
    {
     "name": "stderr",
     "output_type": "stream",
     "text": [
      "[I 2023-11-10 18:44:24,879] Trial 58 finished with values: [0.9479873139052388, 0.7432229206695631, 0.7039285374535668] and parameters: {'k': 48, 'min_k': 5, 'sim_options_name': 'pearson', 'user_based': True, 'min_support': 1}. \n"
     ]
    },
    {
     "name": "stdout",
     "output_type": "stream",
     "text": [
      "Done computing similarity matrix.\n",
      "Computing the pearson similarity matrix...\n",
      "Done computing similarity matrix.\n",
      "Computing the pearson similarity matrix...Computing the pearson similarity matrix...\n",
      "\n",
      "Done computing similarity matrix.\n",
      "Done computing similarity matrix.\n",
      "Computing the cosine similarity matrix...\n",
      "Computing the pearson similarity matrix...\n",
      "Done computing similarity matrix.\n",
      "Done computing similarity matrix.\n"
     ]
    },
    {
     "name": "stderr",
     "output_type": "stream",
     "text": [
      "[I 2023-11-10 18:44:43,252] Trial 60 finished with values: [0.948016570477988, 0.7428843793785037, 0.7046058611148611] and parameters: {'k': 50, 'min_k': 5, 'sim_options_name': 'pearson', 'user_based': True, 'min_support': 1}. \n"
     ]
    },
    {
     "name": "stdout",
     "output_type": "stream",
     "text": [
      "Computing the pearson similarity matrix...Computing the pearson similarity matrix...\n",
      "\n",
      "Computing the cosine similarity matrix...\n",
      "Done computing similarity matrix.Done computing similarity matrix.\n",
      "\n",
      "Done computing similarity matrix.\n",
      "Computing the pearson similarity matrix...\n",
      "Computing the pearson similarity matrix...\n",
      "Done computing similarity matrix.\n",
      "Done computing similarity matrix.\n",
      "Computing the pearson similarity matrix...\n",
      "Done computing similarity matrix.\n",
      "Computing the pearson similarity matrix...\n",
      "Done computing similarity matrix.\n",
      "Computing the pearson similarity matrix...\n",
      "Computing the pearson similarity matrix...\n",
      "Done computing similarity matrix.\n",
      "Computing the msd similarity matrix...\n",
      "Done computing similarity matrix.\n",
      "Done computing similarity matrix.\n",
      "Computing the pearson similarity matrix...\n",
      "Done computing similarity matrix.\n",
      "Computing the pearson similarity matrix...\n",
      "Done computing similarity matrix.\n",
      "Computing the pearson similarity matrix...\n",
      "Done computing similarity matrix.\n",
      "Computing the pearson similarity matrix...\n",
      "Done computing similarity matrix."
     ]
    },
    {
     "name": "stderr",
     "output_type": "stream",
     "text": [
      "[I 2023-11-10 18:45:44,046] Trial 61 finished with values: [0.955086420895617, 0.7545492008551195, 0.6988092287106452] and parameters: {'k': 47, 'min_k': 5, 'sim_options_name': 'cosine', 'user_based': True, 'min_support': 1}. \n"
     ]
    },
    {
     "name": "stdout",
     "output_type": "stream",
     "text": [
      "\n",
      "Computing the pearson similarity matrix...\n",
      "Done computing similarity matrix.\n",
      "Computing the pearson similarity matrix...\n",
      "Done computing similarity matrix.\n"
     ]
    },
    {
     "name": "stderr",
     "output_type": "stream",
     "text": [
      "[I 2023-11-10 18:45:53,354] Trial 57 finished with values: [0.9542063240087224, 0.7536741256036608, 0.6993244652883015] and parameters: {'k': 47, 'min_k': 5, 'sim_options_name': 'cosine', 'user_based': True, 'min_support': 1}. \n"
     ]
    },
    {
     "name": "stdout",
     "output_type": "stream",
     "text": [
      "Computing the pearson similarity matrix...\n",
      "Done computing similarity matrix.\n",
      "Computing the pearson similarity matrix...\n",
      "Done computing similarity matrix.\n",
      "Computing the pearson similarity matrix...\n",
      "Done computing similarity matrix.\n",
      "Computing the pearson similarity matrix...\n",
      "Computing the pearson similarity matrix...Computing the pearson similarity matrix...\n",
      "\n",
      "Done computing similarity matrix.\n",
      "Done computing similarity matrix.\n",
      "Computing the pearson similarity matrix...\n",
      "Done computing similarity matrix.\n",
      "Done computing similarity matrix.\n",
      "Computing the msd similarity matrix...\n",
      "Done computing similarity matrix.\n",
      "Computing the msd similarity matrix...\n",
      "Computing the pearson similarity matrix...\n",
      "Done computing similarity matrix.\n",
      "Computing the msd similarity matrix...\n",
      "Done computing similarity matrix.\n",
      "Done computing similarity matrix.\n",
      "Computing the pearson similarity matrix...\n",
      "Computing the pearson similarity matrix...\n",
      "Done computing similarity matrix.\n",
      "Done computing similarity matrix.\n"
     ]
    },
    {
     "name": "stderr",
     "output_type": "stream",
     "text": [
      "[I 2023-11-10 18:46:43,143] Trial 63 finished with values: [0.9475549634979519, 0.7429884141995893, 0.7050681963441768] and parameters: {'k': 56, 'min_k': 5, 'sim_options_name': 'pearson', 'user_based': True, 'min_support': 1}. \n",
      "[I 2023-11-10 18:46:47,206] Trial 62 finished with values: [0.9471966901443188, 0.7426811485817024, 0.7038511629563743] and parameters: {'k': 48, 'min_k': 5, 'sim_options_name': 'pearson', 'user_based': True, 'min_support': 1}. \n"
     ]
    },
    {
     "name": "stdout",
     "output_type": "stream",
     "text": [
      "Computing the pearson similarity matrix...\n",
      "Done computing similarity matrix.\n",
      "Computing the pearson similarity matrix...\n",
      "Done computing similarity matrix.\n",
      "Computing the pearson similarity matrix...\n",
      "Done computing similarity matrix.\n",
      "Computing the pearson similarity matrix...\n",
      "Done computing similarity matrix.Computing the pearson similarity matrix...\n",
      "\n",
      "Done computing similarity matrix.\n",
      "Computing the pearson similarity matrix...\n",
      "Computing the msd similarity matrix...\n",
      "Computing the pearson similarity matrix...\n",
      "Done computing similarity matrix.\n",
      "Done computing similarity matrix.\n",
      "Computing the pearson similarity matrix...\n",
      "Done computing similarity matrix.\n",
      "Computing the msd similarity matrix...\n",
      "Computing the pearson similarity matrix...\n",
      "Computing the msd similarity matrix...\n",
      "Done computing similarity matrix.\n",
      "Done computing similarity matrix.\n",
      "Done computing similarity matrix.\n",
      "Done computing similarity matrix.\n",
      "Computing the msd similarity matrix...\n",
      "Done computing similarity matrix.\n"
     ]
    },
    {
     "name": "stderr",
     "output_type": "stream",
     "text": [
      "[I 2023-11-10 18:47:37,105] Trial 65 finished with values: [0.9475362027628697, 0.7426254925004094, 0.7043275704869273] and parameters: {'k': 46, 'min_k': 5, 'sim_options_name': 'pearson', 'user_based': True, 'min_support': 2}. \n"
     ]
    },
    {
     "name": "stdout",
     "output_type": "stream",
     "text": [
      "Computing the msd similarity matrix...\n",
      "Done computing similarity matrix.\n",
      "Computing the pearson similarity matrix...\n",
      "Done computing similarity matrix.\n",
      "Computing the pearson similarity matrix...\n",
      "Done computing similarity matrix.\n"
     ]
    },
    {
     "name": "stderr",
     "output_type": "stream",
     "text": [
      "[I 2023-11-10 18:47:55,591] Trial 64 finished with values: [0.9482775724396688, 0.7429031729494999, 0.7028406709165189] and parameters: {'k': 46, 'min_k': 5, 'sim_options_name': 'pearson', 'user_based': True, 'min_support': 2}. \n"
     ]
    },
    {
     "name": "stdout",
     "output_type": "stream",
     "text": [
      "Computing the pearson similarity matrix...\n",
      "Done computing similarity matrix.\n",
      "Computing the pearson similarity matrix...\n",
      "Done computing similarity matrix.\n",
      "Computing the pearson similarity matrix...\n",
      "Done computing similarity matrix.\n"
     ]
    },
    {
     "name": "stderr",
     "output_type": "stream",
     "text": [
      "[I 2023-11-10 18:48:14,066] Trial 67 finished with values: [0.947186125139759, 0.7422244821002937, 0.7050480148773927] and parameters: {'k': 47, 'min_k': 5, 'sim_options_name': 'pearson', 'user_based': True, 'min_support': 2}. \n"
     ]
    },
    {
     "name": "stdout",
     "output_type": "stream",
     "text": [
      "Computing the msd similarity matrix...Computing the msd similarity matrix...\n",
      "\n"
     ]
    },
    {
     "name": "stderr",
     "output_type": "stream",
     "text": [
      "[I 2023-11-10 18:48:18,242] Trial 66 finished with values: [0.9480429862356603, 0.7432471206269027, 0.7042268584509495] and parameters: {'k': 47, 'min_k': 5, 'sim_options_name': 'pearson', 'user_based': True, 'min_support': 2}. \n"
     ]
    },
    {
     "name": "stdout",
     "output_type": "stream",
     "text": [
      "Done computing similarity matrix.\n",
      "Done computing similarity matrix.\n",
      "Computing the pearson similarity matrix...\n",
      "Done computing similarity matrix.\n",
      "Computing the msd similarity matrix...\n",
      "Done computing similarity matrix.\n",
      "Computing the pearson similarity matrix...\n",
      "Done computing similarity matrix.\n"
     ]
    },
    {
     "name": "stderr",
     "output_type": "stream",
     "text": [
      "[I 2023-11-10 18:48:35,564] Trial 68 finished with values: [0.9487856850053922, 0.7435963365978759, 0.7023941889809803] and parameters: {'k': 45, 'min_k': 5, 'sim_options_name': 'pearson', 'user_based': True, 'min_support': 2}. \n"
     ]
    },
    {
     "name": "stdout",
     "output_type": "stream",
     "text": [
      "Computing the msd similarity matrix...\n",
      "Done computing similarity matrix.\n",
      "Computing the pearson similarity matrix...\n",
      "Done computing similarity matrix.\n",
      "Computing the msd similarity matrix...\n",
      "Done computing similarity matrix.\n",
      "Computing the msd similarity matrix...\n",
      "Done computing similarity matrix.\n",
      "Computing the msd similarity matrix...\n"
     ]
    },
    {
     "name": "stderr",
     "output_type": "stream",
     "text": [
      "[I 2023-11-10 18:48:46,744] Trial 69 finished with values: [0.949291231185209, 0.7439285091875354, 0.702455203954579] and parameters: {'k': 44, 'min_k': 5, 'sim_options_name': 'pearson', 'user_based': True, 'min_support': 2}. \n"
     ]
    },
    {
     "name": "stdout",
     "output_type": "stream",
     "text": [
      "Done computing similarity matrix.\n"
     ]
    },
    {
     "name": "stderr",
     "output_type": "stream",
     "text": [
      "[I 2023-11-10 18:48:51,129] Trial 70 finished with values: [0.9480295176577096, 0.7429875593975749, 0.7054804493972094] and parameters: {'k': 57, 'min_k': 4, 'sim_options_name': 'pearson', 'user_based': True, 'min_support': 2}. \n"
     ]
    },
    {
     "name": "stdout",
     "output_type": "stream",
     "text": [
      "Computing the msd similarity matrix...\n",
      "Done computing similarity matrix.Computing the msd similarity matrix...\n",
      "Done computing similarity matrix.\n",
      "\n",
      "Computing the pearson similarity matrix...\n",
      "Done computing similarity matrix.\n",
      "Computing the msd similarity matrix...\n",
      "Done computing similarity matrix.\n",
      "Computing the msd similarity matrix...\n",
      "Done computing similarity matrix.\n",
      "Computing the msd similarity matrix...\n",
      "Computing the msd similarity matrix...\n",
      "Done computing similarity matrix.\n",
      "Done computing similarity matrix.\n",
      "Computing the msd similarity matrix...\n",
      "Done computing similarity matrix.\n"
     ]
    },
    {
     "name": "stderr",
     "output_type": "stream",
     "text": [
      "[I 2023-11-10 18:49:28,041] Trial 71 finished with values: [0.9470908463711473, 0.742062197028557, 0.7057415581549222] and parameters: {'k': 57, 'min_k': 4, 'sim_options_name': 'pearson', 'user_based': True, 'min_support': 2}. \n"
     ]
    },
    {
     "name": "stdout",
     "output_type": "stream",
     "text": [
      "Computing the msd similarity matrix...\n",
      "Done computing similarity matrix.\n",
      "Computing the msd similarity matrix...\n",
      "Done computing similarity matrix.\n"
     ]
    },
    {
     "name": "stderr",
     "output_type": "stream",
     "text": [
      "[I 2023-11-10 18:49:32,899] Trial 72 finished with values: [0.9484435295597962, 0.743493823326941, 0.7037262308423251] and parameters: {'k': 58, 'min_k': 6, 'sim_options_name': 'pearson', 'user_based': True, 'min_support': 2}. \n"
     ]
    },
    {
     "name": "stdout",
     "output_type": "stream",
     "text": [
      "Computing the pearson similarity matrix...\n",
      "Done computing similarity matrix.\n",
      "Computing the msd similarity matrix...\n",
      "Done computing similarity matrix.\n",
      "Computing the msd similarity matrix...\n",
      "Done computing similarity matrix.\n"
     ]
    },
    {
     "name": "stderr",
     "output_type": "stream",
     "text": [
      "[I 2023-11-10 18:49:47,447] Trial 73 finished with values: [0.9468173572442999, 0.7422058889567553, 0.7036604774007863] and parameters: {'k': 80, 'min_k': 6, 'sim_options_name': 'pearson', 'user_based': True, 'min_support': 2}. \n"
     ]
    },
    {
     "name": "stdout",
     "output_type": "stream",
     "text": [
      "Computing the msd similarity matrix...\n",
      "Computing the msd similarity matrix...\n",
      "Done computing similarity matrix.\n",
      "Done computing similarity matrix.\n",
      "Computing the msd similarity matrix...\n",
      "Done computing similarity matrix.\n",
      "Computing the msd similarity matrix...\n",
      "Computing the msd similarity matrix...\n",
      "Done computing similarity matrix.Done computing similarity matrix.\n",
      "\n",
      "Computing the msd similarity matrix...\n",
      "Computing the msd similarity matrix...\n",
      "Done computing similarity matrix.\n",
      "Done computing similarity matrix.\n",
      "Computing the msd similarity matrix...\n",
      "Done computing similarity matrix.\n",
      "Computing the msd similarity matrix...\n",
      "Done computing similarity matrix.Computing the msd similarity matrix...\n",
      "\n",
      "Done computing similarity matrix.\n"
     ]
    },
    {
     "name": "stderr",
     "output_type": "stream",
     "text": [
      "[I 2023-11-10 18:50:25,152] Trial 75 finished with values: [0.9357995782791232, 0.7343108916258314, 0.7028769537724578] and parameters: {'k': 56, 'min_k': 6, 'sim_options_name': 'msd', 'user_based': False, 'min_support': 2}. \n"
     ]
    },
    {
     "name": "stdout",
     "output_type": "stream",
     "text": [
      "Computing the msd similarity matrix...\n",
      "Computing the msd similarity matrix...\n",
      "Done computing similarity matrix.\n",
      "Done computing similarity matrix.\n"
     ]
    },
    {
     "name": "stderr",
     "output_type": "stream",
     "text": [
      "[I 2023-11-10 18:50:39,204] Trial 74 finished with values: [0.9378504872610941, 0.7355275164339015, 0.7040682206588013] and parameters: {'k': 82, 'min_k': 4, 'sim_options_name': 'pearson', 'user_based': False, 'min_support': 2}. \n"
     ]
    },
    {
     "name": "stdout",
     "output_type": "stream",
     "text": [
      "Computing the msd similarity matrix...\n",
      "Done computing similarity matrix.\n",
      "Computing the msd similarity matrix...\n",
      "Done computing similarity matrix.\n",
      "Computing the msd similarity matrix...\n",
      "Done computing similarity matrix.\n",
      "Computing the msd similarity matrix...\n",
      "Done computing similarity matrix.\n",
      "Computing the msd similarity matrix...\n",
      "Done computing similarity matrix.\n",
      "Computing the msd similarity matrix...\n",
      "Done computing similarity matrix.\n",
      "Computing the msd similarity matrix...\n",
      "Done computing similarity matrix.\n",
      "Computing the msd similarity matrix...\n",
      "Estimating biases using sgd...\n",
      "Done computing similarity matrix.\n",
      "Computing the msd similarity matrix...\n",
      "Done computing similarity matrix.Computing the msd similarity matrix...\n",
      "\n",
      "Computing the msd similarity matrix...\n",
      "Done computing similarity matrix.\n",
      "Done computing similarity matrix.\n",
      "Computing the msd similarity matrix...\n",
      "Done computing similarity matrix.\n",
      "Computing the pearson_baseline similarity matrix...\n",
      "Done computing similarity matrix.\n",
      "Computing the msd similarity matrix...\n",
      "Computing the msd similarity matrix...Done computing similarity matrix.\n",
      "\n",
      "Done computing similarity matrix.\n",
      "Computing the msd similarity matrix...\n",
      "Estimating biases using sgd...\n"
     ]
    },
    {
     "name": "stderr",
     "output_type": "stream",
     "text": [
      "[I 2023-11-10 18:51:41,767] Trial 76 finished with values: [0.934176539431666, 0.7330673489922592, 0.7024545043665102] and parameters: {'k': 58, 'min_k': 6, 'sim_options_name': 'msd', 'user_based': False, 'min_support': 2}. \n"
     ]
    },
    {
     "name": "stdout",
     "output_type": "stream",
     "text": [
      "Done computing similarity matrix.\n"
     ]
    },
    {
     "name": "stderr",
     "output_type": "stream",
     "text": [
      "[I 2023-11-10 18:51:46,020] Trial 78 finished with values: [0.9373553011704712, 0.7350930283161572, 0.6961780301550027] and parameters: {'k': 25, 'min_k': 6, 'sim_options_name': 'msd', 'user_based': False, 'min_support': 2}. \n"
     ]
    },
    {
     "name": "stdout",
     "output_type": "stream",
     "text": [
      "Computing the msd similarity matrix...\n",
      "Done computing similarity matrix.\n",
      "Computing the pearson_baseline similarity matrix...\n",
      "Computing the msd similarity matrix...\n"
     ]
    },
    {
     "name": "stderr",
     "output_type": "stream",
     "text": [
      "[I 2023-11-10 18:51:54,120] Trial 77 finished with values: [0.9354933880481404, 0.7332764062306205, 0.6987303867155267] and parameters: {'k': 35, 'min_k': 6, 'sim_options_name': 'msd', 'user_based': False, 'min_support': 2}. \n"
     ]
    },
    {
     "name": "stdout",
     "output_type": "stream",
     "text": [
      "Done computing similarity matrix.Done computing similarity matrix.\n",
      "\n",
      "Computing the msd similarity matrix...\n",
      "Done computing similarity matrix.\n",
      "Computing the msd similarity matrix...\n",
      "Done computing similarity matrix.\n",
      "Estimating biases using sgd...\n",
      "Computing the msd similarity matrix...\n",
      "Computing the msd similarity matrix...\n",
      "Done computing similarity matrix.Done computing similarity matrix.\n",
      "\n",
      "Computing the msd similarity matrix...\n",
      "Computing the msd similarity matrix...\n",
      "Done computing similarity matrix.\n",
      "Done computing similarity matrix.\n",
      "Computing the msd similarity matrix...\n",
      "Done computing similarity matrix.\n",
      "Computing the msd similarity matrix...\n",
      "Done computing similarity matrix.\n",
      "Estimating biases using sgd...\n",
      "Computing the pearson_baseline similarity matrix...\n",
      "Done computing similarity matrix.\n"
     ]
    },
    {
     "name": "stderr",
     "output_type": "stream",
     "text": [
      "[I 2023-11-10 18:52:37,601] Trial 81 finished with values: [0.9370306549969015, 0.734642785461598, 0.6953282650846765] and parameters: {'k': 25, 'min_k': 6, 'sim_options_name': 'msd', 'user_based': False, 'min_support': 2}. \n"
     ]
    },
    {
     "name": "stdout",
     "output_type": "stream",
     "text": [
      "Estimating biases using sgd...\n",
      "Estimating biases using sgd...\n",
      "Computing the pearson_baseline similarity matrix...\n",
      "Done computing similarity matrix.\n",
      "Computing the pearson_baseline similarity matrix...\n",
      "Done computing similarity matrix.\n"
     ]
    },
    {
     "name": "stderr",
     "output_type": "stream",
     "text": [
      "[I 2023-11-10 18:52:52,851] Trial 79 finished with values: [0.9356886564012943, 0.7343009385753614, 0.7015091932524123] and parameters: {'k': 83, 'min_k': 6, 'sim_options_name': 'msd', 'user_based': False, 'min_support': 2}. \n"
     ]
    },
    {
     "name": "stdout",
     "output_type": "stream",
     "text": [
      "Computing the pearson_baseline similarity matrix...\n",
      "Done computing similarity matrix.\n",
      "Computing the msd similarity matrix...\n",
      "Computing the msd similarity matrix...\n",
      "Done computing similarity matrix.\n",
      "Done computing similarity matrix.\n",
      "Estimating biases using sgd...\n",
      "Computing the pearson_baseline similarity matrix...\n",
      "Done computing similarity matrix.\n",
      "Computing the msd similarity matrix...\n",
      "Estimating biases usingDone computing similarity matrix.\n",
      " sgd...\n"
     ]
    },
    {
     "name": "stderr",
     "output_type": "stream",
     "text": [
      "[I 2023-11-10 18:53:27,272] Trial 83 finished with values: [0.9340987999699676, 0.7325182319189025, 0.6996513555978215] and parameters: {'k': 35, 'min_k': 6, 'sim_options_name': 'msd', 'user_based': False, 'min_support': 2}. \n",
      "[I 2023-11-10 18:53:27,967] Trial 80 finished with values: [0.9352348248216209, 0.7339212608688761, 0.7036432955061693] and parameters: {'k': 80, 'min_k': 6, 'sim_options_name': 'msd', 'user_based': False, 'min_support': 2}. \n"
     ]
    },
    {
     "name": "stdout",
     "output_type": "stream",
     "text": [
      "Computing the msd similarity matrix...Computing the msd similarity matrix...\n",
      "\n",
      "Computing the msd similarity matrix...\n",
      "Done computing similarity matrix.\n",
      "Done computing similarity matrix.\n",
      "Estimating biases using sgd...\n",
      "Done computing similarity matrix.\n",
      "Computing the msd similarity matrix...\n",
      "Done computing similarity matrix.\n",
      "Computing the pearson_baseline similarity matrix...\n",
      "Done computing similarity matrix.Estimating biases using sgd...\n",
      "\n",
      "Estimating biases usingComputing the pearson_baseline similarity matrix...\n",
      " sgd...\n",
      "Done computing similarity matrix.\n",
      "Estimating biases usingComputing the pearson_baseline similarity matrix...\n",
      "Done computing similarity matrix.\n",
      " sgd...\n",
      "Computing the msd similarity matrix...\n",
      "Done computing similarity matrix.\n",
      "Computing the pearson_baseline similarity matrix...\n",
      "Done computing similarity matrix.\n",
      "Computing the msd similarity matrix...Estimating biases using sgd...\n",
      "\n",
      "Done computing similarity matrix.\n",
      "Computing the pearson_baseline similarity matrix...\n",
      "Done computing similarity matrix.\n",
      "Computing the pearson_baseline similarity matrix...\n",
      "Done computing similarity matrix.\n",
      "Estimating biases using sgd...\n",
      "Computing the msd similarity matrix...Estimating biases using sgd...\n"
     ]
    },
    {
     "name": "stderr",
     "output_type": "stream",
     "text": [
      "[I 2023-11-10 18:54:27,309] Trial 85 finished with values: [0.9353063097445095, 0.7341757835329741, 0.7015705957059513] and parameters: {'k': 80, 'min_k': 6, 'sim_options_name': 'msd', 'user_based': False, 'min_support': 2}. \n"
     ]
    },
    {
     "name": "stdout",
     "output_type": "stream",
     "text": [
      "\n",
      "Estimating biases using sgd...\n",
      "Estimating biases using sgd...\n",
      "Done computing similarity matrix.\n"
     ]
    },
    {
     "name": "stderr",
     "output_type": "stream",
     "text": [
      "[I 2023-11-10 18:54:31,991] Trial 82 finished with values: [0.9349953208998227, 0.7336280898583356, 0.7037762491090409] and parameters: {'k': 78, 'min_k': 6, 'sim_options_name': 'msd', 'user_based': False, 'min_support': 2}. \n"
     ]
    },
    {
     "name": "stdout",
     "output_type": "stream",
     "text": [
      "Computing the pearson_baseline similarity matrix...\n",
      "Done computing similarity matrix.\n"
     ]
    },
    {
     "name": "stderr",
     "output_type": "stream",
     "text": [
      "[I 2023-11-10 18:54:36,120] Trial 86 finished with values: [0.9348465097558224, 0.7340415470474821, 0.7031000929301264] and parameters: {'k': 81, 'min_k': 6, 'sim_options_name': 'msd', 'user_based': False, 'min_support': 2}. \n"
     ]
    },
    {
     "name": "stdout",
     "output_type": "stream",
     "text": [
      "Computing the msd similarity matrix...\n",
      "Done computing similarity matrix.\n",
      "Computing the pearson_baseline similarity matrix...\n",
      "Computing the pearson_baseline similarity matrix...\n",
      "Computing the pearson_baseline similarity matrix...\n",
      "Done computing similarity matrix.\n",
      "Done computing similarity matrix.\n",
      "Done computing similarity matrix.\n",
      "Estimating biases using"
     ]
    },
    {
     "name": "stderr",
     "output_type": "stream",
     "text": [
      "[I 2023-11-10 18:54:49,578] Trial 89 finished with values: [0.9344065785107436, 0.7324506358117897, 0.7005061247841126] and parameters: {'k': 36, 'min_k': 3, 'sim_options_name': 'msd', 'user_based': False, 'min_support': 2}. \n"
     ]
    },
    {
     "name": "stdout",
     "output_type": "stream",
     "text": [
      " sgd...\n",
      "Estimating biases using sgd...\n",
      "Estimating biases using sgd...\n",
      "Estimating biases using sgd...\n",
      "Computing the pearson_baseline similarity matrix...\n",
      "Estimating biases using sgd...\n",
      "Done computing similarity matrix.\n",
      "Computing the pearson_baseline similarity matrix...\n",
      "Done computing similarity matrix.\n"
     ]
    },
    {
     "name": "stderr",
     "output_type": "stream",
     "text": [
      "[I 2023-11-10 18:55:05,819] Trial 84 finished with values: [0.935239714224999, 0.7339472369820268, 0.7015308799375073] and parameters: {'k': 83, 'min_k': 6, 'sim_options_name': 'msd', 'user_based': False, 'min_support': 2}. \n"
     ]
    },
    {
     "name": "stdout",
     "output_type": "stream",
     "text": [
      "Computing the pearson_baseline similarity matrix...\n",
      "Done computing similarity matrix.\n",
      "Computing the pearson_baseline similarity matrix...\n",
      "Done computing similarity matrix.\n",
      "Computing the pearson_baseline similarity matrix...\n",
      "Done computing similarity matrix.\n",
      "Estimating biases using sgd...\n"
     ]
    },
    {
     "name": "stderr",
     "output_type": "stream",
     "text": [
      "[I 2023-11-10 18:55:19,725] Trial 88 finished with values: [0.9341409508950631, 0.732419137451606, 0.7005429375889993] and parameters: {'k': 35, 'min_k': 6, 'sim_options_name': 'msd', 'user_based': False, 'min_support': 2}. \n"
     ]
    },
    {
     "name": "stdout",
     "output_type": "stream",
     "text": [
      "Computing the pearson_baseline similarity matrix...\n",
      "Estimating biases using sgd...\n",
      "Done computing similarity matrix.\n",
      "Estimating biases using sgd...\n",
      "Estimating biases using sgd...\n",
      "Computing the pearson_baseline similarity matrix...\n"
     ]
    },
    {
     "name": "stderr",
     "output_type": "stream",
     "text": [
      "[I 2023-11-10 18:55:36,409] Trial 87 finished with values: [0.9346987605314704, 0.73354727930197, 0.7031055000487161] and parameters: {'k': 83, 'min_k': 6, 'sim_options_name': 'msd', 'user_based': False, 'min_support': 2}. \n"
     ]
    },
    {
     "name": "stdout",
     "output_type": "stream",
     "text": [
      "Computing the pearson_baseline similarity matrix...\n",
      "Done computing similarity matrix.\n",
      "Done computing similarity matrix.\n",
      "Computing the pearson_baseline similarity matrix...\n",
      "Done computing similarity matrix.\n",
      "Estimating biases using sgd...\n",
      "Estimating biases using sgd...\n",
      "Estimating biases using sgd...\n",
      "Computing the pearson_baseline similarity matrix...\n",
      "Estimating biases usingEstimating biases using sgd...\n",
      "Done computing similarity matrix.\n",
      " sgd...\n",
      "Estimating biases using sgd...\n",
      "Computing the pearson_baseline similarity matrix...\n",
      "Computing the pearson_baseline similarity matrix...\n",
      "Done computing similarity matrix.\n",
      "Done computing similarity matrix.\n",
      "Computing the pearson_baseline similarity matrix...\n",
      "Done computing similarity matrix.\n",
      "Computing the pearson_baseline similarity matrix...\n",
      "Done computing similarity matrix.\n",
      "Computing the pearson_baseline similarity matrix...\n",
      "Done computing similarity matrix.\n",
      "Estimating biases using sgd...\n"
     ]
    },
    {
     "name": "stderr",
     "output_type": "stream",
     "text": [
      "[I 2023-11-10 18:56:16,519] Trial 90 finished with values: [0.9206874963862355, 0.7198683259425608, 0.7197844521694551] and parameters: {'k': 35, 'min_k': 3, 'sim_options_name': 'pearson_baseline', 'user_based': False, 'min_support': 2, 'shrinkage': 117, 'bsl_method': 'sgd', 'bsl_n_epochs': 37, 'sgd_reg': 0.1911682783893766, 'sgd_learning_rate': 0.006824912554989898}. \n"
     ]
    },
    {
     "name": "stdout",
     "output_type": "stream",
     "text": [
      "Estimating biases using sgd...\n",
      "Estimating biases using sgd...\n",
      "Computing the pearson_baseline similarity matrix...\n",
      "Done computing similarity matrix.\n",
      "Computing the pearson_baseline similarity matrix...\n",
      "Done computing similarity matrix.\n",
      "Computing the pearson_baseline similarity matrix...\n",
      "Done computing similarity matrix.\n",
      "Estimating biases using sgd...\n"
     ]
    },
    {
     "name": "stderr",
     "output_type": "stream",
     "text": [
      "[I 2023-11-10 18:56:39,804] Trial 91 finished with values: [0.9248251062118479, 0.7223222296983168, 0.7180334420637023] and parameters: {'k': 36, 'min_k': 2, 'sim_options_name': 'pearson_baseline', 'user_based': False, 'min_support': 5, 'shrinkage': 123, 'bsl_method': 'sgd', 'bsl_n_epochs': 37, 'sgd_reg': 0.19893531640233858, 'sgd_learning_rate': 0.006705448985807643}. \n"
     ]
    },
    {
     "name": "stdout",
     "output_type": "stream",
     "text": [
      "Estimating biases using sgd...\n",
      "Estimating biases usingComputing the pearson_baseline similarity matrix...\n",
      " sgd...\n",
      "Done computing similarity matrix.\n",
      "Computing the pearson_baseline similarity matrix...\n",
      "Done computing similarity matrix.\n",
      "Computing the pearson_baseline similarity matrix...\n",
      "Done computing similarity matrix.\n",
      "Estimating biases using sgd...\n",
      "Estimating biases using sgd...\n",
      "Estimating biases using sgd...\n",
      "Computing the pearson_baseline similarity matrix...\n",
      "Done computing similarity matrix.\n",
      "Computing the pearson_baseline similarity matrix...\n",
      "Done computing similarity matrix.\n",
      "Estimating biases usingComputing the pearson_baseline similarity matrix...\n",
      " sgd...\n",
      "Done computing similarity matrix.\n"
     ]
    },
    {
     "name": "stderr",
     "output_type": "stream",
     "text": [
      "[I 2023-11-10 18:57:09,794] Trial 92 finished with values: [0.925025478610386, 0.7224656120752965, 0.7188204917982404] and parameters: {'k': 35, 'min_k': 2, 'sim_options_name': 'pearson_baseline', 'user_based': False, 'min_support': 5, 'shrinkage': 124, 'bsl_method': 'sgd', 'bsl_n_epochs': 37, 'sgd_reg': 0.19952031651264063, 'sgd_learning_rate': 0.006709553986517035}. \n"
     ]
    },
    {
     "name": "stdout",
     "output_type": "stream",
     "text": [
      "Computing the pearson_baseline similarity matrix...\n",
      "Done computing similarity matrix.\n",
      "Estimating biases using sgd...\n"
     ]
    },
    {
     "name": "stderr",
     "output_type": "stream",
     "text": [
      "[I 2023-11-10 18:57:17,674] Trial 93 finished with values: [0.9268204989963099, 0.7236354825739649, 0.7184836849118357] and parameters: {'k': 35, 'min_k': 2, 'sim_options_name': 'pearson_baseline', 'user_based': False, 'min_support': 5, 'shrinkage': 137, 'bsl_method': 'sgd', 'bsl_n_epochs': 37, 'sgd_reg': 0.16906765576746874, 'sgd_learning_rate': 0.006705552136672074}. \n"
     ]
    },
    {
     "name": "stdout",
     "output_type": "stream",
     "text": [
      "Estimating biases using sgd...\n",
      "Computing the pearson_baseline similarity matrix...\n",
      "Done computing similarity matrix.\n",
      "Computing the pearson_baseline similarity matrix...\n",
      "Done computing similarity matrix.\n",
      "Estimating biases using sgd...\n",
      "Estimating biases using sgd...\n",
      "Estimating biases using sgd...\n",
      "Computing the pearson_baseline similarity matrix...\n",
      "Computing the pearson_baseline similarity matrix...\n",
      "Done computing similarity matrix.\n",
      "Done computing similarity matrix.\n",
      "Estimating biases using sgd...\n",
      "Computing the pearson_baseline similarity matrix...\n",
      "Done computing similarity matrix.\n",
      "Computing the pearson_baseline similarity matrix...\n",
      "Done computing similarity matrix.\n"
     ]
    },
    {
     "name": "stderr",
     "output_type": "stream",
     "text": [
      "[I 2023-11-10 18:57:52,960] Trial 96 finished with values: [0.9281056846197785, 0.7252930685820451, 0.7183273846173821] and parameters: {'k': 42, 'min_k': 3, 'sim_options_name': 'pearson_baseline', 'user_based': False, 'min_support': 5, 'shrinkage': 124, 'bsl_method': 'sgd', 'bsl_n_epochs': 37, 'sgd_reg': 0.17944694556275742, 'sgd_learning_rate': 0.006850216033492736}. \n"
     ]
    },
    {
     "name": "stdout",
     "output_type": "stream",
     "text": [
      "Estimating biases using sgd...\n",
      "Estimating biases using sgd...\n"
     ]
    },
    {
     "name": "stderr",
     "output_type": "stream",
     "text": [
      "[I 2023-11-10 18:58:00,477] Trial 97 finished with values: [0.9258657989829935, 0.7235779278371178, 0.718784285632166] and parameters: {'k': 42, 'min_k': 3, 'sim_options_name': 'pearson_baseline', 'user_based': False, 'min_support': 5, 'shrinkage': 119, 'bsl_method': 'sgd', 'bsl_n_epochs': 37, 'sgd_reg': 0.1945858275339003, 'sgd_learning_rate': 0.006648705568823377}. \n"
     ]
    },
    {
     "name": "stdout",
     "output_type": "stream",
     "text": [
      "Computing the pearson_baseline similarity matrix...\n"
     ]
    },
    {
     "name": "stderr",
     "output_type": "stream",
     "text": [
      "[I 2023-11-10 18:58:02,664] Trial 95 finished with values: [0.9287454320991488, 0.7258870999009361, 0.7152724424324609] and parameters: {'k': 100, 'min_k': 2, 'sim_options_name': 'pearson_baseline', 'user_based': False, 'min_support': 5, 'shrinkage': 119, 'bsl_method': 'sgd', 'bsl_n_epochs': 37, 'sgd_reg': 0.1996183891995122, 'sgd_learning_rate': 0.0070531822164997945}. \n"
     ]
    },
    {
     "name": "stdout",
     "output_type": "stream",
     "text": [
      "Done computing similarity matrix.\n",
      "Computing the pearson_baseline similarity matrix...\n",
      "Done computing similarity matrix.\n"
     ]
    },
    {
     "name": "stderr",
     "output_type": "stream",
     "text": [
      "[I 2023-11-10 18:58:08,123] Trial 98 finished with values: [0.9255997692905341, 0.724122956749093, 0.7186402502507334] and parameters: {'k': 70, 'min_k': 3, 'sim_options_name': 'pearson_baseline', 'user_based': False, 'min_support': 5, 'shrinkage': 122, 'bsl_method': 'sgd', 'bsl_n_epochs': 37, 'sgd_reg': 0.18286505297800093, 'sgd_learning_rate': 0.006407743476523558}. \n",
      "[I 2023-11-10 18:58:12,767] Trial 99 finished with values: [0.926751543757278, 0.7239131485114292, 0.7192507562462996] and parameters: {'k': 42, 'min_k': 3, 'sim_options_name': 'pearson_baseline', 'user_based': False, 'min_support': 5, 'shrinkage': 122, 'bsl_method': 'sgd', 'bsl_n_epochs': 38, 'sgd_reg': 0.1972859643426868, 'sgd_learning_rate': 0.006655153202009401}. \n",
      "[I 2023-11-10 18:58:13,189] Trial 94 finished with values: [0.9262436545515073, 0.7240631565514828, 0.7164269721344784] and parameters: {'k': 67, 'min_k': 3, 'sim_options_name': 'pearson_baseline', 'user_based': False, 'min_support': 5, 'shrinkage': 116, 'bsl_method': 'sgd', 'bsl_n_epochs': 37, 'sgd_reg': 0.19584581207397156, 'sgd_learning_rate': 0.006858330968915012}. \n"
     ]
    }
   ],
   "source": [
    "# Define the objective function for hyperparameter optimization for KNNWithMeans\n",
    "def knn_with_means_objective(trial):\n",
    "    # Hyperparameters to optimize\n",
    "    k = trial.suggest_int('k', 20, 100)\n",
    "    min_k = trial.suggest_int('min_k', 1, 10)\n",
    "    sim_options = {\n",
    "        'name': trial.suggest_categorical('sim_options_name', ['msd', 'cosine', 'pearson', 'pearson_baseline']),\n",
    "        'user_based': trial.suggest_categorical('user_based', [False, True]),\n",
    "        'min_support': trial.suggest_int('min_support', 1, 5),\n",
    "    }\n",
    "    # Additional parameters for pearson_baseline\n",
    "    if sim_options['name'] == 'pearson_baseline':\n",
    "        sim_options['shrinkage'] = trial.suggest_int('shrinkage', 0, 200)\n",
    "    bsl_options = {}\n",
    "    if sim_options['name'] == 'pearson_baseline':\n",
    "            # Baseline options are used only with pearson_baseline similarity\n",
    "        bsl_method = trial.suggest_categorical('bsl_method', ['als', 'sgd'])\n",
    "        bsl_options['method'] = bsl_method\n",
    "        bsl_options['n_epochs'] = trial.suggest_int('bsl_n_epochs', 10, 50)  # Default is 10\n",
    "        if bsl_method == 'als':\n",
    "            bsl_options['reg_u'] = trial.suggest_float('als_reg_u', 1, 20)  # Default is 15\n",
    "            bsl_options['reg_i'] = trial.suggest_float('als_reg_i', 1, 20)  # Default is 10\n",
    "        elif bsl_method == 'sgd':\n",
    "            bsl_options['reg'] = trial.suggest_float('sgd_reg', 0.01, 0.2)  # Default is 0.02\n",
    "            bsl_options['learning_rate'] = trial.suggest_float('sgd_learning_rate', 0.001, 0.01)  # Default is 0.005\n",
    "    # Instantiate the KNNBasic algorithm with the suggested parameters\n",
    "    algo = KNNWithMeans(k=k, min_k=min_k, sim_options=sim_options,bsl_options=bsl_options if bsl_options else None)\n",
    "\n",
    "    # Perform cross-validation and return the mean RMSE\n",
    "    # Perform cross-validation and return the mean RMSE, MAE, and FCP\n",
    "    cv_results = cross_validate(algo, data, measures=['RMSE', 'MAE', 'FCP'], cv=5, verbose=False)\n",
    "    mean_rmse = np.mean(cv_results['test_rmse'])\n",
    "    mean_mae = np.mean(cv_results['test_mae'])\n",
    "    mean_fcp = np.mean(cv_results['test_fcp'])\n",
    "\n",
    "    return mean_rmse, mean_mae, mean_fcp\n",
    "\n",
    "# Create a multi-objective study object and optimize the objective function\n",
    "study = optuna.create_study(directions=['minimize', 'minimize', 'maximize'], sampler=optuna.samplers.TPESampler(seed=42))\n",
    "study.optimize(knn_with_means_objective, n_trials=100,n_jobs=-1)  # Number of trials can be adjusted\n",
    "\n",
    "# Output the Pareto-optimal solutions\n",
    "pareto_front = study.best_trials\n",
    "\n",
    "# Save the Pareto-optimal solutions and their parameters to a file\n",
    "with open('pareto_front_trials_and_params_KNNWithMeans.txt', 'w') as f:\n",
    "    for trial in pareto_front:\n",
    "        f.write(f\"KNNWithMeans\")\n",
    "        f.write(f\"Trial#{trial.number}\\n\")\n",
    "        f.write(f\"RMSE: {trial.values[0]}\\n\")\n",
    "        f.write(f\"MAE: {trial.values[1]}\\n\")\n",
    "        f.write(f\"FCP: {trial.values[2]}\\n\")\n",
    "        f.write(f\"Parameters: {trial.params}\\n\\n\")"
   ]
  },
  {
   "cell_type": "code",
   "execution_count": 4,
   "metadata": {},
   "outputs": [
    {
     "name": "stderr",
     "output_type": "stream",
     "text": [
      "[I 2023-11-10 18:58:13,221] A new study created in memory with name: no-name-0242c075-c8f5-437c-9e8b-3829560dfe63\n"
     ]
    },
    {
     "name": "stdout",
     "output_type": "stream",
     "text": [
      "Computing the msd similarity matrix...Computing the cosine similarity matrix...\n",
      "\n",
      "Done computing similarity matrix.\n",
      "Done computing similarity matrix.\n",
      "Estimating biases using als...\n",
      "Estimating biases using sgd...\n",
      "Computing the msd similarity matrix...\n",
      "Computing the msd similarity matrix...\n",
      "Done computing similarity matrix.\n",
      "Done computing similarity matrix.\n",
      "Computing the cosine similarity matrix...\n",
      "Computing the pearson similarity matrix...\n",
      "Computing the pearson_baseline similarity matrix...\n",
      "Done computing similarity matrix.\n",
      "Done computing similarity matrix.\n",
      "Done computing similarity matrix.\n",
      "Computing the pearson_baseline similarity matrix...\n",
      "Computing the pearson similarity matrix...\n",
      "Done computing similarity matrix.\n",
      "Done computing similarity matrix.\n",
      "Computing the cosine similarity matrix...\n",
      "Done computing similarity matrix.\n",
      "Computing the pearson similarity matrix...\n",
      "Done computing similarity matrix.\n",
      "Computing the pearson similarity matrix...\n",
      "Computing the msd similarity matrix...\n",
      "Computing the pearson similarity matrix...\n",
      "Done computing similarity matrix.\n",
      "Done computing similarity matrix.\n",
      "Done computing similarity matrix.\n",
      "Computing the msd similarity matrix...\n",
      "Done computing similarity matrix.\n",
      "Estimating biases using sgd...\n",
      "Computing the msd similarity matrix...\n",
      "Done computing similarity matrix.\n",
      "Computing the pearson_baseline similarity matrix...\n",
      "Done computing similarity matrix.\n",
      "Computing the cosine similarity matrix...\n",
      "Estimating biases using sgd...\n",
      "Computing the cosine similarity matrix...\n",
      "Done computing similarity matrix.\n",
      "Done computing similarity matrix.\n",
      "Computing the pearson_baseline similarity matrix...\n",
      "Done computing similarity matrix.\n",
      "Computing the msd similarity matrix...\n",
      "Done computing similarity matrix.\n",
      "Computing the pearson similarity matrix...\n",
      "Computing the pearson similarity matrix...\n",
      "Computing the pearson similarity matrix...\n",
      "Done computing similarity matrix.\n",
      "Done computing similarity matrix.\n",
      "Done computing similarity matrix.\n",
      "Estimating biases using als...\n",
      "Computing the pearson_baseline similarity matrix...\n",
      "Done computing similarity matrix.Computing the msd similarity matrix...\n",
      "\n",
      "Done computing similarity matrix.\n",
      "Computing the msd similarity matrix...\n",
      "Done computing similarity matrix.\n",
      "Computing the pearson similarity matrix...\n",
      "Done computing similarity matrix.\n",
      "Computing the msd similarity matrix...\n",
      "Done computing similarity matrix.\n",
      "Computing the pearson similarity matrix...\n",
      "Done computing similarity matrix.\n",
      "Computing the msd similarity matrix...\n",
      "Done computing similarity matrix.\n",
      "Computing the cosine similarity matrix...\n",
      "Done computing similarity matrix.\n",
      "Computing the cosine similarity matrix...\n",
      "Done computing similarity matrix.\n",
      "Computing the pearson similarity matrix...\n",
      "Estimating biases using sgd...\n",
      "Done computing similarity matrix.\n",
      "Computing the pearson_baseline similarity matrix...\n",
      "Computing the cosine similarity matrix...Done computing similarity matrix.\n",
      "\n",
      "Estimating biases using sgd...\n",
      "Done computing similarity matrix.\n",
      "Computing the pearson similarity matrix...\n",
      "Computing the pearson similarity matrix...\n",
      "Done computing similarity matrix.\n",
      "Computing the msd similarity matrix...\n",
      "Computing the msd similarity matrix...\n",
      "Done computing similarity matrix.\n",
      "Done computing similarity matrix.\n",
      "Done computing similarity matrix.\n",
      "Computing the pearson_baseline similarity matrix...\n",
      "Done computing similarity matrix.\n",
      "Computing the msd similarity matrix...\n",
      "Estimating biases using als...\n",
      "Done computing similarity matrix.\n",
      "Computing the pearson_baseline similarity matrix...\n",
      "Done computing similarity matrix.\n",
      "Computing the msd similarity matrix...\n",
      "Done computing similarity matrix.\n",
      "Computing the pearson similarity matrix...\n",
      "Done computing similarity matrix.Computing the pearson similarity matrix...\n",
      "\n",
      "Done computing similarity matrix.\n",
      "Computing the msd similarity matrix...\n",
      "Computing the pearson similarity matrix...\n",
      "Done computing similarity matrix.Done computing similarity matrix.\n",
      "\n",
      "Computing the cosine similarity matrix...\n",
      "Done computing similarity matrix.\n",
      "Computing the msd similarity matrix...\n",
      "Done computing similarity matrix.\n",
      "Computing the msd similarity matrix...\n",
      "Done computing similarity matrix.\n",
      "Computing the pearson similarity matrix...\n",
      "Done computing similarity matrix.\n",
      "Estimating biases using sgd...\n",
      "Computing the cosine similarity matrix...\n",
      "Done computing similarity matrix.\n",
      "Computing the cosine similarity matrix...\n",
      "Done computing similarity matrix.\n",
      "Computing the pearson_baseline similarity matrix...\n",
      "Done computing similarity matrix.\n",
      "Computing the pearson similarity matrix...\n",
      "Done computing similarity matrix.\n",
      "Computing the msd similarity matrix...\n",
      "Done computing similarity matrix.\n",
      "Estimating biases using als...\n",
      "Computing the pearson_baseline similarity matrix...\n",
      "Done computing similarity matrix.\n",
      "Estimating biases using sgd...\n",
      "Computing the pearson similarity matrix...\n"
     ]
    },
    {
     "name": "stderr",
     "output_type": "stream",
     "text": [
      "[I 2023-11-10 19:02:18,966] Trial 0 finished with values: [0.9531459445828787, 0.7480042523974031, 0.6954924903721141] and parameters: {'k': 25, 'min_k': 7, 'sim_options_name': 'msd', 'user_based': True, 'min_support': 4}. \n"
     ]
    },
    {
     "name": "stdout",
     "output_type": "stream",
     "text": [
      "Done computing similarity matrix.\n",
      "Computing the pearson_baseline similarity matrix...\n",
      "Done computing similarity matrix.\n",
      "Estimating biases using als...\n",
      "Computing the msd similarity matrix...Computing the pearson_baseline similarity matrix...\n",
      "Computing the pearson similarity matrix...\n",
      "\n",
      "Done computing similarity matrix.\n",
      "Done computing similarity matrix.\n",
      "Done computing similarity matrix.\n",
      "Computing the pearson similarity matrix...\n",
      "Computing the cosine similarity matrix...\n",
      "Done computing similarity matrix.\n",
      "Done computing similarity matrix.\n",
      "Computing the msd similarity matrix...\n",
      "Done computing similarity matrix.\n",
      "Computing the msd similarity matrix...\n",
      "Done computing similarity matrix.\n",
      "Computing the cosine similarity matrix...Estimating biases using sgd...\n",
      "\n",
      "Computing the cosine similarity matrix...\n",
      "Done computing similarity matrix.\n",
      "Done computing similarity matrix.\n",
      "Computing the pearson similarity matrix...\n",
      "Computing the pearson_baseline similarity matrix...\n",
      "Done computing similarity matrix.\n"
     ]
    },
    {
     "name": "stderr",
     "output_type": "stream",
     "text": [
      "[I 2023-11-10 19:03:14,871] Trial 12 finished with values: [0.9479316200516923, 0.7396111062590588, 0.7078851922520785] and parameters: {'k': 39, 'min_k': 1, 'sim_options_name': 'pearson', 'user_based': True, 'min_support': 2}. \n"
     ]
    },
    {
     "name": "stdout",
     "output_type": "stream",
     "text": [
      "Done computing similarity matrix.\n",
      "Computing the msd similarity matrix...\n",
      "Done computing similarity matrix.\n",
      "Computing the msd similarity matrix...\n",
      "Estimating biases using als...\n",
      "Computing the pearson similarity matrix...\n",
      "Done computing similarity matrix.\n",
      "Done computing similarity matrix.Computing the pearson_baseline similarity matrix...\n",
      "\n",
      "Done computing similarity matrix.\n",
      "Estimating biases using sgd...\n",
      "Computing the pearson_baseline similarity matrix...\n",
      "Done computing similarity matrix.\n",
      "Computing the msd similarity matrix...\n",
      "Done computing similarity matrix.\n",
      "Computing the pearson similarity matrix...\n",
      "Done computing similarity matrix.\n"
     ]
    },
    {
     "name": "stderr",
     "output_type": "stream",
     "text": [
      "[I 2023-11-10 19:03:56,161] Trial 7 finished with values: [0.950854797527317, 0.7473405830368683, 0.7010306822479834] and parameters: {'k': 49, 'min_k': 2, 'sim_options_name': 'cosine', 'user_based': True, 'min_support': 3}. \n"
     ]
    },
    {
     "name": "stdout",
     "output_type": "stream",
     "text": [
      "Estimating biases using als...\n",
      "Computing the msd similarity matrix...\n",
      "Done computing similarity matrix.\n",
      "Computing the pearson_baseline similarity matrix...\n",
      "Done computing similarity matrix.\n",
      "Computing the cosine similarity matrix...\n",
      "Done computing similarity matrix.\n",
      "Computing the pearson similarity matrix...\n",
      "Done computing similarity matrix.\n"
     ]
    },
    {
     "name": "stderr",
     "output_type": "stream",
     "text": [
      "[I 2023-11-10 19:04:14,692] Trial 14 finished with values: [0.9441519830558489, 0.7372235436576138, 0.7067914393870545] and parameters: {'k': 65, 'min_k': 4, 'sim_options_name': 'pearson', 'user_based': True, 'min_support': 4}. \n",
      "[I 2023-11-10 19:04:15,606] Trial 1 finished with values: [0.9509415654387242, 0.7463518340277324, 0.6994819797543872] and parameters: {'k': 78, 'min_k': 2, 'sim_options_name': 'cosine', 'user_based': True, 'min_support': 5}. \n",
      "[I 2023-11-10 19:04:16,300] Trial 4 finished with values: [0.9523023399081758, 0.7470158021270832, 0.6941661012160105] and parameters: {'k': 78, 'min_k': 9, 'sim_options_name': 'msd', 'user_based': True, 'min_support': 3}. \n",
      "[I 2023-11-10 19:04:17,183] Trial 5 finished with values: [0.9236336714329877, 0.721994979077771, 0.7199527379717315] and parameters: {'k': 43, 'min_k': 9, 'sim_options_name': 'pearson_baseline', 'user_based': False, 'min_support': 1, 'shrinkage': 172, 'bsl_method': 'sgd', 'bsl_n_epochs': 11, 'sgd_reg': 0.1565963020346267, 'sgd_learning_rate': 0.006666792269836813}. \n"
     ]
    },
    {
     "name": "stdout",
     "output_type": "stream",
     "text": [
      "Estimating biases using als...\n",
      "Computing the pearson_baseline similarity matrix...\n",
      "Done computing similarity matrix.\n",
      "Estimating biases using als...\n",
      "Computing the cosine similarity matrix...\n",
      "Done computing similarity matrix.\n",
      "Computing the msd similarity matrix...\n",
      "Done computing similarity matrix.\n"
     ]
    },
    {
     "name": "stderr",
     "output_type": "stream",
     "text": [
      "[I 2023-11-10 19:04:29,628] Trial 13 finished with values: [0.9498094015188718, 0.7448466524154191, 0.7017340692785325] and parameters: {'k': 63, 'min_k': 1, 'sim_options_name': 'msd', 'user_based': True, 'min_support': 1}. \n"
     ]
    },
    {
     "name": "stdout",
     "output_type": "stream",
     "text": [
      "Computing the pearson_baseline similarity matrix...\n",
      "Done computing similarity matrix.\n",
      "Computing the cosine similarity matrix...\n",
      "Computing the msd similarity matrix...\n",
      "Done computing similarity matrix.\n",
      "Computing the msd similarity matrix...Done computing similarity matrix.\n",
      "\n",
      "Done computing similarity matrix.\n"
     ]
    },
    {
     "name": "stderr",
     "output_type": "stream",
     "text": [
      "[I 2023-11-10 19:04:43,958] Trial 2 finished with values: [0.9287944410118347, 0.7270027768634199, 0.7133373104098661] and parameters: {'k': 51, 'min_k': 2, 'sim_options_name': 'pearson_baseline', 'user_based': False, 'min_support': 2, 'shrinkage': 10, 'bsl_method': 'als', 'bsl_n_epochs': 16, 'als_reg_u': 16.04202508705084, 'als_reg_i': 11.323771357922588}. \n",
      "[I 2023-11-10 19:04:45,872] Trial 6 finished with values: [0.9394082620932511, 0.7364800214901814, 0.7035481049051523] and parameters: {'k': 72, 'min_k': 8, 'sim_options_name': 'pearson', 'user_based': False, 'min_support': 1}. \n"
     ]
    },
    {
     "name": "stdout",
     "output_type": "stream",
     "text": [
      "Estimating biases using sgd...\n",
      "Estimating biases using sgd...\n"
     ]
    },
    {
     "name": "stderr",
     "output_type": "stream",
     "text": [
      "[I 2023-11-10 19:04:57,464] Trial 15 finished with values: [0.9385022784225437, 0.7356219283502158, 0.7029158502938059] and parameters: {'k': 74, 'min_k': 1, 'sim_options_name': 'msd', 'user_based': False, 'min_support': 3}. \n",
      "[I 2023-11-10 19:05:04,657] Trial 8 finished with values: [0.9402096664482233, 0.7368584910780978, 0.7017960308312293] and parameters: {'k': 68, 'min_k': 3, 'sim_options_name': 'pearson', 'user_based': False, 'min_support': 1}. \n"
     ]
    },
    {
     "name": "stdout",
     "output_type": "stream",
     "text": [
      "Estimating biases using sgd...\n",
      "Estimating biases using sgd...\n",
      "Estimating biases using als...\n",
      "Computing the cosine similarity matrix...\n",
      "Computing the pearson_baseline similarity matrix...\n",
      "Computing the pearson_baseline similarity matrix...\n",
      "Done computing similarity matrix.\n",
      "Done computing similarity matrix.\n"
     ]
    },
    {
     "name": "stderr",
     "output_type": "stream",
     "text": [
      "[I 2023-11-10 19:05:12,453] Trial 3 finished with values: [0.9370609551219615, 0.7354595015736134, 0.6998818381782325] and parameters: {'k': 78, 'min_k': 7, 'sim_options_name': 'msd', 'user_based': False, 'min_support': 1}. \n"
     ]
    },
    {
     "name": "stdout",
     "output_type": "stream",
     "text": [
      "Computing the pearson_baseline similarity matrix...\n",
      "Done computing similarity matrix.\n",
      "Done computing similarity matrix.\n",
      "Computing the pearson_baseline similarity matrix...\n",
      "Done computing similarity matrix.\n"
     ]
    },
    {
     "name": "stderr",
     "output_type": "stream",
     "text": [
      "[I 2023-11-10 19:05:21,332] Trial 11 finished with values: [0.9394275206744458, 0.7370100324225813, 0.7024527768615597] and parameters: {'k': 74, 'min_k': 4, 'sim_options_name': 'pearson', 'user_based': False, 'min_support': 1}. \n"
     ]
    },
    {
     "name": "stdout",
     "output_type": "stream",
     "text": [
      "Estimating biases using sgd...\n",
      "Computing the pearson_baseline similarity matrix...\n",
      "Done computing similarity matrix.\n",
      "Estimating biases using als...\n",
      "Computing the pearson_baseline similarity matrix...\n",
      "Done computing similarity matrix.\n",
      "Computing the pearson_baseline similarity matrix...\n",
      "Done computing similarity matrix.\n",
      "Estimating biases using sgd...\n",
      "Computing the cosine similarity matrix...\n",
      "Done computing similarity matrix.\n",
      "Computing the pearson_baseline similarity matrix...\n",
      "Done computing similarity matrix.\n",
      "Estimating biases using sgd...\n",
      "Estimating biases using als...\n",
      "Computing the pearson_baseline similarity matrix...\n",
      "Computing the msd similarity matrix...\n"
     ]
    },
    {
     "name": "stderr",
     "output_type": "stream",
     "text": [
      "[I 2023-11-10 19:05:51,325] Trial 10 finished with values: [0.9438843805304395, 0.7393437286667214, 0.7004074562900848] and parameters: {'k': 45, 'min_k': 2, 'sim_options_name': 'cosine', 'user_based': False, 'min_support': 5}. \n"
     ]
    },
    {
     "name": "stdout",
     "output_type": "stream",
     "text": [
      "Done computing similarity matrix.Done computing similarity matrix.\n",
      "\n",
      "Computing the msd similarity matrix...\n",
      "Done computing similarity matrix.\n",
      "Computing the msd similarity matrix...\n",
      "Done computing similarity matrix.Computing the pearson_baseline similarity matrix...\n",
      "\n",
      "Done computing similarity matrix.\n",
      "Estimating biases using sgd...\n",
      "Estimating biases using sgd...\n",
      "Computing the pearson_baseline similarity matrix...\n",
      "Done computing similarity matrix.\n",
      "Estimating biases using sgd...\n",
      "Estimating biases using sgd...\n",
      "Computing the cosine similarity matrix...\n",
      "Computing the pearson_baseline similarity matrix...Done computing similarity matrix.\n",
      "\n",
      "Computing the pearson_baseline similarity matrix...\n",
      "Done computing similarity matrix.\n",
      "Estimating biases using als...\n",
      "Done computing similarity matrix.\n",
      "Computing the pearson_baseline similarity matrix...\n"
     ]
    },
    {
     "name": "stderr",
     "output_type": "stream",
     "text": [
      "[I 2023-11-10 19:06:42,983] Trial 9 finished with values: [0.9331612763371435, 0.7306655148195411, 0.7113790233127963] and parameters: {'k': 92, 'min_k': 9, 'sim_options_name': 'pearson_baseline', 'user_based': False, 'min_support': 5, 'shrinkage': 29, 'bsl_method': 'sgd', 'bsl_n_epochs': 33, 'sgd_reg': 0.1533297241335289, 'sgd_learning_rate': 0.008733343367184112}. \n"
     ]
    },
    {
     "name": "stdout",
     "output_type": "stream",
     "text": [
      "Estimating biases using als...\n",
      "Done computing similarity matrix.\n",
      "Computing the pearson_baseline similarity matrix...\n",
      "Done computing similarity matrix.\n",
      "Computing the pearson_baseline similarity matrix...\n",
      "Done computing similarity matrix.\n",
      "Computing the cosine similarity matrix...\n",
      "Computing the msd similarity matrix...\n",
      "Done computing similarity matrix.\n",
      "Done computing similarity matrix.\n",
      "Estimating biases using sgd...\n",
      "Estimating biases using sgd...\n",
      "Computing the pearson_baseline similarity matrix...Estimating biases using sgd...\n",
      "\n",
      "Computing the msd similarity matrix...Computing the pearson_baseline similarity matrix...\n",
      "Done computing similarity matrix.\n",
      "\n",
      "Done computing similarity matrix.\n",
      "Done computing similarity matrix.\n",
      "Computing the pearson_baseline similarity matrix...\n",
      "Done computing similarity matrix.\n",
      "Estimating biases using sgd...\n",
      "Computing the pearson_baseline similarity matrix...\n",
      "Done computing similarity matrix.\n",
      "Estimating biases using als...\n",
      "Computing the msd similarity matrix...\n",
      "Done computing similarity matrix.\n",
      "Estimating biases using sgd...\n",
      "Computing the cosine similarity matrix...\n",
      "Done computing similarity matrix.\n",
      "Computing the pearson_baseline similarity matrix...\n",
      "Done computing similarity matrix.\n",
      "Estimating biases using sgd...\n",
      "Computing the pearson_baseline similarity matrix...\n",
      "Done computing similarity matrix.\n",
      "Estimating biases using als...\n",
      "Estimating biases using als...\n",
      "Computing the pearson_baseline similarity matrix...\n",
      "Computing the pearson_baseline similarity matrix...\n",
      "Done computing similarity matrix.\n",
      "Done computing similarity matrix.\n",
      "Computing the msd similarity matrix...\n",
      "Done computing similarity matrix.\n",
      "Computing the pearson_baseline similarity matrix...\n",
      "Computing the cosine similarity matrix...\n",
      "Done computing similarity matrix.\n",
      "Estimating biases usingDone computing similarity matrix.\n",
      " sgd...\n",
      "Estimating biases using sgd...\n",
      "Computing the pearson_baseline similarity matrix...\n",
      "Done computing similarity matrix.\n",
      "Estimating biases using sgd...\n",
      "Computing the pearson_baseline similarity matrix...Computing the pearson_baseline similarity matrix...\n",
      "\n",
      "Computing the cosine similarity matrix...\n",
      "Estimating biases using sgd...\n",
      "Done computing similarity matrix.\n",
      "Done computing similarity matrix.\n",
      "Done computing similarity matrix.\n",
      "Computing the msd similarity matrix...\n",
      "Done computing similarity matrix.\n",
      "Computing the pearson_baseline similarity matrix...\n",
      "Estimating biases using sgd...\n",
      "Done computing similarity matrix.\n",
      "Estimating biases using sgd...\n",
      "Computing the pearson_baseline similarity matrix...\n",
      "Done computing similarity matrix.\n",
      "Estimating biases using sgd...\n",
      "Computing the msd similarity matrix...\n",
      "Done computing similarity matrix.\n",
      "Computing the pearson_baseline similarity matrix...\n",
      "Done computing similarity matrix.\n",
      "Estimating biases using als...\n",
      "Computing the pearson_baseline similarity matrix...\n",
      "Done computing similarity matrix.\n",
      "Computing the pearson_baseline similarity matrix...\n",
      "Done computing similarity matrix.\n"
     ]
    },
    {
     "name": "stderr",
     "output_type": "stream",
     "text": [
      "[I 2023-11-10 19:09:11,776] Trial 16 finished with values: [0.9270408754128481, 0.7245115451541257, 0.71839071469161] and parameters: {'k': 63, 'min_k': 7, 'sim_options_name': 'pearson_baseline', 'user_based': False, 'min_support': 4, 'shrinkage': 181, 'bsl_method': 'als', 'bsl_n_epochs': 18, 'als_reg_u': 9.468667138511448, 'als_reg_i': 16.988877255045537}. \n",
      "[I 2023-11-10 19:09:17,011] Trial 17 finished with values: [0.9375857580539231, 0.7343685242195291, 0.7021012235796613] and parameters: {'k': 55, 'min_k': 8, 'sim_options_name': 'msd', 'user_based': False, 'min_support': 4}. \n"
     ]
    },
    {
     "name": "stdout",
     "output_type": "stream",
     "text": [
      "Computing the cosine similarity matrix...\n",
      "Estimating biases using als...\n",
      "Done computing similarity matrix.\n"
     ]
    },
    {
     "name": "stderr",
     "output_type": "stream",
     "text": [
      "[I 2023-11-10 19:09:27,280] Trial 18 finished with values: [0.9446998353372955, 0.7398978131718317, 0.7008519060213356] and parameters: {'k': 34, 'min_k': 7, 'sim_options_name': 'cosine', 'user_based': False, 'min_support': 5}. \n"
     ]
    },
    {
     "name": "stdout",
     "output_type": "stream",
     "text": [
      "Estimating biases using sgd...\n",
      "Computing the pearson_baseline similarity matrix...\n",
      "Estimating biases using sgd...\n",
      "Done computing similarity matrix.\n",
      "Computing the pearson_baseline similarity matrix...\n",
      "Done computing similarity matrix.\n",
      "Estimating biases using sgd...\n",
      "Computing the pearson_baseline similarity matrix...\n",
      "Computing the pearson_baseline similarity matrix...\n",
      "Done computing similarity matrix.\n",
      "Done computing similarity matrix.\n",
      "Estimating biases using sgd...\n",
      "Estimating biases usingComputing the msd similarity matrix...\n",
      " sgd...\n",
      "Done computing similarity matrix.\n",
      "Estimating biases using sgd...\n",
      "Computing the pearson_baseline similarity matrix...\n",
      "Computing the pearson_baseline similarity matrix...\n",
      "Estimating biases using sgd...\n",
      "Done computing similarity matrix.\n",
      "Estimating biases using sgd...\n",
      "Done computing similarity matrix.\n",
      "Estimating biases using sgd...\n",
      "Computing the msd similarity matrix...\n",
      "Done computing similarity matrix.\n",
      "Computing the pearson_baseline similarity matrix...\n",
      "Estimating biases usingComputing the pearson_baseline similarity matrix...\n",
      " sgd...\n",
      "Done computing similarity matrix.Done computing similarity matrix.\n",
      "\n",
      "Computing the pearson_baseline similarity matrix...\n",
      "Done computing similarity matrix.\n",
      "Estimating biases using sgd...\n",
      "Computing the pearson_baseline similarity matrix...Estimating biases using als...\n",
      "\n",
      "Computing the pearson_baseline similarity matrix...\n",
      "Done computing similarity matrix.\n",
      "Done computing similarity matrix.\n",
      "Computing the pearson_baseline similarity matrix...\n",
      "Computing the pearson_baseline similarity matrix...\n",
      "Done computing similarity matrix.\n",
      "Done computing similarity matrix.\n"
     ]
    },
    {
     "name": "stderr",
     "output_type": "stream",
     "text": [
      "[I 2023-11-10 19:10:36,180] Trial 20 finished with values: [0.9454248506722855, 0.7408425770952498, 0.7032953601396952] and parameters: {'k': 60, 'min_k': 2, 'sim_options_name': 'cosine', 'user_based': False, 'min_support': 5}. \n"
     ]
    },
    {
     "name": "stdout",
     "output_type": "stream",
     "text": [
      "Estimating biases using sgd...\n"
     ]
    },
    {
     "name": "stderr",
     "output_type": "stream",
     "text": [
      "[I 2023-11-10 19:10:38,978] Trial 19 finished with values: [0.9423300166007209, 0.7337991091819827, 0.6978130097386271] and parameters: {'k': 91, 'min_k': 9, 'sim_options_name': 'pearson_baseline', 'user_based': True, 'min_support': 4, 'shrinkage': 77, 'bsl_method': 'als', 'bsl_n_epochs': 13, 'als_reg_u': 14.208884852498056, 'als_reg_i': 17.141617307782738}. \n"
     ]
    },
    {
     "name": "stdout",
     "output_type": "stream",
     "text": [
      "Estimating biases using sgd...\n",
      "Computing the pearson_baseline similarity matrix...\n",
      "Done computing similarity matrix.\n",
      "Computing the pearson_baseline similarity matrix...\n",
      "Done computing similarity matrix.\n",
      "Estimating biases usingEstimating biases using sgd...\n",
      " sgd...\n",
      "Computing the pearson_baseline similarity matrix...\n",
      "Computing the pearson_baseline similarity matrix...\n",
      "Done computing similarity matrix.Estimating biases using sgd...\n",
      "\n",
      "Estimating biases using sgd...\n",
      "Done computing similarity matrix.\n",
      "Computing the pearson_baseline similarity matrix...\n",
      "Computing the pearson_baseline similarity matrix...\n",
      "Done computing similarity matrix.\n",
      "Done computing similarity matrix.\n"
     ]
    },
    {
     "name": "stderr",
     "output_type": "stream",
     "text": [
      "[I 2023-11-10 19:11:08,464] Trial 23 finished with values: [0.9362127584345764, 0.7335869203020899, 0.7002608946715148] and parameters: {'k': 55, 'min_k': 5, 'sim_options_name': 'msd', 'user_based': False, 'min_support': 2}. \n",
      "[I 2023-11-10 19:11:11,183] Trial 25 finished with values: [0.9245723819681425, 0.7216231423500963, 0.7208970278999371] and parameters: {'k': 20, 'min_k': 10, 'sim_options_name': 'pearson_baseline', 'user_based': False, 'min_support': 2, 'shrinkage': 194, 'bsl_method': 'sgd', 'bsl_n_epochs': 48, 'sgd_reg': 0.1631645050539698, 'sgd_learning_rate': 0.0067825037127801375}. \n",
      "[I 2023-11-10 19:11:12,193] Trial 22 finished with values: [0.9431430953269786, 0.7395175530265565, 0.6998016806717441] and parameters: {'k': 93, 'min_k': 3, 'sim_options_name': 'msd', 'user_based': False, 'min_support': 5}. \n"
     ]
    },
    {
     "name": "stdout",
     "output_type": "stream",
     "text": [
      "Estimating biases using sgd...\n",
      "Estimating biases using sgd...\n",
      "Estimating biases using sgd...\n"
     ]
    },
    {
     "name": "stderr",
     "output_type": "stream",
     "text": [
      "[I 2023-11-10 19:11:23,216] Trial 21 finished with values: [0.9275365103426207, 0.7241010579997484, 0.7173425069199201] and parameters: {'k': 61, 'min_k': 1, 'sim_options_name': 'pearson_baseline', 'user_based': False, 'min_support': 4, 'shrinkage': 85, 'bsl_method': 'als', 'bsl_n_epochs': 42, 'als_reg_u': 13.964112345278902, 'als_reg_i': 11.236129716715132}. \n"
     ]
    },
    {
     "name": "stdout",
     "output_type": "stream",
     "text": [
      "Estimating biases using sgd...\n",
      "Computing the pearson_baseline similarity matrix...\n",
      "Computing the pearson_baseline similarity matrix...\n",
      "Computing the pearson_baseline similarity matrix...\n",
      "Done computing similarity matrix.\n",
      "Done computing similarity matrix.\n",
      "Done computing similarity matrix.\n",
      "Estimating biases using sgd...\n",
      "Computing the pearson_baseline similarity matrix...\n",
      "Estimating biases using sgd...\n",
      "Done computing similarity matrix.\n",
      "Estimating biases using sgd...\n",
      "Computing the pearson_baseline similarity matrix...\n",
      "Estimating biases using sgd...\n",
      "Estimating biases using sgd...\n",
      "Done computing similarity matrix.\n",
      "Estimating biases using sgd...\n",
      "Estimating biases using sgd...\n",
      "Computing the pearson_baseline similarity matrix...\n",
      "Done computing similarity matrix.\n",
      "Computing the pearson_baseline similarity matrix...\n",
      "Computing the pearson_baseline similarity matrix...\n",
      "Done computing similarity matrix.\n",
      "Done computing similarity matrix.\n",
      "Computing the pearson_baseline similarity matrix...\n",
      "Done computing similarity matrix.\n",
      "Estimating biases using sgd...\n",
      "Estimating biases using sgd...\n",
      "Computing the pearson_baseline similarity matrix...\n",
      "Done computing similarity matrix.\n",
      "Computing the pearson_baseline similarity matrix...\n",
      "Estimating biases using sgd...\n",
      "Estimating biases using sgd...\n",
      "Done computing similarity matrix.\n",
      "Computing the pearson_baseline similarity matrix...\n",
      "Done computing similarity matrix.\n",
      "Computing the pearson_baseline similarity matrix...\n",
      "Computing the pearson_baseline similarity matrix...\n",
      "Done computing similarity matrix.\n",
      "Done computing similarity matrix.\n",
      "Computing the pearson_baseline similarity matrix...\n",
      "Done computing similarity matrix.\n"
     ]
    },
    {
     "name": "stderr",
     "output_type": "stream",
     "text": [
      "[I 2023-11-10 19:12:24,484] Trial 26 finished with values: [0.9254638555606292, 0.7247201881926599, 0.7187555554868111] and parameters: {'k': 97, 'min_k': 10, 'sim_options_name': 'pearson_baseline', 'user_based': False, 'min_support': 1, 'shrinkage': 181, 'bsl_method': 'sgd', 'bsl_n_epochs': 10, 'sgd_reg': 0.16422336486385322, 'sgd_learning_rate': 0.006720422142976292}. \n"
     ]
    },
    {
     "name": "stdout",
     "output_type": "stream",
     "text": [
      "Estimating biases using sgd...\n",
      "Computing the pearson_baseline similarity matrix...\n",
      "Done computing similarity matrix.\n"
     ]
    },
    {
     "name": "stderr",
     "output_type": "stream",
     "text": [
      "[I 2023-11-10 19:12:42,599] Trial 28 finished with values: [0.9252743192949119, 0.7244103050655266, 0.7165726962406261] and parameters: {'k': 96, 'min_k': 10, 'sim_options_name': 'pearson_baseline', 'user_based': False, 'min_support': 2, 'shrinkage': 185, 'bsl_method': 'sgd', 'bsl_n_epochs': 10, 'sgd_reg': 0.1662078092136411, 'sgd_learning_rate': 0.006991206482395409}. \n",
      "[I 2023-11-10 19:12:45,048] Trial 29 finished with values: [0.925798241209922, 0.7251260579376423, 0.717318189208546] and parameters: {'k': 95, 'min_k': 10, 'sim_options_name': 'pearson_baseline', 'user_based': False, 'min_support': 2, 'shrinkage': 184, 'bsl_method': 'sgd', 'bsl_n_epochs': 12, 'sgd_reg': 0.16274186219387674, 'sgd_learning_rate': 0.006515299435390349}. \n"
     ]
    },
    {
     "name": "stdout",
     "output_type": "stream",
     "text": [
      "Estimating biases using sgd...\n",
      "Estimating biases using sgd...\n",
      "Computing the pearson_baseline similarity matrix...\n",
      "Done computing similarity matrix.\n",
      "Estimating biases using sgd...\n",
      "Estimating biases using sgd...\n",
      "Computing the pearson_baseline similarity matrix...\n",
      "Estimating biases usingDone computing similarity matrix.\n",
      "Computing the pearson_baseline similarity matrix... sgd...\n",
      "\n",
      "Computing the pearson_baseline similarity matrix...\n",
      "Done computing similarity matrix.\n",
      "Done computing similarity matrix.\n"
     ]
    },
    {
     "name": "stderr",
     "output_type": "stream",
     "text": [
      "[I 2023-11-10 19:13:00,292] Trial 27 finished with values: [0.9239641552336952, 0.722893463260384, 0.7192076515780096] and parameters: {'k': 99, 'min_k': 6, 'sim_options_name': 'pearson_baseline', 'user_based': False, 'min_support': 2, 'shrinkage': 185, 'bsl_method': 'sgd', 'bsl_n_epochs': 11, 'sgd_reg': 0.16714838773254906, 'sgd_learning_rate': 0.00651117351088716}. \n"
     ]
    },
    {
     "name": "stdout",
     "output_type": "stream",
     "text": [
      "Estimating biases using sgd...\n",
      "Estimating biases usingEstimating biases using sgd...\n",
      " sgd...\n"
     ]
    },
    {
     "name": "stderr",
     "output_type": "stream",
     "text": [
      "[I 2023-11-10 19:13:05,119] Trial 24 finished with values: [0.9255284933136659, 0.7246049016727298, 0.7181634088230384] and parameters: {'k': 99, 'min_k': 10, 'sim_options_name': 'pearson_baseline', 'user_based': False, 'min_support': 2, 'shrinkage': 184, 'bsl_method': 'sgd', 'bsl_n_epochs': 44, 'sgd_reg': 0.16336618965212976, 'sgd_learning_rate': 0.006815413763401241}. \n"
     ]
    },
    {
     "name": "stdout",
     "output_type": "stream",
     "text": [
      "Computing the pearson_baseline similarity matrix...\n",
      "Estimating biases using sgd...\n",
      "Estimating biases using sgd...\n",
      "Done computing similarity matrix.\n",
      "Computing the pearson_baseline similarity matrix...\n",
      "Done computing similarity matrix.\n",
      "Computing the pearson_baseline similarity matrix...\n",
      "Done computing similarity matrix.\n",
      "Estimating biases using sgd...\n",
      "Estimating biases using sgd...\n",
      "Estimating biases using sgd...\n",
      "Computing the pearson_baseline similarity matrix...\n",
      "Done computing similarity matrix.\n",
      "Computing the pearson_baseline similarity matrix...\n",
      "Done computing similarity matrix.\n",
      "Computing the pearson_baseline similarity matrix...\n",
      "Done computing similarity matrix.Computing the pearson_baseline similarity matrix...\n",
      "\n",
      "Estimating biases using sgd...\n",
      "Done computing similarity matrix.\n",
      "Computing the pearson_baseline similarity matrix...\n",
      "Done computing similarity matrix.\n",
      "Computing the pearson_baseline similarity matrix...\n",
      "Done computing similarity matrix.\n",
      "Estimating biases using sgd...\n",
      "Computing the pearson_baseline similarity matrix...\n",
      "Done computing similarity matrix.\n",
      "Estimating biases using sgd...\n",
      "Estimating biases using sgd...\n",
      "Estimating biases using sgd...\n",
      "Estimating biases using sgd...\n",
      "Computing the pearson_baseline similarity matrix...\n",
      "Computing the pearson_baseline similarity matrix...\n",
      "Estimating biases using sgd...\n",
      "Done computing similarity matrix.\n",
      "Done computing similarity matrix.\n",
      "Computing the pearson_baseline similarity matrix...\n",
      "Done computing similarity matrix.\n",
      "Computing the pearson_baseline similarity matrix...\n",
      "Computing the pearson_baseline similarity matrix...\n",
      "Computing the pearson_baseline similarity matrix...\n",
      "Done computing similarity matrix.\n",
      "Done computing similarity matrix.Done computing similarity matrix.\n",
      "\n",
      "Estimating biases using sgd...\n",
      "Estimating biases using sgd...\n",
      "Estimating biases using sgd...\n",
      "Computing the pearson_baseline similarity matrix...\n",
      "Done computing similarity matrix.\n",
      "Computing the pearson_baseline similarity matrix...\n",
      "Done computing similarity matrix.\n"
     ]
    },
    {
     "name": "stderr",
     "output_type": "stream",
     "text": [
      "[I 2023-11-10 19:14:30,015] Trial 31 finished with values: [0.9220720784331606, 0.7201639736961103, 0.7203946350464941] and parameters: {'k': 33, 'min_k': 6, 'sim_options_name': 'pearson_baseline', 'user_based': False, 'min_support': 2, 'shrinkage': 188, 'bsl_method': 'sgd', 'bsl_n_epochs': 10, 'sgd_reg': 0.1931503189173784, 'sgd_learning_rate': 0.0035473568061000706}. \n"
     ]
    },
    {
     "name": "stdout",
     "output_type": "stream",
     "text": [
      "Estimating biases using sgd...\n",
      "Estimating biases using sgd...\n",
      "Computing the pearson_baseline similarity matrix...\n",
      "Computing the pearson_baseline similarity matrix...\n",
      "Done computing similarity matrix.\n",
      "Done computing similarity matrix.\n",
      "Estimating biases using sgd...\n",
      "Estimating biases using sgd...\n",
      "Estimating biases using sgd...\n"
     ]
    },
    {
     "name": "stderr",
     "output_type": "stream",
     "text": [
      "[I 2023-11-10 19:14:48,708] Trial 33 finished with values: [0.9252708921256607, 0.7221006931359364, 0.7196763012864629] and parameters: {'k': 24, 'min_k': 10, 'sim_options_name': 'pearson_baseline', 'user_based': False, 'min_support': 2, 'shrinkage': 197, 'bsl_method': 'sgd', 'bsl_n_epochs': 10, 'sgd_reg': 0.18035824507173429, 'sgd_learning_rate': 0.003755006150333389}. \n"
     ]
    },
    {
     "name": "stdout",
     "output_type": "stream",
     "text": [
      "Estimating biases using sgd...\n",
      "Computing the pearson_baseline similarity matrix...\n"
     ]
    },
    {
     "name": "stderr",
     "output_type": "stream",
     "text": [
      "[I 2023-11-10 19:14:53,683] Trial 32 finished with values: [0.924163271390106, 0.7226129660732802, 0.7186809672837351] and parameters: {'k': 28, 'min_k': 10, 'sim_options_name': 'pearson_baseline', 'user_based': False, 'min_support': 2, 'shrinkage': 199, 'bsl_method': 'sgd', 'bsl_n_epochs': 12, 'sgd_reg': 0.1680103157533775, 'sgd_learning_rate': 0.003001828536166112}. \n"
     ]
    },
    {
     "name": "stdout",
     "output_type": "stream",
     "text": [
      "Done computing similarity matrix.\n",
      "Estimating biases using sgd...\n",
      "Estimating biases using sgd...\n"
     ]
    },
    {
     "name": "stderr",
     "output_type": "stream",
     "text": [
      "[I 2023-11-10 19:14:53,774] Trial 34 finished with values: [0.9253316786264042, 0.7221704658868718, 0.7193040196403736] and parameters: {'k': 22, 'min_k': 10, 'sim_options_name': 'pearson_baseline', 'user_based': False, 'min_support': 2, 'shrinkage': 200, 'bsl_method': 'sgd', 'bsl_n_epochs': 11, 'sgd_reg': 0.19888123080269232, 'sgd_learning_rate': 0.003899706928428691}. \n"
     ]
    },
    {
     "name": "stdout",
     "output_type": "stream",
     "text": [
      "Computing the pearson_baseline similarity matrix...\n",
      "Done computing similarity matrix.\n",
      "Computing the pearson_baseline similarity matrix...\n",
      "Computing the pearson_baseline similarity matrix...\n",
      "Done computing similarity matrix.\n",
      "Done computing similarity matrix.\n",
      "Computing the pearson_baseline similarity matrix...\n",
      "Estimating biases using sgd...\n",
      "Done computing similarity matrix.\n",
      "Computing the pearson_baseline similarity matrix...\n",
      "Done computing similarity matrix.\n",
      "Estimating biases using sgd...\n",
      "Computing the pearson_baseline similarity matrix...\n",
      "Computing the pearson_baseline similarity matrix...\n",
      "Done computing similarity matrix.\n"
     ]
    },
    {
     "name": "stderr",
     "output_type": "stream",
     "text": [
      "[I 2023-11-10 19:15:13,982] Trial 30 finished with values: [0.9251403704017477, 0.7241125325542435, 0.7181374220784499] and parameters: {'k': 93, 'min_k': 10, 'sim_options_name': 'pearson_baseline', 'user_based': False, 'min_support': 2, 'shrinkage': 181, 'bsl_method': 'sgd', 'bsl_n_epochs': 11, 'sgd_reg': 0.16234964646999292, 'sgd_learning_rate': 0.007041703835658469}. \n"
     ]
    },
    {
     "name": "stdout",
     "output_type": "stream",
     "text": [
      "Done computing similarity matrix.\n",
      "Computing the pearson_baseline similarity matrix...\n",
      "Done computing similarity matrix.\n",
      "Estimating biases using sgd...\n",
      "Estimating biases using sgd...\n",
      "Estimating biases using sgd...\n",
      "Estimating biases using sgd...\n",
      "Estimating biases using sgd...\n",
      "Computing the pearson_baseline similarity matrix...\n",
      "Done computing similarity matrix.\n",
      "Computing the pearson_baseline similarity matrix...\n",
      "Done computing similarity matrix.\n",
      "Estimating biases using sgd...\n",
      "Computing the pearson_baseline similarity matrix...\n",
      "Done computing similarity matrix.\n",
      "Computing the pearson_baseline similarity matrix...\n",
      "Done computing similarity matrix.\n",
      "Computing the pearson_baseline similarity matrix...\n",
      "Estimating biases using sgd...\n",
      "Done computing similarity matrix.\n",
      "Computing the pearson_baseline similarity matrix...\n",
      "Estimating biases using sgd...\n",
      "Done computing similarity matrix.\n",
      "Estimating biases using sgd...\n",
      "Estimating biases using sgd...\n",
      "Estimating biases using sgd...\n",
      "Estimating biases using sgd...\n"
     ]
    },
    {
     "name": "stderr",
     "output_type": "stream",
     "text": [
      "[I 2023-11-10 19:16:02,197] Trial 36 finished with values: [0.9250518781632726, 0.7219063398966211, 0.7207243633412093] and parameters: {'k': 21, 'min_k': 10, 'sim_options_name': 'pearson_baseline', 'user_based': False, 'min_support': 2, 'shrinkage': 162, 'bsl_method': 'sgd', 'bsl_n_epochs': 10, 'sgd_reg': 0.1954643120390973, 'sgd_learning_rate': 0.004128531304679634}. \n"
     ]
    },
    {
     "name": "stdout",
     "output_type": "stream",
     "text": [
      "Estimating biases using sgd...\n"
     ]
    },
    {
     "name": "stderr",
     "output_type": "stream",
     "text": [
      "[I 2023-11-10 19:16:03,483] Trial 35 finished with values: [0.9241568035107137, 0.7217307667773024, 0.7195586598469262] and parameters: {'k': 27, 'min_k': 10, 'sim_options_name': 'pearson_baseline', 'user_based': False, 'min_support': 2, 'shrinkage': 195, 'bsl_method': 'sgd', 'bsl_n_epochs': 10, 'sgd_reg': 0.1986418522066759, 'sgd_learning_rate': 0.0036213560641825547}. \n"
     ]
    },
    {
     "name": "stdout",
     "output_type": "stream",
     "text": [
      "Computing the pearson_baseline similarity matrix...\n",
      "Computing the pearson_baseline similarity matrix...\n",
      "Done computing similarity matrix.\n",
      "Done computing similarity matrix.\n",
      "Computing the pearson_baseline similarity matrix...\n",
      "Estimating biases using sgd...\n",
      "Estimating biases using sgd...\n",
      "Done computing similarity matrix.\n",
      "Computing the pearson_baseline similarity matrix...\n",
      "Done computing similarity matrix.\n",
      "Computing the pearson_baseline similarity matrix...\n",
      "Done computing similarity matrix.\n",
      "Computing the pearson_baseline similarity matrix...\n",
      "Done computing similarity matrix.\n",
      "Computing the pearson_baseline similarity matrix...\n",
      "Done computing similarity matrix.\n",
      "Computing the pearson_baseline similarity matrix...\n",
      "Done computing similarity matrix.\n",
      "Estimating biases using sgd...\n",
      "Computing the cosine similarity matrix...Computing the cosine similarity matrix...\n"
     ]
    },
    {
     "name": "stderr",
     "output_type": "stream",
     "text": [
      "[I 2023-11-10 19:16:33,713] Trial 37 finished with values: [0.924371915497986, 0.7220709713368223, 0.7203325435776329] and parameters: {'k': 27, 'min_k': 10, 'sim_options_name': 'pearson_baseline', 'user_based': False, 'min_support': 2, 'shrinkage': 196, 'bsl_method': 'sgd', 'bsl_n_epochs': 10, 'sgd_reg': 0.18581363098577286, 'sgd_learning_rate': 0.003674664458792833}. \n"
     ]
    },
    {
     "name": "stdout",
     "output_type": "stream",
     "text": [
      "\n",
      "Done computing similarity matrix.\n",
      "Estimating biases using sgd...\n",
      "Computing the pearson_baseline similarity matrix...\n",
      "Done computing similarity matrix.\n",
      "Done computing similarity matrix.\n",
      "Estimating biases using sgd...\n",
      "Computing the pearson_baseline similarity matrix...\n",
      "Done computing similarity matrix.\n",
      "Estimating biases using sgd...\n",
      "Computing the pearson_baseline similarity matrix...\n",
      "Done computing similarity matrix.\n",
      "Computing the pearson_baseline similarity matrix...\n",
      "Done computing similarity matrix.\n",
      "Computing the pearson_baseline similarity matrix...\n",
      "Done computing similarity matrix.\n",
      "Estimating biases using sgd...\n",
      "Estimating biases using sgd...\n",
      "Estimating biases using sgd...\n",
      "Computing the cosine similarity matrix...\n",
      "Estimating biases using sgd...\n",
      "Done computing similarity matrix.\n",
      "Computing the pearson_baseline similarity matrix...\n",
      "Done computing similarity matrix.\n",
      "Estimating biases using sgd...\n",
      "Estimating biases using sgd...\n",
      "Computing the pearson_baseline similarity matrix...\n",
      "Done computing similarity matrix.\n",
      "Computing the cosine similarity matrix...\n",
      "Done computing similarity matrix.\n",
      "Computing the pearson_baseline similarity matrix...\n",
      "Estimating biases using sgd...\n",
      "Done computing similarity matrix.\n",
      "Computing the pearson_baseline similarity matrix...\n",
      "Done computing similarity matrix.\n",
      "Estimating biases using sgd...\n",
      "Estimating biases using sgd...\n",
      "Computing the cosine similarity matrix...\n",
      "Done computing similarity matrix.Computing the pearson_baseline similarity matrix...\n",
      "\n"
     ]
    },
    {
     "name": "stderr",
     "output_type": "stream",
     "text": [
      "[I 2023-11-10 19:17:41,278] Trial 39 finished with values: [0.9255634903051249, 0.7219335430525109, 0.7203413729786756] and parameters: {'k': 20, 'min_k': 10, 'sim_options_name': 'pearson_baseline', 'user_based': False, 'min_support': 2, 'shrinkage': 194, 'bsl_method': 'sgd', 'bsl_n_epochs': 50, 'sgd_reg': 0.171620373613907, 'sgd_learning_rate': 0.005828022750611166}. \n"
     ]
    },
    {
     "name": "stdout",
     "output_type": "stream",
     "text": [
      "Computing the pearson_baseline similarity matrix...\n",
      "Done computing similarity matrix.\n",
      "Done computing similarity matrix.\n",
      "Computing the pearson_baseline similarity matrix...\n",
      "Done computing similarity matrix.\n"
     ]
    },
    {
     "name": "stderr",
     "output_type": "stream",
     "text": [
      "[I 2023-11-10 19:17:45,908] Trial 38 finished with values: [0.925810335575858, 0.7221977216950287, 0.7193843469995518] and parameters: {'k': 20, 'min_k': 10, 'sim_options_name': 'pearson_baseline', 'user_based': False, 'min_support': 2, 'shrinkage': 199, 'bsl_method': 'sgd', 'bsl_n_epochs': 50, 'sgd_reg': 0.17067811692015694, 'sgd_learning_rate': 0.006050415084475346}. \n"
     ]
    },
    {
     "name": "stdout",
     "output_type": "stream",
     "text": [
      "Estimating biases using sgd...\n",
      "Estimating biases using sgd...\n",
      "Computing the pearson_baseline similarity matrix...\n",
      "Done computing similarity matrix.\n",
      "Estimating biases using sgd...\n",
      "Computing the pearson_baseline similarity matrix...\n",
      "Done computing similarity matrix.\n",
      "Computing the pearson_baseline similarity matrix...\n",
      "Done computing similarity matrix.\n",
      "Computing the pearson_baseline similarity matrix...Computing the pearson_baseline similarity matrix...\n",
      "\n",
      "Done computing similarity matrix.\n",
      "Done computing similarity matrix.\n",
      "Computing the cosine similarity matrix...\n",
      "Computing the cosine similarity matrix...\n",
      "Done computing similarity matrix.\n",
      "Computing the cosine similarity matrix...\n",
      "Done computing similarity matrix.\n"
     ]
    },
    {
     "name": "stderr",
     "output_type": "stream",
     "text": [
      "[I 2023-11-10 19:18:13,555] Trial 40 finished with values: [0.9289420161293547, 0.7251075556150349, 0.7185242982315604] and parameters: {'k': 21, 'min_k': 10, 'sim_options_name': 'pearson_baseline', 'user_based': False, 'min_support': 2, 'shrinkage': 195, 'bsl_method': 'sgd', 'bsl_n_epochs': 50, 'sgd_reg': 0.1694630438835973, 'sgd_learning_rate': 0.0056322533679443966}. \n"
     ]
    },
    {
     "name": "stdout",
     "output_type": "stream",
     "text": [
      "Done computing similarity matrix.\n",
      "Estimating biases using sgd...\n",
      "Computing the cosine similarity matrix...\n",
      "Done computing similarity matrix.\n",
      "Estimating biases using sgd...\n",
      "Computing the cosine similarity matrix...\n",
      "Estimating biases using sgd...\n",
      "Done computing similarity matrix.\n",
      "Estimating biases usingComputing the pearson_baseline similarity matrix...\n",
      "Done computing similarity matrix.\n",
      " sgd...\n",
      "Computing the pearson_baseline similarity matrix...\n",
      "Done computing similarity matrix.\n",
      "Estimating biases using sgd...\n",
      "Estimating biases using sgd...\n",
      "Computing the cosine similarity matrix...\n",
      "Computing the pearson_baseline similarity matrix...\n",
      "Done computing similarity matrix.\n",
      "Done computing similarity matrix.\n",
      "Estimating biases using sgd...\n",
      "Computing the pearson_baseline similarity matrix...Computing the pearson_baseline similarity matrix...\n",
      "\n",
      "Computing the pearson_baseline similarity matrix...\n",
      "Done computing similarity matrix.\n",
      "Done computing similarity matrix.\n",
      "Estimating biases using sgd...\n",
      "Done computing similarity matrix.\n",
      "Estimating biases using sgd...\n",
      "Computing the pearson_baseline similarity matrix...\n",
      "Done computing similarity matrix.\n",
      "Computing the cosine similarity matrix...\n",
      "Done computing similarity matrix.\n",
      "Computing the cosine similarity matrix...\n",
      "Done computing similarity matrix.\n",
      "Computing the cosine similarity matrix...\n",
      "Done computing similarity matrix.\n"
     ]
    },
    {
     "name": "stderr",
     "output_type": "stream",
     "text": [
      "[I 2023-11-10 19:19:15,606] Trial 45 finished with values: [0.9419494696367334, 0.7314415870162018, 0.7014058899095987] and parameters: {'k': 20, 'min_k': 6, 'sim_options_name': 'pearson_baseline', 'user_based': True, 'min_support': 3, 'shrinkage': 134, 'bsl_method': 'sgd', 'bsl_n_epochs': 49, 'sgd_reg': 0.017595254320621187, 'sgd_learning_rate': 0.003825305187481278}. \n"
     ]
    },
    {
     "name": "stdout",
     "output_type": "stream",
     "text": [
      "Estimating biases using sgd...\n",
      "Computing the cosine similarity matrix...\n",
      "Computing the cosine similarity matrix...\n",
      "Done computing similarity matrix.\n",
      "Done computing similarity matrix.\n",
      "Computing the pearson_baseline similarity matrix...\n",
      "Computing the pearson_baseline similarity matrix...\n",
      "Done computing similarity matrix.\n",
      "Done computing similarity matrix.\n",
      "Estimating biases using sgd...\n",
      "Computing the pearson_baseline similarity matrix...\n",
      "Done computing similarity matrix.\n"
     ]
    },
    {
     "name": "stderr",
     "output_type": "stream",
     "text": [
      "[I 2023-11-10 19:19:35,501] Trial 47 finished with values: [0.9406876311544494, 0.7294420102404764, 0.7027284367863681] and parameters: {'k': 20, 'min_k': 6, 'sim_options_name': 'pearson_baseline', 'user_based': True, 'min_support': 3, 'shrinkage': 141, 'bsl_method': 'sgd', 'bsl_n_epochs': 23, 'sgd_reg': 0.017720754086828924, 'sgd_learning_rate': 0.003031522058800386}. \n",
      "[I 2023-11-10 19:19:37,838] Trial 43 finished with values: [0.9262329029123834, 0.7238032989957887, 0.7196256978321428] and parameters: {'k': 24, 'min_k': 10, 'sim_options_name': 'pearson_baseline', 'user_based': False, 'min_support': 2, 'shrinkage': 139, 'bsl_method': 'sgd', 'bsl_n_epochs': 50, 'sgd_reg': 0.023521506660441366, 'sgd_learning_rate': 0.002096458779658662}. \n"
     ]
    },
    {
     "name": "stdout",
     "output_type": "stream",
     "text": [
      "Computing the cosine similarity matrix...\n",
      "Computing the pearson_baseline similarity matrix...\n",
      "Done computing similarity matrix.Done computing similarity matrix.\n"
     ]
    },
    {
     "name": "stderr",
     "output_type": "stream",
     "text": [
      "[I 2023-11-10 19:19:45,567] Trial 42 finished with values: [0.9267530335659181, 0.7238874393793814, 0.7184283027048288] and parameters: {'k': 20, 'min_k': 10, 'sim_options_name': 'pearson_baseline', 'user_based': False, 'min_support': 2, 'shrinkage': 200, 'bsl_method': 'sgd', 'bsl_n_epochs': 49, 'sgd_reg': 0.01988785121956506, 'sgd_learning_rate': 0.005148407474803484}. \n"
     ]
    },
    {
     "name": "stdout",
     "output_type": "stream",
     "text": [
      "\n",
      "Estimating biases using sgd...\n",
      "Computing the cosine similarity matrix...\n",
      "Done computing similarity matrix.\n",
      "Computing the pearson_baseline similarity matrix...\n",
      "Done computing similarity matrix.\n",
      "Computing the cosine similarity matrix...\n",
      "Done computing similarity matrix.Computing the cosine similarity matrix...\n",
      "\n",
      "Done computing similarity matrix.\n",
      "Computing the cosine similarity matrix...\n",
      "Computing the cosine similarity matrix...\n",
      "Done computing similarity matrix.\n",
      "Estimating biases using sgd...\n",
      "Done computing similarity matrix.\n"
     ]
    },
    {
     "name": "stderr",
     "output_type": "stream",
     "text": [
      "[I 2023-11-10 19:20:09,309] Trial 41 finished with values: [0.9249332101306058, 0.7222113332191757, 0.7190461553033763] and parameters: {'k': 24, 'min_k': 10, 'sim_options_name': 'pearson_baseline', 'user_based': False, 'min_support': 2, 'shrinkage': 196, 'bsl_method': 'sgd', 'bsl_n_epochs': 50, 'sgd_reg': 0.1661939275216573, 'sgd_learning_rate': 0.006122511134782395}. \n",
      "[I 2023-11-10 19:20:10,489] Trial 44 finished with values: [0.9415427962046359, 0.7305546130561053, 0.7023874279019037] and parameters: {'k': 20, 'min_k': 6, 'sim_options_name': 'pearson_baseline', 'user_based': True, 'min_support': 3, 'shrinkage': 137, 'bsl_method': 'sgd', 'bsl_n_epochs': 50, 'sgd_reg': 0.031046159665317777, 'sgd_learning_rate': 0.0019774591823719686}. \n"
     ]
    },
    {
     "name": "stdout",
     "output_type": "stream",
     "text": [
      "Computing the cosine similarity matrix...\n",
      "Computing the pearson_baseline similarity matrix...\n",
      "Done computing similarity matrix.\n",
      "Done computing similarity matrix.\n",
      "Computing the cosine similarity matrix...\n",
      "Done computing similarity matrix.\n",
      "Computing the cosine similarity matrix...\n",
      "Done computing similarity matrix.\n",
      "Computing the cosine similarity matrix...\n",
      "Done computing similarity matrix.\n",
      "Estimating biases using sgd...\n"
     ]
    },
    {
     "name": "stderr",
     "output_type": "stream",
     "text": [
      "[I 2023-11-10 19:20:30,996] Trial 49 finished with values: [0.9368116618341649, 0.7286329099324632, 0.7067161554196683] and parameters: {'k': 29, 'min_k': 6, 'sim_options_name': 'pearson_baseline', 'user_based': True, 'min_support': 3, 'shrinkage': 142, 'bsl_method': 'sgd', 'bsl_n_epochs': 24, 'sgd_reg': 0.035138725716886726, 'sgd_learning_rate': 0.001940571768761791}. \n"
     ]
    },
    {
     "name": "stdout",
     "output_type": "stream",
     "text": [
      "Computing the cosine similarity matrix...\n",
      "Done computing similarity matrix.\n",
      "Computing the pearson_baseline similarity matrix...\n",
      "Done computing similarity matrix.\n",
      "Computing the cosine similarity matrix...\n"
     ]
    },
    {
     "name": "stderr",
     "output_type": "stream",
     "text": [
      "[I 2023-11-10 19:20:38,789] Trial 46 finished with values: [0.9402574507086362, 0.7298535837891477, 0.7010643568179598] and parameters: {'k': 21, 'min_k': 6, 'sim_options_name': 'pearson_baseline', 'user_based': True, 'min_support': 3, 'shrinkage': 135, 'bsl_method': 'sgd', 'bsl_n_epochs': 22, 'sgd_reg': 0.026903346306560244, 'sgd_learning_rate': 0.002609264965524911}. \n"
     ]
    },
    {
     "name": "stdout",
     "output_type": "stream",
     "text": [
      "Done computing similarity matrix.\n"
     ]
    },
    {
     "name": "stderr",
     "output_type": "stream",
     "text": [
      "[I 2023-11-10 19:20:49,110] Trial 48 finished with values: [0.9351615137777124, 0.7263284656844851, 0.7087329387825028] and parameters: {'k': 28, 'min_k': 5, 'sim_options_name': 'pearson_baseline', 'user_based': True, 'min_support': 3, 'shrinkage': 145, 'bsl_method': 'sgd', 'bsl_n_epochs': 22, 'sgd_reg': 0.028963880361749933, 'sgd_learning_rate': 0.0011800388897540252}. \n"
     ]
    },
    {
     "name": "stdout",
     "output_type": "stream",
     "text": [
      "Computing the cosine similarity matrix...\n"
     ]
    },
    {
     "name": "stderr",
     "output_type": "stream",
     "text": [
      "[I 2023-11-10 19:20:53,069] Trial 52 finished with values: [0.9542351145435639, 0.7507871911761923, 0.6960253687534494] and parameters: {'k': 33, 'min_k': 6, 'sim_options_name': 'cosine', 'user_based': True, 'min_support': 3}. \n"
     ]
    },
    {
     "name": "stdout",
     "output_type": "stream",
     "text": [
      "Done computing similarity matrix.\n",
      "Computing the pearson similarity matrix...\n",
      "Computing the cosine similarity matrix...\n",
      "Computing the cosine similarity matrix...\n",
      "Computing the cosine similarity matrix...\n",
      "Done computing similarity matrix.\n",
      "Done computing similarity matrix.\n",
      "Done computing similarity matrix.Done computing similarity matrix.\n",
      "Computing the pearson similarity matrix...\n",
      "\n",
      "Computing the pearson similarity matrix...\n",
      "Done computing similarity matrix.\n",
      "Done computing similarity matrix.\n"
     ]
    },
    {
     "name": "stderr",
     "output_type": "stream",
     "text": [
      "[I 2023-11-10 19:21:05,155] Trial 51 finished with values: [0.9541370511302961, 0.750919998190856, 0.6962770443102475] and parameters: {'k': 32, 'min_k': 6, 'sim_options_name': 'cosine', 'user_based': True, 'min_support': 3}. \n"
     ]
    },
    {
     "name": "stdout",
     "output_type": "stream",
     "text": [
      "Computing the cosine similarity matrix...\n",
      "Done computing similarity matrix.\n",
      "Computing the cosine similarity matrix...\n",
      "Done computing similarity matrix.\n",
      "Computing the pearson similarity matrix...\n",
      "Done computing similarity matrix.\n",
      "Computing the cosine similarity matrix...Computing the pearson similarity matrix...\n",
      "\n",
      "Computing the pearson similarity matrix...\n",
      "Computing the cosine similarity matrix...\n",
      "Done computing similarity matrix.\n",
      "Done computing similarity matrix.\n",
      "Done computing similarity matrix.\n",
      "Done computing similarity matrix.\n",
      "Estimating biases using sgd...\n",
      "Computing the pearson_baseline similarity matrix...\n",
      "Done computing similarity matrix.\n",
      "Computing the cosine similarity matrix...\n",
      "Computing the cosine similarity matrix...\n",
      "Done computing similarity matrix.\n",
      "Computing the pearson similarity matrix...\n",
      "Computing the cosine similarity matrix...\n",
      "Done computing similarity matrix.\n",
      "Done computing similarity matrix.\n"
     ]
    },
    {
     "name": "stderr",
     "output_type": "stream",
     "text": [
      "[I 2023-11-10 19:21:55,809] Trial 53 finished with values: [0.953279919347426, 0.7501965446245713, 0.6959782892039037] and parameters: {'k': 36, 'min_k': 6, 'sim_options_name': 'cosine', 'user_based': True, 'min_support': 3}. \n"
     ]
    },
    {
     "name": "stdout",
     "output_type": "stream",
     "text": [
      "Done computing similarity matrix.\n",
      "Computing the cosine similarity matrix...\n",
      "Computing the pearson similarity matrix...\n",
      "Done computing similarity matrix.\n",
      "Done computing similarity matrix.\n",
      "Computing the pearson similarity matrix...\n",
      "Computing the pearson similarity matrix...\n",
      "Done computing similarity matrix.\n",
      "Done computing similarity matrix.\n",
      "Computing the cosine similarity matrix...\n",
      "Computing the pearson similarity matrix...\n",
      "Done computing similarity matrix.\n",
      "Done computing similarity matrix.\n",
      "Computing the cosine similarity matrix...\n",
      "Done computing similarity matrix.\n",
      "Computing the pearson similarity matrix...\n",
      "Done computing similarity matrix.\n",
      "Computing the cosine similarity matrix...\n",
      "Computing the pearson similarity matrix...\n",
      "Computing the pearson similarity matrix...\n",
      "Done computing similarity matrix.Done computing similarity matrix.\n",
      "\n",
      "Done computing similarity matrix.\n"
     ]
    },
    {
     "name": "stderr",
     "output_type": "stream",
     "text": [
      "[I 2023-11-10 19:22:42,717] Trial 55 finished with values: [0.9531951501125242, 0.7498543003592723, 0.697071678257218] and parameters: {'k': 37, 'min_k': 6, 'sim_options_name': 'cosine', 'user_based': True, 'min_support': 3}. \n",
      "[I 2023-11-10 19:22:45,248] Trial 54 finished with values: [0.954090541348412, 0.7509962612940269, 0.6952939063778423] and parameters: {'k': 34, 'min_k': 6, 'sim_options_name': 'cosine', 'user_based': True, 'min_support': 3}. \n"
     ]
    },
    {
     "name": "stdout",
     "output_type": "stream",
     "text": [
      "Computing the cosine similarity matrix...\n",
      "Done computing similarity matrix.\n",
      "Computing the cosine similarity matrix...\n",
      "Done computing similarity matrix.\n",
      "Computing the pearson similarity matrix..."
     ]
    },
    {
     "name": "stderr",
     "output_type": "stream",
     "text": [
      "[I 2023-11-10 19:22:54,661] Trial 50 finished with values: [0.936475384756176, 0.7275803467147407, 0.7066193377202327] and parameters: {'k': 32, 'min_k': 6, 'sim_options_name': 'pearson_baseline', 'user_based': True, 'min_support': 3, 'shrinkage': 140, 'bsl_method': 'sgd', 'bsl_n_epochs': 22, 'sgd_reg': 0.012022846278104668, 'sgd_learning_rate': 0.0012781730256587339}. \n"
     ]
    },
    {
     "name": "stdout",
     "output_type": "stream",
     "text": [
      "\n",
      "Computing the pearson similarity matrix...\n",
      "Done computing similarity matrix.\n",
      "Computing the pearson similarity matrix...\n",
      "Done computing similarity matrix.\n",
      "Done computing similarity matrix.\n",
      "Computing the pearson similarity matrix...\n",
      "Done computing similarity matrix.\n",
      "Computing the cosine similarity matrix...\n",
      "Done computing similarity matrix.\n",
      "Computing the pearson similarity matrix...\n",
      "Done computing similarity matrix.\n",
      "Computing the pearson similarity matrix...Computing the cosine similarity matrix...\n",
      "\n",
      "Done computing similarity matrix.\n",
      "Done computing similarity matrix.\n"
     ]
    },
    {
     "name": "stderr",
     "output_type": "stream",
     "text": [
      "[I 2023-11-10 19:23:28,909] Trial 56 finished with values: [0.9544986921189149, 0.75122146685215, 0.6965277648633275] and parameters: {'k': 35, 'min_k': 6, 'sim_options_name': 'cosine', 'user_based': True, 'min_support': 3}. \n"
     ]
    },
    {
     "name": "stdout",
     "output_type": "stream",
     "text": [
      "Computing the pearson similarity matrix...\n",
      "Computing the pearson similarity matrix...\n",
      "Done computing similarity matrix.\n",
      "Done computing similarity matrix.\n",
      "Computing the pearson similarity matrix...\n",
      "Done computing similarity matrix.\n",
      "Computing the cosine similarity matrix...\n",
      "Computing the cosine similarity matrix...\n",
      "Done computing similarity matrix.\n",
      "Done computing similarity matrix.\n",
      "Computing the pearson similarity matrix...\n",
      "Done computing similarity matrix.\n",
      "Computing the pearson similarity matrix...\n",
      "Done computing similarity matrix.\n",
      "Computing the cosine similarity matrix...\n",
      "Done computing similarity matrix.\n"
     ]
    },
    {
     "name": "stderr",
     "output_type": "stream",
     "text": [
      "[I 2023-11-10 19:24:01,751] Trial 57 finished with values: [0.9533509506178875, 0.749780555337205, 0.6967563683032345] and parameters: {'k': 33, 'min_k': 5, 'sim_options_name': 'cosine', 'user_based': True, 'min_support': 3}. \n"
     ]
    },
    {
     "name": "stdout",
     "output_type": "stream",
     "text": [
      "Computing the pearson similarity matrix...\n",
      "Computing the pearson similarity matrix...Done computing similarity matrix.\n",
      "Computing the pearson similarity matrix...\n",
      "\n",
      "Done computing similarity matrix.\n",
      "Done computing similarity matrix.\n",
      "Computing the pearson similarity matrix...\n",
      "Done computing similarity matrix.\n",
      "Computing the pearson similarity matrix...\n",
      "Done computing similarity matrix.\n",
      "Computing the pearson similarity matrix...\n",
      "Done computing similarity matrix.\n",
      "Computing the pearson similarity matrix...\n",
      "Done computing similarity matrix.\n"
     ]
    },
    {
     "name": "stderr",
     "output_type": "stream",
     "text": [
      "[I 2023-11-10 19:24:28,950] Trial 59 finished with values: [0.9551900792786074, 0.7511242950590653, 0.6947921443445743] and parameters: {'k': 32, 'min_k': 5, 'sim_options_name': 'cosine', 'user_based': True, 'min_support': 3}. \n",
      "[I 2023-11-10 19:24:30,772] Trial 58 finished with values: [0.9537212084472287, 0.7503781203169652, 0.6965482298347491] and parameters: {'k': 33, 'min_k': 5, 'sim_options_name': 'cosine', 'user_based': True, 'min_support': 3}. \n"
     ]
    },
    {
     "name": "stdout",
     "output_type": "stream",
     "text": [
      "Computing the pearson similarity matrix...\n",
      "Done computing similarity matrix.\n",
      "Computing the pearson similarity matrix...\n",
      "Done computing similarity matrix.\n"
     ]
    },
    {
     "name": "stderr",
     "output_type": "stream",
     "text": [
      "[I 2023-11-10 19:24:43,069] Trial 60 finished with values: [0.9567262725481562, 0.7532845169069246, 0.6947602970333157] and parameters: {'k': 33, 'min_k': 5, 'sim_options_name': 'cosine', 'user_based': True, 'min_support': 1}. \n"
     ]
    },
    {
     "name": "stdout",
     "output_type": "stream",
     "text": [
      "Computing the pearson similarity matrix...\n",
      "Computing the pearson similarity matrix...\n",
      "Computing the pearson similarity matrix...\n",
      "Done computing similarity matrix.\n",
      "Done computing similarity matrix.\n",
      "Done computing similarity matrix.\n",
      "Computing the pearson similarity matrix...\n",
      "Done computing similarity matrix.\n",
      "Computing the pearson similarity matrix...\n",
      "Done computing similarity matrix.\n",
      "Computing the pearson similarity matrix...\n",
      "Computing the pearson similarity matrix...\n",
      "Done computing similarity matrix.\n",
      "Done computing similarity matrix.\n",
      "Computing the pearson similarity matrix...\n",
      "Computing the pearson similarity matrix...\n",
      "Done computing similarity matrix.\n",
      "Done computing similarity matrix.\n",
      "Computing the pearson similarity matrix...\n",
      "Done computing similarity matrix.\n",
      "Computing the pearson similarity matrix...\n",
      "Computing the pearson similarity matrix...\n",
      "Done computing similarity matrix.\n",
      "Computing the pearson similarity matrix...\n",
      "Done computing similarity matrix.\n",
      "Done computing similarity matrix.\n",
      "Computing the pearson similarity matrix...\n",
      "Done computing similarity matrix.\n"
     ]
    },
    {
     "name": "stderr",
     "output_type": "stream",
     "text": [
      "[I 2023-11-10 19:25:46,903] Trial 63 finished with values: [0.9468820925303907, 0.7401321425639201, 0.7033538026263221] and parameters: {'k': 41, 'min_k': 5, 'sim_options_name': 'pearson', 'user_based': True, 'min_support': 1}. \n"
     ]
    },
    {
     "name": "stdout",
     "output_type": "stream",
     "text": [
      "Computing the pearson similarity matrix...\n",
      "Done computing similarity matrix.\n",
      "Computing the pearson similarity matrix...\n",
      "Computing the pearson similarity matrix...\n",
      "Done computing similarity matrix.\n",
      "Computing the pearson similarity matrix...\n",
      "Done computing similarity matrix.\n",
      "Done computing similarity matrix.\n",
      "Computing the pearson similarity matrix...\n",
      "Done computing similarity matrix.\n",
      "Computing the pearson similarity matrix...\n",
      "Computing the pearson similarity matrix...\n",
      "Done computing similarity matrix.\n",
      "Computing the pearson similarity matrix...Done computing similarity matrix.\n",
      "\n",
      "Done computing similarity matrix.\n",
      "Computing the pearson similarity matrix...\n",
      "Computing the pearson similarity matrix...\n",
      "Done computing similarity matrix.\n",
      "Done computing similarity matrix.\n",
      "Computing the pearson similarity matrix...\n",
      "Done computing similarity matrix.\n"
     ]
    },
    {
     "name": "stderr",
     "output_type": "stream",
     "text": [
      "[I 2023-11-10 19:26:35,854] Trial 65 finished with values: [0.9477040761203062, 0.7410116957232138, 0.6976762490284661] and parameters: {'k': 41, 'min_k': 8, 'sim_options_name': 'pearson', 'user_based': True, 'min_support': 1}. \n"
     ]
    },
    {
     "name": "stdout",
     "output_type": "stream",
     "text": [
      "Computing the pearson similarity matrix...\n",
      "Done computing similarity matrix.\n",
      "Computing the pearson similarity matrix...\n",
      "Done computing similarity matrix.\n"
     ]
    },
    {
     "name": "stderr",
     "output_type": "stream",
     "text": [
      "[I 2023-11-10 19:26:49,529] Trial 61 finished with values: [0.948484858460982, 0.7415692424428327, 0.7040330702358346] and parameters: {'k': 34, 'min_k': 5, 'sim_options_name': 'pearson', 'user_based': True, 'min_support': 1}. \n",
      "[I 2023-11-10 19:26:55,895] Trial 62 finished with values: [0.9477559380271128, 0.740972760967504, 0.70322134449411] and parameters: {'k': 38, 'min_k': 5, 'sim_options_name': 'pearson', 'user_based': True, 'min_support': 1}. \n",
      "[I 2023-11-10 19:26:57,697] Trial 67 finished with values: [0.9436644191658008, 0.7401309522033602, 0.6989327476560335] and parameters: {'k': 38, 'min_k': 8, 'sim_options_name': 'pearson', 'user_based': False, 'min_support': 1}. \n",
      "[I 2023-11-10 19:26:59,467] Trial 66 finished with values: [0.9419887056013435, 0.738915559986225, 0.6991802148062416] and parameters: {'k': 41, 'min_k': 8, 'sim_options_name': 'pearson', 'user_based': False, 'min_support': 1}. \n"
     ]
    },
    {
     "name": "stdout",
     "output_type": "stream",
     "text": [
      "Computing the pearson similarity matrix...\n",
      "Done computing similarity matrix.Computing the pearson similarity matrix...\n",
      "\n",
      "Done computing similarity matrix.\n",
      "Computing the pearson similarity matrix...\n",
      "Computing the msd similarity matrix...\n",
      "Done computing similarity matrix.\n",
      "Done computing similarity matrix.\n",
      "Computing the pearson similarity matrix...\n",
      "Done computing similarity matrix.\n",
      "Computing the pearson similarity matrix...\n",
      "Computing the msd similarity matrix...\n",
      "Computing the pearson similarity matrix...\n",
      "Done computing similarity matrix.\n",
      "Done computing similarity matrix.\n",
      "Done computing similarity matrix.\n"
     ]
    },
    {
     "name": "stderr",
     "output_type": "stream",
     "text": [
      "[I 2023-11-10 19:27:34,179] Trial 64 finished with values: [0.948442207132512, 0.7409439935911741, 0.7007388813059323] and parameters: {'k': 38, 'min_k': 8, 'sim_options_name': 'pearson', 'user_based': True, 'min_support': 1}. \n"
     ]
    },
    {
     "name": "stdout",
     "output_type": "stream",
     "text": [
      "Computing the msd similarity matrix...\n",
      "Done computing similarity matrix.\n",
      "Computing the pearson similarity matrix...\n",
      "Computing the pearson similarity matrix...\n",
      "Done computing similarity matrix.\n",
      "Done computing similarity matrix.\n",
      "Computing the msd similarity matrix...\n",
      "Done computing similarity matrix.\n",
      "Computing the pearson similarity matrix...\n",
      "Computing the msd similarity matrix...\n",
      "Done computing similarity matrix.Done computing similarity matrix.\n",
      "\n",
      "Computing the pearson similarity matrix...\n",
      "Done computing similarity matrix.\n",
      "Computing the pearson similarity matrix...\n",
      "Done computing similarity matrix.\n"
     ]
    },
    {
     "name": "stderr",
     "output_type": "stream",
     "text": [
      "[I 2023-11-10 19:28:07,678] Trial 68 finished with values: [0.9425847493887719, 0.7388955996851362, 0.7002562650015092] and parameters: {'k': 40, 'min_k': 8, 'sim_options_name': 'pearson', 'user_based': False, 'min_support': 1}. \n",
      "[I 2023-11-10 19:28:20,991] Trial 70 finished with values: [0.9441749481010746, 0.7399084770699442, 0.6982949415094216] and parameters: {'k': 39, 'min_k': 8, 'sim_options_name': 'pearson', 'user_based': False, 'min_support': 1}. \n"
     ]
    },
    {
     "name": "stdout",
     "output_type": "stream",
     "text": [
      "Computing the pearson similarity matrix...\n",
      "Done computing similarity matrix.\n",
      "Computing the pearson similarity matrix...\n",
      "Done computing similarity matrix.\n",
      "Computing the pearson similarity matrix...\n",
      "Done computing similarity matrix.\n"
     ]
    },
    {
     "name": "stderr",
     "output_type": "stream",
     "text": [
      "[I 2023-11-10 19:28:32,089] Trial 69 finished with values: [0.9414821950771456, 0.7378275442665183, 0.7011031937846262] and parameters: {'k': 42, 'min_k': 3, 'sim_options_name': 'pearson', 'user_based': False, 'min_support': 1}. \n"
     ]
    },
    {
     "name": "stdout",
     "output_type": "stream",
     "text": [
      "Computing the msd similarity matrix...\n",
      "Done computing similarity matrix.\n",
      "Computing the msd similarity matrix...\n",
      "Done computing similarity matrix.\n",
      "Computing the msd similarity matrix...\n",
      "Computing the pearson similarity matrix...\n",
      "Done computing similarity matrix.\n",
      "Done computing similarity matrix.\n",
      "Computing the msd similarity matrix...Computing the msd similarity matrix...\n",
      "\n",
      "Done computing similarity matrix.\n",
      "Done computing similarity matrix.\n",
      "Computing the pearson similarity matrix...\n",
      "Computing the msd similarity matrix...\n",
      "Done computing similarity matrix.\n",
      "Computing the msd similarity matrix...\n",
      "Computing the pearson similarity matrix...\n",
      "Done computing similarity matrix.\n",
      "Done computing similarity matrix.\n",
      "Done computing similarity matrix.\n",
      "Computing the msd similarity matrix...\n",
      "Done computing similarity matrix.\n",
      "Computing the pearson similarity matrix...\n",
      "Done computing similarity matrix.\n",
      "Computing the msd similarity matrix..."
     ]
    },
    {
     "name": "stderr",
     "output_type": "stream",
     "text": [
      "[I 2023-11-10 19:29:19,064] Trial 72 finished with values: [0.9409582601163289, 0.7376486701571265, 0.7004438718181444] and parameters: {'k': 43, 'min_k': 3, 'sim_options_name': 'pearson', 'user_based': False, 'min_support': 1}. \n"
     ]
    },
    {
     "name": "stdout",
     "output_type": "stream",
     "text": [
      "\n",
      "Done computing similarity matrix.\n",
      "Computing the pearson similarity matrix...\n",
      "Done computing similarity matrix.\n",
      "Computing the pearson similarity matrix...\n",
      "Done computing similarity matrix.\n",
      "Computing the msd similarity matrix...\n",
      "Done computing similarity matrix.\n",
      "Computing the msd similarity matrix...\n",
      "Done computing similarity matrix.\n",
      "Computing the msd similarity matrix...\n"
     ]
    },
    {
     "name": "stderr",
     "output_type": "stream",
     "text": [
      "[I 2023-11-10 19:29:53,599] Trial 73 finished with values: [0.9427762667530276, 0.7389829659435875, 0.6993159954725646] and parameters: {'k': 42, 'min_k': 8, 'sim_options_name': 'pearson', 'user_based': False, 'min_support': 1}. \n"
     ]
    },
    {
     "name": "stdout",
     "output_type": "stream",
     "text": [
      "Done computing similarity matrix.\n",
      "Computing the pearson similarity matrix...\n",
      "Computing the msd similarity matrix...Done computing similarity matrix.\n",
      "Computing the pearson similarity matrix...\n",
      "Done computing similarity matrix.\n",
      "\n",
      "Done computing similarity matrix.\n",
      "Computing the msd similarity matrix...\n",
      "Done computing similarity matrix.\n",
      "Computing the msd similarity matrix...\n",
      "Computing the msd similarity matrix...\n",
      "Done computing similarity matrix.Done computing similarity matrix.\n",
      "\n",
      "Computing the msd similarity matrix...\n",
      "Done computing similarity matrix.\n",
      "Computing the msd similarity matrix...\n",
      "Done computing similarity matrix.\n",
      "Computing the pearson similarity matrix...\n",
      "Done computing similarity matrix.\n"
     ]
    },
    {
     "name": "stderr",
     "output_type": "stream",
     "text": [
      "[I 2023-11-10 19:30:34,972] Trial 75 finished with values: [0.9428512400472016, 0.7392542071970498, 0.6996967503340125] and parameters: {'k': 42, 'min_k': 8, 'sim_options_name': 'pearson', 'user_based': False, 'min_support': 1}. \n",
      "[I 2023-11-10 19:30:35,569] Trial 74 finished with values: [0.9424709541403248, 0.7385461982895114, 0.6994741956901438] and parameters: {'k': 44, 'min_k': 8, 'sim_options_name': 'pearson', 'user_based': False, 'min_support': 1}. \n"
     ]
    },
    {
     "name": "stdout",
     "output_type": "stream",
     "text": [
      "Computing the msd similarity matrix...\n",
      "Done computing similarity matrix.\n",
      "Computing the msd similarity matrix...\n",
      "Done computing similarity matrix.\n",
      "Computing the msd similarity matrix...\n",
      "Done computing similarity matrix.\n",
      "Computing the msd similarity matrix...\n",
      "Done computing similarity matrix.\n",
      "Computing the msd similarity matrix...\n",
      "Done computing similarity matrix.\n"
     ]
    },
    {
     "name": "stderr",
     "output_type": "stream",
     "text": [
      "[I 2023-11-10 19:31:04,760] Trial 76 finished with values: [0.9413469295681789, 0.7383495567551878, 0.70054298959582] and parameters: {'k': 46, 'min_k': 8, 'sim_options_name': 'pearson', 'user_based': False, 'min_support': 1}. \n",
      "[I 2023-11-10 19:31:06,906] Trial 71 finished with values: [0.9421009972474824, 0.7392076939844452, 0.7018878249175333] and parameters: {'k': 45, 'min_k': 8, 'sim_options_name': 'pearson', 'user_based': False, 'min_support': 1}. \n"
     ]
    },
    {
     "name": "stdout",
     "output_type": "stream",
     "text": [
      "Computing the msd similarity matrix...\n",
      "Done computing similarity matrix.\n",
      "Computing the pearson similarity matrix...\n",
      "Done computing similarity matrix.\n",
      "Computing the msd similarity matrix...\n",
      "Computing the msd similarity matrix...\n",
      "Done computing similarity matrix.\n",
      "Done computing similarity matrix.\n",
      "Computing the msd similarity matrix...\n",
      "Done computing similarity matrix.\n",
      "Computing the msd similarity matrix...\n",
      "Done computing similarity matrix.\n",
      "Computing the msd similarity matrix...\n",
      "Computing the msd similarity matrix...Computing the msd similarity matrix...\n",
      "\n",
      "Done computing similarity matrix.\n",
      "Done computing similarity matrix.\n",
      "Done computing similarity matrix.\n",
      "Computing the msd similarity matrix...\n",
      "Done computing similarity matrix.\n",
      "Computing the msd similarity matrix...\n",
      "Done computing similarity matrix.Computing the msd similarity matrix...\n",
      "\n",
      "Done computing similarity matrix.\n",
      "Computing the msd similarity matrix...\n",
      "Computing the msd similarity matrix...\n",
      "Done computing similarity matrix.\n",
      "Done computing similarity matrix.\n",
      "Computing the msd similarity matrix...\n",
      "Done computing similarity matrix.\n",
      "Computing the msd similarity matrix...\n",
      "Done computing similarity matrix.\n",
      "Computing the msd similarity matrix...\n",
      "Done computing similarity matrix.\n",
      "Computing the msd similarity matrix...\n",
      "Done computing similarity matrix.\n"
     ]
    },
    {
     "name": "stderr",
     "output_type": "stream",
     "text": [
      "[I 2023-11-10 19:32:18,399] Trial 77 finished with values: [0.9398813935339556, 0.7373425481614848, 0.7020156536959817] and parameters: {'k': 86, 'min_k': 8, 'sim_options_name': 'pearson', 'user_based': False, 'min_support': 1}. \n"
     ]
    },
    {
     "name": "stdout",
     "output_type": "stream",
     "text": [
      "Computing the msd similarity matrix...\n",
      "Computing the msd similarity matrix...\n",
      "Done computing similarity matrix.Done computing similarity matrix.\n",
      "\n",
      "Computing the msd similarity matrix...\n",
      "Computing the msd similarity matrix...\n",
      "Done computing similarity matrix.\n",
      "Done computing similarity matrix.\n"
     ]
    },
    {
     "name": "stderr",
     "output_type": "stream",
     "text": [
      "[I 2023-11-10 19:32:41,268] Trial 81 finished with values: [0.9383596008531023, 0.7351194730954311, 0.7010825168347841] and parameters: {'k': 47, 'min_k': 3, 'sim_options_name': 'msd', 'user_based': False, 'min_support': 5}. \n"
     ]
    },
    {
     "name": "stdout",
     "output_type": "stream",
     "text": [
      "Computing the msd similarity matrix...\n",
      "Done computing similarity matrix.\n",
      "Computing the msd similarity matrix...\n",
      "Done computing similarity matrix.\n",
      "Computing the msd similarity matrix...\n",
      "Done computing similarity matrix.\n",
      "Computing the msd similarity matrix...\n",
      "Done computing similarity matrix.\n",
      "Computing the msd similarity matrix...\n",
      "Done computing similarity matrix.Computing the msd similarity matrix...\n",
      "\n",
      "Done computing similarity matrix.\n"
     ]
    },
    {
     "name": "stderr",
     "output_type": "stream",
     "text": [
      "[I 2023-11-10 19:33:02,396] Trial 80 finished with values: [0.9389819535079968, 0.7349543709821245, 0.6997170482656305] and parameters: {'k': 46, 'min_k': 4, 'sim_options_name': 'msd', 'user_based': False, 'min_support': 5}. \n",
      "[I 2023-11-10 19:33:03,940] Trial 78 finished with values: [0.9357021059796043, 0.7340916308729492, 0.7014647427933067] and parameters: {'k': 83, 'min_k': 3, 'sim_options_name': 'msd', 'user_based': False, 'min_support': 1}. \n"
     ]
    },
    {
     "name": "stdout",
     "output_type": "stream",
     "text": [
      "Computing the msd similarity matrix...\n",
      "Done computing similarity matrix.\n",
      "Computing the msd similarity matrix...\n",
      "Done computing similarity matrix.\n",
      "Computing the msd similarity matrix...\n",
      "Done computing similarity matrix.\n",
      "Computing the msd similarity matrix...\n",
      "Done computing similarity matrix.\n",
      "Computing the msd similarity matrix...\n",
      "Done computing similarity matrix.\n",
      "Computing the msd similarity matrix...\n",
      "Done computing similarity matrix.\n",
      "Computing the msd similarity matrix...\n",
      "Done computing similarity matrix.\n"
     ]
    },
    {
     "name": "stderr",
     "output_type": "stream",
     "text": [
      "[I 2023-11-10 19:33:40,455] Trial 82 finished with values: [0.9426315090854004, 0.7388764528229624, 0.6987189405073648] and parameters: {'k': 86, 'min_k': 3, 'sim_options_name': 'msd', 'user_based': False, 'min_support': 5}. \n",
      "[I 2023-11-10 19:33:44,720] Trial 85 finished with values: [0.9392066268286243, 0.7354778463340306, 0.7010878077995624] and parameters: {'k': 47, 'min_k': 3, 'sim_options_name': 'msd', 'user_based': False, 'min_support': 5}. \n",
      "[I 2023-11-10 19:33:47,661] Trial 79 finished with values: [0.9420252199379824, 0.7382950210873689, 0.701130911994307] and parameters: {'k': 83, 'min_k': 3, 'sim_options_name': 'msd', 'user_based': False, 'min_support': 5}. \n"
     ]
    },
    {
     "name": "stdout",
     "output_type": "stream",
     "text": [
      "Computing the msd similarity matrix...\n",
      "Computing the msd similarity matrix...\n",
      "Done computing similarity matrix.\n",
      "Done computing similarity matrix.\n",
      "Computing the msd similarity matrix...\n",
      "Done computing similarity matrix.\n",
      "Computing the msd similarity matrix...\n",
      "Done computing similarity matrix.\n",
      "Computing the msd similarity matrix...\n",
      "Done computing similarity matrix.\n",
      "Computing the msd similarity matrix...\n",
      "Done computing similarity matrix.\n",
      "Computing the msd similarity matrix...\n",
      "Done computing similarity matrix.Estimating biases using als...\n",
      "\n",
      "Computing the msd similarity matrix...\n",
      "Done computing similarity matrix.\n",
      "Computing the pearson_baseline similarity matrix...\n",
      "Done computing similarity matrix.\n",
      "Computing the msd similarity matrix...\n",
      "Done computing similarity matrix.\n",
      "Estimating biases using als...\n",
      "Computing the msd similarity matrix...\n",
      "Computing the pearson_baseline similarity matrix...\n",
      "Done computing similarity matrix.\n",
      "Done computing similarity matrix.\n",
      "Computing the msd similarity matrix...\n",
      "Done computing similarity matrix.\n"
     ]
    },
    {
     "name": "stderr",
     "output_type": "stream",
     "text": [
      "[I 2023-11-10 19:34:39,784] Trial 84 finished with values: [0.942065113405538, 0.738431956368877, 0.7006821815896513] and parameters: {'k': 88, 'min_k': 3, 'sim_options_name': 'msd', 'user_based': False, 'min_support': 5}. \n"
     ]
    },
    {
     "name": "stdout",
     "output_type": "stream",
     "text": [
      "Estimating biases using als...\n",
      "Computing the pearson_baseline similarity matrix...\n",
      "Done computing similarity matrix.\n"
     ]
    },
    {
     "name": "stderr",
     "output_type": "stream",
     "text": [
      "[I 2023-11-10 19:34:51,628] Trial 87 finished with values: [0.9348729534729083, 0.7329933458650959, 0.7018390032945032] and parameters: {'k': 48, 'min_k': 4, 'sim_options_name': 'msd', 'user_based': False, 'min_support': 2}. \n"
     ]
    },
    {
     "name": "stdout",
     "output_type": "stream",
     "text": [
      "Computing the msd similarity matrix...\n",
      "Estimating biases using als...\n",
      "Done computing similarity matrix.\n",
      "Computing the pearson_baseline similarity matrix...\n",
      "Computing the msd similarity matrix...\n",
      "Done computing similarity matrix.\n",
      "Computing the msd similarity matrix...\n",
      "Done computing similarity matrix.Done computing similarity matrix.\n",
      "\n"
     ]
    },
    {
     "name": "stderr",
     "output_type": "stream",
     "text": [
      "[I 2023-11-10 19:35:04,257] Trial 88 finished with values: [0.935087654784145, 0.7327358718163409, 0.701567872751254] and parameters: {'k': 50, 'min_k': 4, 'sim_options_name': 'msd', 'user_based': False, 'min_support': 2}. \n",
      "[I 2023-11-10 19:35:05,095] Trial 86 finished with values: [0.9387553430017167, 0.736494523751985, 0.7005167091395208] and parameters: {'k': 88, 'min_k': 4, 'sim_options_name': 'msd', 'user_based': False, 'min_support': 2}. \n"
     ]
    },
    {
     "name": "stdout",
     "output_type": "stream",
     "text": [
      "Estimating biases using als...\n",
      "Computing the pearson_baseline similarity matrix...\n",
      "Done computing similarity matrix.\n",
      "Computing the msd similarity matrix...\n",
      "Done computing similarity matrix.\n",
      "Estimating biases using als...\n"
     ]
    },
    {
     "name": "stderr",
     "output_type": "stream",
     "text": [
      "[I 2023-11-10 19:35:26,395] Trial 83 finished with values: [0.9420335273496164, 0.7383540905656316, 0.7003438743762483] and parameters: {'k': 82, 'min_k': 3, 'sim_options_name': 'msd', 'user_based': False, 'min_support': 5}. \n"
     ]
    },
    {
     "name": "stdout",
     "output_type": "stream",
     "text": [
      "Computing the msd similarity matrix...\n",
      "Done computing similarity matrix.\n",
      "Computing the pearson_baseline similarity matrix...\n",
      "Done computing similarity matrix.\n",
      "Computing the msd similarity matrix...\n",
      "Done computing similarity matrix.\n",
      "Estimating biases using als...\n",
      "Estimating biases using als...\n",
      "Computing the pearson_baseline similarity matrix...\n",
      "Done computing similarity matrix.\n",
      "Computing the pearson_baseline similarity matrix...\n",
      "Done computing similarity matrix.\n",
      "Estimating biases using als...\n",
      "Computing the msd similarity matrix...\n",
      "Done computing similarity matrix.\n",
      "Computing the pearson_baseline similarity matrix...\n",
      "Done computing similarity matrix.\n",
      "Computing the msd similarity matrix...\n",
      "Done computing similarity matrix.\n"
     ]
    },
    {
     "name": "stderr",
     "output_type": "stream",
     "text": [
      "[I 2023-11-10 19:35:57,347] Trial 89 finished with values: [0.9383570529963088, 0.7363380074612368, 0.6998407454260489] and parameters: {'k': 87, 'min_k': 9, 'sim_options_name': 'msd', 'user_based': False, 'min_support': 2}. \n"
     ]
    },
    {
     "name": "stdout",
     "output_type": "stream",
     "text": [
      "Estimating biases using als...\n",
      "Computing the msd similarity matrix...\n",
      "Done computing similarity matrix.\n",
      "Computing the pearson_baseline similarity matrix...\n",
      "Done computing similarity matrix.\n",
      "Computing the msd similarity matrix...\n",
      "Done computing similarity matrix.\n"
     ]
    },
    {
     "name": "stderr",
     "output_type": "stream",
     "text": [
      "[I 2023-11-10 19:36:19,057] Trial 90 finished with values: [0.9379044527947809, 0.7356488435886535, 0.701274051152918] and parameters: {'k': 85, 'min_k': 4, 'sim_options_name': 'msd', 'user_based': False, 'min_support': 2}. \n"
     ]
    },
    {
     "name": "stdout",
     "output_type": "stream",
     "text": [
      "Estimating biases using als...\n",
      "Computing the pearson_baseline similarity matrix...\n",
      "Done computing similarity matrix.\n",
      "Estimating biases using als...\n",
      "Estimating biases using als...\n",
      "Computing the pearson_baseline similarity matrix...Computing the pearson_baseline similarity matrix...\n",
      "Done computing similarity matrix.\n"
     ]
    },
    {
     "name": "stderr",
     "output_type": "stream",
     "text": [
      "[I 2023-11-10 19:36:31,960] Trial 91 finished with values: [0.9377857312984531, 0.7355132096909067, 0.7015245979832982] and parameters: {'k': 86, 'min_k': 4, 'sim_options_name': 'msd', 'user_based': False, 'min_support': 2}. \n"
     ]
    },
    {
     "name": "stdout",
     "output_type": "stream",
     "text": [
      "\n",
      "Done computing similarity matrix.\n",
      "Computing the msd similarity matrix...\n",
      "Done computing similarity matrix.\n",
      "Estimating biases using als...\n",
      "Computing the pearson_baseline similarity matrix...\n",
      "Done computing similarity matrix.\n",
      "Estimating biases using als...\n"
     ]
    },
    {
     "name": "stderr",
     "output_type": "stream",
     "text": [
      "[I 2023-11-10 19:36:43,432] Trial 93 finished with values: [0.9372350919855743, 0.7345895198829736, 0.7013069601058805] and parameters: {'k': 54, 'min_k': 4, 'sim_options_name': 'msd', 'user_based': False, 'min_support': 2}. \n"
     ]
    },
    {
     "name": "stdout",
     "output_type": "stream",
     "text": [
      "Computing the pearson_baseline similarity matrix...\n",
      "Done computing similarity matrix.\n",
      "Estimating biases using als...\n",
      "Computing the pearson_baseline similarity matrix...\n"
     ]
    },
    {
     "name": "stderr",
     "output_type": "stream",
     "text": [
      "[I 2023-11-10 19:37:01,209] Trial 94 finished with values: [0.9364682603744807, 0.7341870611616033, 0.6996919127055776] and parameters: {'k': 51, 'min_k': 4, 'sim_options_name': 'msd', 'user_based': False, 'min_support': 2}. \n"
     ]
    },
    {
     "name": "stdout",
     "output_type": "stream",
     "text": [
      "Done computing similarity matrix.\n",
      "Computing the msd similarity matrix...\n",
      "Done computing similarity matrix.\n",
      "Estimating biases using als...\n",
      "Estimating biases using als...\n",
      "Estimating biases using als...\n",
      "Computing the pearson_baseline similarity matrix...\n",
      "Computing the pearson_baseline similarity matrix...\n",
      "Done computing similarity matrix.\n",
      "Done computing similarity matrix.\n",
      "Computing the pearson_baseline similarity matrix...\n",
      "Done computing similarity matrix.\n",
      "Estimating biases using als...\n",
      "Computing the pearson_baseline similarity matrix...\n",
      "Done computing similarity matrix.\n",
      "Estimating biases using als...\n",
      "Computing the pearson_baseline similarity matrix...\n",
      "Done computing similarity matrix.\n",
      "Estimating biases using als...\n",
      "Estimating biases using als...\n"
     ]
    },
    {
     "name": "stderr",
     "output_type": "stream",
     "text": [
      "[I 2023-11-10 19:37:34,683] Trial 92 finished with values: [0.9366221621335837, 0.7337504060238222, 0.7011276087284094] and parameters: {'k': 53, 'min_k': 9, 'sim_options_name': 'msd', 'user_based': False, 'min_support': 2}. \n"
     ]
    },
    {
     "name": "stdout",
     "output_type": "stream",
     "text": [
      "Computing the pearson_baseline similarity matrix...\n",
      "Computing the pearson_baseline similarity matrix...\n",
      "Done computing similarity matrix.\n",
      "Done computing similarity matrix.\n",
      "Estimating biases using als...\n",
      "Computing the pearson_baseline similarity matrix...\n",
      "Done computing similarity matrix.\n"
     ]
    },
    {
     "name": "stderr",
     "output_type": "stream",
     "text": [
      "[I 2023-11-10 19:37:43,157] Trial 96 finished with values: [0.9248079163428891, 0.7233801109158946, 0.7194858963326076] and parameters: {'k': 53, 'min_k': 9, 'sim_options_name': 'pearson_baseline', 'user_based': False, 'min_support': 2, 'shrinkage': 168, 'bsl_method': 'als', 'bsl_n_epochs': 36, 'als_reg_u': 1.7316805311624641, 'als_reg_i': 1.409538390197877}. \n"
     ]
    },
    {
     "name": "stdout",
     "output_type": "stream",
     "text": [
      "Estimating biases using als...\n",
      "Computing the pearson_baseline similarity matrix...\n",
      "Done computing similarity matrix.\n"
     ]
    },
    {
     "name": "stderr",
     "output_type": "stream",
     "text": [
      "[I 2023-11-10 19:37:53,113] Trial 95 finished with values: [0.9238658710132277, 0.7214199179490495, 0.721188059956927] and parameters: {'k': 26, 'min_k': 9, 'sim_options_name': 'pearson_baseline', 'user_based': False, 'min_support': 2, 'shrinkage': 170, 'bsl_method': 'als', 'bsl_n_epochs': 32, 'als_reg_u': 1.3483689920069946, 'als_reg_i': 2.3432636005676297}. \n",
      "[I 2023-11-10 19:37:54,357] Trial 97 finished with values: [0.9234088667302986, 0.7225722411020054, 0.7187803432784239] and parameters: {'k': 55, 'min_k': 9, 'sim_options_name': 'pearson_baseline', 'user_based': False, 'min_support': 2, 'shrinkage': 160, 'bsl_method': 'als', 'bsl_n_epochs': 32, 'als_reg_u': 1.1654047330399742, 'als_reg_i': 2.811284822573194}. \n",
      "[I 2023-11-10 19:37:55,287] Trial 98 finished with values: [0.9249913120065264, 0.7236857693658969, 0.7191851553953734] and parameters: {'k': 56, 'min_k': 9, 'sim_options_name': 'pearson_baseline', 'user_based': False, 'min_support': 2, 'shrinkage': 166, 'bsl_method': 'als', 'bsl_n_epochs': 15, 'als_reg_u': 2.3852656645756873, 'als_reg_i': 1.5353688429214678}. \n",
      "[I 2023-11-10 19:37:57,485] Trial 99 finished with values: [0.9248225193433453, 0.7227450779364581, 0.7208712157674777] and parameters: {'k': 53, 'min_k': 9, 'sim_options_name': 'pearson_baseline', 'user_based': False, 'min_support': 2, 'shrinkage': 163, 'bsl_method': 'als', 'bsl_n_epochs': 15, 'als_reg_u': 1.406211911714479, 'als_reg_i': 2.8716332750224582}. \n"
     ]
    }
   ],
   "source": [
    "# Define the objective function for hyperparameter optimization for KNNWithMeans\n",
    "def knn_with_ZScore_objective(trial):\n",
    "    # Hyperparameters to optimize\n",
    "    k = trial.suggest_int('k', 20, 100)\n",
    "    min_k = trial.suggest_int('min_k', 1, 10)\n",
    "    sim_options = {\n",
    "        'name': trial.suggest_categorical('sim_options_name', ['msd', 'cosine', 'pearson', 'pearson_baseline']),\n",
    "        'user_based': trial.suggest_categorical('user_based', [False, True]),\n",
    "        'min_support': trial.suggest_int('min_support', 1, 5),\n",
    "    }\n",
    "    # Additional parameters for pearson_baseline\n",
    "    if sim_options['name'] == 'pearson_baseline':\n",
    "        sim_options['shrinkage'] = trial.suggest_int('shrinkage', 0, 200)\n",
    "    bsl_options = {}\n",
    "    if sim_options['name'] == 'pearson_baseline':\n",
    "            # Baseline options are used only with pearson_baseline similarity\n",
    "        bsl_method = trial.suggest_categorical('bsl_method', ['als', 'sgd'])\n",
    "        bsl_options['method'] = bsl_method\n",
    "        bsl_options['n_epochs'] = trial.suggest_int('bsl_n_epochs', 10, 50)  # Default is 10\n",
    "        if bsl_method == 'als':\n",
    "            bsl_options['reg_u'] = trial.suggest_float('als_reg_u', 1, 20)  # Default is 15\n",
    "            bsl_options['reg_i'] = trial.suggest_float('als_reg_i', 1, 20)  # Default is 10\n",
    "        elif bsl_method == 'sgd':\n",
    "            bsl_options['reg'] = trial.suggest_float('sgd_reg', 0.01, 0.2)  # Default is 0.02\n",
    "            bsl_options['learning_rate'] = trial.suggest_float('sgd_learning_rate', 0.001, 0.01)  # Default is 0.005\n",
    "    # Instantiate the KNNBasic algorithm with the suggested parameters\n",
    "    algo = KNNWithZScore(k=k, min_k=min_k, sim_options=sim_options,bsl_options=bsl_options if bsl_options else None)\n",
    "\n",
    "    # Perform cross-validation and return the mean RMSE\n",
    "    # Perform cross-validation and return the mean RMSE, MAE, and FCP\n",
    "    cv_results = cross_validate(algo, data, measures=['RMSE', 'MAE', 'FCP'], cv=5, verbose=False)\n",
    "    mean_rmse = np.mean(cv_results['test_rmse'])\n",
    "    mean_mae = np.mean(cv_results['test_mae'])\n",
    "    mean_fcp = np.mean(cv_results['test_fcp'])\n",
    "\n",
    "    return mean_rmse, mean_mae, mean_fcp\n",
    "\n",
    "# Create a multi-objective study object and optimize the objective function\n",
    "study = optuna.create_study(directions=['minimize', 'minimize', 'maximize'], sampler=optuna.samplers.TPESampler(seed=42))\n",
    "study.optimize(knn_with_ZScore_objective, n_trials=100,n_jobs=-1)  # Number of trials can be adjusted\n",
    "\n",
    "# Output the Pareto-optimal solutions\n",
    "pareto_front = study.best_trials\n",
    "\n",
    "# Save the Pareto-optimal solutions and their parameters to a file\n",
    "with open('pareto_front_trials_and_params_KNNWithZScore.txt', 'w') as f:\n",
    "    for trial in pareto_front:\n",
    "        f.write(f\"KNNWithZScore\")\n",
    "        f.write(f\"Trial#{trial.number}\\n\")\n",
    "        f.write(f\"RMSE: {trial.values[0]}\\n\")\n",
    "        f.write(f\"MAE: {trial.values[1]}\\n\")\n",
    "        f.write(f\"FCP: {trial.values[2]}\\n\")\n",
    "        f.write(f\"Parameters: {trial.params}\\n\\n\")"
   ]
  },
  {
   "cell_type": "code",
   "execution_count": 5,
   "metadata": {},
   "outputs": [
    {
     "name": "stderr",
     "output_type": "stream",
     "text": [
      "[I 2023-11-10 19:37:57,517] A new study created in memory with name: no-name-664f15b4-a07e-4074-a9dc-859e94ed4ac8\n"
     ]
    },
    {
     "name": "stdout",
     "output_type": "stream",
     "text": [
      "Estimating biases using als...\n",
      "Estimating biases using als...\n",
      "Computing the pearson similarity matrix...\n",
      "Done computing similarity matrix.\n",
      "Computing the pearson similarity matrix...\n",
      "Done computing similarity matrix.\n",
      "Estimating biases using als...\n",
      "Computing the msd similarity matrix...\n",
      "Done computing similarity matrix.\n",
      "Estimating biases using sgd...\n",
      "Estimating biases using als...\n",
      "Computing the cosine similarity matrix...\n",
      "Computing the pearson similarity matrix...\n",
      "Done computing similarity matrix.Done computing similarity matrix.\n",
      "Estimating biases using als...\n",
      "\n",
      "Estimating biases using sgd...\n",
      "Estimating biases using sgd...\n",
      "Computing the cosine similarity matrix...\n",
      "Estimating biases using als...\n",
      "Done computing similarity matrix.\n",
      "Estimating biases using als...\n",
      "Computing the msd similarity matrix...\n",
      "Done computing similarity matrix.\n",
      "Estimating biases using sgd...\n",
      "Computing the pearson similarity matrix...\n",
      "Estimating biases using sgd...\n",
      "Estimating biases using sgd...\n",
      "Estimating biases using sgd...\n",
      "Computing the pearson similarity matrix...\n",
      "Done computing similarity matrix.\n",
      "Estimating biases using sgd...\n",
      "Done computing similarity matrix.\n",
      "Estimating biases using sgd...\n",
      "Computing the msd similarity matrix...\n",
      "Done computing similarity matrix.\n",
      "Computing the cosine similarity matrix...\n",
      "Done computing similarity matrix.\n",
      "Computing the cosine similarity matrix...\n",
      "Computing the pearson similarity matrix...\n",
      "Done computing similarity matrix.\n",
      "Done computing similarity matrix.\n",
      "Estimating biases using als...\n",
      "Estimating biases using als...\n",
      "Computing the pearson_baseline similarity matrix...\n",
      "Computing the pearson similarity matrix...\n",
      "Done computing similarity matrix.\n",
      "Done computing similarity matrix.\n",
      "Computing the pearson_baseline similarity matrix...\n",
      "Computing the pearson_baseline similarity matrix...\n",
      "Computing the pearson similarity matrix...\n",
      "Done computing similarity matrix.\n",
      "Done computing similarity matrix.\n",
      "Done computing similarity matrix.\n",
      "Estimating biases using als...\n",
      "Estimating biases using sgd...\n",
      "Computing the msd similarity matrix...Estimating biases using als...\n",
      "Estimating biases usingComputing the cosine similarity matrix...\n",
      "\n",
      " als...\n",
      "Done computing similarity matrix.\n",
      "Done computing similarity matrix.\n",
      "Estimating biases using sgd...\n",
      "Estimating biases using sgd...\n",
      "Estimating biases using als...\n",
      "Estimating biases using als...\n",
      "Computing the pearson similarity matrix...\n",
      "Computing the pearson similarity matrix...\n",
      "Done computing similarity matrix.\n",
      "Computing the cosine similarity matrix...\n",
      "Estimating biases using sgd...\n",
      "Done computing similarity matrix.\n",
      "Done computing similarity matrix.\n",
      "Estimating biases using sgd...\n",
      "Computing the cosine similarity matrix...\n",
      "Done computing similarity matrix.\n",
      "Computing the pearson similarity matrix...\n",
      "Done computing similarity matrix.\n",
      "Computing the msd similarity matrix...\n",
      "Done computing similarity matrix.\n",
      "Computing the pearson similarity matrix...\n",
      "Done computing similarity matrix.\n",
      "Computing the msd similarity matrix...\n",
      "Done computing similarity matrix.\n",
      "Estimating biases using sgd...\n",
      "Estimating biases using als...\n",
      "Estimating biases using sgd...\n",
      "Estimating biases using sgd...\n",
      "Estimating biases using als...\n",
      "Computing the pearson similarity matrix...\n",
      "Computing the pearson similarity matrix...\n",
      "Computing the cosine similarity matrix...\n",
      "Done computing similarity matrix.\n",
      "Done computing similarity matrix.\n",
      "Done computing similarity matrix.\n",
      "Estimating biases using sgd...\n",
      "Estimating biases using sgd...\n",
      "Computing the pearson_baseline similarity matrix...\n",
      "Done computing similarity matrix.\n",
      "Computing the pearson_baseline similarity matrix...\n",
      "Done computing similarity matrix.\n",
      "Computing the cosine similarity matrix...\n",
      "Estimating biases using als...\n",
      "Done computing similarity matrix.\n",
      "Estimating biases using als...\n",
      "Computing the pearson similarity matrix...\n",
      "Done computing similarity matrix.\n",
      "Estimating biases using als...\n",
      "Estimating biases using als...\n",
      "Computing the msd similarity matrix...\n",
      "Computing the pearson_baseline similarity matrix...\n",
      "Done computing similarity matrix.\n",
      "Done computing similarity matrix.\n",
      "Estimating biases using sgd...\n",
      "Computing the cosine similarity matrix...\n",
      "Estimating biases using sgd...\n",
      "Done computing similarity matrix.\n",
      "Estimating biases using sgd...\n",
      "Computing the cosine similarity matrix...\n",
      "Done computing similarity matrix.\n",
      "Estimating biases using als...\n",
      "Computing the msd similarity matrix...\n",
      "Done computing similarity matrix.\n",
      "Computing the pearson similarity matrix...\n",
      "Done computing similarity matrix.\n",
      "Computing the pearson similarity matrix...\n",
      "Done computing similarity matrix.\n",
      "Estimating biases using sgd...\n",
      "Computing the msd similarity matrix...\n",
      "Done computing similarity matrix.\n",
      "Computing the pearson similarity matrix...\n",
      "Done computing similarity matrix.\n",
      "Estimating biases using als...\n",
      "Estimating biases using sgd...\n",
      "Estimating biases using als...\n",
      "Computing the cosine similarity matrix...\n",
      "Done computing similarity matrix.Computing the pearson similarity matrix...\n",
      "\n",
      "Done computing similarity matrix.\n",
      "Computing the pearson similarity matrix...\n",
      "Done computing similarity matrix.\n",
      "Estimating biases using sgd...\n",
      "Estimating biases using als...\n",
      "Computing the pearson similarity matrix...\n",
      "Done computing similarity matrix.\n",
      "Estimating biases using sgd...\n",
      "Computing the pearson_baseline similarity matrix...\n",
      "Done computing similarity matrix.\n",
      "Estimating biases using als...\n",
      "Estimating biases using sgd...\n",
      "Computing the cosine similarity matrix...\n",
      "Done computing similarity matrix.\n",
      "Computing the pearson similarity matrix...\n",
      "Estimating biases usingEstimating biases using als...\n",
      "Estimating biases using sgd...\n",
      " sgd...\n",
      "Done computing similarity matrix.\n",
      "Estimating biases using sgd...\n",
      "Estimating biases using als...\n",
      "Estimating biases using sgd...\n",
      "Computing the cosine similarity matrix...\n",
      "Estimating biases using als...\n",
      "Done computing similarity matrix.\n",
      "Computing the pearson similarity matrix...\n",
      "Computing the msd similarity matrix...\n",
      "Done computing similarity matrix.\n",
      "Done computing similarity matrix.\n",
      "Computing the cosine similarity matrix...\n",
      "Computing the cosine similarity matrix...\n",
      "Computing the pearson_baseline similarity matrix...\n",
      "Done computing similarity matrix.\n",
      "Done computing similarity matrix.Done computing similarity matrix.\n",
      "\n",
      "Estimating biases using sgd...\n",
      "Computing the msd similarity matrix...\n",
      "Done computing similarity matrix.\n",
      "Computing the msd similarity matrix...\n",
      "Done computing similarity matrix.\n",
      "Computing the pearson_baseline similarity matrix...\n",
      "Done computing similarity matrix.\n",
      "Estimating biases using sgd...\n",
      "Estimating biases using als...\n",
      "Computing the pearson similarity matrix...\n",
      "Done computing similarity matrix.\n",
      "Estimating biases using als...\n",
      "Estimating biases using als...\n",
      "Computing the pearson similarity matrix...\n",
      "Done computing similarity matrix.\n",
      "Computing the pearson similarity matrix...\n",
      "Computing the pearson similarity matrix...\n",
      "Done computing similarity matrix.\n",
      "Done computing similarity matrix.\n"
     ]
    },
    {
     "name": "stderr",
     "output_type": "stream",
     "text": [
      "[I 2023-11-10 19:43:04,183] Trial 15 finished with values: [0.9325047732005167, 0.7361579386289767, 0.7052695166504096] and parameters: {'k': 26, 'min_k': 6, 'sim_options_name': 'cosine', 'user_based': True, 'min_support': 3, 'bsl_method': 'sgd', 'bsl_n_epochs': 21, 'sgd_reg': 0.12015325802608572, 'sgd_learning_rate': 0.007284835122899973}. \n"
     ]
    },
    {
     "name": "stdout",
     "output_type": "stream",
     "text": [
      "Estimating biases using sgd...\n",
      "Estimating biases using als...\n",
      "Estimating biases using als...\n",
      "Computing the cosine similarity matrix...\n",
      "Done computing similarity matrix.\n",
      "Estimating biases using sgd...\n",
      "Computing the pearson similarity matrix...\n",
      "Done computing similarity matrix.\n",
      "Computing the cosine similarity matrix...\n",
      "Done computing similarity matrix.\n",
      "Estimating biases using als...\n",
      "Computing the pearson similarity matrix...\n",
      "Done computing similarity matrix.\n",
      "Estimating biases usingEstimating biases using sgd...\n",
      "Computing the pearson_baseline similarity matrix...\n",
      " sgd...\n",
      "Estimating biases using als...\n",
      "Done computing similarity matrix.\n",
      "Estimating biases using sgd...\n",
      "Estimating biases using sgd...\n",
      "Estimating biases using als...\n",
      "Computing the msd similarity matrix...\n",
      "Computing the cosine similarity matrix...\n",
      "Done computing similarity matrix.\n",
      "Computing the msd similarity matrix...\n",
      "Done computing similarity matrix.\n",
      "Done computing similarity matrix.\n"
     ]
    },
    {
     "name": "stderr",
     "output_type": "stream",
     "text": [
      "[I 2023-11-10 19:43:48,566] Trial 14 finished with values: [0.9322052136171285, 0.7327433796071149, 0.7092818136163613] and parameters: {'k': 29, 'min_k': 2, 'sim_options_name': 'pearson', 'user_based': True, 'min_support': 2, 'bsl_method': 'als', 'bsl_n_epochs': 25, 'als_reg_u': 11.252883533630998, 'als_reg_i': 12.08212590677828}. \n"
     ]
    },
    {
     "name": "stdout",
     "output_type": "stream",
     "text": [
      "Computing the cosine similarity matrix...\n",
      "Estimating biases using sgd...\n",
      "Done computing similarity matrix.\n",
      "Computing the msd similarity matrix...\n",
      "Done computing similarity matrix.\n"
     ]
    },
    {
     "name": "stderr",
     "output_type": "stream",
     "text": [
      "[I 2023-11-10 19:43:58,270] Trial 1 finished with values: [0.9276863853956078, 0.7305071966952614, 0.7103723252485717] and parameters: {'k': 98, 'min_k': 5, 'sim_options_name': 'pearson', 'user_based': True, 'min_support': 1, 'bsl_method': 'als', 'bsl_n_epochs': 10, 'als_reg_u': 14.457331659516628, 'als_reg_i': 2.358303033497966}. \n"
     ]
    },
    {
     "name": "stdout",
     "output_type": "stream",
     "text": [
      "Computing the pearson_baseline similarity matrix...\n",
      "Done computing similarity matrix.\n",
      "Estimating biases using sgd...\n",
      "Estimating biases using sgd...\n",
      "Computing the msd similarity matrix...\n"
     ]
    },
    {
     "name": "stderr",
     "output_type": "stream",
     "text": [
      "[I 2023-11-10 19:44:08,227] Trial 0 finished with values: [0.929266893172526, 0.7294061668036671, 0.7102357526643746] and parameters: {'k': 77, 'min_k': 3, 'sim_options_name': 'pearson', 'user_based': True, 'min_support': 1, 'bsl_method': 'als', 'bsl_n_epochs': 40, 'als_reg_u': 4.050000156680464, 'als_reg_i': 7.42905091207354}. \n"
     ]
    },
    {
     "name": "stdout",
     "output_type": "stream",
     "text": [
      "Done computing similarity matrix.\n",
      "Estimating biases using sgd...\n"
     ]
    },
    {
     "name": "stderr",
     "output_type": "stream",
     "text": [
      "[I 2023-11-10 19:44:11,089] Trial 11 finished with values: [0.936488670350272, 0.7355972532573872, 0.7060597745842727] and parameters: {'k': 22, 'min_k': 1, 'sim_options_name': 'pearson', 'user_based': True, 'min_support': 2, 'bsl_method': 'sgd', 'bsl_n_epochs': 45, 'sgd_reg': 0.07572910428929688, 'sgd_learning_rate': 0.001839317877283851}. \n"
     ]
    },
    {
     "name": "stdout",
     "output_type": "stream",
     "text": [
      "Estimating biases using sgd...\n",
      "Estimating biases using sgd...\n",
      "Computing the pearson similarity matrix...\n",
      "Done computing similarity matrix.\n",
      "Computing the pearson similarity matrix...\n",
      "Done computing similarity matrix.\n"
     ]
    },
    {
     "name": "stderr",
     "output_type": "stream",
     "text": [
      "[I 2023-11-10 19:44:20,805] Trial 5 finished with values: [0.9314368822976405, 0.7335941253257252, 0.7046727776360638] and parameters: {'k': 51, 'min_k': 2, 'sim_options_name': 'cosine', 'user_based': True, 'min_support': 2, 'bsl_method': 'als', 'bsl_n_epochs': 45, 'als_reg_u': 2.7619497452061275, 'als_reg_i': 5.643530160986176}. \n"
     ]
    },
    {
     "name": "stdout",
     "output_type": "stream",
     "text": [
      "Computing the pearson_baseline similarity matrix...\n",
      "Done computing similarity matrix.\n",
      "Estimating biases using als...\n",
      "Computing the msd similarity matrix...\n",
      "Done computing similarity matrix.\n",
      "Computing the msd similarity matrix...\n",
      "Done computing similarity matrix.\n",
      "Computing the cosine similarity matrix...\n",
      "Done computing similarity matrix.\n"
     ]
    },
    {
     "name": "stderr",
     "output_type": "stream",
     "text": [
      "[I 2023-11-10 19:44:38,808] Trial 6 finished with values: [0.9281173992388497, 0.7304339682286958, 0.700574607702585] and parameters: {'k': 46, 'min_k': 1, 'sim_options_name': 'msd', 'user_based': False, 'min_support': 2, 'bsl_method': 'sgd', 'bsl_n_epochs': 24, 'sgd_reg': 0.12430841650939821, 'sgd_learning_rate': 0.008227838971975134}. \n"
     ]
    },
    {
     "name": "stdout",
     "output_type": "stream",
     "text": [
      "Estimating biases using sgd...\n"
     ]
    },
    {
     "name": "stderr",
     "output_type": "stream",
     "text": [
      "[I 2023-11-10 19:44:44,348] Trial 8 finished with values: [0.9374729454427888, 0.7403575851803337, 0.6983165129049943] and parameters: {'k': 60, 'min_k': 8, 'sim_options_name': 'pearson', 'user_based': False, 'min_support': 4, 'bsl_method': 'als', 'bsl_n_epochs': 10, 'als_reg_u': 18.098729018380215, 'als_reg_i': 19.994559296845235}. \n",
      "[I 2023-11-10 19:44:47,786] Trial 2 finished with values: [0.9333091533164779, 0.7354724297638009, 0.7053796493868876] and parameters: {'k': 99, 'min_k': 1, 'sim_options_name': 'msd', 'user_based': True, 'min_support': 3, 'bsl_method': 'als', 'bsl_n_epochs': 34, 'als_reg_u': 17.591806520358283, 'als_reg_i': 15.323755072354908}. \n"
     ]
    },
    {
     "name": "stdout",
     "output_type": "stream",
     "text": [
      "Estimating biases using als...\n",
      "Estimating biases using als...\n",
      "Estimating biases using sgd...\n"
     ]
    },
    {
     "name": "stderr",
     "output_type": "stream",
     "text": [
      "[I 2023-11-10 19:44:52,623] Trial 12 finished with values: [0.9295181294236056, 0.7333496983318458, 0.7084753507203134] and parameters: {'k': 57, 'min_k': 6, 'sim_options_name': 'msd', 'user_based': True, 'min_support': 1, 'bsl_method': 'sgd', 'bsl_n_epochs': 50, 'sgd_reg': 0.1528635071007577, 'sgd_learning_rate': 0.004090819936671807}. \n"
     ]
    },
    {
     "name": "stdout",
     "output_type": "stream",
     "text": [
      "Estimating biases using sgd...\n",
      "Computing the pearson_baseline similarity matrix...\n",
      "Done computing similarity matrix.\n",
      "Computing the cosine similarity matrix...\n",
      "Done computing similarity matrix.\n",
      "Estimating biases using sgd...\n",
      "Computing the msd similarity matrix...\n"
     ]
    },
    {
     "name": "stderr",
     "output_type": "stream",
     "text": [
      "[I 2023-11-10 19:45:04,108] Trial 3 finished with values: [0.9396297879823194, 0.7397132455323903, 0.7025058158230693] and parameters: {'k': 68, 'min_k': 1, 'sim_options_name': 'cosine', 'user_based': False, 'min_support': 4, 'bsl_method': 'als', 'bsl_n_epochs': 16, 'als_reg_u': 6.28997813263181, 'als_reg_i': 16.716028490349863}. \n"
     ]
    },
    {
     "name": "stdout",
     "output_type": "stream",
     "text": [
      "Computing the msd similarity matrix...\n",
      "Done computing similarity matrix.\n",
      "Done computing similarity matrix.\n",
      "Estimating biases using als...\n",
      "Computing the pearson_baseline similarity matrix...\n",
      "Estimating biases using sgd...\n",
      "Done computing similarity matrix.\n",
      "Computing the cosine similarity matrix...\n",
      "Done computing similarity matrix.\n",
      "Estimating biases using sgd...\n",
      "Estimating biases using als...\n",
      "Computing the pearson_baseline similarity matrix...\n",
      "Done computing similarity matrix.\n",
      "Estimating biases using sgd...\n",
      "Estimating biases using als...\n",
      "Computing the pearson_baseline similarity matrix...\n",
      "Computing the pearson similarity matrix...\n",
      "Computing the msd similarity matrix...\n",
      "Done computing similarity matrix.\n",
      "Done computing similarity matrix.\n",
      "Done computing similarity matrix.\n",
      "Computing the msd similarity matrix...\n",
      "Done computing similarity matrix.\n"
     ]
    },
    {
     "name": "stderr",
     "output_type": "stream",
     "text": [
      "[I 2023-11-10 19:45:37,510] Trial 4 finished with values: [0.9377522819177464, 0.7400223956753337, 0.7014807275786412] and parameters: {'k': 98, 'min_k': 7, 'sim_options_name': 'pearson', 'user_based': False, 'min_support': 5, 'bsl_method': 'sgd', 'bsl_n_epochs': 20, 'sgd_reg': 0.06024838911766405, 'sgd_learning_rate': 0.0014841326164732613}. \n"
     ]
    },
    {
     "name": "stdout",
     "output_type": "stream",
     "text": [
      "Computing the pearson_baseline similarity matrix...\n",
      "Done computing similarity matrix.\n",
      "Estimating biases using sgd...\n",
      "Estimating biases using sgd...\n",
      "Estimating biases using sgd...\n",
      "Estimating biases using als...\n",
      "Computing the pearson_baseline similarity matrix...\n",
      "Done computing similarity matrix.\n",
      "Estimating biases using sgd...\n",
      "Computing the msd similarity matrix...\n",
      "Done computing similarity matrix.\n",
      "Computing the cosine similarity matrix...\n",
      "Done computing similarity matrix.\n",
      "Estimating biases using als...\n",
      "Computing the msd similarity matrix...\n",
      "Done computing similarity matrix.\n",
      "Estimating biases using sgd...\n",
      "Computing the pearson_baseline similarity matrix...\n",
      "Done computing similarity matrix.\n",
      "Estimating biases using als...\n"
     ]
    },
    {
     "name": "stderr",
     "output_type": "stream",
     "text": [
      "[I 2023-11-10 19:46:18,501] Trial 13 finished with values: [0.9321173814862733, 0.7343206833977198, 0.7044455776264767] and parameters: {'k': 73, 'min_k': 3, 'sim_options_name': 'cosine', 'user_based': False, 'min_support': 3, 'bsl_method': 'sgd', 'bsl_n_epochs': 29, 'sgd_reg': 0.012483669497886724, 'sgd_learning_rate': 0.005155603740304831}. \n"
     ]
    },
    {
     "name": "stdout",
     "output_type": "stream",
     "text": [
      "Computing the pearson_baseline similarity matrix...\n",
      "Done computing similarity matrix.\n",
      "Computing the pearson_baseline similarity matrix...\n",
      "Done computing similarity matrix.\n",
      "Computing the pearson similarity matrix...\n"
     ]
    },
    {
     "name": "stderr",
     "output_type": "stream",
     "text": [
      "[I 2023-11-10 19:46:25,447] Trial 9 finished with values: [0.9229641247130598, 0.7233959499968099, 0.7136315114817458] and parameters: {'k': 72, 'min_k': 1, 'sim_options_name': 'pearson_baseline', 'user_based': True, 'min_support': 4, 'shrinkage': 23, 'bsl_method': 'sgd', 'bsl_n_epochs': 44, 'sgd_reg': 0.08669231881173584, 'sgd_learning_rate': 0.005308186632151311}. \n"
     ]
    },
    {
     "name": "stdout",
     "output_type": "stream",
     "text": [
      "Done computing similarity matrix.\n",
      "Estimating biases using sgd...\n",
      "Estimating biases using als...\n",
      "Estimating biases using als...\n",
      "Estimating biases using als...\n",
      "Estimating biases usingEstimating biases using sgd...\n",
      " als...\n",
      "Computing the pearson_baseline similarity matrix...\n",
      "Done computing similarity matrix.\n",
      "Computing the pearson_baseline similarity matrix...\n",
      "Done computing similarity matrix.\n",
      "Computing the msd similarity matrix...\n",
      "Computing the cosine similarity matrix...\n",
      "Computing the msd similarity matrix...\n",
      "Done computing similarity matrix.\n",
      "Done computing similarity matrix.\n",
      "Done computing similarity matrix.\n",
      "Estimating biases using sgd...\n",
      "Computing the pearson_baseline similarity matrix...\n",
      "Done computing similarity matrix.\n",
      "Estimating biases using als...\n"
     ]
    },
    {
     "name": "stderr",
     "output_type": "stream",
     "text": [
      "[I 2023-11-10 19:46:57,877] Trial 7 finished with values: [0.915589402767066, 0.7199215018377657, 0.7207962479089016] and parameters: {'k': 94, 'min_k': 8, 'sim_options_name': 'pearson_baseline', 'user_based': False, 'min_support': 1, 'shrinkage': 84, 'bsl_method': 'sgd', 'bsl_n_epochs': 50, 'sgd_reg': 0.16209859074235242, 'sgd_learning_rate': 0.007546585951359003}. \n"
     ]
    },
    {
     "name": "stdout",
     "output_type": "stream",
     "text": [
      "Estimating biases using als...\n",
      "Computing the msd similarity matrix...\n",
      "Done computing similarity matrix.\n",
      "Computing the pearson_baseline similarity matrix...\n",
      "Computing the msd similarity matrix...\n",
      "Done computing similarity matrix.Estimating biases using sgd...\n",
      "Done computing similarity matrix.\n",
      "Estimating biases using sgd...\n",
      "\n",
      "Estimating biases using sgd...\n",
      "Estimating biases using sgd...\n",
      "Computing the msd similarity matrix...\n",
      "Computing the cosine similarity matrix...\n",
      "Done computing similarity matrix.Done computing similarity matrix.\n",
      "\n",
      "Estimating biases using sgd...\n",
      "Computing the pearson_baseline similarity matrix...\n",
      "Done computing similarity matrix.\n",
      "Computing the pearson similarity matrix...\n",
      "Done computing similarity matrix.\n",
      "Estimating biases using als...\n",
      "Computing the pearson_baseline similarity matrix...\n",
      "Done computing similarity matrix.\n",
      "Computing the pearson_baseline similarity matrix...\n",
      "Done computing similarity matrix.\n",
      "Estimating biases usingEstimating biases using als...\n",
      " als...\n",
      "Estimating biases using als...\n",
      "Computing the msd similarity matrix...\n"
     ]
    },
    {
     "name": "stderr",
     "output_type": "stream",
     "text": [
      "[I 2023-11-10 19:47:52,841] Trial 10 finished with values: [0.9154013623676356, 0.7185153786175082, 0.7210265331491713] and parameters: {'k': 54, 'min_k': 3, 'sim_options_name': 'pearson_baseline', 'user_based': False, 'min_support': 1, 'shrinkage': 46, 'bsl_method': 'sgd', 'bsl_n_epochs': 46, 'sgd_reg': 0.04047369529473697, 'sgd_learning_rate': 0.007513082738669283}. \n"
     ]
    },
    {
     "name": "stdout",
     "output_type": "stream",
     "text": [
      "Done computing similarity matrix.\n",
      "Computing the pearson_baseline similarity matrix...Computing the pearson_baseline similarity matrix...\n",
      "\n",
      "Done computing similarity matrix.\n",
      "Done computing similarity matrix.\n",
      "Estimating biases using sgd...\n",
      "Estimating biases using sgd...\n",
      "Estimating biases using als...\n",
      "Estimating biases using als...\n",
      "Estimating biases using als...\n",
      "Estimating biases using sgd...\n",
      "Estimating biases using sgd...\n",
      "Estimating biases using sgd...\n",
      "Computing the pearson_baseline similarity matrix...\n",
      "Done computing similarity matrix.\n",
      "Computing the msd similarity matrix...\n",
      "Done computing similarity matrix.\n",
      "Estimating biases usingEstimating biases using sgd...\n",
      " sgd...\n",
      "Computing the cosine similarity matrix...\n",
      "Computing the pearson_baseline similarity matrix...\n",
      "Done computing similarity matrix.\n",
      "Computing the msd similarity matrix...\n",
      "Done computing similarity matrix.Done computing similarity matrix.\n",
      "\n",
      "Computing the msd similarity matrix...\n",
      "Done computing similarity matrix.\n",
      "Computing the pearson_baseline similarity matrix...\n",
      "Done computing similarity matrix.\n",
      "Computing the pearson similarity matrix...\n",
      "Estimating biases using sgd...\n",
      "Done computing similarity matrix.\n",
      "Computing the msd similarity matrix...\n"
     ]
    },
    {
     "name": "stderr",
     "output_type": "stream",
     "text": [
      "[I 2023-11-10 19:48:40,389] Trial 21 finished with values: [0.9311414820940473, 0.7325434097711016, 0.7066237834784148] and parameters: {'k': 23, 'min_k': 1, 'sim_options_name': 'msd', 'user_based': True, 'min_support': 5, 'bsl_method': 'als', 'bsl_n_epochs': 18, 'als_reg_u': 16.69001131432247, 'als_reg_i': 2.7999720334304206}. \n"
     ]
    },
    {
     "name": "stdout",
     "output_type": "stream",
     "text": [
      "Done computing similarity matrix.\n",
      "Computing the cosine similarity matrix...\n",
      "Done computing similarity matrix.\n",
      "Estimating biases using sgd...\n",
      "Estimating biases using sgd...\n",
      "Estimating biases using als...\n",
      "Computing the pearson_baseline similarity matrix...\n",
      "Done computing similarity matrix.\n",
      "Computing the pearson_baseline similarity matrix...\n",
      "Done computing similarity matrix.\n",
      "Computing the pearson_baseline similarity matrix...\n",
      "Done computing similarity matrix.\n",
      "Computing the pearson_baseline similarity matrix...\n",
      "Estimating biases using als...\n",
      "Done computing similarity matrix.\n",
      "Computing the pearson_baseline similarity matrix...\n",
      "Done computing similarity matrix.\n",
      "Estimating biases using als...\n",
      "Estimating biases using als...\n",
      "Computing the pearson_baseline similarity matrix...Computing the pearson_baseline similarity matrix...\n"
     ]
    },
    {
     "name": "stderr",
     "output_type": "stream",
     "text": [
      "[I 2023-11-10 19:49:26,236] Trial 18 finished with values: [0.9308873489799752, 0.7337557506215321, 0.7073125577188263] and parameters: {'k': 31, 'min_k': 10, 'sim_options_name': 'pearson', 'user_based': True, 'min_support': 5, 'bsl_method': 'sgd', 'bsl_n_epochs': 44, 'sgd_reg': 0.18684392651490217, 'sgd_learning_rate': 0.0015009999392761688}. \n"
     ]
    },
    {
     "name": "stdout",
     "output_type": "stream",
     "text": [
      "\n",
      "Done computing similarity matrix.\n",
      "Done computing similarity matrix.\n",
      "Estimating biases using sgd...\n",
      "Estimating biases using sgd...\n",
      "Estimating biases using sgd...\n",
      "Estimating biases using sgd...\n",
      "Estimating biases using sgd...\n",
      "Computing the msd similarity matrix...Computing the pearson_baseline similarity matrix...\n",
      "\n",
      "Estimating biases using als...\n",
      "Done computing similarity matrix.\n",
      "Computing the msd similarity matrix...\n",
      "Done computing similarity matrix.\n",
      "Done computing similarity matrix.\n",
      "Estimating biases using sgd...\n",
      "Computing the pearson_baseline similarity matrix...\n",
      "Done computing similarity matrix.\n",
      "Computing the cosine similarity matrix...\n",
      "Done computing similarity matrix.Estimating biases using als...\n",
      "\n",
      "Estimating biases using sgd...\n",
      "Estimating biases using sgd...\n",
      "Computing the pearson_baseline similarity matrix...\n",
      "Done computing similarity matrix.\n",
      "Computing the msd similarity matrix...\n",
      "Done computing similarity matrix.\n",
      "Estimating biases using als...\n",
      "Computing the pearson_baseline similarity matrix...\n",
      "Computing the msd similarity matrix...\n",
      "Done computing similarity matrix.\n",
      "Done computing similarity matrix.\n",
      "Computing the cosine similarity matrix...\n",
      "Done computing similarity matrix.\n",
      "Computing the pearson_baseline similarity matrix...\n",
      "Done computing similarity matrix.\n",
      "Estimating biases using sgd...\n",
      "Estimating biases using als...\n",
      "Estimating biases using sgd...\n",
      "Estimating biases using als...\n",
      "Computing the pearson_baseline similarity matrix...\n",
      "Done computing similarity matrix.\n",
      "Estimating biases using als...\n",
      "Computing the pearson_baseline similarity matrix...\n",
      "Computing the pearson_baseline similarity matrix...\n",
      "Done computing similarity matrix.\n",
      "Done computing similarity matrix.\n",
      "Computing the pearson_baseline similarity matrix...\n",
      "Done computing similarity matrix.\n",
      "Computing the pearson_baseline similarity matrix...\n",
      "Done computing similarity matrix.\n",
      "Estimating biases using sgd...\n"
     ]
    },
    {
     "name": "stderr",
     "output_type": "stream",
     "text": [
      "[I 2023-11-10 19:51:00,037] Trial 17 finished with values: [0.9317408142284215, 0.7346547607925457, 0.7061106480091583] and parameters: {'k': 85, 'min_k': 4, 'sim_options_name': 'msd', 'user_based': True, 'min_support': 5, 'bsl_method': 'sgd', 'bsl_n_epochs': 38, 'sgd_reg': 0.14409306035370226, 'sgd_learning_rate': 0.00319496326886023}. \n"
     ]
    },
    {
     "name": "stdout",
     "output_type": "stream",
     "text": [
      "Estimating biases using Computing the pearson_baseline similarity matrix...\n",
      "Done computing similarity matrix.\n",
      "sgd...\n",
      "Estimating biases using sgd...\n",
      "Estimating biases using sgd...\n",
      "Estimating biases using sgd...\n",
      "Estimating biases using sgd...\n"
     ]
    },
    {
     "name": "stderr",
     "output_type": "stream",
     "text": [
      "[I 2023-11-10 19:51:18,905] Trial 19 finished with values: [0.9293833158602667, 0.7311386305620358, 0.7063481681538795] and parameters: {'k': 74, 'min_k': 3, 'sim_options_name': 'msd', 'user_based': True, 'min_support': 4, 'bsl_method': 'sgd', 'bsl_n_epochs': 35, 'sgd_reg': 0.02655255572757559, 'sgd_learning_rate': 0.00465942115524518}. \n",
      "[I 2023-11-10 19:51:18,921] Trial 20 finished with values: [0.9355258526066743, 0.7371430591632102, 0.6971924163313696] and parameters: {'k': 52, 'min_k': 3, 'sim_options_name': 'cosine', 'user_based': False, 'min_support': 2, 'bsl_method': 'sgd', 'bsl_n_epochs': 42, 'sgd_reg': 0.11135638771819363, 'sgd_learning_rate': 0.0022277334611960635}. \n"
     ]
    },
    {
     "name": "stdout",
     "output_type": "stream",
     "text": [
      "Computing the msd similarity matrix...\n",
      "Done computing similarity matrix.\n",
      "Computing the pearson_baseline similarity matrix...\n"
     ]
    },
    {
     "name": "stderr",
     "output_type": "stream",
     "text": [
      "[I 2023-11-10 19:51:24,621] Trial 25 finished with values: [0.9125814759035684, 0.7163504721490016, 0.722601114843898] and parameters: {'k': 100, 'min_k': 9, 'sim_options_name': 'pearson_baseline', 'user_based': False, 'min_support': 5, 'shrinkage': 169, 'bsl_method': 'als', 'bsl_n_epochs': 10, 'als_reg_u': 12.221308522376523, 'als_reg_i': 1.6997564187073948}. \n",
      "[I 2023-11-10 19:51:26,639] Trial 16 finished with values: [0.9348124013816864, 0.7364141660427855, 0.7055026764475054] and parameters: {'k': 98, 'min_k': 9, 'sim_options_name': 'cosine', 'user_based': False, 'min_support': 3, 'bsl_method': 'als', 'bsl_n_epochs': 14, 'als_reg_u': 13.38757015855791, 'als_reg_i': 3.4660734384565455}. \n",
      "[I 2023-11-10 19:51:29,128] Trial 22 finished with values: [0.9196141609829468, 0.7228125867227903, 0.7161080628056933] and parameters: {'k': 99, 'min_k': 9, 'sim_options_name': 'pearson_baseline', 'user_based': True, 'min_support': 1, 'shrinkage': 49, 'bsl_method': 'sgd', 'bsl_n_epochs': 37, 'sgd_reg': 0.17407601557994398, 'sgd_learning_rate': 0.008773490532420266}. \n"
     ]
    },
    {
     "name": "stdout",
     "output_type": "stream",
     "text": [
      "Done computing similarity matrix.\n",
      "Computing the pearson_baseline similarity matrix...\n",
      "Computing the pearson_baseline similarity matrix...\n",
      "Done computing similarity matrix.\n",
      "Done computing similarity matrix.\n",
      "Computing the pearson_baseline similarity matrix...\n",
      "Estimating biases using als...\n",
      "Done computing similarity matrix.\n",
      "Estimating biases using sgd...\n",
      "Estimating biases using sgd...\n",
      "Estimating biases using als...\n",
      "Computing the msd similarity matrix...\n"
     ]
    },
    {
     "name": "stderr",
     "output_type": "stream",
     "text": [
      "[I 2023-11-10 19:51:40,017] Trial 27 finished with values: [0.9189821079433027, 0.7209553457122846, 0.7155264002395904] and parameters: {'k': 81, 'min_k': 4, 'sim_options_name': 'pearson_baseline', 'user_based': True, 'min_support': 1, 'shrinkage': 187, 'bsl_method': 'als', 'bsl_n_epochs': 34, 'als_reg_u': 11.634254089748987, 'als_reg_i': 1.1496764686251826}. \n",
      "[I 2023-11-10 19:51:42,178] Trial 26 finished with values: [0.9191493929279012, 0.7213528669798461, 0.715755464800483] and parameters: {'k': 98, 'min_k': 4, 'sim_options_name': 'pearson_baseline', 'user_based': True, 'min_support': 1, 'shrinkage': 73, 'bsl_method': 'als', 'bsl_n_epochs': 35, 'als_reg_u': 11.678181858585685, 'als_reg_i': 1.5629024984974067}. \n"
     ]
    },
    {
     "name": "stdout",
     "output_type": "stream",
     "text": [
      "Done computing similarity matrix.\n",
      "Computing the pearson_baseline similarity matrix...\n",
      "Done computing similarity matrix.\n",
      "Computing the pearson_baseline similarity matrix...\n",
      "Done computing similarity matrix.Estimating biases using sgd...\n",
      "\n",
      "Computing the pearson_baseline similarity matrix...\n",
      "Done computing similarity matrix.\n",
      "Estimating biases using als...\n",
      "Estimating biases using sgd...\n",
      "Estimating biases using als...\n",
      "Computing the pearson_baseline similarity matrix...\n",
      "Estimating biases using als...\n",
      "Done computing similarity matrix.\n",
      "Computing the pearson_baseline similarity matrix...\n",
      "Computing the pearson_baseline similarity matrix...\n",
      "Done computing similarity matrix.\n",
      "Done computing similarity matrix.\n",
      "Estimating biases using als...\n",
      "Computing the pearson_baseline similarity matrix...\n",
      "Computing the pearson_baseline similarity matrix...\n",
      "Done computing similarity matrix.\n",
      "Estimating biases using als...\n",
      "Done computing similarity matrix.\n",
      "Computing the pearson_baseline similarity matrix...\n",
      "Estimating biases using sgd...\n",
      "Done computing similarity matrix.\n",
      "Computing the pearson_baseline similarity matrix...\n",
      "Done computing similarity matrix.\n",
      "Estimating biases using sgd...\n",
      "Estimating biases using sgd...\n"
     ]
    },
    {
     "name": "stderr",
     "output_type": "stream",
     "text": [
      "[I 2023-11-10 19:52:35,399] Trial 24 finished with values: [0.9292022199833424, 0.7314028287586504, 0.7009410444593883] and parameters: {'k': 74, 'min_k': 3, 'sim_options_name': 'msd', 'user_based': False, 'min_support': 2, 'bsl_method': 'sgd', 'bsl_n_epochs': 32, 'sgd_reg': 0.10844089490081785, 'sgd_learning_rate': 0.0026838184650118564}. \n"
     ]
    },
    {
     "name": "stdout",
     "output_type": "stream",
     "text": [
      "Estimating biases using sgd...\n",
      "Computing the pearson_baseline similarity matrix...\n",
      "Done computing similarity matrix.\n",
      "Computing the pearson_baseline similarity matrix...\n",
      "Done computing similarity matrix.\n",
      "Computing the pearson_baseline similarity matrix...\n",
      "Done computing similarity matrix.\n",
      "Computing the pearson_baseline similarity matrix...\n",
      "Done computing similarity matrix.\n"
     ]
    },
    {
     "name": "stderr",
     "output_type": "stream",
     "text": [
      "[I 2023-11-10 19:52:52,347] Trial 28 finished with values: [0.9190934496498112, 0.7209699811460595, 0.7155782861548075] and parameters: {'k': 86, 'min_k': 4, 'sim_options_name': 'pearson_baseline', 'user_based': True, 'min_support': 1, 'shrinkage': 185, 'bsl_method': 'als', 'bsl_n_epochs': 39, 'als_reg_u': 11.743022513385842, 'als_reg_i': 1.7544702915659833}. \n",
      "[I 2023-11-10 19:52:52,595] Trial 23 finished with values: [0.9293638471889019, 0.7313951159507953, 0.7048366014691508] and parameters: {'k': 65, 'min_k': 7, 'sim_options_name': 'msd', 'user_based': False, 'min_support': 4, 'bsl_method': 'als', 'bsl_n_epochs': 44, 'als_reg_u': 8.580841348819476, 'als_reg_i': 12.532370184873043}. \n"
     ]
    },
    {
     "name": "stdout",
     "output_type": "stream",
     "text": [
      "Estimating biases using sgd...\n",
      "Estimating biases using sgd...\n",
      "Estimating biases using als...\n",
      "Computing the pearson_baseline similarity matrix...\n",
      "Done computing similarity matrix.\n",
      "Estimating biases using als...\n",
      "Estimating biases using als...\n",
      "Computing the pearson_baseline similarity matrix...\n",
      "Done computing similarity matrix.\n",
      "Estimating biases using sgd...\n",
      "Computing the pearson_baseline similarity matrix...\n",
      "Computing the pearson_baseline similarity matrix...\n",
      "Computing the pearson_baseline similarity matrix...\n",
      "Done computing similarity matrix.\n",
      "Done computing similarity matrix.\n",
      "Done computing similarity matrix.\n",
      "Estimating biases using als...\n",
      "Estimating biases using als...\n",
      "Estimating biases usingEstimating biases using sgd...\n",
      " als...\n",
      "Estimating biases usingComputing the pearson_baseline similarity matrix...\n",
      " sgd...\n",
      "Done computing similarity matrix.\n",
      "Estimating biases using als...\n",
      "Computing the pearson_baseline similarity matrix...\n",
      "Done computing similarity matrix.\n",
      "Computing the pearson_baseline similarity matrix...\n",
      "Computing the pearson_baseline similarity matrix...\n",
      "Computing the pearson_baseline similarity matrix...\n",
      "Done computing similarity matrix.\n",
      "Done computing similarity matrix.\n",
      "Done computing similarity matrix.\n",
      "Estimating biases using sgd...\n",
      "Estimating biases using als...\n",
      "Computing the pearson_baseline similarity matrix...\n",
      "Done computing similarity matrix.\n"
     ]
    },
    {
     "name": "stderr",
     "output_type": "stream",
     "text": [
      "[I 2023-11-10 19:53:59,689] Trial 29 finished with values: [0.9232441608590889, 0.7257628299617884, 0.713142751778818] and parameters: {'k': 83, 'min_k': 4, 'sim_options_name': 'pearson_baseline', 'user_based': True, 'min_support': 5, 'shrinkage': 9, 'bsl_method': 'sgd', 'bsl_n_epochs': 36, 'sgd_reg': 0.19320886753887273, 'sgd_learning_rate': 0.009882393085381278}. \n"
     ]
    },
    {
     "name": "stdout",
     "output_type": "stream",
     "text": [
      "Estimating biases using sgd...\n",
      "Computing the pearson_baseline similarity matrix...\n",
      "Computing the pearson_baseline similarity matrix...\n",
      "Done computing similarity matrix.\n",
      "Done computing similarity matrix.\n",
      "Computing the pearson_baseline similarity matrix...\n",
      "Done computing similarity matrix.\n",
      "Computing the pearson_baseline similarity matrix...\n",
      "Done computing similarity matrix.\n",
      "Estimating biases using sgd...\n",
      "Estimating biases using sgd...\n",
      "Estimating biases using als...\n",
      "Estimating biases using als...\n",
      "Computing the pearson_baseline similarity matrix...\n",
      "Computing the pearson_baseline similarity matrix...\n",
      "Computing the pearson_baseline similarity matrix...\n",
      "Done computing similarity matrix.\n",
      "Done computing similarity matrix.\n",
      "Done computing similarity matrix.\n",
      "Estimating biases usingComputing the pearson_baseline similarity matrix...\n",
      " als...\n",
      "Done computing similarity matrix.\n",
      "Estimating biases using sgd...\n",
      "Estimating biases using als...\n",
      "Computing the pearson_baseline similarity matrix...\n",
      "Done computing similarity matrix.\n",
      "Computing the pearson_baseline similarity matrix...\n",
      "Done computing similarity matrix.\n",
      "Estimating biases using als...\n",
      "Estimating biases using als...\n",
      "Computing the pearson_baseline similarity matrix...\n",
      "Computing the pearson_baseline similarity matrix...\n",
      "Estimating biases using als...\n",
      "Done computing similarity matrix.\n",
      "Done computing similarity matrix.\n",
      "Estimating biases using als...\n",
      "Computing the pearson_baseline similarity matrix...\n",
      "Computing the pearson_baseline similarity matrix...\n",
      "Done computing similarity matrix.\n",
      "Done computing similarity matrix.\n"
     ]
    },
    {
     "name": "stderr",
     "output_type": "stream",
     "text": [
      "[I 2023-11-10 19:55:17,202] Trial 30 finished with values: [0.916559229126465, 0.7204820911949938, 0.7209198599785756] and parameters: {'k': 85, 'min_k': 10, 'sim_options_name': 'pearson_baseline', 'user_based': False, 'min_support': 5, 'shrinkage': 84, 'bsl_method': 'sgd', 'bsl_n_epochs': 49, 'sgd_reg': 0.18083555555557643, 'sgd_learning_rate': 0.00952630250644693}. \n"
     ]
    },
    {
     "name": "stdout",
     "output_type": "stream",
     "text": [
      "Computing the pearson_baseline similarity matrix...\n",
      "Done computing similarity matrix.\n"
     ]
    },
    {
     "name": "stderr",
     "output_type": "stream",
     "text": [
      "[I 2023-11-10 19:55:21,284] Trial 32 finished with values: [0.9162613524495896, 0.7198987949863209, 0.719642209936014] and parameters: {'k': 41, 'min_k': 10, 'sim_options_name': 'pearson_baseline', 'user_based': False, 'min_support': 1, 'shrinkage': 59, 'bsl_method': 'sgd', 'bsl_n_epochs': 36, 'sgd_reg': 0.19648155881451962, 'sgd_learning_rate': 0.00960954770545213}. \n"
     ]
    },
    {
     "name": "stdout",
     "output_type": "stream",
     "text": [
      "Estimating biases using als...\n"
     ]
    },
    {
     "name": "stderr",
     "output_type": "stream",
     "text": [
      "[I 2023-11-10 19:55:27,169] Trial 31 finished with values: [0.915343952209291, 0.7189944759747713, 0.7228649999750997] and parameters: {'k': 40, 'min_k': 10, 'sim_options_name': 'pearson_baseline', 'user_based': False, 'min_support': 5, 'shrinkage': 64, 'bsl_method': 'sgd', 'bsl_n_epochs': 34, 'sgd_reg': 0.17558801514734756, 'sgd_learning_rate': 0.009937854031229489}. \n"
     ]
    },
    {
     "name": "stdout",
     "output_type": "stream",
     "text": [
      "Computing the pearson_baseline similarity matrix...\n",
      "Estimating biases using sgd...\n",
      "Done computing similarity matrix.\n",
      "Computing the pearson_baseline similarity matrix...\n",
      "Done computing similarity matrix.\n",
      "Estimating biases usingEstimating biases using als...\n",
      " sgd...\n",
      "Estimating biases using als...\n",
      "Estimating biases usingEstimating biases using sgd...\n",
      "Computing the pearson_baseline similarity matrix...\n",
      " als...\n",
      "Done computing similarity matrix.\n",
      "Computing the pearson_baseline similarity matrix...\n",
      "Done computing similarity matrix.\n",
      "Estimating biases using als...\n"
     ]
    },
    {
     "name": "stderr",
     "output_type": "stream",
     "text": [
      "[I 2023-11-10 19:56:03,805] Trial 33 finished with values: [0.913718963823686, 0.7163451550039094, 0.722455861745439] and parameters: {'k': 41, 'min_k': 4, 'sim_options_name': 'pearson_baseline', 'user_based': False, 'min_support': 1, 'shrinkage': 69, 'bsl_method': 'sgd', 'bsl_n_epochs': 35, 'sgd_reg': 0.011616756727031947, 'sgd_learning_rate': 0.00942270571579868}. \n"
     ]
    },
    {
     "name": "stdout",
     "output_type": "stream",
     "text": [
      "Computing the pearson_baseline similarity matrix...\n",
      "Done computing similarity matrix.\n",
      "Computing the pearson_baseline similarity matrix...\n",
      "Done computing similarity matrix.\n",
      "Computing the pearson_baseline similarity matrix...\n",
      "Done computing similarity matrix.\n",
      "Computing the pearson_baseline similarity matrix...\n",
      "Done computing similarity matrix.\n",
      "Estimating biases using als...\n",
      "Estimating biases using als...\n",
      "Estimating biases using als...\n",
      "Computing the pearson_baseline similarity matrix...\n",
      "Estimating biases using als...\n",
      "Done computing similarity matrix.\n",
      "Computing the pearson_baseline similarity matrix...Computing the pearson_baseline similarity matrix...\n",
      "Estimating biases using als...\n",
      "Done computing similarity matrix.\n",
      "Computing the pearson_baseline similarity matrix...\n",
      "\n",
      "Done computing similarity matrix.\n",
      "Estimating biases using als...\n",
      "Computing the pearson_baseline similarity matrix...\n",
      "Done computing similarity matrix.\n",
      "Estimating biases using als...\n",
      "Done computing similarity matrix.\n",
      "Estimating biases using als...\n",
      "Computing the pearson_baseline similarity matrix...\n",
      "Done computing similarity matrix.\n",
      "Computing the pearson_baseline similarity matrix...\n",
      "Done computing similarity matrix.\n",
      "Computing the pearson_baseline similarity matrix...\n",
      "Done computing similarity matrix.\n",
      "Estimating biases using als...\n",
      "Estimating biases using sgd...\n",
      "Computing the pearson_baseline similarity matrix...\n",
      "Done computing similarity matrix.\n",
      "Estimating biases using als...\n",
      "Computing the pearson_baseline similarity matrix...\n",
      "Done computing similarity matrix.Estimating biases using als...\n",
      "\n",
      "Estimating biases using sgd...\n",
      "Computing the pearson_baseline similarity matrix...\n",
      "Done computing similarity matrix.\n",
      "Estimating biases using sgd...\n",
      "Computing the pearson_baseline similarity matrix...\n",
      "Done computing similarity matrix.\n",
      "Estimating biases using als...\n",
      "Estimating biases using als...\n",
      "Computing the pearson_baseline similarity matrix...Computing the pearson_baseline similarity matrix...\n",
      "\n",
      "Computing the pearson_baseline similarity matrix...\n",
      "Done computing similarity matrix.\n",
      "Computing the pearson_baseline similarity matrix...\n",
      "Done computing similarity matrix.\n",
      "Done computing similarity matrix.\n",
      "Estimating biases using als...\n",
      "Estimating biases using als...\n",
      "Done computing similarity matrix.\n",
      "Estimating biases using als...\n",
      "Estimating biases using als...\n",
      "Computing the pearson_baseline similarity matrix...\n",
      "Done computing similarity matrix.\n",
      "Computing the pearson_baseline similarity matrix...\n",
      "Computing the pearson_baseline similarity matrix...\n",
      "Done computing similarity matrix.\n",
      "Done computing similarity matrix.Computing the pearson_baseline similarity matrix...\n",
      "\n",
      "Done computing similarity matrix.\n",
      "Estimating biases using als...\n",
      "Estimating biases using als...\n",
      "Estimating biases using als...\n",
      "Computing the pearson_baseline similarity matrix...\n",
      "Done computing similarity matrix.\n",
      "Computing the pearson_baseline similarity matrix...\n",
      "Done computing similarity matrix.\n",
      "Estimating biases using als...\n",
      "Computing the pearson_baseline similarity matrix...\n",
      "Done computing similarity matrix.\n",
      "Computing the pearson_baseline similarity matrix...\n",
      "Done computing similarity matrix.\n",
      "Estimating biases using als...\n"
     ]
    },
    {
     "name": "stderr",
     "output_type": "stream",
     "text": [
      "[I 2023-11-10 19:58:38,216] Trial 34 finished with values: [0.9144215623403665, 0.7172487117642001, 0.7232921039102067] and parameters: {'k': 43, 'min_k': 4, 'sim_options_name': 'pearson_baseline', 'user_based': False, 'min_support': 1, 'shrinkage': 64, 'bsl_method': 'sgd', 'bsl_n_epochs': 50, 'sgd_reg': 0.029506419147485526, 'sgd_learning_rate': 0.009390399082310699}. \n"
     ]
    },
    {
     "name": "stdout",
     "output_type": "stream",
     "text": [
      "Computing the pearson_baseline similarity matrix...\n",
      "Done computing similarity matrix.\n"
     ]
    },
    {
     "name": "stderr",
     "output_type": "stream",
     "text": [
      "[I 2023-11-10 19:58:47,013] Trial 35 finished with values: [0.9145401588144437, 0.717958806453571, 0.7217386444473477] and parameters: {'k': 39, 'min_k': 10, 'sim_options_name': 'pearson_baseline', 'user_based': False, 'min_support': 1, 'shrinkage': 44, 'bsl_method': 'sgd', 'bsl_n_epochs': 50, 'sgd_reg': 0.04795706402355725, 'sgd_learning_rate': 0.0069255575314502524}. \n",
      "[I 2023-11-10 19:58:48,792] Trial 36 finished with values: [0.9147842113784698, 0.7178407720880904, 0.7216806778499866] and parameters: {'k': 39, 'min_k': 10, 'sim_options_name': 'pearson_baseline', 'user_based': False, 'min_support': 1, 'shrinkage': 46, 'bsl_method': 'sgd', 'bsl_n_epochs': 48, 'sgd_reg': 0.04534057725781257, 'sgd_learning_rate': 0.00957228162221736}. \n"
     ]
    },
    {
     "name": "stdout",
     "output_type": "stream",
     "text": [
      "Estimating biases using als...\n",
      "Estimating biases using als...\n",
      "Computing the pearson_baseline similarity matrix...\n",
      "Estimating biases using als...\n",
      "Computing the pearson_baseline similarity matrix...\n",
      "Done computing similarity matrix.Done computing similarity matrix.\n",
      "\n",
      "Computing the pearson_baseline similarity matrix...\n",
      "Done computing similarity matrix.\n",
      "Estimating biases using als...\n"
     ]
    },
    {
     "name": "stderr",
     "output_type": "stream",
     "text": [
      "[I 2023-11-10 19:59:08,502] Trial 40 finished with values: [0.915818004792255, 0.7198725842387148, 0.7236501058851527] and parameters: {'k': 88, 'min_k': 10, 'sim_options_name': 'pearson_baseline', 'user_based': False, 'min_support': 4, 'shrinkage': 177, 'bsl_method': 'als', 'bsl_n_epochs': 14, 'als_reg_u': 8.179749240117419, 'als_reg_i': 8.74692297745245}. \n",
      "[I 2023-11-10 19:59:10,460] Trial 37 finished with values: [0.9154201302199804, 0.7194993828855976, 0.7227516511376292] and parameters: {'k': 89, 'min_k': 10, 'sim_options_name': 'pearson_baseline', 'user_based': False, 'min_support': 4, 'shrinkage': 183, 'bsl_method': 'als', 'bsl_n_epochs': 29, 'als_reg_u': 8.955094422108132, 'als_reg_i': 8.458726931618212}. \n"
     ]
    },
    {
     "name": "stdout",
     "output_type": "stream",
     "text": [
      "Estimating biases usingEstimating biases using als...\n",
      " als...\n",
      "Estimating biases using als...\n",
      "Computing the pearson_baseline similarity matrix...\n",
      "Computing the pearson_baseline similarity matrix...\n",
      "Done computing similarity matrix.\n",
      "Done computing similarity matrix.\n"
     ]
    },
    {
     "name": "stderr",
     "output_type": "stream",
     "text": [
      "[I 2023-11-10 19:59:18,382] Trial 38 finished with values: [0.9149943202383659, 0.7189709235211932, 0.7220448073182131] and parameters: {'k': 86, 'min_k': 10, 'sim_options_name': 'pearson_baseline', 'user_based': False, 'min_support': 4, 'shrinkage': 191, 'bsl_method': 'als', 'bsl_n_epochs': 28, 'als_reg_u': 8.362343614152692, 'als_reg_i': 8.030590973117707}. \n"
     ]
    },
    {
     "name": "stdout",
     "output_type": "stream",
     "text": [
      "Estimating biases using als...\n",
      "Computing the pearson_baseline similarity matrix...\n",
      "Computing the pearson_baseline similarity matrix...\n",
      "Done computing similarity matrix.\n",
      "Done computing similarity matrix.\n",
      "Computing the pearson_baseline similarity matrix...\n",
      "Estimating biases using als...\n",
      "Done computing similarity matrix.\n",
      "Computing the pearson_baseline similarity matrix...\n",
      "Done computing similarity matrix.\n"
     ]
    },
    {
     "name": "stderr",
     "output_type": "stream",
     "text": [
      "[I 2023-11-10 19:59:33,982] Trial 39 finished with values: [0.9144457392673045, 0.7175852689682397, 0.721860634933208] and parameters: {'k': 87, 'min_k': 10, 'sim_options_name': 'pearson_baseline', 'user_based': False, 'min_support': 4, 'shrinkage': 189, 'bsl_method': 'als', 'bsl_n_epochs': 30, 'als_reg_u': 8.864940427379079, 'als_reg_i': 1.0270123911562927}. \n"
     ]
    },
    {
     "name": "stdout",
     "output_type": "stream",
     "text": [
      "Estimating biases using als...\n",
      "Estimating biases using als...\n",
      "Computing the pearson_baseline similarity matrix...\n",
      "Done computing similarity matrix.\n",
      "Computing the pearson_baseline similarity matrix...\n",
      "Estimating biases using als...\n",
      "Done computing similarity matrix.\n",
      "Computing the pearson_baseline similarity matrix...\n",
      "Estimating biases using als...\n",
      "Done computing similarity matrix.\n",
      "Computing the pearson_baseline similarity matrix...\n",
      "Estimating biases using als...\n",
      "Estimating biases using als...\n",
      "Done computing similarity matrix.\n"
     ]
    },
    {
     "name": "stderr",
     "output_type": "stream",
     "text": [
      "[I 2023-11-10 20:00:02,822] Trial 41 finished with values: [0.9140601247990576, 0.7181550743707887, 0.7229805295743505] and parameters: {'k': 89, 'min_k': 10, 'sim_options_name': 'pearson_baseline', 'user_based': False, 'min_support': 4, 'shrinkage': 171, 'bsl_method': 'als', 'bsl_n_epochs': 30, 'als_reg_u': 8.146000484286446, 'als_reg_i': 8.394822767233203}. \n"
     ]
    },
    {
     "name": "stdout",
     "output_type": "stream",
     "text": [
      "Computing the pearson_baseline similarity matrix...\n",
      "Done computing similarity matrix.\n",
      "Computing the pearson_baseline similarity matrix...\n",
      "Done computing similarity matrix.\n",
      "Estimating biases usingEstimating biases using als...\n",
      " als...\n",
      "Computing the pearson_baseline similarity matrix...\n",
      "Done computing similarity matrix.\n",
      "Computing the pearson_baseline similarity matrix...Estimating biases using als...\n",
      "\n",
      "Done computing similarity matrix.\n",
      "Computing the pearson_baseline similarity matrix...\n",
      "Done computing similarity matrix.\n",
      "Estimating biases using als...\n",
      "Computing the pearson_baseline similarity matrix...\n",
      "Done computing similarity matrix.\n"
     ]
    },
    {
     "name": "stderr",
     "output_type": "stream",
     "text": [
      "[I 2023-11-10 20:00:39,632] Trial 43 finished with values: [0.9160386100365014, 0.7203845350674843, 0.7224382936084852] and parameters: {'k': 89, 'min_k': 10, 'sim_options_name': 'pearson_baseline', 'user_based': False, 'min_support': 5, 'shrinkage': 128, 'bsl_method': 'als', 'bsl_n_epochs': 28, 'als_reg_u': 19.87082834163174, 'als_reg_i': 8.451921208239797}. \n"
     ]
    },
    {
     "name": "stdout",
     "output_type": "stream",
     "text": [
      "Estimating biases using als...\n"
     ]
    },
    {
     "name": "stderr",
     "output_type": "stream",
     "text": [
      "[I 2023-11-10 20:00:41,953] Trial 42 finished with values: [0.9146584250508388, 0.7187672176940234, 0.7225604577399438] and parameters: {'k': 90, 'min_k': 10, 'sim_options_name': 'pearson_baseline', 'user_based': False, 'min_support': 4, 'shrinkage': 167, 'bsl_method': 'als', 'bsl_n_epochs': 27, 'als_reg_u': 8.355803514184501, 'als_reg_i': 7.372420555710316}. \n"
     ]
    },
    {
     "name": "stdout",
     "output_type": "stream",
     "text": [
      "Estimating biases using als...\n",
      "Estimating biases using als...\n",
      "Estimating biases using als...\n",
      "Computing the pearson_baseline similarity matrix...\n",
      "Computing the pearson_baseline similarity matrix...Computing the pearson_baseline similarity matrix...\n",
      "\n",
      "Done computing similarity matrix.Done computing similarity matrix.\n",
      "\n",
      "Done computing similarity matrix.\n",
      "Computing the pearson_baseline similarity matrix...\n",
      "Done computing similarity matrix.\n"
     ]
    },
    {
     "name": "stderr",
     "output_type": "stream",
     "text": [
      "[I 2023-11-10 20:00:58,338] Trial 44 finished with values: [0.9152883256611526, 0.7192728706090563, 0.7219279585105316] and parameters: {'k': 91, 'min_k': 10, 'sim_options_name': 'pearson_baseline', 'user_based': False, 'min_support': 5, 'shrinkage': 129, 'bsl_method': 'als', 'bsl_n_epochs': 28, 'als_reg_u': 8.436823675023607, 'als_reg_i': 8.278464523237613}. \n"
     ]
    },
    {
     "name": "stdout",
     "output_type": "stream",
     "text": [
      "Estimating biases using als...\n",
      "Estimating biases using als...\n",
      "Computing the pearson_baseline similarity matrix...\n",
      "Estimating biases using als...\n",
      "Done computing similarity matrix.Computing the pearson_baseline similarity matrix...\n",
      "\n",
      "Done computing similarity matrix.\n",
      "Estimating biases using als...\n",
      "Computing the pearson_baseline similarity matrix...\n",
      "Estimating biases usingDone computing similarity matrix.\n",
      "Computing the pearson_baseline similarity matrix...\n",
      "Done computing similarity matrix.\n",
      " als...\n",
      "Estimating biases using als...\n",
      "Estimating biases using als...\n",
      "Computing the pearson similarity matrix...\n",
      "Computing the pearson_baseline similarity matrix...\n",
      "Estimating biases using als...\n",
      "Done computing similarity matrix.\n",
      "Computing the pearson_baseline similarity matrix...Done computing similarity matrix.\n",
      "\n",
      "Computing the pearson_baseline similarity matrix...\n",
      "Done computing similarity matrix.\n",
      "Done computing similarity matrix.\n",
      "Estimating biases using als...\n",
      "Estimating biases using als...\n",
      "Computing the pearson similarity matrix...\n",
      "Computing the pearson_baseline similarity matrix...\n",
      "Done computing similarity matrix.\n",
      "Done computing similarity matrix.\n",
      "Estimating biases using als...\n",
      "Computing the pearson_baseline similarity matrix...\n",
      "Done computing similarity matrix.\n",
      "Estimating biases using als...\n",
      "Computing the pearson_baseline similarity matrix...\n",
      "Done computing similarity matrix.\n",
      "Estimating biases using als...\n"
     ]
    },
    {
     "name": "stderr",
     "output_type": "stream",
     "text": [
      "[I 2023-11-10 20:02:10,599] Trial 45 finished with values: [0.9147863725642609, 0.7190496102759921, 0.7228667108394814] and parameters: {'k': 89, 'min_k': 10, 'sim_options_name': 'pearson_baseline', 'user_based': False, 'min_support': 4, 'shrinkage': 132, 'bsl_method': 'als', 'bsl_n_epochs': 28, 'als_reg_u': 8.722111922827589, 'als_reg_i': 8.155757621270688}. \n"
     ]
    },
    {
     "name": "stdout",
     "output_type": "stream",
     "text": [
      "Computing the pearson_baseline similarity matrix...\n",
      "Done computing similarity matrix.\n",
      "Estimating biases using als...\n",
      "Estimating biases using als...\n",
      "Computing the pearson_baseline similarity matrix...\n",
      "Done computing similarity matrix.\n",
      "Computing the pearson_baseline similarity matrix...\n",
      "Done computing similarity matrix.\n",
      "Estimating biases using als...\n"
     ]
    },
    {
     "name": "stderr",
     "output_type": "stream",
     "text": [
      "[I 2023-11-10 20:02:32,975] Trial 49 finished with values: [0.9134114071402116, 0.7171726006773436, 0.7233559417845978] and parameters: {'k': 36, 'min_k': 9, 'sim_options_name': 'pearson_baseline', 'user_based': False, 'min_support': 4, 'shrinkage': 144, 'bsl_method': 'als', 'bsl_n_epochs': 28, 'als_reg_u': 8.812917742447834, 'als_reg_i': 8.297765892306021}. \n"
     ]
    },
    {
     "name": "stdout",
     "output_type": "stream",
     "text": [
      "Computing the pearson_baseline similarity matrix...\n",
      "Done computing similarity matrix.Estimating biases using als...\n",
      "\n",
      "Computing the pearson_baseline similarity matrix...\n",
      "Done computing similarity matrix.\n",
      "Estimating biases using als...\n",
      "Estimating biases using als...\n",
      "Computing the pearson_baseline similarity matrix...\n",
      "Estimating biases usingEstimating biases using als...\n",
      " als...\n",
      "Done computing similarity matrix.\n",
      "Estimating biases using als...\n",
      "Estimating biases using als...\n",
      "Estimating biases using als...\n",
      "Computing the pearson_baseline similarity matrix...\n",
      "Done computing similarity matrix.\n",
      "Computing the pearson similarity matrix...\n",
      "Computing the pearson_baseline similarity matrix...\n",
      "Computing the pearson_baseline similarity matrix...\n",
      "Computing the pearson similarity matrix...\n",
      "Done computing similarity matrix.\n",
      "Computing the pearson similarity matrix...\n",
      "Done computing similarity matrix.\n",
      "Done computing similarity matrix.\n",
      "Done computing similarity matrix.Done computing similarity matrix.\n",
      "\n"
     ]
    },
    {
     "name": "stderr",
     "output_type": "stream",
     "text": [
      "[I 2023-11-10 20:03:10,637] Trial 46 finished with values: [0.916756317809581, 0.7206365267342377, 0.7213451327135374] and parameters: {'k': 91, 'min_k': 10, 'sim_options_name': 'pearson_baseline', 'user_based': False, 'min_support': 4, 'shrinkage': 120, 'bsl_method': 'als', 'bsl_n_epochs': 27, 'als_reg_u': 19.692343739581407, 'als_reg_i': 8.167274209656458}. \n",
      "[I 2023-11-10 20:03:22,188] Trial 47 finished with values: [0.9141657749651761, 0.7183319980643815, 0.7217784912536278] and parameters: {'k': 91, 'min_k': 9, 'sim_options_name': 'pearson_baseline', 'user_based': False, 'min_support': 4, 'shrinkage': 129, 'bsl_method': 'als', 'bsl_n_epochs': 29, 'als_reg_u': 1.0569085379963692, 'als_reg_i': 8.199809809316132}. \n"
     ]
    },
    {
     "name": "stdout",
     "output_type": "stream",
     "text": [
      "Estimating biases using als...\n",
      "Computing the pearson similarity matrix...\n",
      "Done computing similarity matrix.\n",
      "Estimating biases using als...\n",
      "Estimating biases usingComputing the pearson_baseline similarity matrix...\n",
      " als...\n",
      "Done computing similarity matrix.\n",
      "Computing the pearson_baseline similarity matrix...\n",
      "Estimating biases using als...\n",
      "Done computing similarity matrix.\n",
      "Computing the pearson_baseline similarity matrix...\n",
      "Estimating biases using als...\n",
      "Done computing similarity matrix.\n",
      "Estimating biases using als...\n",
      "Computing the pearson_baseline similarity matrix...\n",
      "Computing the pearson_baseline similarity matrix...\n",
      "Done computing similarity matrix.\n",
      "Done computing similarity matrix.\n",
      "Estimating biases using als...\n",
      "Estimating biases using als...\n",
      "Computing the pearson_baseline similarity matrix...\n",
      "Computing the pearson similarity matrix...\n",
      "Done computing similarity matrix.\n",
      "Done computing similarity matrix.\n",
      "Estimating biases using als...\n",
      "Computing the pearson similarity matrix...\n",
      "Done computing similarity matrix.Estimating biases using als...\n",
      "\n",
      "Estimating biases usingEstimating biases using als...\n",
      " als...\n",
      "Computing the pearson_baseline similarity matrix...\n",
      "Done computing similarity matrix.\n",
      "Computing the pearson_baseline similarity matrix...\n",
      "Done computing similarity matrix.\n",
      "Computing the pearson_baseline similarity matrix...\n",
      "Done computing similarity matrix.\n",
      "Estimating biases using als...\n",
      "Computing the pearson similarity matrix...\n",
      "Done computing similarity matrix.\n",
      "Estimating biases using als...\n",
      "Estimating biases using als...\n",
      "Computing the pearson similarity matrix...\n",
      "Computing the pearson similarity matrix...\n",
      "Done computing similarity matrix.\n",
      "Done computing similarity matrix.Estimating biases using als...\n",
      "\n",
      "Computing the pearson similarity matrix...\n",
      "Done computing similarity matrix.\n"
     ]
    },
    {
     "name": "stderr",
     "output_type": "stream",
     "text": [
      "[I 2023-11-10 20:04:53,192] Trial 48 finished with values: [0.9143756950105777, 0.7186273457160288, 0.7237503260478098] and parameters: {'k': 90, 'min_k': 9, 'sim_options_name': 'pearson_baseline', 'user_based': False, 'min_support': 4, 'shrinkage': 139, 'bsl_method': 'als', 'bsl_n_epochs': 29, 'als_reg_u': 7.680506532575607, 'als_reg_i': 8.266979590374907}. \n"
     ]
    },
    {
     "name": "stdout",
     "output_type": "stream",
     "text": [
      "Estimating biases using als...\n",
      "Computing the pearson_baseline similarity matrix...\n",
      "Done computing similarity matrix.\n"
     ]
    },
    {
     "name": "stderr",
     "output_type": "stream",
     "text": [
      "[I 2023-11-10 20:05:03,075] Trial 50 finished with values: [0.9157714288884137, 0.7188563322869193, 0.7224726716973693] and parameters: {'k': 38, 'min_k': 5, 'sim_options_name': 'pearson_baseline', 'user_based': False, 'min_support': 3, 'shrinkage': 133, 'bsl_method': 'als', 'bsl_n_epochs': 12, 'als_reg_u': 19.993652932287308, 'als_reg_i': 7.865979655510733}. \n"
     ]
    },
    {
     "name": "stdout",
     "output_type": "stream",
     "text": [
      "Estimating biases using als...\n",
      "Computing the pearson_baseline similarity matrix...\n",
      "Done computing similarity matrix.\n",
      "Estimating biases using als...\n",
      "Estimating biases using als...\n",
      "Computing the pearson_baseline similarity matrix...Computing the pearson_baseline similarity matrix...\n",
      "\n",
      "Estimating biases using als...\n",
      "Done computing similarity matrix.\n",
      "Done computing similarity matrix.\n",
      "Estimating biases using als...\n",
      "Computing the pearson_baseline similarity matrix...\n",
      "Done computing similarity matrix.Computing the pearson similarity matrix...\n",
      "\n",
      "Estimating biases using als...\n",
      "Done computing similarity matrix.\n",
      "Estimating biases using als...\n",
      "Computing the pearson_baseline similarity matrix...\n",
      "Done computing similarity matrix.\n",
      "Computing the pearson similarity matrix...\n",
      "Estimating biases using als...\n",
      "Done computing similarity matrix.\n",
      "Estimating biases using als...\n",
      "Computing the pearson_baseline similarity matrix...\n",
      "Done computing similarity matrix.\n",
      "Computing the pearson_baseline similarity matrix...\n",
      "Done computing similarity matrix.\n",
      "Estimating biases using als...\n",
      "Computing the pearson similarity matrix...\n",
      "Done computing similarity matrix.\n",
      "Estimating biases using als...\n",
      "Estimating biases using als...\n",
      "Computing the pearson similarity matrix...\n",
      "Computing the pearson similarity matrix...Done computing similarity matrix.\n",
      "\n",
      "Estimating biases using als...\n",
      "Done computing similarity matrix.\n",
      "Computing the pearson similarity matrix...\n",
      "Done computing similarity matrix.\n",
      "Estimating biases using als...\n",
      "Computing the pearson_baseline similarity matrix...\n",
      "Estimating biases using als...\n",
      "Done computing similarity matrix.\n"
     ]
    },
    {
     "name": "stderr",
     "output_type": "stream",
     "text": [
      "[I 2023-11-10 20:06:24,871] Trial 52 finished with values: [0.9162048184300406, 0.7191880134010207, 0.7219391138644948] and parameters: {'k': 91, 'min_k': 5, 'sim_options_name': 'pearson_baseline', 'user_based': False, 'min_support': 3, 'shrinkage': 144, 'bsl_method': 'als', 'bsl_n_epochs': 29, 'als_reg_u': 19.79042323500953, 'als_reg_i': 7.962112891310384}. \n"
     ]
    },
    {
     "name": "stdout",
     "output_type": "stream",
     "text": [
      "Computing the pearson similarity matrix...Estimating biases using als...\n",
      "\n",
      "Done computing similarity matrix.\n",
      "Computing the pearson similarity matrix...\n",
      "Done computing similarity matrix.\n",
      "Estimating biases using als...\n",
      "Computing the pearson_baseline similarity matrix...\n",
      "Done computing similarity matrix.\n"
     ]
    },
    {
     "name": "stderr",
     "output_type": "stream",
     "text": [
      "[I 2023-11-10 20:06:45,625] Trial 51 finished with values: [0.9161269164414584, 0.7194046225342012, 0.7221510232828144] and parameters: {'k': 90, 'min_k': 6, 'sim_options_name': 'pearson_baseline', 'user_based': False, 'min_support': 3, 'shrinkage': 131, 'bsl_method': 'als', 'bsl_n_epochs': 28, 'als_reg_u': 8.295873951182344, 'als_reg_i': 8.623790430407277}. \n",
      "[I 2023-11-10 20:06:46,004] Trial 55 finished with values: [0.9154100578256008, 0.7191243198894057, 0.7228937950074249] and parameters: {'k': 93, 'min_k': 9, 'sim_options_name': 'pearson_baseline', 'user_based': False, 'min_support': 5, 'shrinkage': 152, 'bsl_method': 'als', 'bsl_n_epochs': 12, 'als_reg_u': 19.7689052268708, 'als_reg_i': 5.460305653358553}. \n",
      "[I 2023-11-10 20:06:46,464] Trial 54 finished with values: [0.9143758647378186, 0.7184577138690068, 0.7209280901516222] and parameters: {'k': 92, 'min_k': 9, 'sim_options_name': 'pearson_baseline', 'user_based': False, 'min_support': 4, 'shrinkage': 150, 'bsl_method': 'als', 'bsl_n_epochs': 12, 'als_reg_u': 15.145944760274904, 'als_reg_i': 6.234860587658016}. \n"
     ]
    },
    {
     "name": "stdout",
     "output_type": "stream",
     "text": [
      "Estimating biases using als...\n"
     ]
    },
    {
     "name": "stderr",
     "output_type": "stream",
     "text": [
      "[I 2023-11-10 20:06:49,501] Trial 53 finished with values: [0.9145240163976187, 0.7185618672415199, 0.7238500330867207] and parameters: {'k': 91, 'min_k': 9, 'sim_options_name': 'pearson_baseline', 'user_based': False, 'min_support': 4, 'shrinkage': 142, 'bsl_method': 'als', 'bsl_n_epochs': 12, 'als_reg_u': 8.596129004784032, 'als_reg_i': 8.11454028204011}. \n"
     ]
    },
    {
     "name": "stdout",
     "output_type": "stream",
     "text": [
      "Computing the pearson similarity matrix...\n",
      "Done computing similarity matrix.\n",
      "Estimating biases using als...\n",
      "Computing the pearson similarity matrix...\n",
      "Done computing similarity matrix.\n",
      "Estimating biases using als...\n",
      "Computing the pearson_baseline similarity matrix...\n",
      "Estimating biases using als...\n",
      "Done computing similarity matrix.\n",
      "Computing the pearson similarity matrix...\n",
      "Estimating biases using als...\n",
      "Done computing similarity matrix.\n",
      "Computing the pearson similarity matrix...\n",
      "Done computing similarity matrix.\n",
      "Estimating biases using als...\n",
      "Estimating biases using als...\n",
      "Estimating biases using als...\n"
     ]
    },
    {
     "name": "stderr",
     "output_type": "stream",
     "text": [
      "[I 2023-11-10 20:07:26,282] Trial 56 finished with values: [0.9144270183244462, 0.718047795844831, 0.722845282702607] and parameters: {'k': 93, 'min_k': 9, 'sim_options_name': 'pearson_baseline', 'user_based': False, 'min_support': 5, 'shrinkage': 147, 'bsl_method': 'als', 'bsl_n_epochs': 11, 'als_reg_u': 1.2117814834237706, 'als_reg_i': 4.7965781774080565}. \n"
     ]
    },
    {
     "name": "stdout",
     "output_type": "stream",
     "text": [
      "Computing the pearson similarity matrix...\n",
      "Computing the pearson similarity matrix...\n",
      "Done computing similarity matrix.\n",
      "Done computing similarity matrix.\n",
      "Estimating biases using als...\n",
      "Computing the pearson similarity matrix...\n",
      "Computing the pearson similarity matrix...\n",
      "Done computing similarity matrix.\n",
      "Done computing similarity matrix.\n",
      "Estimating biases using als...\n",
      "Estimating biases using als...\n",
      "Estimating biases using als...\n",
      "Computing the pearson similarity matrix...Computing the pearson similarity matrix...\n",
      "\n",
      "Done computing similarity matrix.\n",
      "Computing the pearson similarity matrix...\n",
      "Done computing similarity matrix.\n",
      "Estimating biases using als...\n",
      "Done computing similarity matrix.\n",
      "Estimating biases usingComputing the pearson similarity matrix...\n",
      " als...\n"
     ]
    },
    {
     "name": "stderr",
     "output_type": "stream",
     "text": [
      "[I 2023-11-10 20:07:54,604] Trial 57 finished with values: [0.9142011383102657, 0.7184918291305955, 0.7227870709874167] and parameters: {'k': 95, 'min_k': 9, 'sim_options_name': 'pearson_baseline', 'user_based': False, 'min_support': 5, 'shrinkage': 147, 'bsl_method': 'als', 'bsl_n_epochs': 12, 'als_reg_u': 15.213341545227628, 'als_reg_i': 4.895483466538732}. \n"
     ]
    },
    {
     "name": "stdout",
     "output_type": "stream",
     "text": [
      "Done computing similarity matrix.\n",
      "Computing the pearson similarity matrix...\n",
      "Done computing similarity matrix.\n",
      "Estimating biases using als...\n",
      "Computing the pearson similarity matrix...\n",
      "Done computing similarity matrix.\n",
      "Estimating biases using als...\n"
     ]
    },
    {
     "name": "stderr",
     "output_type": "stream",
     "text": [
      "[I 2023-11-10 20:08:13,065] Trial 59 finished with values: [0.9140959697584525, 0.718076133910148, 0.7229868104009795] and parameters: {'k': 94, 'min_k': 9, 'sim_options_name': 'pearson_baseline', 'user_based': False, 'min_support': 5, 'shrinkage': 142, 'bsl_method': 'als', 'bsl_n_epochs': 12, 'als_reg_u': 14.441185638324258, 'als_reg_i': 4.79375633884473}. \n"
     ]
    },
    {
     "name": "stdout",
     "output_type": "stream",
     "text": [
      "Computing the pearson similarity matrix...\n",
      "Done computing similarity matrix.\n",
      "Estimating biases using als...\n",
      "Computing the pearson similarity matrix...\n",
      "Estimating biases using als...\n",
      "Done computing similarity matrix.\n",
      "Computing the pearson similarity matrix...\n",
      "Done computing similarity matrix.\n"
     ]
    },
    {
     "name": "stderr",
     "output_type": "stream",
     "text": [
      "[I 2023-11-10 20:08:35,560] Trial 58 finished with values: [0.9270669990523979, 0.7302881604395864, 0.7082138584940323] and parameters: {'k': 93, 'min_k': 9, 'sim_options_name': 'pearson', 'user_based': False, 'min_support': 5, 'bsl_method': 'als', 'bsl_n_epochs': 12, 'als_reg_u': 14.30518430616522, 'als_reg_i': 4.778698928018686}. \n"
     ]
    },
    {
     "name": "stdout",
     "output_type": "stream",
     "text": [
      "Estimating biases using als...\n",
      "Computing the pearson similarity matrix...\n",
      "Done computing similarity matrix.\n",
      "Estimating biases using als...\n",
      "Computing the pearson similarity matrix...\n",
      "Estimating biases using als...\n",
      "Done computing similarity matrix.\n",
      "Estimating biases using als...\n",
      "Computing the pearson similarity matrix...\n",
      "Computing the pearson similarity matrix...\n",
      "Done computing similarity matrix.\n",
      "Done computing similarity matrix.\n",
      "Estimating biases using als...\n",
      "Estimating biases using als...\n",
      "Computing the pearson similarity matrix...\n",
      "Computing the pearson similarity matrix...\n",
      "Done computing similarity matrix.\n",
      "Done computing similarity matrix.\n"
     ]
    },
    {
     "name": "stderr",
     "output_type": "stream",
     "text": [
      "[I 2023-11-10 20:09:05,073] Trial 60 finished with values: [0.9283466720133025, 0.7314342741580875, 0.7059378417896701] and parameters: {'k': 94, 'min_k': 9, 'sim_options_name': 'pearson', 'user_based': False, 'min_support': 3, 'bsl_method': 'als', 'bsl_n_epochs': 12, 'als_reg_u': 14.092754946140198, 'als_reg_i': 4.47525052750666}. \n"
     ]
    },
    {
     "name": "stdout",
     "output_type": "stream",
     "text": [
      "Estimating biases using als...\n",
      "Computing the pearson similarity matrix...\n",
      "Estimating biases using als...\n",
      "Estimating biases using als...\n",
      "Done computing similarity matrix.\n",
      "Computing the pearson similarity matrix...\n",
      "Done computing similarity matrix.\n",
      "Estimating biases using als...\n",
      "Computing the pearson similarity matrix...\n",
      "Computing the pearson similarity matrix...\n",
      "Estimating biases using als...\n",
      "Done computing similarity matrix.\n",
      "Done computing similarity matrix.\n",
      "Computing the pearson similarity matrix...\n",
      "Done computing similarity matrix.\n",
      "Estimating biases using als...\n",
      "Estimating biases using als...\n",
      "Computing the cosine similarity matrix...\n",
      "Done computing similarity matrix.\n",
      "Computing the pearson similarity matrix...\n",
      "Estimating biases using als...\n",
      "Done computing similarity matrix.\n",
      "Computing the pearson similarity matrix...\n",
      "Done computing similarity matrix.\n",
      "Estimating biases using als...\n"
     ]
    },
    {
     "name": "stderr",
     "output_type": "stream",
     "text": [
      "[I 2023-11-10 20:10:01,243] Trial 62 finished with values: [0.9275619586576458, 0.7308213454184486, 0.7052818844934224] and parameters: {'k': 95, 'min_k': 9, 'sim_options_name': 'pearson', 'user_based': False, 'min_support': 3, 'bsl_method': 'als', 'bsl_n_epochs': 13, 'als_reg_u': 1.437039041468502, 'als_reg_i': 4.393795488628317}. \n"
     ]
    },
    {
     "name": "stdout",
     "output_type": "stream",
     "text": [
      "Computing the pearson similarity matrix...\n",
      "Estimating biases using als...\n",
      "Done computing similarity matrix.\n",
      "Estimating biases using als...\n",
      "Computing the pearson similarity matrix...\n",
      "Computing the pearson similarity matrix...\n",
      "Done computing similarity matrix.\n",
      "Done computing similarity matrix.\n",
      "Estimating biases using als...\n",
      "Computing the pearson similarity matrix...\n",
      "Estimating biases using als...\n",
      "Done computing similarity matrix.\n",
      "Computing the pearson similarity matrix...\n",
      "Estimating biases using als...\n",
      "Done computing similarity matrix.\n",
      "Computing the cosine similarity matrix...\n",
      "Estimating biases using als...\n",
      "Computing the pearson similarity matrix...\n",
      "Done computing similarity matrix.\n",
      "Done computing similarity matrix.\n",
      "Estimating biases using als...\n",
      "Estimating biases using als...\n",
      "Computing the pearson similarity matrix...\n",
      "Done computing similarity matrix.\n",
      "Computing the pearson similarity matrix...\n",
      "Done computing similarity matrix.\n"
     ]
    },
    {
     "name": "stderr",
     "output_type": "stream",
     "text": [
      "[I 2023-11-10 20:10:46,307] Trial 64 finished with values: [0.9289300879272006, 0.7317449930892966, 0.7071200429575966] and parameters: {'k': 94, 'min_k': 7, 'sim_options_name': 'pearson', 'user_based': False, 'min_support': 3, 'bsl_method': 'als', 'bsl_n_epochs': 12, 'als_reg_u': 12.756496001577208, 'als_reg_i': 4.423428338121795}. \n",
      "[I 2023-11-10 20:10:48,963] Trial 63 finished with values: [0.9272937766367584, 0.7304895249010022, 0.7067703491582747] and parameters: {'k': 95, 'min_k': 8, 'sim_options_name': 'pearson', 'user_based': False, 'min_support': 3, 'bsl_method': 'als', 'bsl_n_epochs': 11, 'als_reg_u': 1.3697878051334564, 'als_reg_i': 4.538986013319265}. \n"
     ]
    },
    {
     "name": "stdout",
     "output_type": "stream",
     "text": [
      "Estimating biases using als...\n",
      "Computing the cosine similarity matrix...\n",
      "Done computing similarity matrix.\n",
      "Estimating biases using als...\n",
      "Estimating biases using als...\n",
      "Computing the cosine similarity matrix...\n",
      "Done computing similarity matrix.\n",
      "Computing the pearson similarity matrix...\n",
      "Done computing similarity matrix.Estimating biases using als...\n",
      "\n"
     ]
    },
    {
     "name": "stderr",
     "output_type": "stream",
     "text": [
      "[I 2023-11-10 20:11:11,467] Trial 61 finished with values: [0.9301450359216213, 0.7327304973683809, 0.7038214576791726] and parameters: {'k': 94, 'min_k': 8, 'sim_options_name': 'pearson', 'user_based': False, 'min_support': 3, 'bsl_method': 'als', 'bsl_n_epochs': 11, 'als_reg_u': 14.487201526353067, 'als_reg_i': 5.665484437734066}. \n"
     ]
    },
    {
     "name": "stdout",
     "output_type": "stream",
     "text": [
      "Estimating biases using als...\n",
      "Computing the pearson similarity matrix...\n",
      "Computing the pearson similarity matrix...\n",
      "Done computing similarity matrix.\n",
      "Done computing similarity matrix.\n",
      "Estimating biases using als...\n",
      "Computing the pearson similarity matrix...\n",
      "Done computing similarity matrix.\n",
      "Estimating biases using als...\n",
      "Computing the pearson similarity matrix...\n",
      "Done computing similarity matrix.\n",
      "Estimating biases using als...\n",
      "Estimating biases using als...\n",
      "Estimating biases using als...\n",
      "Computing the pearson similarity matrix...\n",
      "Computing the pearson similarity matrix...\n",
      "Computing the cosine similarity matrix...\n",
      "Done computing similarity matrix.\n",
      "Done computing similarity matrix.\n",
      "Done computing similarity matrix.\n",
      "Estimating biases using als...\n",
      "Estimating biases using als...\n",
      "Computing the pearson similarity matrix...\n",
      "Done computing similarity matrix.\n",
      "Computing the pearson similarity matrix...\n",
      "Estimating biases using als...\n",
      "Done computing similarity matrix.\n",
      "Computing the cosine similarity matrix...\n",
      "Done computing similarity matrix.\n",
      "Estimating biases using als...\n",
      "Computing the cosine similarity matrix...\n",
      "Done computing similarity matrix.\n",
      "Estimating biases using als...\n",
      "Estimating biases using als...\n",
      "Computing the cosine similarity matrix...\n",
      "Computing the pearson similarity matrix...\n",
      "Estimating biases using als...\n",
      "Done computing similarity matrix.\n",
      "Estimating biases using als...\n",
      "Computing the cosine similarity matrix...\n",
      "Computing the pearson similarity matrix...\n",
      "Done computing similarity matrix.\n",
      "Done computing similarity matrix.\n",
      "Done computing similarity matrix.\n",
      "Estimating biases using als...\n",
      "Computing the pearson similarity matrix...\n",
      "Done computing similarity matrix.\n",
      "Estimating biases using als...\n",
      "Estimating biases using als...\n",
      "Computing the pearson similarity matrix...\n",
      "Estimating biases using als...\n",
      "Done computing similarity matrix.\n",
      "Computing the cosine similarity matrix...\n",
      "Done computing similarity matrix.\n"
     ]
    },
    {
     "name": "stderr",
     "output_type": "stream",
     "text": [
      "[I 2023-11-10 20:12:49,347] Trial 66 finished with values: [0.926498340659512, 0.729755780775659, 0.7074616941200151] and parameters: {'k': 94, 'min_k': 8, 'sim_options_name': 'pearson', 'user_based': False, 'min_support': 5, 'bsl_method': 'als', 'bsl_n_epochs': 10, 'als_reg_u': 13.53115262640036, 'als_reg_i': 4.711259833502869}. \n"
     ]
    },
    {
     "name": "stdout",
     "output_type": "stream",
     "text": [
      "Computing the cosine similarity matrix...\n",
      "Estimating biases using Done computing similarity matrix.\n",
      "als...\n",
      "Estimating biases usingComputing the pearson similarity matrix...\n",
      "Estimating biases using als...\n",
      " als...\n",
      "Done computing similarity matrix.\n",
      "Estimating biases using als...\n",
      "Computing the pearson similarity matrix...\n",
      "Computing the pearson similarity matrix...\n",
      "Done computing similarity matrix.\n",
      "Computing the pearson similarity matrix...\n",
      "Done computing similarity matrix.Done computing similarity matrix.\n",
      "\n",
      "Estimating biases using als...\n",
      "Estimating biases using als...\n",
      "Computing the cosine similarity matrix...\n",
      "Done computing similarity matrix.\n",
      "Computing the pearson similarity matrix...\n",
      "Done computing similarity matrix.\n",
      "Estimating biases using als...\n",
      "Estimating biases using als...\n",
      "Computing the cosine similarity matrix...\n",
      "Done computing similarity matrix.Computing the cosine similarity matrix...\n",
      "\n",
      "Done computing similarity matrix.\n"
     ]
    },
    {
     "name": "stderr",
     "output_type": "stream",
     "text": [
      "[I 2023-11-10 20:13:32,607] Trial 67 finished with values: [0.9261862489168415, 0.7295261305201194, 0.7073552914243969] and parameters: {'k': 95, 'min_k': 8, 'sim_options_name': 'pearson', 'user_based': False, 'min_support': 5, 'bsl_method': 'als', 'bsl_n_epochs': 12, 'als_reg_u': 14.231976267675993, 'als_reg_i': 4.255011862893759}. \n"
     ]
    },
    {
     "name": "stdout",
     "output_type": "stream",
     "text": [
      "Estimating biases using als...\n",
      "Computing the cosine similarity matrix...\n",
      "Done computing similarity matrix.\n",
      "Estimating biases using als...\n",
      "Computing the pearson similarity matrix...\n",
      "Done computing similarity matrix.\n",
      "Estimating biases using als...\n",
      "Estimating biases using als...\n",
      "Computing the pearson similarity matrix...\n",
      "Done computing similarity matrix.\n",
      "Computing the cosine similarity matrix...\n",
      "Done computing similarity matrix.\n",
      "Estimating biases usingEstimating biases using als...\n",
      " als...\n"
     ]
    },
    {
     "name": "stderr",
     "output_type": "stream",
     "text": [
      "[I 2023-11-10 20:14:07,674] Trial 71 finished with values: [0.927403511730051, 0.7301357643733609, 0.7095980079931493] and parameters: {'k': 95, 'min_k': 7, 'sim_options_name': 'pearson', 'user_based': False, 'min_support': 5, 'bsl_method': 'als', 'bsl_n_epochs': 15, 'als_reg_u': 13.70133413930986, 'als_reg_i': 3.9038841004392353}. \n"
     ]
    },
    {
     "name": "stdout",
     "output_type": "stream",
     "text": [
      "Computing the cosine similarity matrix...\n",
      "Computing the pearson similarity matrix...\n",
      "Done computing similarity matrix.\n"
     ]
    },
    {
     "name": "stderr",
     "output_type": "stream",
     "text": [
      "[I 2023-11-10 20:14:13,084] Trial 69 finished with values: [0.926674693689441, 0.7297605631551961, 0.7086673838738834] and parameters: {'k': 96, 'min_k': 8, 'sim_options_name': 'pearson', 'user_based': False, 'min_support': 5, 'bsl_method': 'als', 'bsl_n_epochs': 10, 'als_reg_u': 13.355759834981914, 'als_reg_i': 3.6346930724825164}. \n"
     ]
    },
    {
     "name": "stdout",
     "output_type": "stream",
     "text": [
      "Estimating biases using als...\n",
      "Done computing similarity matrix.\n",
      "Computing the cosine similarity matrix...\n"
     ]
    },
    {
     "name": "stderr",
     "output_type": "stream",
     "text": [
      "[I 2023-11-10 20:14:15,530] Trial 70 finished with values: [0.9278369177239556, 0.7307252610404075, 0.7083783605267648] and parameters: {'k': 95, 'min_k': 8, 'sim_options_name': 'pearson', 'user_based': False, 'min_support': 5, 'bsl_method': 'als', 'bsl_n_epochs': 10, 'als_reg_u': 13.18907613246689, 'als_reg_i': 4.007038158854986}. \n"
     ]
    },
    {
     "name": "stdout",
     "output_type": "stream",
     "text": [
      "Done computing similarity matrix.\n",
      "Estimating biases using als...\n",
      "Computing the cosine similarity matrix...\n",
      "Estimating biases using als...\n",
      "Done computing similarity matrix.\n",
      "Computing the pearson similarity matrix...\n",
      "Done computing similarity matrix.\n"
     ]
    },
    {
     "name": "stderr",
     "output_type": "stream",
     "text": [
      "[I 2023-11-10 20:14:30,088] Trial 65 finished with values: [0.9294234794436369, 0.7322222953821389, 0.7053326113517401] and parameters: {'k': 79, 'min_k': 8, 'sim_options_name': 'pearson', 'user_based': False, 'min_support': 3, 'bsl_method': 'als', 'bsl_n_epochs': 23, 'als_reg_u': 13.352462979390065, 'als_reg_i': 4.59858291050066}. \n"
     ]
    },
    {
     "name": "stdout",
     "output_type": "stream",
     "text": [
      "Estimating biases using sgd...\n",
      "Estimating biases using als...\n",
      "Estimating biases using als...\n",
      "Estimating biases using als...\n",
      "Computing the cosine similarity matrix...\n",
      "Computing the cosine similarity matrix...\n",
      "Done computing similarity matrix.\n",
      "Computing the cosine similarity matrix...\n",
      "Done computing similarity matrix.\n",
      "Done computing similarity matrix.\n",
      "Computing the cosine similarity matrix...\n",
      "Done computing similarity matrix.\n"
     ]
    },
    {
     "name": "stderr",
     "output_type": "stream",
     "text": [
      "[I 2023-11-10 20:14:51,538] Trial 73 finished with values: [0.9277234621897487, 0.729850472369323, 0.7085681831330214] and parameters: {'k': 97, 'min_k': 7, 'sim_options_name': 'pearson', 'user_based': True, 'min_support': 5, 'bsl_method': 'als', 'bsl_n_epochs': 16, 'als_reg_u': 13.251063419032864, 'als_reg_i': 3.655335914934616}. \n"
     ]
    },
    {
     "name": "stdout",
     "output_type": "stream",
     "text": [
      "Estimating biases using als...\n",
      "Computing the cosine similarity matrix...\n",
      "Estimating biases using sgd...\n",
      "Done computing similarity matrix.\n",
      "Computing the cosine similarity matrix..."
     ]
    },
    {
     "name": "stderr",
     "output_type": "stream",
     "text": [
      "[I 2023-11-10 20:15:05,318] Trial 68 finished with values: [0.9271749235347247, 0.7295946682100369, 0.7075218203362315] and parameters: {'k': 95, 'min_k': 8, 'sim_options_name': 'pearson', 'user_based': False, 'min_support': 5, 'bsl_method': 'als', 'bsl_n_epochs': 16, 'als_reg_u': 13.495074528095163, 'als_reg_i': 3.3589928589563156}. \n",
      "[I 2023-11-10 20:15:05,360] Trial 72 finished with values: [0.9270660876740442, 0.7299834429968474, 0.708128869554168] and parameters: {'k': 96, 'min_k': 8, 'sim_options_name': 'pearson', 'user_based': False, 'min_support': 5, 'bsl_method': 'als', 'bsl_n_epochs': 16, 'als_reg_u': 13.230784061600408, 'als_reg_i': 3.8759512566062284}. \n"
     ]
    },
    {
     "name": "stdout",
     "output_type": "stream",
     "text": [
      "\n",
      "Done computing similarity matrix.\n",
      "Estimating biases using sgd...\n",
      "Estimating biases using als...\n",
      "Estimating biases using als...\n",
      "Computing the cosine similarity matrix...\n",
      "Estimating biases using sgd...\n",
      "Done computing similarity matrix.\n",
      "Computing the cosine similarity matrix...\n",
      "Computing the cosine similarity matrix...\n",
      "Done computing similarity matrix.\n",
      "Done computing similarity matrix.\n"
     ]
    },
    {
     "name": "stderr",
     "output_type": "stream",
     "text": [
      "[I 2023-11-10 20:15:19,444] Trial 74 finished with values: [0.9263587660163145, 0.728043427573782, 0.7109187883602349] and parameters: {'k': 100, 'min_k': 8, 'sim_options_name': 'pearson', 'user_based': True, 'min_support': 2, 'bsl_method': 'als', 'bsl_n_epochs': 17, 'als_reg_u': 4.825161882508518, 'als_reg_i': 3.654978103530648}. \n"
     ]
    },
    {
     "name": "stdout",
     "output_type": "stream",
     "text": [
      "Computing the cosine similarity matrix...\n",
      "Estimating biases using als...\n",
      "Done computing similarity matrix.\n",
      "Computing the cosine similarity matrix...\n",
      "Done computing similarity matrix.\n",
      "Estimating biases using sgd...\n"
     ]
    },
    {
     "name": "stderr",
     "output_type": "stream",
     "text": [
      "[I 2023-11-10 20:15:34,081] Trial 75 finished with values: [0.933243122071222, 0.7360187257861125, 0.7026578193488193] and parameters: {'k': 100, 'min_k': 8, 'sim_options_name': 'cosine', 'user_based': True, 'min_support': 2, 'bsl_method': 'als', 'bsl_n_epochs': 16, 'als_reg_u': 6.492005908053536, 'als_reg_i': 3.221317283993918}. \n"
     ]
    },
    {
     "name": "stdout",
     "output_type": "stream",
     "text": [
      "Estimating biases using als...\n",
      "Computing the cosine similarity matrix...\n",
      "Computing the cosine similarity matrix...\n",
      "Done computing similarity matrix.\n",
      "Done computing similarity matrix.\n",
      "Estimating biases using als...\n",
      "Computing the cosine similarity matrix...\n",
      "Estimating biases using sgd...\n",
      "Done computing similarity matrix.\n",
      "Estimating biases using sgd...\n",
      "Computing the cosine similarity matrix...\n",
      "Done computing similarity matrix.\n",
      "Estimating biases using sgd...\n",
      "Computing the cosine similarity matrix...\n",
      "Computing the cosine similarity matrix...Done computing similarity matrix.\n",
      "\n",
      "Done computing similarity matrix.\n",
      "Estimating biases using sgd...\n",
      "Estimating biases using als...\n",
      "Estimating biases using sgd...\n",
      "Estimating biases using sgd...\n",
      "Computing the cosine similarity matrix...\n",
      "Computing the cosine similarity matrix...\n",
      "Computing the cosine similarity matrix...\n",
      "Done computing similarity matrix.\n",
      "Done computing similarity matrix.\n",
      "Done computing similarity matrix.\n",
      "Estimating biases using sgd...\n",
      "Computing the cosine similarity matrix...\n",
      "Done computing similarity matrix.\n",
      "Estimating biases using als...\n",
      "Estimating biases using als...\n",
      "Computing the cosine similarity matrix...\n",
      "Computing the cosine similarity matrix...\n",
      "Estimating biases using sgd...\n",
      "Done computing similarity matrix.\n",
      "Done computing similarity matrix.\n",
      "Computing the cosine similarity matrix...\n",
      "Done computing similarity matrix.\n",
      "Computing the cosine similarity matrix...\n",
      "Done computing similarity matrix.\n",
      "Estimating biases using sgd...\n"
     ]
    },
    {
     "name": "stderr",
     "output_type": "stream",
     "text": [
      "[I 2023-11-10 20:16:33,838] Trial 77 finished with values: [0.9331096031633745, 0.7354780218141255, 0.7038063949775768] and parameters: {'k': 100, 'min_k': 8, 'sim_options_name': 'cosine', 'user_based': True, 'min_support': 2, 'bsl_method': 'als', 'bsl_n_epochs': 15, 'als_reg_u': 4.729017677212274, 'als_reg_i': 2.894603379353402}. \n"
     ]
    },
    {
     "name": "stdout",
     "output_type": "stream",
     "text": [
      "Estimating biases using sgd...\n",
      "Computing the cosine similarity matrix...\n",
      "Done computing similarity matrix.\n",
      "Estimating biases using als...\n",
      "Computing the cosine similarity matrix...\n",
      "Computing the cosine similarity matrix...\n",
      "Done computing similarity matrix.\n",
      "Done computing similarity matrix.\n"
     ]
    },
    {
     "name": "stderr",
     "output_type": "stream",
     "text": [
      "[I 2023-11-10 20:16:58,696] Trial 76 finished with values: [0.9325449379385728, 0.7348964783837854, 0.7052160466337718] and parameters: {'k': 100, 'min_k': 8, 'sim_options_name': 'cosine', 'user_based': True, 'min_support': 2, 'bsl_method': 'als', 'bsl_n_epochs': 15, 'als_reg_u': 5.4496868084343, 'als_reg_i': 3.1813686216022234}. \n"
     ]
    },
    {
     "name": "stdout",
     "output_type": "stream",
     "text": [
      "Estimating biases using sgd...\n",
      "Estimating biases using sgd...\n",
      "Estimating biases using sgd...\n",
      "Computing the cosine similarity matrix...\n",
      "Done computing similarity matrix.\n",
      "Estimating biases using als...\n",
      "Computing the cosine similarity matrix...\n",
      "Estimating biases using sgd...\n",
      "Computing the cosine similarity matrix...\n",
      "Done computing similarity matrix.\n",
      "Done computing similarity matrix.\n",
      "Computing the cosine similarity matrix...Estimating biases using sgd...\n",
      "\n",
      "Done computing similarity matrix.Estimating biases using sgd...\n",
      "\n",
      "Computing the cosine similarity matrix...\n",
      "Done computing similarity matrix.\n"
     ]
    },
    {
     "name": "stderr",
     "output_type": "stream",
     "text": [
      "[I 2023-11-10 20:17:26,260] Trial 78 finished with values: [0.9329389748251288, 0.7354172305298673, 0.7038507456646773] and parameters: {'k': 100, 'min_k': 8, 'sim_options_name': 'cosine', 'user_based': True, 'min_support': 2, 'bsl_method': 'als', 'bsl_n_epochs': 15, 'als_reg_u': 5.575250006704668, 'als_reg_i': 3.1348720066946187}. \n"
     ]
    },
    {
     "name": "stdout",
     "output_type": "stream",
     "text": [
      "Computing the cosine similarity matrix...\n",
      "Done computing similarity matrix.\n",
      "Computing the cosine similarity matrix...\n",
      "Estimating biases using sgd...\n"
     ]
    },
    {
     "name": "stderr",
     "output_type": "stream",
     "text": [
      "[I 2023-11-10 20:17:27,875] Trial 79 finished with values: [0.9331196827708622, 0.7357106884329416, 0.7037722232856344] and parameters: {'k': 99, 'min_k': 7, 'sim_options_name': 'cosine', 'user_based': True, 'min_support': 2, 'bsl_method': 'als', 'bsl_n_epochs': 16, 'als_reg_u': 5.315475227172732, 'als_reg_i': 3.1358362827673845}. \n"
     ]
    },
    {
     "name": "stdout",
     "output_type": "stream",
     "text": [
      "Done computing similarity matrix.\n",
      "Computing the cosine similarity matrix...\n",
      "Estimating biases using sgd...\n",
      "Done computing similarity matrix.\n",
      "Estimating biases using sgd...\n",
      "Estimating biases using sgd...\n",
      "Computing the cosine similarity matrix...\n",
      "Done computing similarity matrix.\n",
      "Computing the cosine similarity matrix...\n",
      "Done computing similarity matrix.\n",
      "Computing the msd similarity matrix...\n",
      "Done computing similarity matrix.\n",
      "Estimating biases using sgd...\n",
      "Estimating biases using als...\n",
      "Computing the cosine similarity matrix...\n",
      "Done computing similarity matrix.\n",
      "Computing the cosine similarity matrix...\n",
      "Done computing similarity matrix.\n",
      "Estimating biases using sgd...\n",
      "Estimating biases using als...\n",
      "Computing the cosine similarity matrix...\n",
      "Estimating biases using sgd...\n",
      "Computing the cosine similarity matrix...\n",
      "Done computing similarity matrix.\n",
      "Done computing similarity matrix.\n",
      "Estimating biases using sgd...\n",
      "Estimating biases using sgd...\n",
      "Estimating biases using sgd...\n",
      "Estimating biases using sgd...\n",
      "Computing the cosine similarity matrix...\n",
      "Estimating biases using sgd...\n",
      "Done computing similarity matrix.Computing the cosine similarity matrix...\n",
      "\n",
      "Done computing similarity matrix.\n",
      "Computing the cosine similarity matrix...\n",
      "Estimating biases using sgd...\n",
      "Done computing similarity matrix.\n",
      "Computing the msd similarity matrix...\n",
      "Computing the cosine similarity matrix...\n",
      "Done computing similarity matrix.\n",
      "Done computing similarity matrix.\n",
      "Computing the cosine similarity matrix...\n",
      "Computing the msd similarity matrix...\n",
      "Done computing similarity matrix.Done computing similarity matrix.\n",
      "\n",
      "Estimating biases using sgd...\n",
      "Estimating biases using sgd...\n",
      "Estimating biases using sgd...\n",
      "Computing the msd similarity matrix...\n",
      "Computing the cosine similarity matrix...\n",
      "Done computing similarity matrix.\n",
      "Done computing similarity matrix.\n",
      "Computing the msd similarity matrix...\n",
      "Done computing similarity matrix.Estimating biases using sgd...\n",
      "\n",
      "Computing the cosine similarity matrix...\n",
      "Done computing similarity matrix.\n",
      "Estimating biases using sgd...\n",
      "Estimating biases using sgd...\n",
      "Computing the cosine similarity matrix...\n",
      "Done computing similarity matrix.\n",
      "Computing the cosine similarity matrix...\n",
      "Done computing similarity matrix.\n"
     ]
    },
    {
     "name": "stderr",
     "output_type": "stream",
     "text": [
      "[I 2023-11-10 20:19:26,251] Trial 80 finished with values: [0.933948333675518, 0.735756596876708, 0.703128336835517] and parameters: {'k': 98, 'min_k': 2, 'sim_options_name': 'cosine', 'user_based': True, 'min_support': 2, 'bsl_method': 'als', 'bsl_n_epochs': 16, 'als_reg_u': 4.909053360222068, 'als_reg_i': 2.910624303155843}. \n"
     ]
    },
    {
     "name": "stdout",
     "output_type": "stream",
     "text": [
      "Estimating biases using sgd...\n"
     ]
    },
    {
     "name": "stderr",
     "output_type": "stream",
     "text": [
      "[I 2023-11-10 20:19:28,706] Trial 81 finished with values: [0.9323784770260705, 0.734585206435703, 0.703956063142157] and parameters: {'k': 100, 'min_k': 7, 'sim_options_name': 'cosine', 'user_based': True, 'min_support': 2, 'bsl_method': 'als', 'bsl_n_epochs': 15, 'als_reg_u': 4.205060439233164, 'als_reg_i': 3.475874071876387}. \n"
     ]
    },
    {
     "name": "stdout",
     "output_type": "stream",
     "text": [
      "Estimating biases using sgd...\n",
      "Computing the msd similarity matrix...\n",
      "Done computing similarity matrix.\n",
      "Estimating biases usingEstimating biases using sgd...\n",
      " sgd...\n",
      "Estimating biases using sgd...\n",
      "Estimating biases using sgd...\n",
      "Computing the cosine similarity matrix...\n",
      "Estimating biases using sgd...\n",
      "Computing the cosine similarity matrix...\n",
      "Estimating biases using sgd...\n",
      "Computing the cosine similarity matrix...\n",
      "Done computing similarity matrix.\n",
      "Done computing similarity matrix.\n",
      "Estimating biases using sgd...\n",
      "Computing the msd similarity matrix...\n",
      "Done computing similarity matrix.\n",
      "Done computing similarity matrix.\n",
      "Computing the cosine similarity matrix...\n",
      "Computing the cosine similarity matrix...\n",
      "Done computing similarity matrix.\n",
      "Estimating biases using sgd...\n",
      "Done computing similarity matrix.\n",
      "Computing the cosine similarity matrix...\n",
      "Computing the msd similarity matrix...\n",
      "Done computing similarity matrix.Done computing similarity matrix.\n",
      "\n",
      "Computing the msd similarity matrix...\n",
      "Estimating biases usingDone computing similarity matrix.\n",
      " sgd...\n",
      "Computing the cosine similarity matrix...\n",
      "Done computing similarity matrix.\n",
      "Estimating biases using sgd...\n",
      "Estimating biases using sgd...\n",
      "Estimating biases using sgd...\n"
     ]
    },
    {
     "name": "stderr",
     "output_type": "stream",
     "text": [
      "[I 2023-11-10 20:20:18,099] Trial 82 finished with values: [0.9344630013157194, 0.7370308873202458, 0.7040959508582951] and parameters: {'k': 99, 'min_k': 2, 'sim_options_name': 'cosine', 'user_based': True, 'min_support': 2, 'bsl_method': 'sgd', 'bsl_n_epochs': 16, 'sgd_reg': 0.0872922034900727, 'sgd_learning_rate': 0.006532423354650671}. \n"
     ]
    },
    {
     "name": "stdout",
     "output_type": "stream",
     "text": [
      "Computing the msd similarity matrix...\n",
      "Computing the cosine similarity matrix...\n",
      "Done computing similarity matrix.\n",
      "Done computing similarity matrix.\n",
      "Computing the cosine similarity matrix...\n",
      "Done computing similarity matrix.\n",
      "Estimating biases using sgd...\n",
      "Estimating biases using sgd...\n",
      "Estimating biases using sgd...\n",
      "Computing the msd similarity matrix...\n",
      "Done computing similarity matrix.\n"
     ]
    },
    {
     "name": "stderr",
     "output_type": "stream",
     "text": [
      "[I 2023-11-10 20:20:41,447] Trial 84 finished with values: [0.9338407100969507, 0.7369304192013791, 0.704648151598768] and parameters: {'k': 79, 'min_k': 2, 'sim_options_name': 'cosine', 'user_based': True, 'min_support': 2, 'bsl_method': 'sgd', 'bsl_n_epochs': 17, 'sgd_reg': 0.13172930545319805, 'sgd_learning_rate': 0.0063958386277146746}. \n",
      "[I 2023-11-10 20:20:42,597] Trial 85 finished with values: [0.9342692182606935, 0.7368392951537809, 0.7013420742514932] and parameters: {'k': 100, 'min_k': 2, 'sim_options_name': 'cosine', 'user_based': True, 'min_support': 2, 'bsl_method': 'sgd', 'bsl_n_epochs': 16, 'sgd_reg': 0.0914513227906768, 'sgd_learning_rate': 0.005941234240609289}. \n"
     ]
    },
    {
     "name": "stdout",
     "output_type": "stream",
     "text": [
      "Computing the cosine similarity matrix...\n",
      "Done computing similarity matrix.\n",
      "Estimating biases using sgd...\n"
     ]
    },
    {
     "name": "stderr",
     "output_type": "stream",
     "text": [
      "[I 2023-11-10 20:20:47,196] Trial 83 finished with values: [0.9338983569079428, 0.7362008597602931, 0.7025895991099411] and parameters: {'k': 100, 'min_k': 2, 'sim_options_name': 'cosine', 'user_based': True, 'min_support': 2, 'bsl_method': 'sgd', 'bsl_n_epochs': 16, 'sgd_reg': 0.08505652267802644, 'sgd_learning_rate': 0.00602738644616493}. \n"
     ]
    },
    {
     "name": "stdout",
     "output_type": "stream",
     "text": [
      "Computing the msd similarity matrix...\n",
      "Done computing similarity matrix.\n",
      "Estimating biases using sgd...\n",
      "Computing the cosine similarity matrix...\n",
      "Done computing similarity matrix.\n",
      "Estimating biases using sgd...\n",
      "Computing the msd similarity matrix...\n",
      "Done computing similarity matrix.\n",
      "Estimating biases usingEstimating biases using sgd...\n",
      " sgd...\n",
      "Estimating biases using sgd...\n",
      "Computing the msd similarity matrix...\n",
      "Computing the cosine similarity matrix...\n",
      "Done computing similarity matrix.\n",
      "Done computing similarity matrix.\n",
      "Computing the msd similarity matrix...\n",
      "Done computing similarity matrix.\n",
      "Computing the cosine similarity matrix...\n",
      "Done computing similarity matrix.\n",
      "Estimating biases using sgd...\n",
      "Estimating biases using sgd...\n",
      "Computing the msd similarity matrix...\n",
      "Done computing similarity matrix.\n",
      "Estimating biases using sgd...\n",
      "Computing the cosine similarity matrix...\n",
      "Done computing similarity matrix.\n",
      "Computing the msd similarity matrix...\n"
     ]
    },
    {
     "name": "stderr",
     "output_type": "stream",
     "text": [
      "[I 2023-11-10 20:21:31,935] Trial 90 finished with values: [0.9323099442156335, 0.7357879970451192, 0.7041875048261292] and parameters: {'k': 65, 'min_k': 6, 'sim_options_name': 'cosine', 'user_based': True, 'min_support': 2, 'bsl_method': 'sgd', 'bsl_n_epochs': 14, 'sgd_reg': 0.08936078648115976, 'sgd_learning_rate': 0.006221349919188057}. \n"
     ]
    },
    {
     "name": "stdout",
     "output_type": "stream",
     "text": [
      "Done computing similarity matrix.\n",
      "Estimating biases using sgd...\n"
     ]
    },
    {
     "name": "stderr",
     "output_type": "stream",
     "text": [
      "[I 2023-11-10 20:21:34,807] Trial 87 finished with values: [0.9351642386218428, 0.7375190011684174, 0.7013592888352832] and parameters: {'k': 100, 'min_k': 2, 'sim_options_name': 'cosine', 'user_based': True, 'min_support': 2, 'bsl_method': 'sgd', 'bsl_n_epochs': 16, 'sgd_reg': 0.09356573022238564, 'sgd_learning_rate': 0.006292451164273869}. \n"
     ]
    },
    {
     "name": "stdout",
     "output_type": "stream",
     "text": [
      "Computing the msd similarity matrix...\n",
      "Done computing similarity matrix.\n",
      "Estimating biases using sgd...\n",
      "Estimating biases using sgd...\n",
      "Estimating biases using sgd...\n",
      "Computing the cosine similarity matrix...\n",
      "Done computing similarity matrix.\n"
     ]
    },
    {
     "name": "stderr",
     "output_type": "stream",
     "text": [
      "[I 2023-11-10 20:21:44,625] Trial 89 finished with values: [0.9345157150414025, 0.7373774235582533, 0.703547480073857] and parameters: {'k': 100, 'min_k': 2, 'sim_options_name': 'cosine', 'user_based': True, 'min_support': 2, 'bsl_method': 'sgd', 'bsl_n_epochs': 19, 'sgd_reg': 0.09093040866754454, 'sgd_learning_rate': 0.005795927047708867}. \n"
     ]
    },
    {
     "name": "stdout",
     "output_type": "stream",
     "text": [
      "Estimating biases usingComputing the msd similarity matrix...\n",
      " sgd...\n",
      "Estimating biases using sgd...\n"
     ]
    },
    {
     "name": "stderr",
     "output_type": "stream",
     "text": [
      "[I 2023-11-10 20:21:44,761] Trial 91 finished with values: [0.9313071711457788, 0.7344595126933277, 0.7069226298754856] and parameters: {'k': 64, 'min_k': 2, 'sim_options_name': 'cosine', 'user_based': True, 'min_support': 4, 'bsl_method': 'sgd', 'bsl_n_epochs': 19, 'sgd_reg': 0.13555895206765137, 'sgd_learning_rate': 0.006357298312827739}. \n"
     ]
    },
    {
     "name": "stdout",
     "output_type": "stream",
     "text": [
      "Computing the msd similarity matrix...\n",
      "Done computing similarity matrix.\n",
      "Done computing similarity matrix.Estimating biases using sgd...\n",
      "\n",
      "Computing the msd similarity matrix...\n",
      "Done computing similarity matrix.\n",
      "Computing the msd similarity matrix...\n",
      "Done computing similarity matrix.\n",
      "Computing the msd similarity matrix...\n",
      "Done computing similarity matrix.\n"
     ]
    },
    {
     "name": "stderr",
     "output_type": "stream",
     "text": [
      "[I 2023-11-10 20:22:03,287] Trial 95 finished with values: [0.9327701038605056, 0.7341814066894063, 0.7051234346085244] and parameters: {'k': 20, 'min_k': 2, 'sim_options_name': 'msd', 'user_based': True, 'min_support': 4, 'bsl_method': 'sgd', 'bsl_n_epochs': 21, 'sgd_reg': 0.09595441941309173, 'sgd_learning_rate': 0.0062053002000150475}. \n",
      "[I 2023-11-10 20:22:04,333] Trial 88 finished with values: [0.9343514610413679, 0.7368979729116061, 0.7036114202250753] and parameters: {'k': 100, 'min_k': 2, 'sim_options_name': 'cosine', 'user_based': True, 'min_support': 2, 'bsl_method': 'sgd', 'bsl_n_epochs': 18, 'sgd_reg': 0.0900360434165622, 'sgd_learning_rate': 0.006130421852798866}. \n"
     ]
    },
    {
     "name": "stdout",
     "output_type": "stream",
     "text": [
      "Estimating biases using sgd...\n",
      "Estimating biases using sgd...\n",
      "Computing the msd similarity matrix...\n",
      "Done computing similarity matrix.\n",
      "Estimating biases using sgd...\n",
      "Computing the msd similarity matrix...\n",
      "Done computing similarity matrix.\n"
     ]
    },
    {
     "name": "stderr",
     "output_type": "stream",
     "text": [
      "[I 2023-11-10 20:22:21,229] Trial 92 finished with values: [0.9301413813535758, 0.7323949586541122, 0.7067722685446437] and parameters: {'k': 68, 'min_k': 2, 'sim_options_name': 'msd', 'user_based': True, 'min_support': 4, 'bsl_method': 'sgd', 'bsl_n_epochs': 19, 'sgd_reg': 0.08675856270668988, 'sgd_learning_rate': 0.006548077285638762}. \n"
     ]
    },
    {
     "name": "stdout",
     "output_type": "stream",
     "text": [
      "Computing the msd similarity matrix...\n",
      "Done computing similarity matrix.\n",
      "Estimating biases using sgd...\n",
      "Estimating biases using sgd...\n",
      "Computing the msd similarity matrix...\n",
      "Done computing similarity matrix.\n",
      "Estimating biases using sgd...\n",
      "Computing the msd similarity matrix...\n",
      "Done computing similarity matrix.\n"
     ]
    },
    {
     "name": "stderr",
     "output_type": "stream",
     "text": [
      "[I 2023-11-10 20:22:32,647] Trial 86 finished with values: [0.9348094720440713, 0.7373507267131785, 0.7036282900755102] and parameters: {'k': 100, 'min_k': 2, 'sim_options_name': 'cosine', 'user_based': True, 'min_support': 2, 'bsl_method': 'sgd', 'bsl_n_epochs': 17, 'sgd_reg': 0.09262176569322142, 'sgd_learning_rate': 0.006413548484462206}. \n"
     ]
    },
    {
     "name": "stdout",
     "output_type": "stream",
     "text": [
      "Computing the msd similarity matrix...\n",
      "Done computing similarity matrix.\n",
      "Estimating biases using sgd...\n",
      "Computing the msd similarity matrix...\n",
      "Done computing similarity matrix.\n"
     ]
    },
    {
     "name": "stderr",
     "output_type": "stream",
     "text": [
      "[I 2023-11-10 20:22:48,440] Trial 93 finished with values: [0.9285294152918266, 0.7318627518762094, 0.7050089249871511] and parameters: {'k': 58, 'min_k': 6, 'sim_options_name': 'msd', 'user_based': True, 'min_support': 4, 'bsl_method': 'sgd', 'bsl_n_epochs': 20, 'sgd_reg': 0.08743266022081121, 'sgd_learning_rate': 0.006102615424274603}. \n"
     ]
    },
    {
     "name": "stdout",
     "output_type": "stream",
     "text": [
      "Estimating biases using sgd...\n",
      "Computing the msd similarity matrix...\n",
      "Done computing similarity matrix.\n"
     ]
    },
    {
     "name": "stderr",
     "output_type": "stream",
     "text": [
      "[I 2023-11-10 20:22:53,493] Trial 94 finished with values: [0.9299811555414028, 0.7324084655238767, 0.7063191308750026] and parameters: {'k': 69, 'min_k': 2, 'sim_options_name': 'msd', 'user_based': True, 'min_support': 4, 'bsl_method': 'sgd', 'bsl_n_epochs': 41, 'sgd_reg': 0.07944025455284018, 'sgd_learning_rate': 0.006164741591404636}. \n"
     ]
    },
    {
     "name": "stdout",
     "output_type": "stream",
     "text": [
      "Estimating biases using sgd...\n",
      "Estimating biases using sgd...\n",
      "Computing the msd similarity matrix...\n",
      "Done computing similarity matrix.\n",
      "Computing the msd similarity matrix...\n",
      "Done computing similarity matrix.\n",
      "Estimating biases using sgd...\n",
      "Computing the msd similarity matrix...\n",
      "Done computing similarity matrix.\n",
      "Estimating biases using sgd...\n",
      "Computing the msd similarity matrix...\n",
      "Done computing similarity matrix.\n",
      "Estimating biases using sgd...\n"
     ]
    },
    {
     "name": "stderr",
     "output_type": "stream",
     "text": [
      "[I 2023-11-10 20:23:16,226] Trial 97 finished with values: [0.9262749371012035, 0.728787739948314, 0.7040008182345663] and parameters: {'k': 48, 'min_k': 6, 'sim_options_name': 'msd', 'user_based': False, 'min_support': 4, 'bsl_method': 'sgd', 'bsl_n_epochs': 19, 'sgd_reg': 0.08669557455007373, 'sgd_learning_rate': 0.006221523802675651}. \n"
     ]
    },
    {
     "name": "stdout",
     "output_type": "stream",
     "text": [
      "Computing the msd similarity matrix...\n",
      "Done computing similarity matrix.\n",
      "Estimating biases using sgd...\n",
      "Computing the msd similarity matrix...\n",
      "Done computing similarity matrix.\n",
      "Estimating biases using sgd...\n",
      "Computing the msd similarity matrix...\n",
      "Done computing similarity matrix.\n",
      "Estimating biases using sgd...\n",
      "Computing the msd similarity matrix...\n",
      "Done computing similarity matrix.\n"
     ]
    },
    {
     "name": "stderr",
     "output_type": "stream",
     "text": [
      "[I 2023-11-10 20:23:36,572] Trial 98 finished with values: [0.9294592965386863, 0.7317485325342848, 0.7034056073955346] and parameters: {'k': 65, 'min_k': 6, 'sim_options_name': 'msd', 'user_based': False, 'min_support': 4, 'bsl_method': 'sgd', 'bsl_n_epochs': 21, 'sgd_reg': 0.14082707421447582, 'sgd_learning_rate': 0.00618916825118729}. \n"
     ]
    },
    {
     "name": "stdout",
     "output_type": "stream",
     "text": [
      "Estimating biases using sgd...\n",
      "Computing the msd similarity matrix...\n",
      "Done computing similarity matrix.\n"
     ]
    },
    {
     "name": "stderr",
     "output_type": "stream",
     "text": [
      "[I 2023-11-10 20:23:41,321] Trial 99 finished with values: [0.9289905626168811, 0.7316131183728063, 0.7028769081670552] and parameters: {'k': 68, 'min_k': 5, 'sim_options_name': 'msd', 'user_based': False, 'min_support': 4, 'bsl_method': 'sgd', 'bsl_n_epochs': 32, 'sgd_reg': 0.13913835986994832, 'sgd_learning_rate': 0.005768403188097815}. \n",
      "[I 2023-11-10 20:23:43,777] Trial 96 finished with values: [0.9290359147532357, 0.7313337829811457, 0.7022030047874821] and parameters: {'k': 63, 'min_k': 2, 'sim_options_name': 'msd', 'user_based': False, 'min_support': 4, 'bsl_method': 'sgd', 'bsl_n_epochs': 19, 'sgd_reg': 0.09334657699301686, 'sgd_learning_rate': 0.0061311257708785765}. \n"
     ]
    }
   ],
   "source": [
    "# Define the objective function for hyperparameter optimization for KNNWithMeans\n",
    "def knn_with_Baseline_objective(trial):\n",
    "    # Hyperparameters to optimize\n",
    "    k = trial.suggest_int('k', 20, 100)\n",
    "    min_k = trial.suggest_int('min_k', 1, 10)\n",
    "    sim_options = {\n",
    "        'name': trial.suggest_categorical('sim_options_name', ['msd', 'cosine', 'pearson', 'pearson_baseline']),\n",
    "        'user_based': trial.suggest_categorical('user_based', [False, True]),\n",
    "        'min_support': trial.suggest_int('min_support', 1, 5),\n",
    "    }\n",
    "    # Additional parameters for pearson_baseline\n",
    "    if sim_options['name'] == 'pearson_baseline':\n",
    "        sim_options['shrinkage'] = trial.suggest_int('shrinkage', 0, 200)\n",
    "    bsl_options = {}\n",
    "    bsl_method = trial.suggest_categorical('bsl_method', ['als', 'sgd'])\n",
    "    bsl_options['method'] = bsl_method\n",
    "    bsl_options['n_epochs'] = trial.suggest_int('bsl_n_epochs', 10, 50)  # Default is 10\n",
    "    if bsl_method == 'als':\n",
    "        bsl_options['reg_u'] = trial.suggest_float('als_reg_u', 1, 20)  # Default is 15\n",
    "        bsl_options['reg_i'] = trial.suggest_float('als_reg_i', 1, 20)  # Default is 10\n",
    "    elif bsl_method == 'sgd':\n",
    "        bsl_options['reg'] = trial.suggest_float('sgd_reg', 0.01, 0.2)  # Default is 0.02\n",
    "        bsl_options['learning_rate'] = trial.suggest_float('sgd_learning_rate', 0.001, 0.01)  # Default is 0.005\n",
    "    # Instantiate the KNNBasic algorithm with the suggested parameters\n",
    "    algo = KNNBaseline(k=k, min_k=min_k, sim_options=sim_options,bsl_options=bsl_options if bsl_options else None)\n",
    "\n",
    "    # Perform cross-validation and return the mean RMSE\n",
    "    # Perform cross-validation and return the mean RMSE, MAE, and FCP\n",
    "    cv_results = cross_validate(algo, data, measures=['RMSE', 'MAE', 'FCP'], cv=5, verbose=False)\n",
    "    mean_rmse = np.mean(cv_results['test_rmse'])\n",
    "    mean_mae = np.mean(cv_results['test_mae'])\n",
    "    mean_fcp = np.mean(cv_results['test_fcp'])\n",
    "\n",
    "    return mean_rmse, mean_mae, mean_fcp\n",
    "\n",
    "# Create a multi-objective study object and optimize the objective function\n",
    "study = optuna.create_study(directions=['minimize', 'minimize', 'maximize'], sampler=optuna.samplers.TPESampler(seed=42))\n",
    "study.optimize(knn_with_Baseline_objective, n_trials=100,n_jobs=-1)  # Number of trials can be adjusted\n",
    "\n",
    "# Output the Pareto-optimal solutions\n",
    "pareto_front = study.best_trials\n",
    "\n",
    "# Save the Pareto-optimal solutions and their parameters to a file\n",
    "with open('pareto_front_trials_and_params_KNNBaseline.txt', 'w') as f:\n",
    "    for trial in pareto_front:\n",
    "        f.write(f\"KNNWithBaseline\")\n",
    "        f.write(f\"Trial#{trial.number}\\n\")\n",
    "        f.write(f\"RMSE: {trial.values[0]}\\n\")\n",
    "        f.write(f\"MAE: {trial.values[1]}\\n\")\n",
    "        f.write(f\"FCP: {trial.values[2]}\\n\")\n",
    "        f.write(f\"Parameters: {trial.params}\\n\\n\")"
   ]
  }
 ],
 "metadata": {
  "kernelspec": {
   "display_name": "base",
   "language": "python",
   "name": "python3"
  },
  "language_info": {
   "codemirror_mode": {
    "name": "ipython",
    "version": 3
   },
   "file_extension": ".py",
   "mimetype": "text/x-python",
   "name": "python",
   "nbconvert_exporter": "python",
   "pygments_lexer": "ipython3",
   "version": "3.11.4"
  }
 },
 "nbformat": 4,
 "nbformat_minor": 2
}
